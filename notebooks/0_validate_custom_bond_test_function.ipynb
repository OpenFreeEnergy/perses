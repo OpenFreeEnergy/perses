{
 "cells": [
  {
   "cell_type": "markdown",
   "id": "deeef215",
   "metadata": {},
   "source": [
    "Note: I left the code to generate the htfs for each test system in the notebook, but if you don't want to re-generate, you can use the pickled htf that I saved (I left the full path in for you). I generated these htfs based after you added support for `lambda_{i}_bonds_old/new` and `scale_lambda_0_bonds`"
   ]
  },
  {
   "cell_type": "code",
   "execution_count": 65,
   "id": "ac051fbf",
   "metadata": {},
   "outputs": [],
   "source": [
    "from openmmtools.states import SamplerState, ThermodynamicState, CompoundThermodynamicState\n",
    "from simtk import unit, openmm\n",
    "from perses.tests.utils import compute_potential_components\n",
    "from openmmtools.constants import kB\n",
    "from perses.dispersed.utils import configure_platform\n",
    "from perses.annihilation.rest import RESTTopologyFactory\n",
    "from perses.annihilation.lambda_protocol import RESTState\n",
    "import numpy as np\n",
    "from perses.tests.test_topology_proposal import generate_atp, generate_dipeptide_top_pos_sys\n",
    "from openmmtools.testsystems import AlanineDipeptideVacuum, AlanineDipeptideExplicit\n",
    "import itertools\n",
    "from perses.tests.test_topology_proposal import generate_dipeptide_top_pos_sys, generate_atp\n",
    "import pickle\n",
    "\n",
    "#############################################\n",
    "# CONSTANTS\n",
    "#############################################\n",
    "temperature = 298.0 * unit.kelvin\n",
    "kT = kB * temperature\n",
    "beta = 1.0/kT\n",
    "REFERENCE_PLATFORM = openmm.Platform.getPlatformByName(\"CUDA\")\n"
   ]
  },
  {
   "cell_type": "code",
   "execution_count": 66,
   "id": "69ee892f",
   "metadata": {},
   "outputs": [],
   "source": [
    "def test_bond_energies(htf, is_old=True, is_solvated=False):\n",
    "    # Get harmonic bond force and old/new positions\n",
    "    system = htf._topology_proposal.old_system if is_old else htf._topology_proposal.new_system\n",
    "    harmonic_bond_force = system.getForce(0) \n",
    "    positions = htf.old_positions(htf.hybrid_positions) if is_old else htf.new_positions(htf.hybrid_positions)\n",
    "    \n",
    "    # Get custom bond force and hybrid positions\n",
    "    bond_force_index = 1 if is_solvated else 0\n",
    "    hybrid_system = htf.hybrid_system\n",
    "    custom_bond_force = hybrid_system.getForce(bond_force_index)\n",
    "    hybrid_positions = htf.hybrid_positions\n",
    "    \n",
    "    # Set global parameters\n",
    "    lambda_old = 1 if is_old else 0\n",
    "    lambda_new = 0 if is_old else 1\n",
    "    for i in range(custom_bond_force.getNumGlobalParameters()):\n",
    "        if custom_bond_force.getGlobalParameterName(i) == 'lambda_0_bonds_old':\n",
    "            custom_bond_force.setGlobalParameterDefaultValue(i, lambda_old)\n",
    "        if custom_bond_force.getGlobalParameterName(i) == 'lambda_0_bonds_new':\n",
    "            custom_bond_force.setGlobalParameterDefaultValue(i, lambda_new)\n",
    "\n",
    "    # Zero the unique old/new bonds in the custom bond force\n",
    "    hybrid_to_bond_indices = htf._hybrid_to_new_bond_indices if is_old else htf._hybrid_to_old_bond_indices\n",
    "    for hybrid_idx, idx in hybrid_to_bond_indices.items():\n",
    "        p1, p2, hybrid_params = custom_bond_force.getBondParameters(hybrid_idx)\n",
    "        hybrid_params = list(hybrid_params)\n",
    "        index_to_zero = -3 if is_old else -1\n",
    "        hybrid_params[index_to_zero] *= 0\n",
    "        custom_bond_force.setBondParameters(hybrid_idx, p1, p2, hybrid_params)\n",
    "\n",
    "    ## Get energy components of standard bond force\n",
    "    platform = configure_platform(REFERENCE_PLATFORM)\n",
    "    thermostate_other = ThermodynamicState(system=system, temperature=temperature)\n",
    "    integrator_other = openmm.VerletIntegrator(1.0*unit.femtosecond)\n",
    "    context_other = thermostate_other.create_context(integrator_other)\n",
    "    context_other.setPositions(positions)\n",
    "    components_other = compute_potential_components(context_other, beta=beta)\n",
    "    print(components_other)\n",
    "    \n",
    "    ## Get energy components of custom bond force\n",
    "    if is_solvated:\n",
    "        custom_bond_force.setUsesPeriodicBoundaryConditions(True)\n",
    "    thermostate_hybrid = ThermodynamicState(system=hybrid_system, temperature=temperature)\n",
    "    integrator_hybrid = openmm.VerletIntegrator(1.0 * unit.femtosecond)\n",
    "    context_hybrid = thermostate_hybrid.create_context(integrator_hybrid)\n",
    "    context_hybrid.setPositions(hybrid_positions)\n",
    "    components_hybrid = compute_potential_components(context_hybrid, beta=beta)\n",
    "    print(components_hybrid)\n",
    "    \n",
    "    assert np.isclose([components_other[0][1]], [components_hybrid[0][1]])\n",
    "    \n",
    "    print(\"Success! Custom bond force and standard bond force energies are equal!\")"
   ]
  },
  {
   "cell_type": "markdown",
   "id": "434a0b31",
   "metadata": {},
   "source": [
    "# Alanine dipeptide in vacuum"
   ]
  },
  {
   "cell_type": "code",
   "execution_count": 67,
   "id": "723a6506",
   "metadata": {
    "scrolled": true
   },
   "outputs": [
    {
     "name": "stderr",
     "output_type": "stream",
     "text": [
      "DEBUG:openmmforcefields.system_generators:Trying GAFFTemplateGenerator to load gaff-2.11\n",
      "INFO:proposal_generator:\tConducting polymer point mutation proposal...\n",
      "INFO:proposal_generator:Using matching_criterion to chose best atom map\n",
      "INFO:proposal_generator:Scaffold has symmetry of 0\n",
      "WARNING:proposal_generator:Two molecules are not similar to have a common scaffold\n",
      "WARNING:proposal_generator:Proceeding with direct mapping of molecules, but please check atom mapping and the geometry of the ligands.\n",
      "INFO:proposal_generator:len [{9: 7}, {10: 7}, {11: 7}, {12: 7}, {13: 7}, {9: 8}, {10: 8}, {11: 8}, {12: 8}, {13: 8}, {9: 9}, {10: 9}, {11: 9}, {12: 9}, {13: 9}]\n",
      "INFO:proposal_generator:{9: 7}\n",
      "INFO:proposal_generator:{10: 7}\n",
      "INFO:proposal_generator:{11: 7}\n",
      "INFO:proposal_generator:{12: 7}\n",
      "INFO:proposal_generator:{13: 7}\n",
      "INFO:proposal_generator:{9: 8}\n",
      "INFO:proposal_generator:{10: 8}\n",
      "INFO:proposal_generator:{11: 8}\n",
      "INFO:proposal_generator:{12: 8}\n",
      "INFO:proposal_generator:{13: 8}\n",
      "INFO:proposal_generator:{9: 9}\n",
      "INFO:proposal_generator:{10: 9}\n",
      "INFO:proposal_generator:{11: 9}\n",
      "INFO:proposal_generator:{12: 9}\n",
      "INFO:proposal_generator:{13: 9}\n",
      "INFO:proposal_generator:Returning map that best satisfies matching_criterion\n",
      "INFO:proposal_generator:Finding best map using matching_criterion name\n",
      "INFO:proposal_generator:{9: 7}\n",
      "INFO:geometry:propose: performing forward proposal\n",
      "INFO:geometry:propose: unique new atoms detected; proceeding to _logp_propose...\n",
      "INFO:geometry:Conducting forward proposal...\n",
      "INFO:geometry:Computing proposal order with NetworkX...\n",
      "INFO:geometry:number of atoms to be placed: 8\n",
      "INFO:geometry:Atom index proposal order is [10, 18, 14, 16, 13, 17, 19, 15]\n",
      "INFO:geometry:omitted_bonds: []\n",
      "INFO:geometry:direction of proposal is forward; creating atoms_with_positions and new positions from old system/topology...\n",
      "INFO:geometry:creating growth system...\n",
      "INFO:geometry:\tcreating bond force...\n",
      "INFO:geometry:\tthere are 11 bonds in reference force.\n",
      "INFO:geometry:\tcreating angle force...\n",
      "INFO:geometry:\tthere are 43 angles in reference force.\n",
      "INFO:geometry:\tcreating torsion force...\n",
      "INFO:geometry:\tcreating extra torsions force...\n",
      "INFO:geometry:\tthere are 72 torsions in reference force.\n",
      "INFO:geometry:\tcreating nonbonded force...\n",
      "INFO:geometry:\t\tgrabbing reference nonbonded method, cutoff, switching function, switching distance...\n",
      "INFO:geometry:\t\tcreating nonbonded exception force (i.e. custom bond for 1,4s)...\n",
      "INFO:geometry:\t\tlooping through exceptions calculating growth indices, and adding appropriate interactions to custom bond force.\n",
      "INFO:geometry:\t\tthere are 121 in the reference Nonbonded force\n",
      "WARNING:geometry:\t\t\t\t\tchiral atom <Atom 8 (CA) of chain 0 residue 1 (THR)> with neighbors [<Atom 9 (HA) of chain 0 residue 1 (THR)>, <Atom 10 (CB) of chain 0 residue 1 (THR)>, <Atom 11 (C) of chain 0 residue 1 (THR)>, <Atom 6 (N) of chain 0 residue 1 (THR)>] is surrounded by 3 core neighbors.  omitting chirality bias torsion\n",
      "INFO:geometry:Neglected angle terms : []\n",
      "INFO:geometry:omitted_growth_terms: {'bonds': [], 'angles': [], 'torsions': [], '1,4s': []}\n",
      "INFO:geometry:extra torsions: {0: (7, 6, 8, 10, [1, Quantity(value=0.9900002084555819, unit=radian), Quantity(value=1200.0, unit=kilocalorie/mole), 1]), 1: (19, 18, 10, 8, [1, Quantity(value=-0.07858019216845058, unit=radian), Quantity(value=1200.0, unit=kilocalorie/mole), 7]), 2: (19, 18, 10, 14, [1, Quantity(value=2.118586571250296, unit=radian), Quantity(value=1200.0, unit=kilocalorie/mole), 7]), 3: (19, 18, 10, 13, [1, Quantity(value=-2.149781203448759, unit=radian), Quantity(value=1200.0, unit=kilocalorie/mole), 7]), 4: (8, 10, 14, 17, [1, Quantity(value=-2.1249532223845904, unit=radian), Quantity(value=1200.0, unit=kilocalorie/mole), 6]), 5: (8, 10, 14, 16, [1, Quantity(value=2.0543043017157916, unit=radian), Quantity(value=1200.0, unit=kilocalorie/mole), 4]), 6: (8, 10, 14, 15, [1, Quantity(value=-0.02223392579985184, unit=radian), Quantity(value=1200.0, unit=kilocalorie/mole), 8]), 7: (18, 10, 14, 17, [1, Quantity(value=2.0255587336734213, unit=radian), Quantity(value=1200.0, unit=kilocalorie/mole), 6]), 8: (18, 10, 14, 16, [1, Quantity(value=-0.07836904940578293, unit=radian), Quantity(value=1200.0, unit=kilocalorie/mole), 4]), 9: (18, 10, 14, 15, [1, Quantity(value=-2.154907276921426, unit=radian), Quantity(value=1200.0, unit=kilocalorie/mole), 8]), 10: (13, 10, 14, 17, [1, Quantity(value=0.007583009583349565, unit=radian), Quantity(value=1200.0, unit=kilocalorie/mole), 6]), 11: (13, 10, 14, 16, [1, Quantity(value=-2.096344773495849, unit=radian), Quantity(value=1200.0, unit=kilocalorie/mole), 5]), 12: (13, 10, 14, 15, [1, Quantity(value=2.1103023061680943, unit=radian), Quantity(value=1200.0, unit=kilocalorie/mole), 8]), 13: (18, 10, 8, 14, [1, Quantity(value=-1.0655064807976995, unit=radian), Quantity(value=1200.0, unit=kilocalorie/mole), 3])}\n",
      "INFO:geometry:neglected angle terms include []\n",
      "INFO:geometry:log probability choice of torsions and atom order: -13.371595639480912\n",
      "INFO:geometry:creating platform, integrators, and contexts; setting growth parameter\n"
     ]
    },
    {
     "name": "stdout",
     "output_type": "stream",
     "text": [
      "making topology proposal\n",
      "generating geometry engine\n",
      "making geometry proposal from ALA to THR\n",
      "conducting subsequent work with the following platform: CUDA\n"
     ]
    },
    {
     "name": "stderr",
     "output_type": "stream",
     "text": [
      "INFO:geometry:setting atoms_with_positions context new positions\n"
     ]
    },
    {
     "name": "stdout",
     "output_type": "stream",
     "text": [
      "conducting subsequent work with the following platform: CUDA\n"
     ]
    },
    {
     "ename": "KeyboardInterrupt",
     "evalue": "",
     "output_type": "error",
     "traceback": [
      "\u001b[0;31m--------------------------\u001b[0m",
      "\u001b[0;31mKeyboardInterrupt\u001b[0mTraceback (most recent call last)",
      "\u001b[0;32m<ipython-input-67-b5ad2970a2f9>\u001b[0m in \u001b[0;36m<module>\u001b[0;34m\u001b[0m\n\u001b[1;32m      1\u001b[0m \u001b[0;31m# Create a htf\u001b[0m\u001b[0;34m\u001b[0m\u001b[0;34m\u001b[0m\u001b[0;34m\u001b[0m\u001b[0m\n\u001b[1;32m      2\u001b[0m \u001b[0matp\u001b[0m\u001b[0;34m,\u001b[0m \u001b[0msystem_generator\u001b[0m \u001b[0;34m=\u001b[0m \u001b[0mgenerate_atp\u001b[0m\u001b[0;34m(\u001b[0m\u001b[0mphase\u001b[0m \u001b[0;34m=\u001b[0m \u001b[0;34m'vacuum'\u001b[0m\u001b[0;34m)\u001b[0m\u001b[0;34m\u001b[0m\u001b[0;34m\u001b[0m\u001b[0m\n\u001b[0;32m----> 3\u001b[0;31m htf = generate_dipeptide_top_pos_sys(atp.topology, \n\u001b[0m\u001b[1;32m      4\u001b[0m                                \u001b[0;34m'THR'\u001b[0m\u001b[0;34m,\u001b[0m\u001b[0;34m\u001b[0m\u001b[0;34m\u001b[0m\u001b[0m\n\u001b[1;32m      5\u001b[0m                                \u001b[0matp\u001b[0m\u001b[0;34m.\u001b[0m\u001b[0msystem\u001b[0m\u001b[0;34m,\u001b[0m\u001b[0;34m\u001b[0m\u001b[0;34m\u001b[0m\u001b[0m\n",
      "\u001b[0;32m~/miniconda3/envs/perses-rxn-field/lib/python3.8/site-packages/perses-0.8.2.dev0-py3.8.egg/perses/tests/test_topology_proposal.py\u001b[0m in \u001b[0;36mgenerate_dipeptide_top_pos_sys\u001b[0;34m(topology, new_res, system, positions, system_generator, conduct_geometry_prop, conduct_htf_prop, validate_energy_bookkeeping, repartitioned, rxn_field, endstate, flatten_torsions, flatten_exceptions, validate_endstate_energy, scale_regions)\u001b[0m\n\u001b[1;32m    280\u001b[0m         \u001b[0;31m# Make a geometry proposal forward\u001b[0m\u001b[0;34m\u001b[0m\u001b[0;34m\u001b[0m\u001b[0;34m\u001b[0m\u001b[0m\n\u001b[1;32m    281\u001b[0m         \u001b[0mprint\u001b[0m\u001b[0;34m(\u001b[0m\u001b[0;34mf\"making geometry proposal from {list(topology.residues())[1].name} to {new_res}\"\u001b[0m\u001b[0;34m)\u001b[0m\u001b[0;34m\u001b[0m\u001b[0;34m\u001b[0m\u001b[0m\n\u001b[0;32m--> 282\u001b[0;31m         \u001b[0mforward_new_positions\u001b[0m\u001b[0;34m,\u001b[0m \u001b[0mlogp_proposal\u001b[0m \u001b[0;34m=\u001b[0m \u001b[0mgeometry_engine\u001b[0m\u001b[0;34m.\u001b[0m\u001b[0mpropose\u001b[0m\u001b[0;34m(\u001b[0m\u001b[0mtopology_proposal\u001b[0m\u001b[0;34m,\u001b[0m \u001b[0mpositions\u001b[0m\u001b[0;34m,\u001b[0m \u001b[0mbeta\u001b[0m\u001b[0;34m,\u001b[0m \u001b[0mvalidate_energy_bookkeeping\u001b[0m\u001b[0;34m=\u001b[0m\u001b[0mvalidate_energy_bookkeeping\u001b[0m\u001b[0;34m)\u001b[0m\u001b[0;34m\u001b[0m\u001b[0;34m\u001b[0m\u001b[0m\n\u001b[0m\u001b[1;32m    283\u001b[0m         \u001b[0mlogp_reverse\u001b[0m \u001b[0;34m=\u001b[0m \u001b[0mgeometry_engine\u001b[0m\u001b[0;34m.\u001b[0m\u001b[0mlogp_reverse\u001b[0m\u001b[0;34m(\u001b[0m\u001b[0mtopology_proposal\u001b[0m\u001b[0;34m,\u001b[0m \u001b[0mforward_new_positions\u001b[0m\u001b[0;34m,\u001b[0m \u001b[0mpositions\u001b[0m\u001b[0;34m,\u001b[0m \u001b[0mbeta\u001b[0m\u001b[0;34m,\u001b[0m \u001b[0mvalidate_energy_bookkeeping\u001b[0m\u001b[0;34m=\u001b[0m\u001b[0mvalidate_energy_bookkeeping\u001b[0m\u001b[0;34m)\u001b[0m\u001b[0;34m\u001b[0m\u001b[0;34m\u001b[0m\u001b[0m\n\u001b[1;32m    284\u001b[0m \u001b[0;34m\u001b[0m\u001b[0m\n",
      "\u001b[0;32m~/miniconda3/envs/perses-rxn-field/lib/python3.8/site-packages/perses-0.8.2.dev0-py3.8.egg/perses/rjmc/geometry.py\u001b[0m in \u001b[0;36mpropose\u001b[0;34m(self, top_proposal, current_positions, beta, validate_energy_bookkeeping)\u001b[0m\n\u001b[1;32m    233\u001b[0m         \u001b[0;32melse\u001b[0m\u001b[0;34m:\u001b[0m\u001b[0;34m\u001b[0m\u001b[0;34m\u001b[0m\u001b[0m\n\u001b[1;32m    234\u001b[0m             \u001b[0m_logger\u001b[0m\u001b[0;34m.\u001b[0m\u001b[0minfo\u001b[0m\u001b[0;34m(\u001b[0m\u001b[0;34m\"propose: unique new atoms detected; proceeding to _logp_propose...\"\u001b[0m\u001b[0;34m)\u001b[0m\u001b[0;34m\u001b[0m\u001b[0;34m\u001b[0m\u001b[0m\n\u001b[0;32m--> 235\u001b[0;31m             \u001b[0mlogp_proposal\u001b[0m\u001b[0;34m,\u001b[0m \u001b[0mnew_positions\u001b[0m\u001b[0;34m,\u001b[0m \u001b[0mrjmc_info\u001b[0m\u001b[0;34m,\u001b[0m \u001b[0matoms_with_positions_reduced_potential\u001b[0m\u001b[0;34m,\u001b[0m \u001b[0mfinal_context_reduced_potential\u001b[0m\u001b[0;34m,\u001b[0m \u001b[0mneglected_angle_terms\u001b[0m\u001b[0;34m,\u001b[0m \u001b[0momitted_terms\u001b[0m \u001b[0;34m=\u001b[0m \u001b[0mself\u001b[0m\u001b[0;34m.\u001b[0m\u001b[0m_logp_propose\u001b[0m\u001b[0;34m(\u001b[0m\u001b[0mtop_proposal\u001b[0m\u001b[0;34m,\u001b[0m \u001b[0mcurrent_positions\u001b[0m\u001b[0;34m,\u001b[0m \u001b[0mbeta\u001b[0m\u001b[0;34m,\u001b[0m \u001b[0mdirection\u001b[0m\u001b[0;34m=\u001b[0m\u001b[0;34m'forward'\u001b[0m\u001b[0;34m,\u001b[0m \u001b[0mvalidate_energy_bookkeeping\u001b[0m \u001b[0;34m=\u001b[0m \u001b[0mvalidate_energy_bookkeeping\u001b[0m\u001b[0;34m)\u001b[0m\u001b[0;34m\u001b[0m\u001b[0;34m\u001b[0m\u001b[0m\n\u001b[0m\u001b[1;32m    236\u001b[0m             \u001b[0mself\u001b[0m\u001b[0;34m.\u001b[0m\u001b[0mnproposed\u001b[0m \u001b[0;34m+=\u001b[0m \u001b[0;36m1\u001b[0m\u001b[0;34m\u001b[0m\u001b[0;34m\u001b[0m\u001b[0m\n\u001b[1;32m    237\u001b[0m \u001b[0;34m\u001b[0m\u001b[0m\n",
      "\u001b[0;32m~/miniconda3/envs/perses-rxn-field/lib/python3.8/site-packages/perses-0.8.2.dev0-py3.8.egg/perses/rjmc/geometry.py\u001b[0m in \u001b[0;36m_logp_propose\u001b[0;34m(self, top_proposal, old_positions, beta, new_positions, direction, validate_energy_bookkeeping)\u001b[0m\n\u001b[1;32m    483\u001b[0m         \u001b[0mstate\u001b[0m \u001b[0;34m=\u001b[0m \u001b[0matoms_with_positions_context\u001b[0m\u001b[0;34m.\u001b[0m\u001b[0mgetState\u001b[0m\u001b[0;34m(\u001b[0m\u001b[0mgetEnergy\u001b[0m\u001b[0;34m=\u001b[0m\u001b[0;32mTrue\u001b[0m\u001b[0;34m)\u001b[0m\u001b[0;34m\u001b[0m\u001b[0;34m\u001b[0m\u001b[0m\n\u001b[1;32m    484\u001b[0m         \u001b[0matoms_with_positions_reduced_potential\u001b[0m \u001b[0;34m=\u001b[0m \u001b[0mbeta\u001b[0m\u001b[0;34m*\u001b[0m\u001b[0mstate\u001b[0m\u001b[0;34m.\u001b[0m\u001b[0mgetPotentialEnergy\u001b[0m\u001b[0;34m(\u001b[0m\u001b[0;34m)\u001b[0m\u001b[0;34m\u001b[0m\u001b[0;34m\u001b[0m\u001b[0m\n\u001b[0;32m--> 485\u001b[0;31m         \u001b[0matoms_with_positions_reduced_potential_components\u001b[0m \u001b[0;34m=\u001b[0m \u001b[0;34m[\u001b[0m\u001b[0;34m(\u001b[0m\u001b[0mforce\u001b[0m\u001b[0;34m,\u001b[0m \u001b[0menergy\u001b[0m\u001b[0;34m)\u001b[0m \u001b[0;32mfor\u001b[0m \u001b[0mforce\u001b[0m\u001b[0;34m,\u001b[0m \u001b[0menergy\u001b[0m \u001b[0;32min\u001b[0m \u001b[0mcompute_potential_components\u001b[0m\u001b[0;34m(\u001b[0m\u001b[0matoms_with_positions_context\u001b[0m\u001b[0;34m)\u001b[0m\u001b[0;34m]\u001b[0m\u001b[0;34m\u001b[0m\u001b[0;34m\u001b[0m\u001b[0m\n\u001b[0m\u001b[1;32m    486\u001b[0m         \u001b[0m_logger\u001b[0m\u001b[0;34m.\u001b[0m\u001b[0mdebug\u001b[0m\u001b[0;34m(\u001b[0m\u001b[0;34mf'atoms_with_positions_reduced_potential_components:'\u001b[0m\u001b[0;34m)\u001b[0m\u001b[0;34m\u001b[0m\u001b[0;34m\u001b[0m\u001b[0m\n\u001b[1;32m    487\u001b[0m         \u001b[0;32mfor\u001b[0m \u001b[0mf\u001b[0m\u001b[0;34m,\u001b[0m \u001b[0me\u001b[0m \u001b[0;32min\u001b[0m \u001b[0matoms_with_positions_reduced_potential_components\u001b[0m\u001b[0;34m:\u001b[0m\u001b[0;34m\u001b[0m\u001b[0;34m\u001b[0m\u001b[0m\n",
      "\u001b[0;32m~/miniconda3/envs/perses-rxn-field/lib/python3.8/site-packages/perses-0.8.2.dev0-py3.8.egg/perses/tests/utils.py\u001b[0m in \u001b[0;36mcompute_potential_components\u001b[0;34m(context, beta, platform)\u001b[0m\n\u001b[1;32m    316\u001b[0m     \u001b[0;31m# Create new Context.\u001b[0m\u001b[0;34m\u001b[0m\u001b[0;34m\u001b[0m\u001b[0;34m\u001b[0m\u001b[0m\n\u001b[1;32m    317\u001b[0m     \u001b[0mintegrator\u001b[0m \u001b[0;34m=\u001b[0m \u001b[0mopenmm\u001b[0m\u001b[0;34m.\u001b[0m\u001b[0mVerletIntegrator\u001b[0m\u001b[0;34m(\u001b[0m\u001b[0;36m1.0\u001b[0m \u001b[0;34m*\u001b[0m \u001b[0munit\u001b[0m\u001b[0;34m.\u001b[0m\u001b[0mfemtoseconds\u001b[0m\u001b[0;34m)\u001b[0m\u001b[0;34m\u001b[0m\u001b[0;34m\u001b[0m\u001b[0m\n\u001b[0;32m--> 318\u001b[0;31m     \u001b[0mcontext\u001b[0m \u001b[0;34m=\u001b[0m \u001b[0mopenmm\u001b[0m\u001b[0;34m.\u001b[0m\u001b[0mContext\u001b[0m\u001b[0;34m(\u001b[0m\u001b[0msystem\u001b[0m\u001b[0;34m,\u001b[0m \u001b[0mintegrator\u001b[0m\u001b[0;34m,\u001b[0m \u001b[0mplatform\u001b[0m\u001b[0;34m)\u001b[0m\u001b[0;34m\u001b[0m\u001b[0;34m\u001b[0m\u001b[0m\n\u001b[0m\u001b[1;32m    319\u001b[0m     \u001b[0mcontext\u001b[0m\u001b[0;34m.\u001b[0m\u001b[0msetPositions\u001b[0m\u001b[0;34m(\u001b[0m\u001b[0mpositions\u001b[0m\u001b[0;34m)\u001b[0m\u001b[0;34m\u001b[0m\u001b[0;34m\u001b[0m\u001b[0m\n\u001b[1;32m    320\u001b[0m     \u001b[0;32mfor\u001b[0m \u001b[0;34m(\u001b[0m\u001b[0mparameter\u001b[0m\u001b[0;34m,\u001b[0m \u001b[0mvalue\u001b[0m\u001b[0;34m)\u001b[0m \u001b[0;32min\u001b[0m \u001b[0mparameters\u001b[0m\u001b[0;34m.\u001b[0m\u001b[0mitems\u001b[0m\u001b[0;34m(\u001b[0m\u001b[0;34m)\u001b[0m\u001b[0;34m:\u001b[0m\u001b[0;34m\u001b[0m\u001b[0;34m\u001b[0m\u001b[0m\n",
      "\u001b[0;32m~/miniconda3/envs/perses-rxn-field/lib/python3.8/site-packages/simtk/openmm/openmm.py\u001b[0m in \u001b[0;36m__init__\u001b[0;34m(self, *args)\u001b[0m\n\u001b[1;32m   4946\u001b[0m             \u001b[0ma\u001b[0m \u001b[0mset\u001b[0m \u001b[0mof\u001b[0m \u001b[0mvalues\u001b[0m \u001b[0;32mfor\u001b[0m \u001b[0mplatform\u001b[0m\u001b[0;34m-\u001b[0m\u001b[0mspecific\u001b[0m \u001b[0mproperties\u001b[0m\u001b[0;34m.\u001b[0m \u001b[0mKeys\u001b[0m \u001b[0mare\u001b[0m \u001b[0mthe\u001b[0m \u001b[0mproperty\u001b[0m \u001b[0mnames\u001b[0m\u001b[0;34m.\u001b[0m\u001b[0;34m\u001b[0m\u001b[0;34m\u001b[0m\u001b[0m\n\u001b[1;32m   4947\u001b[0m         \"\"\"\n\u001b[0;32m-> 4948\u001b[0;31m         \u001b[0m_openmm\u001b[0m\u001b[0;34m.\u001b[0m\u001b[0mContext_swiginit\u001b[0m\u001b[0;34m(\u001b[0m\u001b[0mself\u001b[0m\u001b[0;34m,\u001b[0m \u001b[0m_openmm\u001b[0m\u001b[0;34m.\u001b[0m\u001b[0mnew_Context\u001b[0m\u001b[0;34m(\u001b[0m\u001b[0;34m*\u001b[0m\u001b[0margs\u001b[0m\u001b[0;34m)\u001b[0m\u001b[0;34m)\u001b[0m\u001b[0;34m\u001b[0m\u001b[0;34m\u001b[0m\u001b[0m\n\u001b[0m\u001b[1;32m   4949\u001b[0m \u001b[0;34m\u001b[0m\u001b[0m\n\u001b[1;32m   4950\u001b[0m         \u001b[0mself\u001b[0m\u001b[0;34m.\u001b[0m\u001b[0m_system\u001b[0m \u001b[0;34m=\u001b[0m \u001b[0margs\u001b[0m\u001b[0;34m[\u001b[0m\u001b[0;36m0\u001b[0m\u001b[0;34m]\u001b[0m\u001b[0;34m\u001b[0m\u001b[0;34m\u001b[0m\u001b[0m\n",
      "\u001b[0;31mKeyboardInterrupt\u001b[0m: "
     ]
    }
   ],
   "source": [
    "# Create a htf\n",
    "atp, system_generator = generate_atp(phase = 'vacuum')\n",
    "htf = generate_dipeptide_top_pos_sys(atp.topology, \n",
    "                               'THR', \n",
    "                               atp.system, \n",
    "                               atp.positions, \n",
    "                               system_generator,\n",
    "                                rxn_field=True,\n",
    "                               flatten_torsions=True,\n",
    "                               flatten_exceptions=True,\n",
    "                               validate_endstate_energy=False,\n",
    "                                conduct_htf_prop=True)"
   ]
  },
  {
   "cell_type": "markdown",
   "id": "503b6f4b",
   "metadata": {},
   "source": [
    "### Test one alchemical region, no scale regions"
   ]
  },
  {
   "cell_type": "markdown",
   "id": "11e9c95a",
   "metadata": {},
   "source": [
    "#### Old system HarmonicBondForce vs hybrid system CustomBondForce"
   ]
  },
  {
   "cell_type": "code",
   "execution_count": 68,
   "id": "19b06c88",
   "metadata": {},
   "outputs": [],
   "source": [
    "# Load htf\n",
    "with open(\"/home/zhangi/choderalab/perses_benchmark/perses_protein_mutations/code/26_rxn_field/atp_vacuum.pickle\", \"rb\") as f:\n",
    "    htf = pickle.load(f)"
   ]
  },
  {
   "cell_type": "code",
   "execution_count": 69,
   "id": "18deeb39",
   "metadata": {
    "scrolled": true
   },
   "outputs": [
    {
     "name": "stdout",
     "output_type": "stream",
     "text": [
      "Warning: Returning CPU platform instead of requested platform <simtk.openmm.openmm.Platform; proxy of <Swig Object of type 'OpenMM::Platform *' at 0x2b9a06d43f30> >\n",
      "conducting subsequent work with the following platform: CPU\n",
      "conducting subsequent work with the following platform: CUDA\n",
      "[('HarmonicBondForce', 0.03478365356521381), ('HarmonicAngleForce', 0.6112775462128995), ('PeriodicTorsionForce', 16.285398289983064), ('NonbondedForce', -39.4499277456003), ('AndersenThermostat', 0.0)]\n",
      "conducting subsequent work with the following platform: CUDA\n",
      "[('CustomBondForce', 0.03478365356521381), ('AndersenThermostat', 0.0)]\n",
      "Success! Custom bond force and standard bond force energies are equal!\n"
     ]
    }
   ],
   "source": [
    "test_bond_energies(htf)"
   ]
  },
  {
   "cell_type": "markdown",
   "id": "e336aed9",
   "metadata": {},
   "source": [
    "#### New system HarmonicBondForce vs hybrid system CustomBondForce"
   ]
  },
  {
   "cell_type": "code",
   "execution_count": 70,
   "id": "49875cd6",
   "metadata": {},
   "outputs": [],
   "source": [
    "# Load htf\n",
    "with open(\"/home/zhangi/choderalab/perses_benchmark/perses_protein_mutations/code/26_rxn_field/atp_vacuum.pickle\", \"rb\") as f:\n",
    "    htf = pickle.load(f)"
   ]
  },
  {
   "cell_type": "code",
   "execution_count": 71,
   "id": "039fb22d",
   "metadata": {},
   "outputs": [
    {
     "name": "stdout",
     "output_type": "stream",
     "text": [
      "Warning: Returning CPU platform instead of requested platform <simtk.openmm.openmm.Platform; proxy of <Swig Object of type 'OpenMM::Platform *' at 0x2b9a06d43f30> >\n",
      "conducting subsequent work with the following platform: CPU\n",
      "conducting subsequent work with the following platform: CUDA\n",
      "[('HarmonicBondForce', 1.881703491608262), ('HarmonicAngleForce', 8.64103997470652), ('PeriodicTorsionForce', 27.239469309657512), ('NonbondedForce', 517.8644869513105), ('AndersenThermostat', 0.0)]\n",
      "conducting subsequent work with the following platform: CUDA\n",
      "[('CustomBondForce', 1.8817034916082622), ('AndersenThermostat', 0.0)]\n",
      "Success! Custom bond force and standard bond force energies are equal!\n"
     ]
    }
   ],
   "source": [
    "test_bond_energies(htf, is_old=False)"
   ]
  },
  {
   "cell_type": "markdown",
   "id": "16251d48",
   "metadata": {},
   "source": [
    "### Test one alchemical region, one scale region"
   ]
  },
  {
   "cell_type": "code",
   "execution_count": 34,
   "id": "12fe9b6c",
   "metadata": {
    "scrolled": true
   },
   "outputs": [
    {
     "name": "stderr",
     "output_type": "stream",
     "text": [
      "DEBUG:openmmforcefields.system_generators:Trying GAFFTemplateGenerator to load gaff-2.11\n",
      "INFO:proposal_generator:\tConducting polymer point mutation proposal...\n",
      "INFO:proposal_generator:Using matching_criterion to chose best atom map\n",
      "INFO:proposal_generator:Scaffold has symmetry of 0\n",
      "WARNING:proposal_generator:Two molecules are not similar to have a common scaffold\n",
      "WARNING:proposal_generator:Proceeding with direct mapping of molecules, but please check atom mapping and the geometry of the ligands.\n",
      "INFO:proposal_generator:len [{9: 7}, {10: 7}, {11: 7}, {12: 7}, {13: 7}, {9: 8}, {10: 8}, {11: 8}, {12: 8}, {13: 8}, {9: 9}, {10: 9}, {11: 9}, {12: 9}, {13: 9}]\n",
      "INFO:proposal_generator:{9: 7}\n",
      "INFO:proposal_generator:{10: 7}\n",
      "INFO:proposal_generator:{11: 7}\n",
      "INFO:proposal_generator:{12: 7}\n",
      "INFO:proposal_generator:{13: 7}\n",
      "INFO:proposal_generator:{9: 8}\n",
      "INFO:proposal_generator:{10: 8}\n",
      "INFO:proposal_generator:{11: 8}\n",
      "INFO:proposal_generator:{12: 8}\n",
      "INFO:proposal_generator:{13: 8}\n",
      "INFO:proposal_generator:{9: 9}\n",
      "INFO:proposal_generator:{10: 9}\n",
      "INFO:proposal_generator:{11: 9}\n",
      "INFO:proposal_generator:{12: 9}\n",
      "INFO:proposal_generator:{13: 9}\n",
      "INFO:proposal_generator:Returning map that best satisfies matching_criterion\n",
      "INFO:proposal_generator:Finding best map using matching_criterion name\n",
      "INFO:proposal_generator:{9: 7}\n",
      "INFO:geometry:propose: performing forward proposal\n",
      "INFO:geometry:propose: unique new atoms detected; proceeding to _logp_propose...\n",
      "INFO:geometry:Conducting forward proposal...\n",
      "INFO:geometry:Computing proposal order with NetworkX...\n",
      "INFO:geometry:number of atoms to be placed: 8\n",
      "INFO:geometry:Atom index proposal order is [10, 14, 18, 13, 16, 15, 17, 19]\n",
      "INFO:geometry:omitted_bonds: []\n",
      "INFO:geometry:direction of proposal is forward; creating atoms_with_positions and new positions from old system/topology...\n",
      "INFO:geometry:creating growth system...\n",
      "INFO:geometry:\tcreating bond force...\n",
      "INFO:geometry:\tthere are 11 bonds in reference force.\n",
      "INFO:geometry:\tcreating angle force...\n",
      "INFO:geometry:\tthere are 43 angles in reference force.\n",
      "INFO:geometry:\tcreating torsion force...\n",
      "INFO:geometry:\tcreating extra torsions force...\n",
      "INFO:geometry:\tthere are 72 torsions in reference force.\n",
      "INFO:geometry:\tcreating nonbonded force...\n",
      "INFO:geometry:\t\tgrabbing reference nonbonded method, cutoff, switching function, switching distance...\n",
      "INFO:geometry:\t\tcreating nonbonded exception force (i.e. custom bond for 1,4s)...\n",
      "INFO:geometry:\t\tlooping through exceptions calculating growth indices, and adding appropriate interactions to custom bond force.\n",
      "INFO:geometry:\t\tthere are 121 in the reference Nonbonded force\n",
      "WARNING:geometry:\t\t\t\t\tchiral atom <Atom 8 (CA) of chain 0 residue 1 (THR)> with neighbors [<Atom 9 (HA) of chain 0 residue 1 (THR)>, <Atom 10 (CB) of chain 0 residue 1 (THR)>, <Atom 11 (C) of chain 0 residue 1 (THR)>, <Atom 6 (N) of chain 0 residue 1 (THR)>] is surrounded by 3 core neighbors.  omitting chirality bias torsion\n",
      "INFO:geometry:Neglected angle terms : []\n",
      "INFO:geometry:omitted_growth_terms: {'bonds': [], 'angles': [], 'torsions': [], '1,4s': []}\n",
      "INFO:geometry:extra torsions: {0: (7, 6, 8, 10, [1, Quantity(value=0.9900002084555819, unit=radian), Quantity(value=1200.0, unit=kilocalorie/mole), 1]), 1: (19, 18, 10, 8, [1, Quantity(value=-0.07858019216845058, unit=radian), Quantity(value=1200.0, unit=kilocalorie/mole), 8]), 2: (19, 18, 10, 14, [1, Quantity(value=2.118586571250296, unit=radian), Quantity(value=1200.0, unit=kilocalorie/mole), 8]), 3: (19, 18, 10, 13, [1, Quantity(value=-2.149781203448759, unit=radian), Quantity(value=1200.0, unit=kilocalorie/mole), 8]), 4: (8, 10, 14, 17, [1, Quantity(value=-2.1249532223845904, unit=radian), Quantity(value=1200.0, unit=kilocalorie/mole), 7]), 5: (8, 10, 14, 16, [1, Quantity(value=2.0543043017157916, unit=radian), Quantity(value=1200.0, unit=kilocalorie/mole), 5]), 6: (8, 10, 14, 15, [1, Quantity(value=-0.02223392579985184, unit=radian), Quantity(value=1200.0, unit=kilocalorie/mole), 6]), 7: (18, 10, 14, 17, [1, Quantity(value=2.0255587336734213, unit=radian), Quantity(value=1200.0, unit=kilocalorie/mole), 7]), 8: (18, 10, 14, 16, [1, Quantity(value=-0.07836904940578293, unit=radian), Quantity(value=1200.0, unit=kilocalorie/mole), 5]), 9: (18, 10, 14, 15, [1, Quantity(value=-2.154907276921426, unit=radian), Quantity(value=1200.0, unit=kilocalorie/mole), 6]), 10: (13, 10, 14, 17, [1, Quantity(value=0.007583009583349565, unit=radian), Quantity(value=1200.0, unit=kilocalorie/mole), 7]), 11: (13, 10, 14, 16, [1, Quantity(value=-2.096344773495849, unit=radian), Quantity(value=1200.0, unit=kilocalorie/mole), 5]), 12: (13, 10, 14, 15, [1, Quantity(value=2.1103023061680943, unit=radian), Quantity(value=1200.0, unit=kilocalorie/mole), 6]), 13: (14, 10, 8, 18, [1, Quantity(value=1.0655064807976995, unit=radian), Quantity(value=1200.0, unit=kilocalorie/mole), 3])}\n",
      "INFO:geometry:neglected angle terms include []\n",
      "INFO:geometry:log probability choice of torsions and atom order: -13.553917196274867\n",
      "INFO:geometry:creating platform, integrators, and contexts; setting growth parameter\n"
     ]
    },
    {
     "name": "stdout",
     "output_type": "stream",
     "text": [
      "making topology proposal\n",
      "generating geometry engine\n",
      "making geometry proposal from ALA to THR\n",
      "conducting subsequent work with the following platform: CUDA\n"
     ]
    },
    {
     "name": "stderr",
     "output_type": "stream",
     "text": [
      "INFO:geometry:setting atoms_with_positions context new positions\n",
      "INFO:geometry:There are 8 new atoms\n",
      "INFO:geometry:\treduced angle potential = 0.1965396232237354.\n",
      "INFO:geometry:\treduced angle potential = 0.018416399305230712.\n",
      "INFO:geometry:\treduced angle potential = 2.2729798870121365.\n",
      "INFO:geometry:\treduced angle potential = 0.06001985692343648.\n"
     ]
    },
    {
     "name": "stdout",
     "output_type": "stream",
     "text": [
      "Warning: Returning Reference platform instead of requested platform CUDA\n",
      "conducting subsequent work with the following platform: Reference\n"
     ]
    },
    {
     "name": "stderr",
     "output_type": "stream",
     "text": [
      "INFO:geometry:\treduced angle potential = 1.3189241736891264.\n",
      "INFO:geometry:\treduced angle potential = 0.11093483696516669.\n",
      "INFO:geometry:\treduced angle potential = 0.7622905653586042.\n",
      "INFO:geometry:\treduced angle potential = 0.917039413411143.\n",
      "INFO:geometry:\tbeginning construction of no_nonbonded final system...\n",
      "INFO:geometry:\tinitial no-nonbonded final system forces ['HarmonicBondForce', 'HarmonicAngleForce', 'PeriodicTorsionForce', 'NonbondedForce']\n",
      "INFO:geometry:\tfinal no-nonbonded final system forces dict_keys(['HarmonicBondForce', 'HarmonicAngleForce', 'PeriodicTorsionForce', 'NonbondedForce'])\n",
      "INFO:geometry:\tthere are 11 bond forces in the no-nonbonded final system\n",
      "INFO:geometry:\tthere are 43 angle forces in the no-nonbonded final system\n",
      "INFO:geometry:\tthere are 72 torsion forces in the no-nonbonded final system\n",
      "INFO:geometry:forward final system defined with 0 neglected angles.\n"
     ]
    },
    {
     "name": "stdout",
     "output_type": "stream",
     "text": [
      "conducting subsequent work with the following platform: CUDA\n",
      "conducting subsequent work with the following platform: CUDA\n"
     ]
    },
    {
     "name": "stderr",
     "output_type": "stream",
     "text": [
      "INFO:geometry:total reduced potential before atom placement: 9.11648114171204\n"
     ]
    },
    {
     "name": "stdout",
     "output_type": "stream",
     "text": [
      "conducting subsequent work with the following platform: CUDA\n",
      "conducting subsequent work with the following platform: CUDA\n",
      "conducting subsequent work with the following platform: CUDA\n"
     ]
    },
    {
     "name": "stderr",
     "output_type": "stream",
     "text": [
      "INFO:geometry:total reduced energy added from growth system: -28.985310158391748\n",
      "INFO:geometry:final reduced energy -19.86883172061258\n",
      "INFO:geometry:sum of energies: -19.868829016679708\n",
      "INFO:geometry:magnitude of difference in the energies: 2.7039328713840405e-06\n",
      "INFO:geometry:Final logp_proposal: 60.588532198329915\n"
     ]
    },
    {
     "name": "stdout",
     "output_type": "stream",
     "text": [
      "added energy components: [('CustomBondForce', 2.6889079279971897), ('CustomAngleForce', 8.001068968112358), ('CustomTorsionForce', 17.862086980105758), ('CustomBondForce', -57.53737403460705)]\n"
     ]
    },
    {
     "name": "stderr",
     "output_type": "stream",
     "text": [
      "INFO:geometry:logp_reverse: performing reverse proposal\n",
      "INFO:geometry:logp_reverse: unique new atoms detected; proceeding to _logp_propose...\n",
      "INFO:geometry:Conducting forward proposal...\n",
      "INFO:geometry:Computing proposal order with NetworkX...\n",
      "INFO:geometry:number of atoms to be placed: 4\n",
      "INFO:geometry:Atom index proposal order is [10, 11, 12, 13]\n",
      "INFO:geometry:omitted_bonds: []\n",
      "INFO:geometry:direction of proposal is reverse; creating atoms_with_positions from old system/topology\n",
      "INFO:geometry:creating growth system...\n",
      "INFO:geometry:\tcreating bond force...\n",
      "INFO:geometry:\tthere are 9 bonds in reference force.\n",
      "INFO:geometry:\tcreating angle force...\n",
      "INFO:geometry:\tthere are 36 angles in reference force.\n",
      "INFO:geometry:\tcreating torsion force...\n",
      "INFO:geometry:\tcreating extra torsions force...\n",
      "INFO:geometry:\tthere are 42 torsions in reference force.\n",
      "INFO:geometry:\tcreating nonbonded force...\n",
      "INFO:geometry:\t\tgrabbing reference nonbonded method, cutoff, switching function, switching distance...\n",
      "INFO:geometry:\t\tcreating nonbonded exception force (i.e. custom bond for 1,4s)...\n",
      "INFO:geometry:\t\tlooping through exceptions calculating growth indices, and adding appropriate interactions to custom bond force.\n",
      "INFO:geometry:\t\tthere are 98 in the reference Nonbonded force\n",
      "WARNING:geometry:\t\t\t\t\tchiral atom <Atom 8 (CA) of chain 0 residue 1 (ALA)> with neighbors [<Atom 9 (HA) of chain 0 residue 1 (ALA)>, <Atom 10 (CB) of chain 0 residue 1 (ALA)>, <Atom 14 (C) of chain 0 residue 1 (ALA)>, <Atom 6 (N) of chain 0 residue 1 (ALA)>] is surrounded by 3 core neighbors.  omitting chirality bias torsion\n",
      "INFO:geometry:Neglected angle terms : []\n",
      "INFO:geometry:omitted_growth_terms: {'bonds': [], 'angles': [], 'torsions': [], '1,4s': []}\n",
      "INFO:geometry:extra torsions: {0: (7, 6, 8, 10, [1, Quantity(value=0.9799661941737812, unit=radian), Quantity(value=1200.0, unit=kilocalorie/mole), 1]), 1: (6, 8, 10, 11, [1, Quantity(value=2.105358864604291, unit=radian), Quantity(value=1200.0, unit=kilocalorie/mole), 2]), 2: (6, 8, 10, 12, [1, Quantity(value=-2.0823006129211796, unit=radian), Quantity(value=1200.0, unit=kilocalorie/mole), 3]), 3: (6, 8, 10, 13, [1, Quantity(value=0.018582237407944735, unit=radian), Quantity(value=1200.0, unit=kilocalorie/mole), 4]), 4: (14, 8, 10, 11, [1, Quantity(value=-0.036945135932107576, unit=radian), Quantity(value=1200.0, unit=kilocalorie/mole), 2]), 5: (14, 8, 10, 12, [1, Quantity(value=2.0585806937220097, unit=radian), Quantity(value=1200.0, unit=kilocalorie/mole), 3]), 6: (14, 8, 10, 13, [1, Quantity(value=-2.1237217631284597, unit=radian), Quantity(value=1200.0, unit=kilocalorie/mole), 4]), 7: (9, 8, 10, 11, [1, Quantity(value=-2.119603470065817, unit=radian), Quantity(value=1200.0, unit=kilocalorie/mole), 2]), 8: (9, 8, 10, 12, [1, Quantity(value=-0.024077640411697132, unit=radian), Quantity(value=1200.0, unit=kilocalorie/mole), 3]), 9: (9, 8, 10, 13, [1, Quantity(value=2.0768052099174152, unit=radian), Quantity(value=1200.0, unit=kilocalorie/mole), 4])}\n",
      "INFO:geometry:neglected angle terms include []\n",
      "INFO:geometry:log probability choice of torsions and atom order: -5.78074351579233\n",
      "INFO:geometry:creating platform, integrators, and contexts; setting growth parameter\n"
     ]
    },
    {
     "name": "stdout",
     "output_type": "stream",
     "text": [
      "conducting subsequent work with the following platform: CUDA\n"
     ]
    },
    {
     "name": "stderr",
     "output_type": "stream",
     "text": [
      "INFO:geometry:setting atoms_with_positions context old positions\n"
     ]
    },
    {
     "name": "stdout",
     "output_type": "stream",
     "text": [
      "conducting subsequent work with the following platform: CUDA\n"
     ]
    },
    {
     "name": "stderr",
     "output_type": "stream",
     "text": [
      "INFO:geometry:There are 4 new atoms\n",
      "INFO:geometry:\treduced angle potential = 0.3517324280898812.\n",
      "INFO:geometry:\treduced angle potential = 1.2915588460963948e-10.\n",
      "INFO:geometry:\treduced angle potential = 3.205832446488702e-13.\n",
      "INFO:geometry:\treduced angle potential = 7.39096069988752e-11.\n",
      "INFO:geometry:\tbeginning construction of no_nonbonded final system...\n",
      "INFO:geometry:\tinitial no-nonbonded final system forces ['HarmonicBondForce', 'HarmonicAngleForce', 'PeriodicTorsionForce', 'NonbondedForce']\n",
      "INFO:geometry:\tfinal no-nonbonded final system forces dict_keys(['HarmonicBondForce', 'HarmonicAngleForce', 'PeriodicTorsionForce', 'NonbondedForce'])\n",
      "INFO:geometry:\tthere are 9 bond forces in the no-nonbonded final system\n",
      "INFO:geometry:\tthere are 36 angle forces in the no-nonbonded final system\n",
      "INFO:geometry:\tthere are 42 torsion forces in the no-nonbonded final system\n",
      "INFO:geometry:reverse final system defined with 0 neglected angles.\n"
     ]
    },
    {
     "name": "stdout",
     "output_type": "stream",
     "text": [
      "conducting subsequent work with the following platform: CUDA\n",
      "conducting subsequent work with the following platform: CUDA\n"
     ]
    },
    {
     "name": "stderr",
     "output_type": "stream",
     "text": [
      "INFO:geometry:total reduced potential before atom placement: 9.11648114171204\n"
     ]
    },
    {
     "name": "stdout",
     "output_type": "stream",
     "text": [
      "conducting subsequent work with the following platform: CUDA\n"
     ]
    },
    {
     "ename": "KeyboardInterrupt",
     "evalue": "",
     "output_type": "error",
     "traceback": [
      "\u001b[0;31m--------------------------\u001b[0m",
      "\u001b[0;31mKeyboardInterrupt\u001b[0mTraceback (most recent call last)",
      "    \u001b[0;31m[... skipping hidden 1 frame]\u001b[0m\n",
      "\u001b[0;32m<ipython-input-34-9d9c5a018dd4>\u001b[0m in \u001b[0;36m<module>\u001b[0;34m\u001b[0m\n\u001b[1;32m      2\u001b[0m \u001b[0matp\u001b[0m\u001b[0;34m,\u001b[0m \u001b[0msystem_generator\u001b[0m \u001b[0;34m=\u001b[0m \u001b[0mgenerate_atp\u001b[0m\u001b[0;34m(\u001b[0m\u001b[0mphase\u001b[0m \u001b[0;34m=\u001b[0m \u001b[0;34m'vacuum'\u001b[0m\u001b[0;34m)\u001b[0m\u001b[0;34m\u001b[0m\u001b[0;34m\u001b[0m\u001b[0m\n\u001b[0;32m----> 3\u001b[0;31m htf = generate_dipeptide_top_pos_sys(atp.topology, \n\u001b[0m\u001b[1;32m      4\u001b[0m                                \u001b[0;34m'THR'\u001b[0m\u001b[0;34m,\u001b[0m\u001b[0;34m\u001b[0m\u001b[0;34m\u001b[0m\u001b[0m\n",
      "\u001b[0;32m~/miniconda3/envs/perses-rxn-field/lib/python3.8/site-packages/perses-0.8.2.dev0-py3.8.egg/perses/tests/test_topology_proposal.py\u001b[0m in \u001b[0;36mgenerate_dipeptide_top_pos_sys\u001b[0;34m(topology, new_res, system, positions, system_generator, conduct_geometry_prop, conduct_htf_prop, validate_energy_bookkeeping, repartitioned, rxn_field, endstate, flatten_torsions, flatten_exceptions, validate_endstate_energy, scale_regions)\u001b[0m\n\u001b[1;32m    282\u001b[0m         \u001b[0mforward_new_positions\u001b[0m\u001b[0;34m,\u001b[0m \u001b[0mlogp_proposal\u001b[0m \u001b[0;34m=\u001b[0m \u001b[0mgeometry_engine\u001b[0m\u001b[0;34m.\u001b[0m\u001b[0mpropose\u001b[0m\u001b[0;34m(\u001b[0m\u001b[0mtopology_proposal\u001b[0m\u001b[0;34m,\u001b[0m \u001b[0mpositions\u001b[0m\u001b[0;34m,\u001b[0m \u001b[0mbeta\u001b[0m\u001b[0;34m,\u001b[0m \u001b[0mvalidate_energy_bookkeeping\u001b[0m\u001b[0;34m=\u001b[0m\u001b[0mvalidate_energy_bookkeeping\u001b[0m\u001b[0;34m)\u001b[0m\u001b[0;34m\u001b[0m\u001b[0;34m\u001b[0m\u001b[0m\n\u001b[0;32m--> 283\u001b[0;31m         \u001b[0mlogp_reverse\u001b[0m \u001b[0;34m=\u001b[0m \u001b[0mgeometry_engine\u001b[0m\u001b[0;34m.\u001b[0m\u001b[0mlogp_reverse\u001b[0m\u001b[0;34m(\u001b[0m\u001b[0mtopology_proposal\u001b[0m\u001b[0;34m,\u001b[0m \u001b[0mforward_new_positions\u001b[0m\u001b[0;34m,\u001b[0m \u001b[0mpositions\u001b[0m\u001b[0;34m,\u001b[0m \u001b[0mbeta\u001b[0m\u001b[0;34m,\u001b[0m \u001b[0mvalidate_energy_bookkeeping\u001b[0m\u001b[0;34m=\u001b[0m\u001b[0mvalidate_energy_bookkeeping\u001b[0m\u001b[0;34m)\u001b[0m\u001b[0;34m\u001b[0m\u001b[0;34m\u001b[0m\u001b[0m\n\u001b[0m\u001b[1;32m    284\u001b[0m \u001b[0;34m\u001b[0m\u001b[0m\n",
      "\u001b[0;32m~/miniconda3/envs/perses-rxn-field/lib/python3.8/site-packages/perses-0.8.2.dev0-py3.8.egg/perses/rjmc/geometry.py\u001b[0m in \u001b[0;36mlogp_reverse\u001b[0;34m(self, top_proposal, new_coordinates, old_coordinates, beta, validate_energy_bookkeeping)\u001b[0m\n\u001b[1;32m    286\u001b[0m         \u001b[0m_logger\u001b[0m\u001b[0;34m.\u001b[0m\u001b[0minfo\u001b[0m\u001b[0;34m(\u001b[0m\u001b[0;34m\"logp_reverse: unique new atoms detected; proceeding to _logp_propose...\"\u001b[0m\u001b[0;34m)\u001b[0m\u001b[0;34m\u001b[0m\u001b[0;34m\u001b[0m\u001b[0m\n\u001b[0;32m--> 287\u001b[0;31m         \u001b[0mlogp_proposal\u001b[0m\u001b[0;34m,\u001b[0m \u001b[0mnew_positions\u001b[0m\u001b[0;34m,\u001b[0m \u001b[0mrjmc_info\u001b[0m\u001b[0;34m,\u001b[0m \u001b[0matoms_with_positions_reduced_potential\u001b[0m\u001b[0;34m,\u001b[0m \u001b[0mfinal_context_reduced_potential\u001b[0m\u001b[0;34m,\u001b[0m \u001b[0mneglected_angle_terms\u001b[0m\u001b[0;34m,\u001b[0m \u001b[0momitted_terms\u001b[0m \u001b[0;34m=\u001b[0m \u001b[0mself\u001b[0m\u001b[0;34m.\u001b[0m\u001b[0m_logp_propose\u001b[0m\u001b[0;34m(\u001b[0m\u001b[0mtop_proposal\u001b[0m\u001b[0;34m,\u001b[0m \u001b[0mold_coordinates\u001b[0m\u001b[0;34m,\u001b[0m \u001b[0mbeta\u001b[0m\u001b[0;34m,\u001b[0m \u001b[0mnew_positions\u001b[0m\u001b[0;34m=\u001b[0m\u001b[0mnew_coordinates\u001b[0m\u001b[0;34m,\u001b[0m \u001b[0mdirection\u001b[0m\u001b[0;34m=\u001b[0m\u001b[0;34m'reverse'\u001b[0m\u001b[0;34m,\u001b[0m \u001b[0mvalidate_energy_bookkeeping\u001b[0m \u001b[0;34m=\u001b[0m \u001b[0mvalidate_energy_bookkeeping\u001b[0m\u001b[0;34m)\u001b[0m\u001b[0;34m\u001b[0m\u001b[0;34m\u001b[0m\u001b[0m\n\u001b[0m\u001b[1;32m    288\u001b[0m         \u001b[0mself\u001b[0m\u001b[0;34m.\u001b[0m\u001b[0mreverse_new_positions\u001b[0m\u001b[0;34m,\u001b[0m \u001b[0mself\u001b[0m\u001b[0;34m.\u001b[0m\u001b[0mreverse_rjmc_info\u001b[0m \u001b[0;34m=\u001b[0m \u001b[0mnew_positions\u001b[0m\u001b[0;34m,\u001b[0m \u001b[0mrjmc_info\u001b[0m\u001b[0;34m\u001b[0m\u001b[0;34m\u001b[0m\u001b[0m\n",
      "\u001b[0;32m~/miniconda3/envs/perses-rxn-field/lib/python3.8/site-packages/perses-0.8.2.dev0-py3.8.egg/perses/rjmc/geometry.py\u001b[0m in \u001b[0;36m_logp_propose\u001b[0;34m(self, top_proposal, old_positions, beta, new_positions, direction, validate_energy_bookkeeping)\u001b[0m\n\u001b[1;32m    651\u001b[0m         \u001b[0m_logger\u001b[0m\u001b[0;34m.\u001b[0m\u001b[0mdebug\u001b[0m\u001b[0;34m(\u001b[0m\u001b[0;34mf\"potential components added from growth system:\"\u001b[0m\u001b[0;34m)\u001b[0m\u001b[0;34m\u001b[0m\u001b[0;34m\u001b[0m\u001b[0m\n\u001b[0;32m--> 652\u001b[0;31m         \u001b[0madded_energy_components\u001b[0m \u001b[0;34m=\u001b[0m \u001b[0;34m[\u001b[0m\u001b[0;34m(\u001b[0m\u001b[0mforce\u001b[0m\u001b[0;34m,\u001b[0m \u001b[0menergy\u001b[0m\u001b[0;34m*\u001b[0m\u001b[0mbeta\u001b[0m\u001b[0;34m)\u001b[0m \u001b[0;32mfor\u001b[0m \u001b[0mforce\u001b[0m\u001b[0;34m,\u001b[0m \u001b[0menergy\u001b[0m \u001b[0;32min\u001b[0m \u001b[0mcompute_potential_components\u001b[0m\u001b[0;34m(\u001b[0m\u001b[0mcontext\u001b[0m\u001b[0;34m)\u001b[0m\u001b[0;34m]\u001b[0m\u001b[0;34m\u001b[0m\u001b[0;34m\u001b[0m\u001b[0m\n\u001b[0m\u001b[1;32m    653\u001b[0m         \u001b[0;32mfor\u001b[0m \u001b[0mitem\u001b[0m \u001b[0;32min\u001b[0m \u001b[0madded_energy_components\u001b[0m\u001b[0;34m:\u001b[0m\u001b[0;34m\u001b[0m\u001b[0;34m\u001b[0m\u001b[0m\n",
      "\u001b[0;32m~/miniconda3/envs/perses-rxn-field/lib/python3.8/site-packages/perses-0.8.2.dev0-py3.8.egg/perses/tests/utils.py\u001b[0m in \u001b[0;36mcompute_potential_components\u001b[0;34m(context, beta, platform)\u001b[0m\n\u001b[1;32m    317\u001b[0m     \u001b[0mintegrator\u001b[0m \u001b[0;34m=\u001b[0m \u001b[0mopenmm\u001b[0m\u001b[0;34m.\u001b[0m\u001b[0mVerletIntegrator\u001b[0m\u001b[0;34m(\u001b[0m\u001b[0;36m1.0\u001b[0m \u001b[0;34m*\u001b[0m \u001b[0munit\u001b[0m\u001b[0;34m.\u001b[0m\u001b[0mfemtoseconds\u001b[0m\u001b[0;34m)\u001b[0m\u001b[0;34m\u001b[0m\u001b[0;34m\u001b[0m\u001b[0m\n\u001b[0;32m--> 318\u001b[0;31m     \u001b[0mcontext\u001b[0m \u001b[0;34m=\u001b[0m \u001b[0mopenmm\u001b[0m\u001b[0;34m.\u001b[0m\u001b[0mContext\u001b[0m\u001b[0;34m(\u001b[0m\u001b[0msystem\u001b[0m\u001b[0;34m,\u001b[0m \u001b[0mintegrator\u001b[0m\u001b[0;34m,\u001b[0m \u001b[0mplatform\u001b[0m\u001b[0;34m)\u001b[0m\u001b[0;34m\u001b[0m\u001b[0;34m\u001b[0m\u001b[0m\n\u001b[0m\u001b[1;32m    319\u001b[0m     \u001b[0mcontext\u001b[0m\u001b[0;34m.\u001b[0m\u001b[0msetPositions\u001b[0m\u001b[0;34m(\u001b[0m\u001b[0mpositions\u001b[0m\u001b[0;34m)\u001b[0m\u001b[0;34m\u001b[0m\u001b[0;34m\u001b[0m\u001b[0m\n",
      "\u001b[0;32m~/miniconda3/envs/perses-rxn-field/lib/python3.8/site-packages/simtk/openmm/openmm.py\u001b[0m in \u001b[0;36m__init__\u001b[0;34m(self, *args)\u001b[0m\n\u001b[1;32m   4947\u001b[0m         \"\"\"\n\u001b[0;32m-> 4948\u001b[0;31m         \u001b[0m_openmm\u001b[0m\u001b[0;34m.\u001b[0m\u001b[0mContext_swiginit\u001b[0m\u001b[0;34m(\u001b[0m\u001b[0mself\u001b[0m\u001b[0;34m,\u001b[0m \u001b[0m_openmm\u001b[0m\u001b[0;34m.\u001b[0m\u001b[0mnew_Context\u001b[0m\u001b[0;34m(\u001b[0m\u001b[0;34m*\u001b[0m\u001b[0margs\u001b[0m\u001b[0;34m)\u001b[0m\u001b[0;34m)\u001b[0m\u001b[0;34m\u001b[0m\u001b[0;34m\u001b[0m\u001b[0m\n\u001b[0m\u001b[1;32m   4949\u001b[0m \u001b[0;34m\u001b[0m\u001b[0m\n",
      "\u001b[0;31mKeyboardInterrupt\u001b[0m: ",
      "\nDuring handling of the above exception, another exception occurred:\n",
      "\u001b[0;31mKeyboardInterrupt\u001b[0mTraceback (most recent call last)",
      "\u001b[0;31mKeyboardInterrupt\u001b[0m: "
     ]
    }
   ],
   "source": [
    "# Create a htf\n",
    "atp, system_generator = generate_atp(phase = 'vacuum')\n",
    "htf = generate_dipeptide_top_pos_sys(atp.topology, \n",
    "                               'THR', \n",
    "                               atp.system, \n",
    "                               atp.positions, \n",
    "                               system_generator,\n",
    "                                rxn_field=True,\n",
    "                               flatten_torsions=True,\n",
    "                               flatten_exceptions=True,\n",
    "                               validate_endstate_energy=False,\n",
    "                                conduct_htf_prop=True, \n",
    "                                scale_regions=[[10, 11, 12, 13, 22, 23, 24, 25, 26, 27, 28, 29]])"
   ]
  },
  {
   "cell_type": "markdown",
   "id": "5e9bd435",
   "metadata": {},
   "source": [
    "#### Old system HarmonicBondForce vs hybrid system CustomBondForce"
   ]
  },
  {
   "cell_type": "code",
   "execution_count": 72,
   "id": "288c11e1",
   "metadata": {},
   "outputs": [],
   "source": [
    "# Load htf\n",
    "with open(\"/home/zhangi/choderalab/perses_benchmark/perses_protein_mutations/code/26_rxn_field/atp_vacuum_scale_region.pickle\", \"rb\") as f:\n",
    "    htf = pickle.load(f)"
   ]
  },
  {
   "cell_type": "code",
   "execution_count": 73,
   "id": "5c37ddb9",
   "metadata": {
    "scrolled": true
   },
   "outputs": [
    {
     "data": {
      "text/plain": [
       "[10, 11, 12, 13, 22, 23, 24, 25, 26, 27, 28, 29]"
      ]
     },
     "execution_count": 73,
     "metadata": {},
     "output_type": "execute_result"
    }
   ],
   "source": [
    "# This is the scale region\n",
    "list(htf._atom_classes['unique_old_atoms'][0]) + list(htf._atom_classes['unique_new_atoms'][0])"
   ]
  },
  {
   "cell_type": "code",
   "execution_count": 74,
   "id": "9c194d51",
   "metadata": {
    "scrolled": true
   },
   "outputs": [
    {
     "name": "stdout",
     "output_type": "stream",
     "text": [
      "Warning: Returning CPU platform instead of requested platform <simtk.openmm.openmm.Platform; proxy of <Swig Object of type 'OpenMM::Platform *' at 0x2b9a06d43f30> >\n",
      "conducting subsequent work with the following platform: CPU\n",
      "conducting subsequent work with the following platform: CUDA\n",
      "[('HarmonicBondForce', 0.03478365356521381), ('HarmonicAngleForce', 0.6112775462128995), ('PeriodicTorsionForce', 16.285398289983064), ('NonbondedForce', -39.4499277456003), ('AndersenThermostat', 0.0)]\n",
      "conducting subsequent work with the following platform: CUDA\n",
      "[('CustomBondForce', 0.03478365356521381), ('AndersenThermostat', 0.0)]\n",
      "Success! Custom bond force and standard bond force energies are equal!\n"
     ]
    }
   ],
   "source": [
    "test_bond_energies(htf)"
   ]
  },
  {
   "cell_type": "markdown",
   "id": "0057ce49",
   "metadata": {},
   "source": [
    "#### New system HarmonicBondForce vs hybrid system CustomBondForce"
   ]
  },
  {
   "cell_type": "code",
   "execution_count": 75,
   "id": "1e6a7202",
   "metadata": {},
   "outputs": [],
   "source": [
    "# Load htf\n",
    "with open(\"/home/zhangi/choderalab/perses_benchmark/perses_protein_mutations/code/26_rxn_field/atp_vacuum_scale_region.pickle\", \"rb\") as f:\n",
    "    htf = pickle.load(f)"
   ]
  },
  {
   "cell_type": "code",
   "execution_count": 76,
   "id": "8ccc8c53",
   "metadata": {},
   "outputs": [
    {
     "name": "stdout",
     "output_type": "stream",
     "text": [
      "Warning: Returning CPU platform instead of requested platform <simtk.openmm.openmm.Platform; proxy of <Swig Object of type 'OpenMM::Platform *' at 0x2b9a06d43f30> >\n",
      "conducting subsequent work with the following platform: CPU\n",
      "conducting subsequent work with the following platform: CUDA\n",
      "[('HarmonicBondForce', 2.271134613450782), ('HarmonicAngleForce', 4.2906690195038655), ('PeriodicTorsionForce', 27.033057843000552), ('NonbondedForce', 166.33535360539238), ('AndersenThermostat', 0.0)]\n",
      "conducting subsequent work with the following platform: CUDA\n",
      "[('CustomBondForce', 2.271134613450782), ('AndersenThermostat', 0.0)]\n",
      "Success! Custom bond force and standard bond force energies are equal!\n"
     ]
    }
   ],
   "source": [
    "test_bond_energies(htf, is_old=False)"
   ]
  },
  {
   "cell_type": "markdown",
   "id": "a30a9095",
   "metadata": {},
   "source": [
    "# Alanine dipeptide in solvent"
   ]
  },
  {
   "cell_type": "code",
   "execution_count": 26,
   "id": "2e120f58",
   "metadata": {
    "scrolled": true
   },
   "outputs": [
    {
     "name": "stderr",
     "output_type": "stream",
     "text": [
      "DEBUG:openmmforcefields.system_generators:Trying GAFFTemplateGenerator to load gaff-2.11\n",
      "INFO:proposal_generator:\tConducting polymer point mutation proposal...\n"
     ]
    },
    {
     "name": "stdout",
     "output_type": "stream",
     "text": [
      "making topology proposal\n"
     ]
    },
    {
     "name": "stderr",
     "output_type": "stream",
     "text": [
      "INFO:proposal_generator:Using matching_criterion to chose best atom map\n",
      "INFO:proposal_generator:Scaffold has symmetry of 0\n",
      "WARNING:proposal_generator:Two molecules are not similar to have a common scaffold\n",
      "WARNING:proposal_generator:Proceeding with direct mapping of molecules, but please check atom mapping and the geometry of the ligands.\n",
      "INFO:proposal_generator:len [{9: 7}, {10: 7}, {11: 7}, {12: 7}, {13: 7}, {9: 8}, {10: 8}, {11: 8}, {12: 8}, {13: 8}, {9: 9}, {10: 9}, {11: 9}, {12: 9}, {13: 9}]\n",
      "INFO:proposal_generator:{9: 7}\n",
      "INFO:proposal_generator:{10: 7}\n",
      "INFO:proposal_generator:{11: 7}\n",
      "INFO:proposal_generator:{12: 7}\n",
      "INFO:proposal_generator:{13: 7}\n",
      "INFO:proposal_generator:{9: 8}\n",
      "INFO:proposal_generator:{10: 8}\n",
      "INFO:proposal_generator:{11: 8}\n",
      "INFO:proposal_generator:{12: 8}\n",
      "INFO:proposal_generator:{13: 8}\n",
      "INFO:proposal_generator:{9: 9}\n",
      "INFO:proposal_generator:{10: 9}\n",
      "INFO:proposal_generator:{11: 9}\n",
      "INFO:proposal_generator:{12: 9}\n",
      "INFO:proposal_generator:{13: 9}\n",
      "INFO:proposal_generator:Returning map that best satisfies matching_criterion\n",
      "INFO:proposal_generator:Finding best map using matching_criterion name\n",
      "INFO:proposal_generator:{9: 7}\n",
      "INFO:geometry:propose: performing forward proposal\n",
      "INFO:geometry:propose: unique new atoms detected; proceeding to _logp_propose...\n",
      "INFO:geometry:Conducting forward proposal...\n",
      "INFO:geometry:Computing proposal order with NetworkX...\n",
      "INFO:geometry:number of atoms to be placed: 8\n",
      "INFO:geometry:Atom index proposal order is [10, 18, 14, 16, 17, 19, 15, 13]\n",
      "INFO:geometry:omitted_bonds: []\n",
      "INFO:geometry:direction of proposal is forward; creating atoms_with_positions and new positions from old system/topology...\n"
     ]
    },
    {
     "name": "stdout",
     "output_type": "stream",
     "text": [
      "generating geometry engine\n",
      "making geometry proposal from ALA to THR\n"
     ]
    },
    {
     "name": "stderr",
     "output_type": "stream",
     "text": [
      "INFO:geometry:creating growth system...\n",
      "INFO:geometry:\tcreating bond force...\n",
      "INFO:geometry:\tthere are 11 bonds in reference force.\n",
      "INFO:geometry:\tcreating angle force...\n",
      "INFO:geometry:\tthere are 43 angles in reference force.\n",
      "INFO:geometry:\tcreating torsion force...\n",
      "INFO:geometry:\tcreating extra torsions force...\n",
      "INFO:geometry:\tthere are 72 torsions in reference force.\n",
      "INFO:geometry:\tcreating nonbonded force...\n",
      "INFO:geometry:\t\tgrabbing reference nonbonded method, cutoff, switching function, switching distance...\n",
      "INFO:geometry:\t\tcreating nonbonded exception force (i.e. custom bond for 1,4s)...\n",
      "INFO:geometry:\t\tlooping through exceptions calculating growth indices, and adding appropriate interactions to custom bond force.\n",
      "INFO:geometry:\t\tthere are 1654 in the reference Nonbonded force\n",
      "WARNING:geometry:\t\t\t\t\tchiral atom <Atom 8 (CA) of chain 0 residue 1 (THR)> with neighbors [<Atom 9 (HA) of chain 0 residue 1 (THR)>, <Atom 10 (CB) of chain 0 residue 1 (THR)>, <Atom 11 (C) of chain 0 residue 1 (THR)>, <Atom 6 (N) of chain 0 residue 1 (THR)>] is surrounded by 3 core neighbors.  omitting chirality bias torsion\n",
      "INFO:geometry:Neglected angle terms : []\n",
      "INFO:geometry:omitted_growth_terms: {'bonds': [], 'angles': [], 'torsions': [], '1,4s': []}\n",
      "INFO:geometry:extra torsions: {0: (7, 6, 8, 10, [1, Quantity(value=0.9900002084555819, unit=radian), Quantity(value=1200.0, unit=kilocalorie/mole), 1]), 1: (19, 18, 10, 8, [1, Quantity(value=-0.07858019216845058, unit=radian), Quantity(value=1200.0, unit=kilocalorie/mole), 6]), 2: (19, 18, 10, 14, [1, Quantity(value=2.118586571250296, unit=radian), Quantity(value=1200.0, unit=kilocalorie/mole), 6]), 3: (19, 18, 10, 13, [1, Quantity(value=-2.149781203448759, unit=radian), Quantity(value=1200.0, unit=kilocalorie/mole), 8]), 4: (8, 10, 14, 17, [1, Quantity(value=-2.1249532223845904, unit=radian), Quantity(value=1200.0, unit=kilocalorie/mole), 5]), 5: (8, 10, 14, 16, [1, Quantity(value=2.0543043017157916, unit=radian), Quantity(value=1200.0, unit=kilocalorie/mole), 4]), 6: (8, 10, 14, 15, [1, Quantity(value=-0.02223392579985184, unit=radian), Quantity(value=1200.0, unit=kilocalorie/mole), 7]), 7: (18, 10, 14, 17, [1, Quantity(value=2.0255587336734213, unit=radian), Quantity(value=1200.0, unit=kilocalorie/mole), 5]), 8: (18, 10, 14, 16, [1, Quantity(value=-0.07836904940578293, unit=radian), Quantity(value=1200.0, unit=kilocalorie/mole), 4]), 9: (18, 10, 14, 15, [1, Quantity(value=-2.154907276921426, unit=radian), Quantity(value=1200.0, unit=kilocalorie/mole), 7]), 10: (13, 10, 14, 17, [1, Quantity(value=0.007583009583349565, unit=radian), Quantity(value=1200.0, unit=kilocalorie/mole), 8]), 11: (13, 10, 14, 16, [1, Quantity(value=-2.096344773495849, unit=radian), Quantity(value=1200.0, unit=kilocalorie/mole), 8]), 12: (13, 10, 14, 15, [1, Quantity(value=2.1103023061680943, unit=radian), Quantity(value=1200.0, unit=kilocalorie/mole), 8]), 13: (18, 10, 8, 14, [1, Quantity(value=-1.0655064807976995, unit=radian), Quantity(value=1200.0, unit=kilocalorie/mole), 3])}\n",
      "INFO:geometry:neglected angle terms include []\n",
      "INFO:geometry:log probability choice of torsions and atom order: -14.506575572319896\n",
      "INFO:geometry:creating platform, integrators, and contexts; setting growth parameter\n"
     ]
    },
    {
     "name": "stdout",
     "output_type": "stream",
     "text": [
      "conducting subsequent work with the following platform: CUDA\n"
     ]
    },
    {
     "name": "stderr",
     "output_type": "stream",
     "text": [
      "INFO:geometry:setting atoms_with_positions context new positions\n"
     ]
    },
    {
     "name": "stdout",
     "output_type": "stream",
     "text": [
      "conducting subsequent work with the following platform: CUDA\n"
     ]
    },
    {
     "name": "stderr",
     "output_type": "stream",
     "text": [
      "INFO:geometry:There are 8 new atoms\n",
      "INFO:geometry:\treduced angle potential = 0.014211679679402303.\n",
      "INFO:geometry:\treduced angle potential = 0.020324587392339374.\n",
      "INFO:geometry:\treduced angle potential = 2.529852762179801.\n",
      "INFO:geometry:\treduced angle potential = 0.7044757366068956.\n",
      "INFO:geometry:\treduced angle potential = 1.7597403255170145.\n",
      "INFO:geometry:\treduced angle potential = 0.33593291254853946.\n",
      "INFO:geometry:\treduced angle potential = 1.1860585616901236.\n",
      "INFO:geometry:\treduced angle potential = 0.3541764974741504.\n",
      "INFO:geometry:\tbeginning construction of no_nonbonded final system...\n",
      "INFO:geometry:\tinitial no-nonbonded final system forces ['HarmonicBondForce', 'HarmonicAngleForce', 'PeriodicTorsionForce', 'NonbondedForce', 'MonteCarloBarostat']\n",
      "INFO:geometry:\tfinal no-nonbonded final system forces dict_keys(['HarmonicBondForce', 'HarmonicAngleForce', 'PeriodicTorsionForce', 'NonbondedForce'])\n",
      "INFO:geometry:\tthere are 11 bond forces in the no-nonbonded final system\n",
      "INFO:geometry:\tthere are 43 angle forces in the no-nonbonded final system\n",
      "INFO:geometry:\tthere are 72 torsion forces in the no-nonbonded final system\n",
      "INFO:geometry:forward final system defined with 0 neglected angles.\n"
     ]
    },
    {
     "name": "stdout",
     "output_type": "stream",
     "text": [
      "conducting subsequent work with the following platform: CUDA\n",
      "conducting subsequent work with the following platform: CUDA\n"
     ]
    },
    {
     "name": "stderr",
     "output_type": "stream",
     "text": [
      "INFO:geometry:total reduced potential before atom placement: 9.11648114171204\n"
     ]
    },
    {
     "name": "stdout",
     "output_type": "stream",
     "text": [
      "conducting subsequent work with the following platform: CUDA\n",
      "conducting subsequent work with the following platform: CUDA\n",
      "conducting subsequent work with the following platform: CUDA\n"
     ]
    },
    {
     "name": "stderr",
     "output_type": "stream",
     "text": [
      "INFO:geometry:total reduced energy added from growth system: -68.19029885887633\n",
      "INFO:geometry:final reduced energy -59.073819033814324\n",
      "INFO:geometry:sum of energies: -59.07381771716429\n",
      "INFO:geometry:magnitude of difference in the energies: 1.3166500281158733e-06\n",
      "INFO:geometry:Final logp_proposal: 58.228926954264836\n",
      "INFO:geometry:logp_reverse: performing reverse proposal\n",
      "INFO:geometry:logp_reverse: unique new atoms detected; proceeding to _logp_propose...\n"
     ]
    },
    {
     "name": "stdout",
     "output_type": "stream",
     "text": [
      "added energy components: [('CustomBondForce', 1.2234968344842772), ('CustomAngleForce', 9.656357509317925), ('CustomTorsionForce', 15.860496827747589), ('CustomBondForce', -94.93065003042615)]\n"
     ]
    },
    {
     "name": "stderr",
     "output_type": "stream",
     "text": [
      "INFO:geometry:Conducting forward proposal...\n",
      "INFO:geometry:Computing proposal order with NetworkX...\n",
      "INFO:geometry:number of atoms to be placed: 4\n",
      "INFO:geometry:Atom index proposal order is [10, 11, 13, 12]\n",
      "INFO:geometry:omitted_bonds: []\n",
      "INFO:geometry:direction of proposal is reverse; creating atoms_with_positions from old system/topology\n",
      "INFO:geometry:creating growth system...\n",
      "INFO:geometry:\tcreating bond force...\n",
      "INFO:geometry:\tthere are 9 bonds in reference force.\n",
      "INFO:geometry:\tcreating angle force...\n",
      "INFO:geometry:\tthere are 36 angles in reference force.\n",
      "INFO:geometry:\tcreating torsion force...\n",
      "INFO:geometry:\tcreating extra torsions force...\n",
      "INFO:geometry:\tthere are 42 torsions in reference force.\n",
      "INFO:geometry:\tcreating nonbonded force...\n",
      "INFO:geometry:\t\tgrabbing reference nonbonded method, cutoff, switching function, switching distance...\n",
      "INFO:geometry:\t\tcreating nonbonded exception force (i.e. custom bond for 1,4s)...\n",
      "INFO:geometry:\t\tlooping through exceptions calculating growth indices, and adding appropriate interactions to custom bond force.\n",
      "INFO:geometry:\t\tthere are 1631 in the reference Nonbonded force\n",
      "WARNING:geometry:\t\t\t\t\tchiral atom <Atom 8 (CA) of chain 0 residue 1 (ALA)> with neighbors [<Atom 9 (HA) of chain 0 residue 1 (ALA)>, <Atom 10 (CB) of chain 0 residue 1 (ALA)>, <Atom 14 (C) of chain 0 residue 1 (ALA)>, <Atom 6 (N) of chain 0 residue 1 (ALA)>] is surrounded by 3 core neighbors.  omitting chirality bias torsion\n",
      "INFO:geometry:Neglected angle terms : []\n",
      "INFO:geometry:omitted_growth_terms: {'bonds': [], 'angles': [], 'torsions': [], '1,4s': []}\n",
      "INFO:geometry:extra torsions: {0: (7, 6, 8, 10, [1, Quantity(value=0.9799661941737812, unit=radian), Quantity(value=1200.0, unit=kilocalorie/mole), 1]), 1: (6, 8, 10, 11, [1, Quantity(value=2.105358864604291, unit=radian), Quantity(value=1200.0, unit=kilocalorie/mole), 2]), 2: (6, 8, 10, 12, [1, Quantity(value=-2.0823006129211796, unit=radian), Quantity(value=1200.0, unit=kilocalorie/mole), 4]), 3: (6, 8, 10, 13, [1, Quantity(value=0.018582237407944735, unit=radian), Quantity(value=1200.0, unit=kilocalorie/mole), 3]), 4: (14, 8, 10, 11, [1, Quantity(value=-0.036945135932107576, unit=radian), Quantity(value=1200.0, unit=kilocalorie/mole), 2]), 5: (14, 8, 10, 12, [1, Quantity(value=2.0585806937220097, unit=radian), Quantity(value=1200.0, unit=kilocalorie/mole), 4]), 6: (14, 8, 10, 13, [1, Quantity(value=-2.1237217631284597, unit=radian), Quantity(value=1200.0, unit=kilocalorie/mole), 3]), 7: (9, 8, 10, 11, [1, Quantity(value=-2.119603470065817, unit=radian), Quantity(value=1200.0, unit=kilocalorie/mole), 2]), 8: (9, 8, 10, 12, [1, Quantity(value=-0.024077640411697132, unit=radian), Quantity(value=1200.0, unit=kilocalorie/mole), 4]), 9: (9, 8, 10, 13, [1, Quantity(value=2.0768052099174152, unit=radian), Quantity(value=1200.0, unit=kilocalorie/mole), 3])}\n",
      "INFO:geometry:neglected angle terms include []\n",
      "INFO:geometry:log probability choice of torsions and atom order: -5.78074351579233\n",
      "INFO:geometry:creating platform, integrators, and contexts; setting growth parameter\n"
     ]
    },
    {
     "name": "stdout",
     "output_type": "stream",
     "text": [
      "conducting subsequent work with the following platform: CUDA\n"
     ]
    },
    {
     "name": "stderr",
     "output_type": "stream",
     "text": [
      "INFO:geometry:setting atoms_with_positions context old positions\n"
     ]
    },
    {
     "name": "stdout",
     "output_type": "stream",
     "text": [
      "conducting subsequent work with the following platform: CUDA\n"
     ]
    },
    {
     "name": "stderr",
     "output_type": "stream",
     "text": [
      "INFO:geometry:There are 4 new atoms\n",
      "INFO:geometry:\treduced angle potential = 0.3517324280898812.\n",
      "INFO:geometry:\treduced angle potential = 1.2915588460963948e-10.\n",
      "INFO:geometry:\treduced angle potential = 7.39096069988752e-11.\n",
      "INFO:geometry:\treduced angle potential = 3.2058324695160406e-13.\n",
      "INFO:geometry:\tbeginning construction of no_nonbonded final system...\n",
      "INFO:geometry:\tinitial no-nonbonded final system forces ['HarmonicBondForce', 'HarmonicAngleForce', 'PeriodicTorsionForce', 'NonbondedForce', 'MonteCarloBarostat']\n",
      "INFO:geometry:\tfinal no-nonbonded final system forces dict_keys(['HarmonicBondForce', 'HarmonicAngleForce', 'PeriodicTorsionForce', 'NonbondedForce'])\n",
      "INFO:geometry:\tthere are 9 bond forces in the no-nonbonded final system\n",
      "INFO:geometry:\tthere are 36 angle forces in the no-nonbonded final system\n",
      "INFO:geometry:\tthere are 42 torsion forces in the no-nonbonded final system\n",
      "INFO:geometry:reverse final system defined with 0 neglected angles.\n"
     ]
    },
    {
     "name": "stdout",
     "output_type": "stream",
     "text": [
      "conducting subsequent work with the following platform: CUDA\n",
      "conducting subsequent work with the following platform: CUDA\n"
     ]
    },
    {
     "name": "stderr",
     "output_type": "stream",
     "text": [
      "INFO:geometry:total reduced potential before atom placement: 9.11648114171204\n"
     ]
    },
    {
     "name": "stdout",
     "output_type": "stream",
     "text": [
      "conducting subsequent work with the following platform: CUDA\n",
      "conducting subsequent work with the following platform: CUDA\n",
      "conducting subsequent work with the following platform: CUDA\n"
     ]
    },
    {
     "name": "stderr",
     "output_type": "stream",
     "text": [
      "INFO:geometry:total reduced energy added from growth system: 20.672986687678176\n",
      "INFO:geometry:final reduced energy 29.78946596595156\n",
      "INFO:geometry:sum of energies: 29.789467829390215\n",
      "INFO:geometry:magnitude of difference in the energies: 1.8634386549365445e-06\n",
      "INFO:geometry:Final logp_proposal: -27149.66583273809\n"
     ]
    },
    {
     "name": "stdout",
     "output_type": "stream",
     "text": [
      "added energy components: [('CustomBondForce', 0.000520203927326505), ('CustomAngleForce', 0.4511197756248138), ('CustomTorsionForce', 7.250463344085812), ('CustomBondForce', 12.970883364040223)]\n"
     ]
    },
    {
     "name": "stderr",
     "output_type": "stream",
     "text": [
      "INFO:relative:Beginning nonbonded method, total particle, barostat, and exceptions retrieval...\n",
      "INFO:relative:Old system forces: dict_keys(['HarmonicBondForce', 'HarmonicAngleForce', 'PeriodicTorsionForce', 'NonbondedForce', 'MonteCarloBarostat'])\n",
      "INFO:relative:New system forces: dict_keys(['HarmonicBondForce', 'HarmonicAngleForce', 'PeriodicTorsionForce', 'NonbondedForce', 'MonteCarloBarostat'])\n",
      "INFO:relative:No unknown forces.\n",
      "INFO:relative:Nonbonded method to be used (i.e. from old system): 4\n",
      "INFO:relative:Adding and mapping old atoms to hybrid system...\n",
      "INFO:relative:Adding and mapping new atoms to hybrid system...\n",
      "INFO:relative:scale_templates: [['nonscale_lambda'], ['nonscale_region']]\n",
      "INFO:relative:Added MonteCarloBarostat.\n",
      "INFO:relative:getDefaultPeriodicBoxVectors added to hybrid: [Quantity(value=Vec3(x=2.56477354, y=0.0, z=0.0), unit=nanometer), Quantity(value=Vec3(x=0.0, y=2.56477354, z=0.0), unit=nanometer), Quantity(value=Vec3(x=0.0, y=0.0, z=2.56477354), unit=nanometer)]\n",
      "INFO:relative:Determined atom classes.\n",
      "INFO:relative:Generating old system exceptions dict...\n",
      "INFO:relative:Generating new system exceptions dict...\n",
      "INFO:relative:Handling constraints...\n",
      "INFO:relative:Handling virtual sites...\n",
      "INFO:relative:\t_handle_virtual_sites: numVirtualSites: 0\n",
      "INFO:relative:( nonscale_lambda * nonscale_region ) * (K/2)*(r-length)^2;K = (1 - ( 1 * environment_region+lambda_0_bonds * alchemical_region_0 )) * K1 + ( 1 * environment_region+lambda_0_bonds * alchemical_region_0 ) * K2;length = (1 - ( 1 * environment_region+lambda_0_bonds * alchemical_region_0 ))*length1 + ( 1 * environment_region+lambda_0_bonds * alchemical_region_0 )*length2;\n"
     ]
    }
   ],
   "source": [
    "# Create a htf\n",
    "atp, system_generator = generate_atp(phase = 'solvent')\n",
    "htf = generate_dipeptide_top_pos_sys(atp.topology, \n",
    "                               'THR', \n",
    "                               atp.system, \n",
    "                               atp.positions, \n",
    "                               system_generator,\n",
    "                                rxn_field=True,\n",
    "                               flatten_torsions=True,\n",
    "                               flatten_exceptions=True,\n",
    "                               validate_endstate_energy=False,\n",
    "                                conduct_htf_prop=True)"
   ]
  },
  {
   "cell_type": "markdown",
   "id": "d6ef38ac",
   "metadata": {},
   "source": [
    "### Test one alchemical region, no scale regions"
   ]
  },
  {
   "cell_type": "markdown",
   "id": "5c908dfd",
   "metadata": {},
   "source": [
    "#### Old system HarmonicBondForce vs hybrid system CustomBondForce"
   ]
  },
  {
   "cell_type": "code",
   "execution_count": 77,
   "id": "0033103c",
   "metadata": {},
   "outputs": [],
   "source": [
    "# Load htf\n",
    "with open(\"/home/zhangi/choderalab/perses_benchmark/perses_protein_mutations/code/26_rxn_field/atp_solvent.pickle\", \"rb\") as f:\n",
    "    htf = pickle.load(f)"
   ]
  },
  {
   "cell_type": "code",
   "execution_count": 78,
   "id": "fea5843b",
   "metadata": {},
   "outputs": [
    {
     "name": "stdout",
     "output_type": "stream",
     "text": [
      "Warning: Returning CPU platform instead of requested platform <simtk.openmm.openmm.Platform; proxy of <Swig Object of type 'OpenMM::Platform *' at 0x2b9a06d43f30> >\n",
      "conducting subsequent work with the following platform: CPU\n",
      "conducting subsequent work with the following platform: CUDA\n",
      "[('HarmonicBondForce', 0.034783653565214685), ('HarmonicAngleForce', 0.6112775462129015), ('PeriodicTorsionForce', 16.285398289983082), ('NonbondedForce', -927.788883809082), ('AndersenThermostat', 0.0), ('MonteCarloBarostat', 0.0)]\n",
      "conducting subsequent work with the following platform: CUDA\n",
      "[('CustomBondForce', 0.03478365356521381), ('AndersenThermostat', 0.0), ('MonteCarloBarostat', 0.0)]\n",
      "Success! Custom bond force and standard bond force energies are equal!\n"
     ]
    }
   ],
   "source": [
    "test_bond_energies(htf, is_solvated=True)"
   ]
  },
  {
   "cell_type": "markdown",
   "id": "dc4b7b1d",
   "metadata": {},
   "source": [
    "#### New system HarmonicBondForce vs hybrid system CustomBondForce"
   ]
  },
  {
   "cell_type": "code",
   "execution_count": 79,
   "id": "9f9cbe99",
   "metadata": {},
   "outputs": [],
   "source": [
    "# Load htf\n",
    "with open(\"/home/zhangi/choderalab/perses_benchmark/perses_protein_mutations/code/26_rxn_field/atp_solvent.pickle\", \"rb\") as f:\n",
    "    htf = pickle.load(f)"
   ]
  },
  {
   "cell_type": "code",
   "execution_count": 80,
   "id": "5c16c96c",
   "metadata": {},
   "outputs": [
    {
     "name": "stdout",
     "output_type": "stream",
     "text": [
      "Warning: Returning CPU platform instead of requested platform <simtk.openmm.openmm.Platform; proxy of <Swig Object of type 'OpenMM::Platform *' at 0x2b9a06d43f30> >\n",
      "conducting subsequent work with the following platform: CPU\n",
      "conducting subsequent work with the following platform: CUDA\n",
      "[('HarmonicBondForce', 3.268805346044796), ('HarmonicAngleForce', 6.544633801269215), ('PeriodicTorsionForce', 27.180005749631242), ('NonbondedForce', -891.8705506222258), ('AndersenThermostat', 0.0), ('MonteCarloBarostat', 0.0)]\n",
      "conducting subsequent work with the following platform: CUDA\n",
      "[('CustomBondForce', 3.268805346044804), ('AndersenThermostat', 0.0), ('MonteCarloBarostat', 0.0)]\n",
      "Success! Custom bond force and standard bond force energies are equal!\n"
     ]
    }
   ],
   "source": [
    "test_bond_energies(htf, is_old=False, is_solvated=True)"
   ]
  },
  {
   "cell_type": "markdown",
   "id": "d907a68d",
   "metadata": {},
   "source": [
    "### Test one alchemical region, one scale region"
   ]
  },
  {
   "cell_type": "code",
   "execution_count": 29,
   "id": "52f50c72",
   "metadata": {
    "scrolled": true
   },
   "outputs": [
    {
     "name": "stderr",
     "output_type": "stream",
     "text": [
      "DEBUG:openmmforcefields.system_generators:Trying GAFFTemplateGenerator to load gaff-2.11\n",
      "INFO:proposal_generator:\tConducting polymer point mutation proposal...\n",
      "INFO:proposal_generator:Using matching_criterion to chose best atom map\n",
      "INFO:proposal_generator:Scaffold has symmetry of 0\n",
      "WARNING:proposal_generator:Two molecules are not similar to have a common scaffold\n",
      "WARNING:proposal_generator:Proceeding with direct mapping of molecules, but please check atom mapping and the geometry of the ligands.\n",
      "INFO:proposal_generator:len [{9: 7}, {10: 7}, {11: 7}, {12: 7}, {13: 7}, {9: 8}, {10: 8}, {11: 8}, {12: 8}, {13: 8}, {9: 9}, {10: 9}, {11: 9}, {12: 9}, {13: 9}]\n",
      "INFO:proposal_generator:{9: 7}\n",
      "INFO:proposal_generator:{10: 7}\n"
     ]
    },
    {
     "name": "stdout",
     "output_type": "stream",
     "text": [
      "making topology proposal\n"
     ]
    },
    {
     "name": "stderr",
     "output_type": "stream",
     "text": [
      "INFO:proposal_generator:{11: 7}\n",
      "INFO:proposal_generator:{12: 7}\n",
      "INFO:proposal_generator:{13: 7}\n",
      "INFO:proposal_generator:{9: 8}\n",
      "INFO:proposal_generator:{10: 8}\n",
      "INFO:proposal_generator:{11: 8}\n",
      "INFO:proposal_generator:{12: 8}\n",
      "INFO:proposal_generator:{13: 8}\n",
      "INFO:proposal_generator:{9: 9}\n",
      "INFO:proposal_generator:{10: 9}\n",
      "INFO:proposal_generator:{11: 9}\n",
      "INFO:proposal_generator:{12: 9}\n",
      "INFO:proposal_generator:{13: 9}\n",
      "INFO:proposal_generator:Returning map that best satisfies matching_criterion\n",
      "INFO:proposal_generator:Finding best map using matching_criterion name\n",
      "INFO:proposal_generator:{9: 7}\n",
      "INFO:geometry:propose: performing forward proposal\n",
      "INFO:geometry:propose: unique new atoms detected; proceeding to _logp_propose...\n",
      "INFO:geometry:Conducting forward proposal...\n",
      "INFO:geometry:Computing proposal order with NetworkX...\n",
      "INFO:geometry:number of atoms to be placed: 8\n",
      "INFO:geometry:Atom index proposal order is [10, 14, 18, 13, 15, 19, 16, 17]\n",
      "INFO:geometry:omitted_bonds: []\n",
      "INFO:geometry:direction of proposal is forward; creating atoms_with_positions and new positions from old system/topology...\n",
      "INFO:geometry:creating growth system...\n",
      "INFO:geometry:\tcreating bond force...\n",
      "INFO:geometry:\tthere are 11 bonds in reference force.\n",
      "INFO:geometry:\tcreating angle force...\n",
      "INFO:geometry:\tthere are 43 angles in reference force.\n",
      "INFO:geometry:\tcreating torsion force...\n",
      "INFO:geometry:\tcreating extra torsions force...\n",
      "INFO:geometry:\tthere are 72 torsions in reference force.\n",
      "INFO:geometry:\tcreating nonbonded force...\n",
      "INFO:geometry:\t\tgrabbing reference nonbonded method, cutoff, switching function, switching distance...\n",
      "INFO:geometry:\t\tcreating nonbonded exception force (i.e. custom bond for 1,4s)...\n",
      "INFO:geometry:\t\tlooping through exceptions calculating growth indices, and adding appropriate interactions to custom bond force.\n",
      "INFO:geometry:\t\tthere are 1654 in the reference Nonbonded force\n"
     ]
    },
    {
     "name": "stdout",
     "output_type": "stream",
     "text": [
      "generating geometry engine\n",
      "making geometry proposal from ALA to THR\n"
     ]
    },
    {
     "name": "stderr",
     "output_type": "stream",
     "text": [
      "WARNING:geometry:\t\t\t\t\tchiral atom <Atom 8 (CA) of chain 0 residue 1 (THR)> with neighbors [<Atom 9 (HA) of chain 0 residue 1 (THR)>, <Atom 10 (CB) of chain 0 residue 1 (THR)>, <Atom 11 (C) of chain 0 residue 1 (THR)>, <Atom 6 (N) of chain 0 residue 1 (THR)>] is surrounded by 3 core neighbors.  omitting chirality bias torsion\n",
      "INFO:geometry:Neglected angle terms : []\n",
      "INFO:geometry:omitted_growth_terms: {'bonds': [], 'angles': [], 'torsions': [], '1,4s': []}\n",
      "INFO:geometry:extra torsions: {0: (7, 6, 8, 10, [1, Quantity(value=0.9900002084555819, unit=radian), Quantity(value=1200.0, unit=kilocalorie/mole), 1]), 1: (19, 18, 10, 8, [1, Quantity(value=-0.07858019216845058, unit=radian), Quantity(value=1200.0, unit=kilocalorie/mole), 6]), 2: (19, 18, 10, 14, [1, Quantity(value=2.118586571250296, unit=radian), Quantity(value=1200.0, unit=kilocalorie/mole), 6]), 3: (19, 18, 10, 13, [1, Quantity(value=-2.149781203448759, unit=radian), Quantity(value=1200.0, unit=kilocalorie/mole), 6]), 4: (8, 10, 14, 17, [1, Quantity(value=-2.1249532223845904, unit=radian), Quantity(value=1200.0, unit=kilocalorie/mole), 8]), 5: (8, 10, 14, 16, [1, Quantity(value=2.0543043017157916, unit=radian), Quantity(value=1200.0, unit=kilocalorie/mole), 7]), 6: (8, 10, 14, 15, [1, Quantity(value=-0.02223392579985184, unit=radian), Quantity(value=1200.0, unit=kilocalorie/mole), 5]), 7: (18, 10, 14, 17, [1, Quantity(value=2.0255587336734213, unit=radian), Quantity(value=1200.0, unit=kilocalorie/mole), 8]), 8: (18, 10, 14, 16, [1, Quantity(value=-0.07836904940578293, unit=radian), Quantity(value=1200.0, unit=kilocalorie/mole), 7]), 9: (18, 10, 14, 15, [1, Quantity(value=-2.154907276921426, unit=radian), Quantity(value=1200.0, unit=kilocalorie/mole), 5]), 10: (13, 10, 14, 17, [1, Quantity(value=0.007583009583349565, unit=radian), Quantity(value=1200.0, unit=kilocalorie/mole), 8]), 11: (13, 10, 14, 16, [1, Quantity(value=-2.096344773495849, unit=radian), Quantity(value=1200.0, unit=kilocalorie/mole), 7]), 12: (13, 10, 14, 15, [1, Quantity(value=2.1103023061680943, unit=radian), Quantity(value=1200.0, unit=kilocalorie/mole), 5]), 13: (14, 10, 8, 18, [1, Quantity(value=1.0655064807976995, unit=radian), Quantity(value=1200.0, unit=kilocalorie/mole), 3])}\n",
      "INFO:geometry:neglected angle terms include []\n",
      "INFO:geometry:log probability choice of torsions and atom order: -13.553917196274867\n",
      "INFO:geometry:creating platform, integrators, and contexts; setting growth parameter\n"
     ]
    },
    {
     "name": "stdout",
     "output_type": "stream",
     "text": [
      "conducting subsequent work with the following platform: CUDA\n"
     ]
    },
    {
     "name": "stderr",
     "output_type": "stream",
     "text": [
      "INFO:geometry:setting atoms_with_positions context new positions\n"
     ]
    },
    {
     "name": "stdout",
     "output_type": "stream",
     "text": [
      "conducting subsequent work with the following platform: CUDA\n"
     ]
    },
    {
     "name": "stderr",
     "output_type": "stream",
     "text": [
      "INFO:geometry:There are 8 new atoms\n",
      "INFO:geometry:\treduced angle potential = 4.853138519685521.\n",
      "INFO:geometry:\treduced angle potential = 0.14032588153044023.\n",
      "INFO:geometry:\treduced angle potential = 0.02140599302548421.\n",
      "INFO:geometry:\treduced angle potential = 0.07360780946501154.\n",
      "INFO:geometry:\treduced angle potential = 0.08809026492615961.\n",
      "INFO:geometry:\treduced angle potential = 0.0012936168480155521.\n",
      "INFO:geometry:\treduced angle potential = 0.3121537343018332.\n",
      "INFO:geometry:\treduced angle potential = 0.8758284603067713.\n",
      "INFO:geometry:\tbeginning construction of no_nonbonded final system...\n",
      "INFO:geometry:\tinitial no-nonbonded final system forces ['HarmonicBondForce', 'HarmonicAngleForce', 'PeriodicTorsionForce', 'NonbondedForce', 'MonteCarloBarostat']\n",
      "INFO:geometry:\tfinal no-nonbonded final system forces dict_keys(['HarmonicBondForce', 'HarmonicAngleForce', 'PeriodicTorsionForce', 'NonbondedForce'])\n",
      "INFO:geometry:\tthere are 11 bond forces in the no-nonbonded final system\n",
      "INFO:geometry:\tthere are 43 angle forces in the no-nonbonded final system\n",
      "INFO:geometry:\tthere are 72 torsion forces in the no-nonbonded final system\n",
      "INFO:geometry:forward final system defined with 0 neglected angles.\n"
     ]
    },
    {
     "name": "stdout",
     "output_type": "stream",
     "text": [
      "conducting subsequent work with the following platform: CUDA\n",
      "conducting subsequent work with the following platform: CUDA\n"
     ]
    },
    {
     "name": "stderr",
     "output_type": "stream",
     "text": [
      "INFO:geometry:total reduced potential before atom placement: 9.11648114171204\n"
     ]
    },
    {
     "name": "stdout",
     "output_type": "stream",
     "text": [
      "conducting subsequent work with the following platform: CUDA\n",
      "conducting subsequent work with the following platform: CUDA\n",
      "conducting subsequent work with the following platform: CUDA\n"
     ]
    },
    {
     "name": "stderr",
     "output_type": "stream",
     "text": [
      "INFO:geometry:total reduced energy added from growth system: -33.22597565826066\n",
      "INFO:geometry:final reduced energy -24.109496960146473\n",
      "INFO:geometry:sum of energies: -24.10949451654862\n",
      "INFO:geometry:magnitude of difference in the energies: 2.4435978573933426e-06\n",
      "INFO:geometry:Final logp_proposal: 54.696680103746985\n"
     ]
    },
    {
     "name": "stdout",
     "output_type": "stream",
     "text": [
      "added energy components: [('CustomBondForce', 1.7119248785130183), ('CustomAngleForce', 8.39464700760341), ('CustomTorsionForce', 18.470091020825368), ('CustomBondForce', -61.80263856520244)]\n"
     ]
    },
    {
     "name": "stderr",
     "output_type": "stream",
     "text": [
      "INFO:geometry:logp_reverse: performing reverse proposal\n",
      "INFO:geometry:logp_reverse: unique new atoms detected; proceeding to _logp_propose...\n",
      "INFO:geometry:Conducting forward proposal...\n",
      "INFO:geometry:Computing proposal order with NetworkX...\n",
      "INFO:geometry:number of atoms to be placed: 4\n",
      "INFO:geometry:Atom index proposal order is [10, 11, 13, 12]\n",
      "INFO:geometry:omitted_bonds: []\n",
      "INFO:geometry:direction of proposal is reverse; creating atoms_with_positions from old system/topology\n",
      "INFO:geometry:creating growth system...\n",
      "INFO:geometry:\tcreating bond force...\n",
      "INFO:geometry:\tthere are 9 bonds in reference force.\n",
      "INFO:geometry:\tcreating angle force...\n",
      "INFO:geometry:\tthere are 36 angles in reference force.\n",
      "INFO:geometry:\tcreating torsion force...\n",
      "INFO:geometry:\tcreating extra torsions force...\n",
      "INFO:geometry:\tthere are 42 torsions in reference force.\n",
      "INFO:geometry:\tcreating nonbonded force...\n",
      "INFO:geometry:\t\tgrabbing reference nonbonded method, cutoff, switching function, switching distance...\n",
      "INFO:geometry:\t\tcreating nonbonded exception force (i.e. custom bond for 1,4s)...\n",
      "INFO:geometry:\t\tlooping through exceptions calculating growth indices, and adding appropriate interactions to custom bond force.\n",
      "INFO:geometry:\t\tthere are 1631 in the reference Nonbonded force\n",
      "WARNING:geometry:\t\t\t\t\tchiral atom <Atom 8 (CA) of chain 0 residue 1 (ALA)> with neighbors [<Atom 9 (HA) of chain 0 residue 1 (ALA)>, <Atom 10 (CB) of chain 0 residue 1 (ALA)>, <Atom 14 (C) of chain 0 residue 1 (ALA)>, <Atom 6 (N) of chain 0 residue 1 (ALA)>] is surrounded by 3 core neighbors.  omitting chirality bias torsion\n",
      "INFO:geometry:Neglected angle terms : []\n",
      "INFO:geometry:omitted_growth_terms: {'bonds': [], 'angles': [], 'torsions': [], '1,4s': []}\n",
      "INFO:geometry:extra torsions: {0: (7, 6, 8, 10, [1, Quantity(value=0.9799661941737812, unit=radian), Quantity(value=1200.0, unit=kilocalorie/mole), 1]), 1: (6, 8, 10, 11, [1, Quantity(value=2.105358864604291, unit=radian), Quantity(value=1200.0, unit=kilocalorie/mole), 2]), 2: (6, 8, 10, 12, [1, Quantity(value=-2.0823006129211796, unit=radian), Quantity(value=1200.0, unit=kilocalorie/mole), 4]), 3: (6, 8, 10, 13, [1, Quantity(value=0.018582237407944735, unit=radian), Quantity(value=1200.0, unit=kilocalorie/mole), 3]), 4: (14, 8, 10, 11, [1, Quantity(value=-0.036945135932107576, unit=radian), Quantity(value=1200.0, unit=kilocalorie/mole), 2]), 5: (14, 8, 10, 12, [1, Quantity(value=2.0585806937220097, unit=radian), Quantity(value=1200.0, unit=kilocalorie/mole), 4]), 6: (14, 8, 10, 13, [1, Quantity(value=-2.1237217631284597, unit=radian), Quantity(value=1200.0, unit=kilocalorie/mole), 3]), 7: (9, 8, 10, 11, [1, Quantity(value=-2.119603470065817, unit=radian), Quantity(value=1200.0, unit=kilocalorie/mole), 2]), 8: (9, 8, 10, 12, [1, Quantity(value=-0.024077640411697132, unit=radian), Quantity(value=1200.0, unit=kilocalorie/mole), 4]), 9: (9, 8, 10, 13, [1, Quantity(value=2.0768052099174152, unit=radian), Quantity(value=1200.0, unit=kilocalorie/mole), 3])}\n",
      "INFO:geometry:neglected angle terms include []\n",
      "INFO:geometry:log probability choice of torsions and atom order: -5.78074351579233\n",
      "INFO:geometry:creating platform, integrators, and contexts; setting growth parameter\n"
     ]
    },
    {
     "name": "stdout",
     "output_type": "stream",
     "text": [
      "conducting subsequent work with the following platform: CUDA\n"
     ]
    },
    {
     "name": "stderr",
     "output_type": "stream",
     "text": [
      "INFO:geometry:setting atoms_with_positions context old positions\n",
      "ERROR:root:Internal Python error in the inspect module.\n",
      "Below is the traceback from this internal error.\n",
      "\n"
     ]
    },
    {
     "name": "stdout",
     "output_type": "stream",
     "text": [
      "conducting subsequent work with the following platform: CUDA\n"
     ]
    },
    {
     "name": "stderr",
     "output_type": "stream",
     "text": [
      "INFO:root:\n",
      "Unfortunately, your original traceback can not be constructed.\n",
      "\n"
     ]
    },
    {
     "name": "stdout",
     "output_type": "stream",
     "text": [
      "Traceback (most recent call last):\n",
      "  File \"/home/zhangi/miniconda3/envs/perses-rxn-field/lib/python3.8/site-packages/IPython/core/interactiveshell.py\", line 3437, in run_code\n",
      "    exec(code_obj, self.user_global_ns, self.user_ns)\n",
      "  File \"<ipython-input-29-b0a546aa2d91>\", line 3, in <module>\n",
      "    htf = generate_dipeptide_top_pos_sys(atp.topology,\n",
      "  File \"/home/zhangi/miniconda3/envs/perses-rxn-field/lib/python3.8/site-packages/perses-0.8.2.dev0-py3.8.egg/perses/tests/test_topology_proposal.py\", line 283, in generate_dipeptide_top_pos_sys\n",
      "    logp_reverse = geometry_engine.logp_reverse(topology_proposal, forward_new_positions, positions, beta, validate_energy_bookkeeping=validate_energy_bookkeeping)\n",
      "  File \"/home/zhangi/miniconda3/envs/perses-rxn-field/lib/python3.8/site-packages/perses-0.8.2.dev0-py3.8.egg/perses/rjmc/geometry.py\", line 287, in logp_reverse\n",
      "    logp_proposal, new_positions, rjmc_info, atoms_with_positions_reduced_potential, final_context_reduced_potential, neglected_angle_terms, omitted_terms = self._logp_propose(top_proposal, old_coordinates, beta, new_positions=new_coordinates, direction='reverse', validate_energy_bookkeeping = validate_energy_bookkeeping)\n",
      "  File \"/home/zhangi/miniconda3/envs/perses-rxn-field/lib/python3.8/site-packages/perses-0.8.2.dev0-py3.8.egg/perses/rjmc/geometry.py\", line 485, in _logp_propose\n",
      "    atoms_with_positions_reduced_potential_components = [(force, energy) for force, energy in compute_potential_components(atoms_with_positions_context)]\n",
      "  File \"/home/zhangi/miniconda3/envs/perses-rxn-field/lib/python3.8/site-packages/perses-0.8.2.dev0-py3.8.egg/perses/tests/utils.py\", line 307, in compute_potential_components\n",
      "    system = copy.deepcopy(system)\n",
      "  File \"/home/zhangi/miniconda3/envs/perses-rxn-field/lib/python3.8/copy.py\", line 153, in deepcopy\n",
      "    y = copier(memo)\n",
      "  File \"/home/zhangi/miniconda3/envs/perses-rxn-field/lib/python3.8/site-packages/simtk/openmm/openmm.py\", line 9546, in __deepcopy__\n",
      "    return self.__copy__()\n",
      "  File \"/home/zhangi/miniconda3/envs/perses-rxn-field/lib/python3.8/site-packages/simtk/openmm/openmm.py\", line 9554, in __copy__\n",
      "    return _openmm.System___copy__(self)\n",
      "KeyboardInterrupt\n",
      "\n",
      "During handling of the above exception, another exception occurred:\n",
      "\n",
      "Traceback (most recent call last):\n",
      "  File \"/home/zhangi/miniconda3/envs/perses-rxn-field/lib/python3.8/site-packages/IPython/core/interactiveshell.py\", line 2061, in showtraceback\n",
      "    stb = value._render_traceback_()\n",
      "AttributeError: 'KeyboardInterrupt' object has no attribute '_render_traceback_'\n",
      "\n",
      "During handling of the above exception, another exception occurred:\n",
      "\n",
      "Traceback (most recent call last):\n",
      "  File \"/home/zhangi/miniconda3/envs/perses-rxn-field/lib/python3.8/site-packages/IPython/core/ultratb.py\", line 1101, in get_records\n",
      "    return _fixed_getinnerframes(etb, number_of_lines_of_context, tb_offset)\n",
      "  File \"/home/zhangi/miniconda3/envs/perses-rxn-field/lib/python3.8/site-packages/IPython/core/ultratb.py\", line 248, in wrapped\n",
      "    return f(*args, **kwargs)\n",
      "  File \"/home/zhangi/miniconda3/envs/perses-rxn-field/lib/python3.8/site-packages/IPython/core/ultratb.py\", line 281, in _fixed_getinnerframes\n",
      "    records = fix_frame_records_filenames(inspect.getinnerframes(etb, context))\n",
      "  File \"/home/zhangi/miniconda3/envs/perses-rxn-field/lib/python3.8/inspect.py\", line 1515, in getinnerframes\n",
      "    frameinfo = (tb.tb_frame,) + getframeinfo(tb, context)\n",
      "  File \"/home/zhangi/miniconda3/envs/perses-rxn-field/lib/python3.8/inspect.py\", line 1473, in getframeinfo\n",
      "    filename = getsourcefile(frame) or getfile(frame)\n",
      "  File \"/home/zhangi/miniconda3/envs/perses-rxn-field/lib/python3.8/inspect.py\", line 708, in getsourcefile\n",
      "    if getattr(getmodule(object, filename), '__loader__', None) is not None:\n",
      "  File \"/home/zhangi/miniconda3/envs/perses-rxn-field/lib/python3.8/inspect.py\", line 754, in getmodule\n",
      "    os.path.realpath(f)] = module.__name__\n",
      "  File \"/home/zhangi/miniconda3/envs/perses-rxn-field/lib/python3.8/posixpath.py\", line 391, in realpath\n",
      "    path, ok = _joinrealpath(filename[:0], filename, {})\n",
      "  File \"/home/zhangi/miniconda3/envs/perses-rxn-field/lib/python3.8/posixpath.py\", line 425, in _joinrealpath\n",
      "    if not islink(newpath):\n",
      "KeyboardInterrupt\n"
     ]
    },
    {
     "ename": "TypeError",
     "evalue": "object of type 'NoneType' has no len()",
     "output_type": "error",
     "traceback": [
      "\u001b[0;31m------------------------------\u001b[0m",
      "\u001b[0;31mKeyboardInterrupt\u001b[0mTraceback (most recent call last)",
      "    \u001b[0;31m[... skipping hidden 1 frame]\u001b[0m\n",
      "\u001b[0;32m<ipython-input-29-b0a546aa2d91>\u001b[0m in \u001b[0;36m<module>\u001b[0;34m\u001b[0m\n\u001b[1;32m      2\u001b[0m \u001b[0matp\u001b[0m\u001b[0;34m,\u001b[0m \u001b[0msystem_generator\u001b[0m \u001b[0;34m=\u001b[0m \u001b[0mgenerate_atp\u001b[0m\u001b[0;34m(\u001b[0m\u001b[0mphase\u001b[0m \u001b[0;34m=\u001b[0m \u001b[0;34m'solvent'\u001b[0m\u001b[0;34m)\u001b[0m\u001b[0;34m\u001b[0m\u001b[0;34m\u001b[0m\u001b[0m\n\u001b[0;32m----> 3\u001b[0;31m htf = generate_dipeptide_top_pos_sys(atp.topology, \n\u001b[0m\u001b[1;32m      4\u001b[0m                                \u001b[0;34m'THR'\u001b[0m\u001b[0;34m,\u001b[0m\u001b[0;34m\u001b[0m\u001b[0;34m\u001b[0m\u001b[0m\n",
      "\u001b[0;32m~/miniconda3/envs/perses-rxn-field/lib/python3.8/site-packages/perses-0.8.2.dev0-py3.8.egg/perses/tests/test_topology_proposal.py\u001b[0m in \u001b[0;36mgenerate_dipeptide_top_pos_sys\u001b[0;34m(topology, new_res, system, positions, system_generator, conduct_geometry_prop, conduct_htf_prop, validate_energy_bookkeeping, repartitioned, rxn_field, endstate, flatten_torsions, flatten_exceptions, validate_endstate_energy, scale_regions)\u001b[0m\n\u001b[1;32m    282\u001b[0m         \u001b[0mforward_new_positions\u001b[0m\u001b[0;34m,\u001b[0m \u001b[0mlogp_proposal\u001b[0m \u001b[0;34m=\u001b[0m \u001b[0mgeometry_engine\u001b[0m\u001b[0;34m.\u001b[0m\u001b[0mpropose\u001b[0m\u001b[0;34m(\u001b[0m\u001b[0mtopology_proposal\u001b[0m\u001b[0;34m,\u001b[0m \u001b[0mpositions\u001b[0m\u001b[0;34m,\u001b[0m \u001b[0mbeta\u001b[0m\u001b[0;34m,\u001b[0m \u001b[0mvalidate_energy_bookkeeping\u001b[0m\u001b[0;34m=\u001b[0m\u001b[0mvalidate_energy_bookkeeping\u001b[0m\u001b[0;34m)\u001b[0m\u001b[0;34m\u001b[0m\u001b[0;34m\u001b[0m\u001b[0m\n\u001b[0;32m--> 283\u001b[0;31m         \u001b[0mlogp_reverse\u001b[0m \u001b[0;34m=\u001b[0m \u001b[0mgeometry_engine\u001b[0m\u001b[0;34m.\u001b[0m\u001b[0mlogp_reverse\u001b[0m\u001b[0;34m(\u001b[0m\u001b[0mtopology_proposal\u001b[0m\u001b[0;34m,\u001b[0m \u001b[0mforward_new_positions\u001b[0m\u001b[0;34m,\u001b[0m \u001b[0mpositions\u001b[0m\u001b[0;34m,\u001b[0m \u001b[0mbeta\u001b[0m\u001b[0;34m,\u001b[0m \u001b[0mvalidate_energy_bookkeeping\u001b[0m\u001b[0;34m=\u001b[0m\u001b[0mvalidate_energy_bookkeeping\u001b[0m\u001b[0;34m)\u001b[0m\u001b[0;34m\u001b[0m\u001b[0;34m\u001b[0m\u001b[0m\n\u001b[0m\u001b[1;32m    284\u001b[0m \u001b[0;34m\u001b[0m\u001b[0m\n",
      "\u001b[0;32m~/miniconda3/envs/perses-rxn-field/lib/python3.8/site-packages/perses-0.8.2.dev0-py3.8.egg/perses/rjmc/geometry.py\u001b[0m in \u001b[0;36mlogp_reverse\u001b[0;34m(self, top_proposal, new_coordinates, old_coordinates, beta, validate_energy_bookkeeping)\u001b[0m\n\u001b[1;32m    286\u001b[0m         \u001b[0m_logger\u001b[0m\u001b[0;34m.\u001b[0m\u001b[0minfo\u001b[0m\u001b[0;34m(\u001b[0m\u001b[0;34m\"logp_reverse: unique new atoms detected; proceeding to _logp_propose...\"\u001b[0m\u001b[0;34m)\u001b[0m\u001b[0;34m\u001b[0m\u001b[0;34m\u001b[0m\u001b[0m\n\u001b[0;32m--> 287\u001b[0;31m         \u001b[0mlogp_proposal\u001b[0m\u001b[0;34m,\u001b[0m \u001b[0mnew_positions\u001b[0m\u001b[0;34m,\u001b[0m \u001b[0mrjmc_info\u001b[0m\u001b[0;34m,\u001b[0m \u001b[0matoms_with_positions_reduced_potential\u001b[0m\u001b[0;34m,\u001b[0m \u001b[0mfinal_context_reduced_potential\u001b[0m\u001b[0;34m,\u001b[0m \u001b[0mneglected_angle_terms\u001b[0m\u001b[0;34m,\u001b[0m \u001b[0momitted_terms\u001b[0m \u001b[0;34m=\u001b[0m \u001b[0mself\u001b[0m\u001b[0;34m.\u001b[0m\u001b[0m_logp_propose\u001b[0m\u001b[0;34m(\u001b[0m\u001b[0mtop_proposal\u001b[0m\u001b[0;34m,\u001b[0m \u001b[0mold_coordinates\u001b[0m\u001b[0;34m,\u001b[0m \u001b[0mbeta\u001b[0m\u001b[0;34m,\u001b[0m \u001b[0mnew_positions\u001b[0m\u001b[0;34m=\u001b[0m\u001b[0mnew_coordinates\u001b[0m\u001b[0;34m,\u001b[0m \u001b[0mdirection\u001b[0m\u001b[0;34m=\u001b[0m\u001b[0;34m'reverse'\u001b[0m\u001b[0;34m,\u001b[0m \u001b[0mvalidate_energy_bookkeeping\u001b[0m \u001b[0;34m=\u001b[0m \u001b[0mvalidate_energy_bookkeeping\u001b[0m\u001b[0;34m)\u001b[0m\u001b[0;34m\u001b[0m\u001b[0;34m\u001b[0m\u001b[0m\n\u001b[0m\u001b[1;32m    288\u001b[0m         \u001b[0mself\u001b[0m\u001b[0;34m.\u001b[0m\u001b[0mreverse_new_positions\u001b[0m\u001b[0;34m,\u001b[0m \u001b[0mself\u001b[0m\u001b[0;34m.\u001b[0m\u001b[0mreverse_rjmc_info\u001b[0m \u001b[0;34m=\u001b[0m \u001b[0mnew_positions\u001b[0m\u001b[0;34m,\u001b[0m \u001b[0mrjmc_info\u001b[0m\u001b[0;34m\u001b[0m\u001b[0;34m\u001b[0m\u001b[0m\n",
      "\u001b[0;32m~/miniconda3/envs/perses-rxn-field/lib/python3.8/site-packages/perses-0.8.2.dev0-py3.8.egg/perses/rjmc/geometry.py\u001b[0m in \u001b[0;36m_logp_propose\u001b[0;34m(self, top_proposal, old_positions, beta, new_positions, direction, validate_energy_bookkeeping)\u001b[0m\n\u001b[1;32m    484\u001b[0m         \u001b[0matoms_with_positions_reduced_potential\u001b[0m \u001b[0;34m=\u001b[0m \u001b[0mbeta\u001b[0m\u001b[0;34m*\u001b[0m\u001b[0mstate\u001b[0m\u001b[0;34m.\u001b[0m\u001b[0mgetPotentialEnergy\u001b[0m\u001b[0;34m(\u001b[0m\u001b[0;34m)\u001b[0m\u001b[0;34m\u001b[0m\u001b[0;34m\u001b[0m\u001b[0m\n\u001b[0;32m--> 485\u001b[0;31m         \u001b[0matoms_with_positions_reduced_potential_components\u001b[0m \u001b[0;34m=\u001b[0m \u001b[0;34m[\u001b[0m\u001b[0;34m(\u001b[0m\u001b[0mforce\u001b[0m\u001b[0;34m,\u001b[0m \u001b[0menergy\u001b[0m\u001b[0;34m)\u001b[0m \u001b[0;32mfor\u001b[0m \u001b[0mforce\u001b[0m\u001b[0;34m,\u001b[0m \u001b[0menergy\u001b[0m \u001b[0;32min\u001b[0m \u001b[0mcompute_potential_components\u001b[0m\u001b[0;34m(\u001b[0m\u001b[0matoms_with_positions_context\u001b[0m\u001b[0;34m)\u001b[0m\u001b[0;34m]\u001b[0m\u001b[0;34m\u001b[0m\u001b[0;34m\u001b[0m\u001b[0m\n\u001b[0m\u001b[1;32m    486\u001b[0m         \u001b[0m_logger\u001b[0m\u001b[0;34m.\u001b[0m\u001b[0mdebug\u001b[0m\u001b[0;34m(\u001b[0m\u001b[0;34mf'atoms_with_positions_reduced_potential_components:'\u001b[0m\u001b[0;34m)\u001b[0m\u001b[0;34m\u001b[0m\u001b[0;34m\u001b[0m\u001b[0m\n",
      "\u001b[0;32m~/miniconda3/envs/perses-rxn-field/lib/python3.8/site-packages/perses-0.8.2.dev0-py3.8.egg/perses/tests/utils.py\u001b[0m in \u001b[0;36mcompute_potential_components\u001b[0;34m(context, beta, platform)\u001b[0m\n\u001b[1;32m    306\u001b[0m     \u001b[0msystem\u001b[0m \u001b[0;34m=\u001b[0m \u001b[0mcontext\u001b[0m\u001b[0;34m.\u001b[0m\u001b[0mgetSystem\u001b[0m\u001b[0;34m(\u001b[0m\u001b[0;34m)\u001b[0m\u001b[0;34m\u001b[0m\u001b[0;34m\u001b[0m\u001b[0m\n\u001b[0;32m--> 307\u001b[0;31m     \u001b[0msystem\u001b[0m \u001b[0;34m=\u001b[0m \u001b[0mcopy\u001b[0m\u001b[0;34m.\u001b[0m\u001b[0mdeepcopy\u001b[0m\u001b[0;34m(\u001b[0m\u001b[0msystem\u001b[0m\u001b[0;34m)\u001b[0m\u001b[0;34m\u001b[0m\u001b[0;34m\u001b[0m\u001b[0m\n\u001b[0m\u001b[1;32m    308\u001b[0m     \u001b[0;31m# Get positions.\u001b[0m\u001b[0;34m\u001b[0m\u001b[0;34m\u001b[0m\u001b[0;34m\u001b[0m\u001b[0m\n",
      "\u001b[0;32m~/miniconda3/envs/perses-rxn-field/lib/python3.8/copy.py\u001b[0m in \u001b[0;36mdeepcopy\u001b[0;34m(x, memo, _nil)\u001b[0m\n\u001b[1;32m    152\u001b[0m             \u001b[0;32mif\u001b[0m \u001b[0mcopier\u001b[0m \u001b[0;32mis\u001b[0m \u001b[0;32mnot\u001b[0m \u001b[0;32mNone\u001b[0m\u001b[0;34m:\u001b[0m\u001b[0;34m\u001b[0m\u001b[0;34m\u001b[0m\u001b[0m\n\u001b[0;32m--> 153\u001b[0;31m                 \u001b[0my\u001b[0m \u001b[0;34m=\u001b[0m \u001b[0mcopier\u001b[0m\u001b[0;34m(\u001b[0m\u001b[0mmemo\u001b[0m\u001b[0;34m)\u001b[0m\u001b[0;34m\u001b[0m\u001b[0;34m\u001b[0m\u001b[0m\n\u001b[0m\u001b[1;32m    154\u001b[0m             \u001b[0;32melse\u001b[0m\u001b[0;34m:\u001b[0m\u001b[0;34m\u001b[0m\u001b[0;34m\u001b[0m\u001b[0m\n",
      "\u001b[0;32m~/miniconda3/envs/perses-rxn-field/lib/python3.8/site-packages/simtk/openmm/openmm.py\u001b[0m in \u001b[0;36m__deepcopy__\u001b[0;34m(self, memo)\u001b[0m\n\u001b[1;32m   9545\u001b[0m     \u001b[0;32mdef\u001b[0m \u001b[0m__deepcopy__\u001b[0m\u001b[0;34m(\u001b[0m\u001b[0mself\u001b[0m\u001b[0;34m,\u001b[0m \u001b[0mmemo\u001b[0m\u001b[0;34m)\u001b[0m\u001b[0;34m:\u001b[0m\u001b[0;34m\u001b[0m\u001b[0;34m\u001b[0m\u001b[0m\n\u001b[0;32m-> 9546\u001b[0;31m         \u001b[0;32mreturn\u001b[0m \u001b[0mself\u001b[0m\u001b[0;34m.\u001b[0m\u001b[0m__copy__\u001b[0m\u001b[0;34m(\u001b[0m\u001b[0;34m)\u001b[0m\u001b[0;34m\u001b[0m\u001b[0;34m\u001b[0m\u001b[0m\n\u001b[0m\u001b[1;32m   9547\u001b[0m     \u001b[0;32mdef\u001b[0m \u001b[0mgetForces\u001b[0m\u001b[0;34m(\u001b[0m\u001b[0mself\u001b[0m\u001b[0;34m)\u001b[0m\u001b[0;34m:\u001b[0m\u001b[0;34m\u001b[0m\u001b[0;34m\u001b[0m\u001b[0m\n",
      "\u001b[0;32m~/miniconda3/envs/perses-rxn-field/lib/python3.8/site-packages/simtk/openmm/openmm.py\u001b[0m in \u001b[0;36m__copy__\u001b[0;34m(self)\u001b[0m\n\u001b[1;32m   9553\u001b[0m         \u001b[0;34mr\"\"\"__copy__(self) -> System\"\"\"\u001b[0m\u001b[0;34m\u001b[0m\u001b[0;34m\u001b[0m\u001b[0m\n\u001b[0;32m-> 9554\u001b[0;31m         \u001b[0;32mreturn\u001b[0m \u001b[0m_openmm\u001b[0m\u001b[0;34m.\u001b[0m\u001b[0mSystem___copy__\u001b[0m\u001b[0;34m(\u001b[0m\u001b[0mself\u001b[0m\u001b[0;34m)\u001b[0m\u001b[0;34m\u001b[0m\u001b[0;34m\u001b[0m\u001b[0m\n\u001b[0m\u001b[1;32m   9555\u001b[0m \u001b[0;34m\u001b[0m\u001b[0m\n",
      "\u001b[0;31mKeyboardInterrupt\u001b[0m: ",
      "\nDuring handling of the above exception, another exception occurred:\n",
      "\u001b[0;31mAttributeError\u001b[0mTraceback (most recent call last)",
      "\u001b[0;32m~/miniconda3/envs/perses-rxn-field/lib/python3.8/site-packages/IPython/core/interactiveshell.py\u001b[0m in \u001b[0;36mshowtraceback\u001b[0;34m(self, exc_tuple, filename, tb_offset, exception_only, running_compiled_code)\u001b[0m\n\u001b[1;32m   2060\u001b[0m                         \u001b[0;31m# in the engines. This should return a list of strings.\u001b[0m\u001b[0;34m\u001b[0m\u001b[0;34m\u001b[0m\u001b[0;34m\u001b[0m\u001b[0m\n\u001b[0;32m-> 2061\u001b[0;31m                         \u001b[0mstb\u001b[0m \u001b[0;34m=\u001b[0m \u001b[0mvalue\u001b[0m\u001b[0;34m.\u001b[0m\u001b[0m_render_traceback_\u001b[0m\u001b[0;34m(\u001b[0m\u001b[0;34m)\u001b[0m\u001b[0;34m\u001b[0m\u001b[0;34m\u001b[0m\u001b[0m\n\u001b[0m\u001b[1;32m   2062\u001b[0m                     \u001b[0;32mexcept\u001b[0m \u001b[0mException\u001b[0m\u001b[0;34m:\u001b[0m\u001b[0;34m\u001b[0m\u001b[0;34m\u001b[0m\u001b[0m\n",
      "\u001b[0;31mAttributeError\u001b[0m: 'KeyboardInterrupt' object has no attribute '_render_traceback_'",
      "\nDuring handling of the above exception, another exception occurred:\n",
      "\u001b[0;31mTypeError\u001b[0mTraceback (most recent call last)",
      "    \u001b[0;31m[... skipping hidden 1 frame]\u001b[0m\n",
      "\u001b[0;32m~/miniconda3/envs/perses-rxn-field/lib/python3.8/site-packages/IPython/core/interactiveshell.py\u001b[0m in \u001b[0;36mshowtraceback\u001b[0;34m(self, exc_tuple, filename, tb_offset, exception_only, running_compiled_code)\u001b[0m\n\u001b[1;32m   2061\u001b[0m                         \u001b[0mstb\u001b[0m \u001b[0;34m=\u001b[0m \u001b[0mvalue\u001b[0m\u001b[0;34m.\u001b[0m\u001b[0m_render_traceback_\u001b[0m\u001b[0;34m(\u001b[0m\u001b[0;34m)\u001b[0m\u001b[0;34m\u001b[0m\u001b[0;34m\u001b[0m\u001b[0m\n\u001b[1;32m   2062\u001b[0m                     \u001b[0;32mexcept\u001b[0m \u001b[0mException\u001b[0m\u001b[0;34m:\u001b[0m\u001b[0;34m\u001b[0m\u001b[0;34m\u001b[0m\u001b[0m\n\u001b[0;32m-> 2063\u001b[0;31m                         stb = self.InteractiveTB.structured_traceback(etype,\n\u001b[0m\u001b[1;32m   2064\u001b[0m                                             value, tb, tb_offset=tb_offset)\n\u001b[1;32m   2065\u001b[0m \u001b[0;34m\u001b[0m\u001b[0m\n",
      "\u001b[0;32m~/miniconda3/envs/perses-rxn-field/lib/python3.8/site-packages/IPython/core/ultratb.py\u001b[0m in \u001b[0;36mstructured_traceback\u001b[0;34m(self, etype, value, tb, tb_offset, number_of_lines_of_context)\u001b[0m\n\u001b[1;32m   1365\u001b[0m         \u001b[0;32melse\u001b[0m\u001b[0;34m:\u001b[0m\u001b[0;34m\u001b[0m\u001b[0;34m\u001b[0m\u001b[0m\n\u001b[1;32m   1366\u001b[0m             \u001b[0mself\u001b[0m\u001b[0;34m.\u001b[0m\u001b[0mtb\u001b[0m \u001b[0;34m=\u001b[0m \u001b[0mtb\u001b[0m\u001b[0;34m\u001b[0m\u001b[0;34m\u001b[0m\u001b[0m\n\u001b[0;32m-> 1367\u001b[0;31m         return FormattedTB.structured_traceback(\n\u001b[0m\u001b[1;32m   1368\u001b[0m             self, etype, value, tb, tb_offset, number_of_lines_of_context)\n\u001b[1;32m   1369\u001b[0m \u001b[0;34m\u001b[0m\u001b[0m\n",
      "\u001b[0;32m~/miniconda3/envs/perses-rxn-field/lib/python3.8/site-packages/IPython/core/ultratb.py\u001b[0m in \u001b[0;36mstructured_traceback\u001b[0;34m(self, etype, value, tb, tb_offset, number_of_lines_of_context)\u001b[0m\n\u001b[1;32m   1265\u001b[0m         \u001b[0;32mif\u001b[0m \u001b[0mmode\u001b[0m \u001b[0;32min\u001b[0m \u001b[0mself\u001b[0m\u001b[0;34m.\u001b[0m\u001b[0mverbose_modes\u001b[0m\u001b[0;34m:\u001b[0m\u001b[0;34m\u001b[0m\u001b[0;34m\u001b[0m\u001b[0m\n\u001b[1;32m   1266\u001b[0m             \u001b[0;31m# Verbose modes need a full traceback\u001b[0m\u001b[0;34m\u001b[0m\u001b[0;34m\u001b[0m\u001b[0;34m\u001b[0m\u001b[0m\n\u001b[0;32m-> 1267\u001b[0;31m             return VerboseTB.structured_traceback(\n\u001b[0m\u001b[1;32m   1268\u001b[0m                 \u001b[0mself\u001b[0m\u001b[0;34m,\u001b[0m \u001b[0metype\u001b[0m\u001b[0;34m,\u001b[0m \u001b[0mvalue\u001b[0m\u001b[0;34m,\u001b[0m \u001b[0mtb\u001b[0m\u001b[0;34m,\u001b[0m \u001b[0mtb_offset\u001b[0m\u001b[0;34m,\u001b[0m \u001b[0mnumber_of_lines_of_context\u001b[0m\u001b[0;34m\u001b[0m\u001b[0;34m\u001b[0m\u001b[0m\n\u001b[1;32m   1269\u001b[0m             )\n",
      "\u001b[0;32m~/miniconda3/envs/perses-rxn-field/lib/python3.8/site-packages/IPython/core/ultratb.py\u001b[0m in \u001b[0;36mstructured_traceback\u001b[0;34m(self, etype, evalue, etb, tb_offset, number_of_lines_of_context)\u001b[0m\n\u001b[1;32m   1122\u001b[0m         \u001b[0;34m\"\"\"Return a nice text document describing the traceback.\"\"\"\u001b[0m\u001b[0;34m\u001b[0m\u001b[0;34m\u001b[0m\u001b[0m\n\u001b[1;32m   1123\u001b[0m \u001b[0;34m\u001b[0m\u001b[0m\n\u001b[0;32m-> 1124\u001b[0;31m         formatted_exception = self.format_exception_as_a_whole(etype, evalue, etb, number_of_lines_of_context,\n\u001b[0m\u001b[1;32m   1125\u001b[0m                                                                tb_offset)\n\u001b[1;32m   1126\u001b[0m \u001b[0;34m\u001b[0m\u001b[0m\n",
      "\u001b[0;32m~/miniconda3/envs/perses-rxn-field/lib/python3.8/site-packages/IPython/core/ultratb.py\u001b[0m in \u001b[0;36mformat_exception_as_a_whole\u001b[0;34m(self, etype, evalue, etb, number_of_lines_of_context, tb_offset)\u001b[0m\n\u001b[1;32m   1080\u001b[0m \u001b[0;34m\u001b[0m\u001b[0m\n\u001b[1;32m   1081\u001b[0m \u001b[0;34m\u001b[0m\u001b[0m\n\u001b[0;32m-> 1082\u001b[0;31m         \u001b[0mlast_unique\u001b[0m\u001b[0;34m,\u001b[0m \u001b[0mrecursion_repeat\u001b[0m \u001b[0;34m=\u001b[0m \u001b[0mfind_recursion\u001b[0m\u001b[0;34m(\u001b[0m\u001b[0morig_etype\u001b[0m\u001b[0;34m,\u001b[0m \u001b[0mevalue\u001b[0m\u001b[0;34m,\u001b[0m \u001b[0mrecords\u001b[0m\u001b[0;34m)\u001b[0m\u001b[0;34m\u001b[0m\u001b[0;34m\u001b[0m\u001b[0m\n\u001b[0m\u001b[1;32m   1083\u001b[0m \u001b[0;34m\u001b[0m\u001b[0m\n\u001b[1;32m   1084\u001b[0m         \u001b[0mframes\u001b[0m \u001b[0;34m=\u001b[0m \u001b[0mself\u001b[0m\u001b[0;34m.\u001b[0m\u001b[0mformat_records\u001b[0m\u001b[0;34m(\u001b[0m\u001b[0mrecords\u001b[0m\u001b[0;34m,\u001b[0m \u001b[0mlast_unique\u001b[0m\u001b[0;34m,\u001b[0m \u001b[0mrecursion_repeat\u001b[0m\u001b[0;34m)\u001b[0m\u001b[0;34m\u001b[0m\u001b[0;34m\u001b[0m\u001b[0m\n",
      "\u001b[0;32m~/miniconda3/envs/perses-rxn-field/lib/python3.8/site-packages/IPython/core/ultratb.py\u001b[0m in \u001b[0;36mfind_recursion\u001b[0;34m(etype, value, records)\u001b[0m\n\u001b[1;32m    380\u001b[0m     \u001b[0;31m# first frame (from in to out) that looks different.\u001b[0m\u001b[0;34m\u001b[0m\u001b[0;34m\u001b[0m\u001b[0;34m\u001b[0m\u001b[0m\n\u001b[1;32m    381\u001b[0m     \u001b[0;32mif\u001b[0m \u001b[0;32mnot\u001b[0m \u001b[0mis_recursion_error\u001b[0m\u001b[0;34m(\u001b[0m\u001b[0metype\u001b[0m\u001b[0;34m,\u001b[0m \u001b[0mvalue\u001b[0m\u001b[0;34m,\u001b[0m \u001b[0mrecords\u001b[0m\u001b[0;34m)\u001b[0m\u001b[0;34m:\u001b[0m\u001b[0;34m\u001b[0m\u001b[0;34m\u001b[0m\u001b[0m\n\u001b[0;32m--> 382\u001b[0;31m         \u001b[0;32mreturn\u001b[0m \u001b[0mlen\u001b[0m\u001b[0;34m(\u001b[0m\u001b[0mrecords\u001b[0m\u001b[0;34m)\u001b[0m\u001b[0;34m,\u001b[0m \u001b[0;36m0\u001b[0m\u001b[0;34m\u001b[0m\u001b[0;34m\u001b[0m\u001b[0m\n\u001b[0m\u001b[1;32m    383\u001b[0m \u001b[0;34m\u001b[0m\u001b[0m\n\u001b[1;32m    384\u001b[0m     \u001b[0;31m# Select filename, lineno, func_name to track frames with\u001b[0m\u001b[0;34m\u001b[0m\u001b[0;34m\u001b[0m\u001b[0;34m\u001b[0m\u001b[0m\n",
      "\u001b[0;31mTypeError\u001b[0m: object of type 'NoneType' has no len()"
     ]
    }
   ],
   "source": [
    "# Create a htf\n",
    "atp, system_generator = generate_atp(phase = 'solvent')\n",
    "htf = generate_dipeptide_top_pos_sys(atp.topology, \n",
    "                               'THR', \n",
    "                               atp.system, \n",
    "                               atp.positions, \n",
    "                               system_generator,\n",
    "                                rxn_field=True,\n",
    "                               flatten_torsions=True,\n",
    "                               flatten_exceptions=True,\n",
    "                               validate_endstate_energy=False,\n",
    "                                conduct_htf_prop=True, \n",
    "                                scale_regions=[[10, 11, 12, 13, 1557, 1558, 1559, 1560, 1561, 1562, 1563, 1564]])"
   ]
  },
  {
   "cell_type": "markdown",
   "id": "3576b206",
   "metadata": {},
   "source": [
    "#### Old system HarmonicBondForce vs hybrid system CustomBondForce"
   ]
  },
  {
   "cell_type": "code",
   "execution_count": 81,
   "id": "f714b6e7",
   "metadata": {},
   "outputs": [],
   "source": [
    "# Load htf\n",
    "with open(\"/home/zhangi/choderalab/perses_benchmark/perses_protein_mutations/code/26_rxn_field/atp_solvent_scale_region.pickle\", \"rb\") as f:\n",
    "    htf = pickle.load(f)"
   ]
  },
  {
   "cell_type": "code",
   "execution_count": 82,
   "id": "fca19e10",
   "metadata": {},
   "outputs": [
    {
     "data": {
      "text/plain": [
       "[10, 11, 12, 13, 1557, 1558, 1559, 1560, 1561, 1562, 1563, 1564]"
      ]
     },
     "execution_count": 82,
     "metadata": {},
     "output_type": "execute_result"
    }
   ],
   "source": [
    "# This is the scale region\n",
    "list(htf._atom_classes['unique_old_atoms'][0]) + list(htf._atom_classes['unique_new_atoms'][0])"
   ]
  },
  {
   "cell_type": "code",
   "execution_count": 83,
   "id": "479adca5",
   "metadata": {},
   "outputs": [
    {
     "name": "stdout",
     "output_type": "stream",
     "text": [
      "Warning: Returning CPU platform instead of requested platform <simtk.openmm.openmm.Platform; proxy of <Swig Object of type 'OpenMM::Platform *' at 0x2b9a06d43f30> >\n",
      "conducting subsequent work with the following platform: CPU\n",
      "conducting subsequent work with the following platform: CUDA\n",
      "[('HarmonicBondForce', 0.034783653565214685), ('HarmonicAngleForce', 0.6112775462129015), ('PeriodicTorsionForce', 16.285398289983082), ('NonbondedForce', -1041.13577274055), ('AndersenThermostat', 0.0), ('MonteCarloBarostat', 0.0)]\n",
      "conducting subsequent work with the following platform: CUDA\n",
      "[('CustomBondForce', 0.03478365356521381), ('AndersenThermostat', 0.0), ('MonteCarloBarostat', 0.0)]\n",
      "Success! Custom bond force and standard bond force energies are equal!\n"
     ]
    }
   ],
   "source": [
    "test_bond_energies(htf, is_solvated=True)"
   ]
  },
  {
   "cell_type": "markdown",
   "id": "2e0b009a",
   "metadata": {},
   "source": [
    "#### New system HarmonicBondForce vs hybrid system CustomBondForce"
   ]
  },
  {
   "cell_type": "code",
   "execution_count": 84,
   "id": "a1d202a2",
   "metadata": {},
   "outputs": [],
   "source": [
    "# Load htf\n",
    "with open(\"/home/zhangi/choderalab/perses_benchmark/perses_protein_mutations/code/26_rxn_field/atp_solvent_scale_region.pickle\", \"rb\") as f:\n",
    "    htf = pickle.load(f)"
   ]
  },
  {
   "cell_type": "code",
   "execution_count": 85,
   "id": "3d6aaf36",
   "metadata": {},
   "outputs": [
    {
     "name": "stdout",
     "output_type": "stream",
     "text": [
      "Warning: Returning CPU platform instead of requested platform <simtk.openmm.openmm.Platform; proxy of <Swig Object of type 'OpenMM::Platform *' at 0x2b9a06d43f30> >\n",
      "conducting subsequent work with the following platform: CPU\n",
      "conducting subsequent work with the following platform: CUDA\n",
      "[('HarmonicBondForce', 1.4684578607702736), ('HarmonicAngleForce', 4.80952399451105), ('PeriodicTorsionForce', 27.201127706572517), ('NonbondedForce', -1022.2262834587337), ('AndersenThermostat', 0.0), ('MonteCarloBarostat', 0.0)]\n",
      "conducting subsequent work with the following platform: CUDA\n",
      "[('CustomBondForce', 1.4684578607702563), ('AndersenThermostat', 0.0), ('MonteCarloBarostat', 0.0)]\n",
      "Success! Custom bond force and standard bond force energies are equal!\n"
     ]
    }
   ],
   "source": [
    "test_bond_energies(htf, is_old=False, is_solvated=True)"
   ]
  },
  {
   "cell_type": "code",
   "execution_count": null,
   "id": "95bc995d",
   "metadata": {},
   "outputs": [],
   "source": []
  },
  {
   "cell_type": "markdown",
   "id": "dd3a6ebd",
   "metadata": {},
   "source": [
    "# CDK2 transformation in solvent"
   ]
  },
  {
   "cell_type": "code",
   "execution_count": 6,
   "id": "0007ff9b",
   "metadata": {},
   "outputs": [],
   "source": [
    "import os\n",
    "from pkg_resources import resource_filename\n",
    "from perses.app import setup_relative_calculation\n",
    "import pickle"
   ]
  },
  {
   "cell_type": "code",
   "execution_count": 2,
   "id": "afad5b52",
   "metadata": {
    "scrolled": true
   },
   "outputs": [
    {
     "name": "stderr",
     "output_type": "stream",
     "text": [
      "2021-04-29 18:17:44,621:(0.00s):root:\tDetecting phases...\n",
      "2021-04-29 18:17:44,623:(0.00s):root:\t\tphases detected: ['complex', 'solvent', 'vacuum']\n",
      "2021-04-29 18:17:44,624:(0.00s):root:No constraints will be removed\n",
      "2021-04-29 18:17:44,626:(0.00s):root:No spectators\n",
      "2021-04-29 18:17:44,628:(0.00s):root:\t\t\trun_type is not specified; default to None\n",
      "2021-04-29 18:17:44,630:(0.00s):root:\tDetecting fe_type...\n",
      "2021-04-29 18:17:44,632:(0.00s):root:\t\tfe_type: repex\n",
      "2021-04-29 18:17:44,633:(0.00s):root:\t\t\toffline-freq not specified: default to 10.\n",
      "2021-04-29 18:17:44,635:(0.00s):root:\t'neglect_angles' detected: False.\n",
      "2021-04-29 18:17:44,637:(0.00s):root:\t'softcore_v2' not specified: default to 'False'\n",
      "2021-04-29 18:17:44,638:(0.00s):root:\tCreating 'output'...\n",
      "2021-04-29 18:17:44,641:(0.00s):root:\tdetected ligand file: /home/zhangi/miniconda3/envs/perses-rxn-field/lib/python3.8/site-packages/perses-0.8.2.dev0-py3.8.egg/perses/data/cdk2-example/CDK2_ligands.sdf\n",
      "2021-04-29 18:17:44,643:(0.00s):root:\told ligand index: 14; new ligand index: 15\n",
      "2021-04-29 18:17:44,645:(0.00s):root:\tsetting up forcefield files...\n",
      "2021-04-29 18:17:44,647:(0.00s):root:\tno timestep detected: setting default as 1.0fs.\n",
      "2021-04-29 18:17:44,649:(0.00s):root:\tno splitting strings specified: defaulting to neq: V R O R V, eq: V R O R V.\n",
      "2021-04-29 18:17:44,650:(0.00s):root:\tno measure_shadow_work specified: defaulting to False.\n",
      "2021-04-29 18:17:44,650:(0.00s):root:\tsetting pressure: 1.0 atm.\n",
      "2021-04-29 18:17:44,651:(0.00s):root:\tsetting temperature: 300.0 K.\n",
      "2021-04-29 18:17:44,652:(0.00s):root:\tsetting solvent padding: 9.0 AA.\n",
      "2021-04-29 18:17:44,653:(0.00s):root:\tsetting ionic strength: 0.15 MM.\n",
      "2021-04-29 18:17:44,659:(0.01s):root:\tsetup pickle file: fesetup_hbonds.pkl\n",
      "2021-04-29 18:17:44,660:(0.00s):root:\ttrajectory directory: output\n",
      "2021-04-29 18:17:44,661:(0.00s):root:\tno atom map specified: default to None.\n",
      "2021-04-29 18:17:44,662:(0.00s):root:\tno topology_proposal specified; proceeding to RelativeFEPSetup...\n",
      "\n",
      "\n",
      "\n",
      "2021-04-29 18:17:44,662:(0.00s):root:Box dimensions: None and None\n",
      "2021-04-29 18:17:44,663:(0.00s):relative_setup:\t\t\t_hmass: 4 Da.\n",
      "\n",
      "2021-04-29 18:17:44,664:(0.00s):relative_setup:Setting non bonded method to PME\n",
      "2021-04-29 18:17:44,664:(0.00s):relative_setup:Handling files for ligands and indices...\n",
      "2021-04-29 18:17:44,665:(0.00s):relative_setup:Detected .sdf format.  Proceeding...\n",
      "2021-04-29 18:17:44,681:(0.02s):utils.openeye:molecule 17                      does not have unique atom names. Generating now...\n",
      "2021-04-29 18:17:44,687:(0.01s):utils.openeye:molecule 1h1q                      does not have unique atom names. Generating now...\n",
      "2021-04-29 18:17:44,690:(0.00s):relative_setup:\tsuccessfully extracted positions from OEMOL.\n",
      "2021-04-29 18:17:44,694:(0.00s):relative_setup:\tsetting both molecule oemol titles to 'MOL'.\n",
      "2021-04-29 18:17:44,694:(0.00s):relative_setup:\tsuccessfully created SMILES for both ligand OEMOLs.\n",
      "2021-04-29 18:17:44,696:(0.00s):relative_setup:\tsuccessfully generated topologies for both OEMOLs.\n",
      "2021-04-29 18:17:44,697:(0.00s):relative_setup:Created mdtraj topologies for both ligands.\n",
      "2021-04-29 18:17:44,702:(0.00s):relative_setup:set MonteCarloBarostat because pressure was specified as 1.0 atm atmospheres\n",
      "2021-04-29 18:17:46,046:(1.34s):rdkit:Enabling RDKit 2021.03.1 jupyter extensions\n",
      "2021-04-29 18:17:46,262:(0.22s):relative_setup:PME tolerance: 0.00025\n",
      "2021-04-29 18:17:46,448:(0.19s):relative_setup:successfully created SystemGenerator to create ligand systems\n",
      "2021-04-29 18:17:46,450:(0.00s):relative_setup:executing SmallMoleculeSetProposalEngine...\n",
      "2021-04-29 18:17:46,453:(0.00s):relative_setup:instantiating FFAllAngleGeometryEngine...\n",
      "2021-04-29 18:17:46,454:(0.00s):relative_setup:Detected solvent...\n",
      "2021-04-29 18:17:46,456:(0.00s):relative_setup:no complex detected in phases...generating unique topology/geometry proposals...\n",
      "2021-04-29 18:17:46,458:(0.00s):relative_setup:solvating ligand...\n",
      "2021-04-29 18:17:46,459:(0.00s):relative_setup:box_dimensions: None\n",
      "2021-04-29 18:17:46,461:(0.00s):relative_setup:solvent padding: 9.0\n",
      "2021-04-29 18:17:46,462:(0.00s):relative_setup:\tpreparing to add solvent\n",
      "2021-04-29 18:17:46,791:(0.33s):openmmforcefields.generators.template_generators:Requested to generate parameters for residue <Residue 0 (MOL) of chain 0>\n",
      "2021-04-29 18:17:47,001:(0.21s):relative_setup:\tparameterizing...\n",
      "2021-04-29 18:17:47,185:(0.18s):relative_setup:\tSystem parameterized\n",
      "2021-04-29 18:17:47,222:(0.04s):relative_setup:creating TopologyProposal\n",
      "2021-04-29 18:17:47,223:(0.00s):proposal_generator:creating current receptor topology by removing small molecule from current topology...\n",
      "2021-04-29 18:17:47,232:(0.01s):proposal_generator:small molecule start index: 0\n",
      "2021-04-29 18:17:47,233:(0.00s):proposal_generator:small molecule has 45 atoms.\n",
      "2021-04-29 18:17:47,235:(0.00s):proposal_generator:old alchemical atom indices: range(0, 45)\n",
      "2021-04-29 18:17:47,236:(0.00s):proposal_generator:proposed mol detected with smiles [H]c1c(c(c(c(c1[H])[H])N([H])c2nc3c(c(n2)OC([H])([H])C4(C(C(C(C(C4([H])[H])([H])[H])([H])[H])([H])[H])([H])[H])[H])nc(n3[H])[H])[H])[H] and logp_proposal of 0.0\n",
      "2021-04-29 18:17:47,238:(0.00s):proposal_generator:conducting proposal from [H]c1c(c(c(c(c1[H])Br)[H])N([H])c2nc3c(c(n2)OC([H])([H])C4(C(C(C(C(C4([H])[H])([H])[H])([H])[H])([H])[H])([H])[H])[H])nc(n3[H])[H])[H] to [H]c1c(c(c(c(c1[H])[H])N([H])c2nc3c(c(n2)OC([H])([H])C4(C(C(C(C(C4([H])[H])([H])[H])([H])[H])([H])[H])([H])[H])[H])nc(n3[H])[H])[H])[H]...\n",
      "2021-04-29 18:17:47,239:(0.00s):proposal_generator:building new topology with proposed molecule and current receptor topology...\n",
      "2021-04-29 18:17:47,241:(0.00s):proposal_generator:\tsetting proposed oemol title to MOL\n",
      "2021-04-29 18:17:47,242:(0.00s):proposal_generator:\tcreating mol topology from oemol...\n",
      "2021-04-29 18:17:47,245:(0.00s):proposal_generator:\tappending current receptor topology to new mol topology...\n",
      "2021-04-29 18:17:47,253:(0.01s):proposal_generator:\tperiodic box vectors of the current receptor is specified; copying to new topology...\n",
      "2021-04-29 18:17:47,255:(0.00s):proposal_generator:new molecule has a start index of 2152 and 45 atoms.\n",
      "2021-04-29 18:17:47,256:(0.00s):proposal_generator:proceeding to build the new system from the new topology...\n",
      "2021-04-29 18:17:47,410:(0.15s):openmmforcefields.generators.template_generators:Requested to generate parameters for residue <Residue 720 (MOL) of chain 3>\n",
      "2021-04-29 18:17:47,595:(0.18s):proposal_generator:determining atom map between old and new molecules...\n",
      "2021-04-29 18:17:47,596:(0.00s):proposal_generator:the atom map is not specified; proceeding to generate an atom map...\n",
      "2021-04-29 18:17:47,598:(0.00s):proposal_generator:Using geometry to chose best atom map\n",
      "2021-04-29 18:17:47,606:(0.01s):proposal_generator:Scaffold has symmetry of 4\n",
      "2021-04-29 18:17:47,608:(0.00s):proposal_generator:There are 4 before filtering\n",
      "2021-04-29 18:17:47,609:(0.00s):proposal_generator:There are 4 after filtering to remove maps with fewer matches than 24 atoms\n",
      "2021-04-29 18:17:47,614:(0.00s):proposal_generator:1 scaffold maps for A\n",
      "2021-04-29 18:17:47,616:(0.00s):proposal_generator:Scaffold to molA: {0: 0, 1: 1, 2: 2, 3: 3, 8: 4, 7: 5, 6: 6, 5: 7, 4: 8, 11: 9, 10: 10, 9: 11, 23: 12, 13: 13, 14: 14, 15: 15, 16: 16, 17: 17, 18: 18, 19: 19, 20: 20, 21: 21, 22: 22, 12: 23}\n",
      "2021-04-29 18:17:47,621:(0.01s):proposal_generator:1 scaffold maps for B\n",
      "2021-04-29 18:17:47,623:(0.00s):proposal_generator:Scaffold to molB: {0: 0, 1: 1, 2: 2, 3: 3, 8: 4, 7: 5, 6: 6, 5: 7, 4: 8, 11: 9, 10: 10, 9: 11, 23: 12, 13: 13, 14: 14, 15: 15, 16: 16, 17: 17, 18: 18, 19: 19, 20: 20, 21: 21, 22: 22, 12: 23}\n",
      "2021-04-29 18:17:49,767:(2.14s):proposal_generator:4 maps are reduced to 1\n",
      "2021-04-29 18:17:49,771:(0.00s):proposal_generator:molecule_maps_scores: dict_keys([19.8560123167367])\n",
      "2021-04-29 18:17:49,773:(0.00s):proposal_generator:Returning map with closest geometry satisfaction\n",
      "2021-04-29 18:17:49,911:(0.14s):proposal_generator:Proposed transformation would delete 1 atoms and create 1 atoms.\n",
      "2021-04-29 18:17:49,914:(0.00s):relative_setup:conducting geometry proposal...\n",
      "2021-04-29 18:17:49,915:(0.00s):geometry:propose: performing forward proposal\n"
     ]
    },
    {
     "name": "stderr",
     "output_type": "stream",
     "text": [
      "2021-04-29 18:17:49,917:(0.00s):geometry:propose: unique new atoms detected; proceeding to _logp_propose...\n",
      "2021-04-29 18:17:49,918:(0.00s):geometry:Conducting forward proposal...\n",
      "2021-04-29 18:17:49,920:(0.00s):geometry:Computing proposal order with NetworkX...\n",
      "2021-04-29 18:17:49,930:(0.01s):geometry:number of atoms to be placed: 1\n",
      "2021-04-29 18:17:49,931:(0.00s):geometry:Atom index proposal order is [2190]\n",
      "2021-04-29 18:17:49,933:(0.00s):geometry:omitted_bonds: []\n",
      "2021-04-29 18:17:49,934:(0.00s):geometry:direction of proposal is forward; creating atoms_with_positions and new positions from old system/topology...\n",
      "2021-04-29 18:17:50,094:(0.16s):geometry:creating growth system...\n",
      "2021-04-29 18:17:50,134:(0.04s):geometry:\tcreating bond force...\n",
      "2021-04-29 18:17:50,136:(0.00s):geometry:\tthere are 27 bonds in reference force.\n",
      "2021-04-29 18:17:50,138:(0.00s):geometry:\tcreating angle force...\n",
      "2021-04-29 18:17:50,141:(0.00s):geometry:\tthere are 85 angles in reference force.\n",
      "2021-04-29 18:17:50,144:(0.00s):geometry:\tcreating torsion force...\n",
      "2021-04-29 18:17:50,146:(0.00s):geometry:\tcreating extra torsions force...\n",
      "2021-04-29 18:17:50,148:(0.00s):geometry:\tthere are 157 torsions in reference force.\n",
      "2021-04-29 18:17:50,151:(0.00s):geometry:\tcreating nonbonded force...\n",
      "2021-04-29 18:17:50,152:(0.00s):geometry:\t\tgrabbing reference nonbonded method, cutoff, switching function, switching distance...\n",
      "2021-04-29 18:17:50,154:(0.00s):geometry:\t\tcreating nonbonded exception force (i.e. custom bond for 1,4s)...\n",
      "2021-04-29 18:17:50,156:(0.00s):geometry:\t\tlooping through exceptions calculating growth indices, and adding appropriate interactions to custom bond force.\n",
      "2021-04-29 18:17:50,157:(0.00s):geometry:\t\tthere are 2395 in the reference Nonbonded force\n",
      "2021-04-29 18:17:50,213:(0.06s):geometry:Neglected angle terms : []\n",
      "2021-04-29 18:17:50,214:(0.00s):geometry:omitted_growth_terms: {'bonds': [], 'angles': [], 'torsions': [], '1,4s': []}\n",
      "2021-04-29 18:17:50,216:(0.00s):geometry:extra torsions: {0: (2190, 2161, 2162, 2163, [1, Quantity(value=-0.019594642035228205, unit=radian), Quantity(value=1200.0, unit=kilocalorie/mole), 1]), 1: (2190, 2161, 2162, 2191, [1, Quantity(value=-3.1361896196768977, unit=radian), Quantity(value=1200.0, unit=kilocalorie/mole), 1]), 2: (2190, 2161, 2175, 2174, [1, Quantity(value=-0.008871224163264912, unit=radian), Quantity(value=1200.0, unit=kilocalorie/mole), 1]), 3: (2190, 2161, 2175, 2196, [1, Quantity(value=3.1405837865634907, unit=radian), Quantity(value=1200.0, unit=kilocalorie/mole), 1])}\n",
      "2021-04-29 18:17:50,218:(0.00s):geometry:neglected angle terms include []\n",
      "2021-04-29 18:17:50,220:(0.00s):geometry:log probability choice of torsions and atom order: -1.3862943611198906\n",
      "2021-04-29 18:17:50,222:(0.00s):geometry:creating platform, integrators, and contexts; setting growth parameter\n"
     ]
    },
    {
     "name": "stdout",
     "output_type": "stream",
     "text": [
      "conducting subsequent work with the following platform: CUDA\n"
     ]
    },
    {
     "name": "stderr",
     "output_type": "stream",
     "text": [
      "2021-04-29 18:17:50,942:(0.72s):geometry:setting atoms_with_positions context new positions\n"
     ]
    },
    {
     "name": "stdout",
     "output_type": "stream",
     "text": [
      "conducting subsequent work with the following platform: CUDA\n"
     ]
    },
    {
     "name": "stderr",
     "output_type": "stream",
     "text": [
      "2021-04-29 18:17:51,459:(0.52s):geometry:There are 1 new atoms\n",
      "2021-04-29 18:17:51,467:(0.01s):geometry:\treduced angle potential = 0.059531201766675694.\n",
      "2021-04-29 18:17:51,575:(0.11s):geometry:\tbeginning construction of no_nonbonded final system...\n",
      "2021-04-29 18:17:51,577:(0.00s):geometry:\tinitial no-nonbonded final system forces ['HarmonicBondForce', 'HarmonicAngleForce', 'PeriodicTorsionForce', 'NonbondedForce', 'MonteCarloBarostat']\n",
      "2021-04-29 18:17:51,697:(0.12s):geometry:\tfinal no-nonbonded final system forces dict_keys(['HarmonicBondForce', 'HarmonicAngleForce', 'PeriodicTorsionForce', 'NonbondedForce'])\n",
      "2021-04-29 18:17:51,698:(0.00s):geometry:\tthere are 27 bond forces in the no-nonbonded final system\n",
      "2021-04-29 18:17:51,700:(0.00s):geometry:\tthere are 85 angle forces in the no-nonbonded final system\n",
      "2021-04-29 18:17:51,701:(0.00s):geometry:\tthere are 157 torsion forces in the no-nonbonded final system\n",
      "2021-04-29 18:17:51,703:(0.00s):geometry:forward final system defined with 0 neglected angles.\n"
     ]
    },
    {
     "name": "stdout",
     "output_type": "stream",
     "text": [
      "conducting subsequent work with the following platform: CUDA\n",
      "conducting subsequent work with the following platform: CUDA\n"
     ]
    },
    {
     "name": "stderr",
     "output_type": "stream",
     "text": [
      "2021-04-29 18:17:53,015:(1.31s):geometry:total reduced potential before atom placement: 48.41967204742058\n"
     ]
    },
    {
     "name": "stdout",
     "output_type": "stream",
     "text": [
      "conducting subsequent work with the following platform: CUDA\n",
      "conducting subsequent work with the following platform: CUDA\n",
      "conducting subsequent work with the following platform: CUDA\n"
     ]
    },
    {
     "name": "stderr",
     "output_type": "stream",
     "text": [
      "2021-04-29 18:17:54,622:(1.61s):geometry:total reduced energy added from growth system: 7.951723702867184\n",
      "2021-04-29 18:17:54,624:(0.00s):geometry:final reduced energy 56.3713966942179\n",
      "2021-04-29 18:17:54,625:(0.00s):geometry:sum of energies: 56.37139575028777\n",
      "2021-04-29 18:17:54,627:(0.00s):geometry:magnitude of difference in the energies: 9.43930132280002e-07\n",
      "2021-04-29 18:17:54,629:(0.00s):geometry:Final logp_proposal: 8.011655444674503\n"
     ]
    },
    {
     "name": "stdout",
     "output_type": "stream",
     "text": [
      "added energy components: [('CustomBondForce', 0.0), ('CustomAngleForce', 0.16019112603868477), ('CustomTorsionForce', 0.006450919627638704), ('CustomBondForce', 7.7850816572008625)]\n"
     ]
    },
    {
     "name": "stderr",
     "output_type": "stream",
     "text": [
      "2021-04-29 18:17:54,849:(0.22s):geometry:logp_reverse: performing reverse proposal\n",
      "2021-04-29 18:17:54,852:(0.00s):geometry:logp_reverse: unique new atoms detected; proceeding to _logp_propose...\n",
      "2021-04-29 18:17:54,854:(0.00s):geometry:Conducting forward proposal...\n",
      "2021-04-29 18:17:54,856:(0.00s):geometry:Computing proposal order with NetworkX...\n",
      "2021-04-29 18:17:54,869:(0.01s):geometry:number of atoms to be placed: 1\n",
      "2021-04-29 18:17:54,871:(0.00s):geometry:Atom index proposal order is [44]\n",
      "2021-04-29 18:17:54,873:(0.00s):geometry:omitted_bonds: []\n",
      "2021-04-29 18:17:54,875:(0.00s):geometry:direction of proposal is reverse; creating atoms_with_positions from old system/topology\n",
      "2021-04-29 18:17:55,204:(0.33s):geometry:creating growth system...\n",
      "2021-04-29 18:17:55,244:(0.04s):geometry:\tcreating bond force...\n",
      "2021-04-29 18:17:55,245:(0.00s):geometry:\tthere are 28 bonds in reference force.\n",
      "2021-04-29 18:17:55,248:(0.00s):geometry:\tcreating angle force...\n",
      "2021-04-29 18:17:55,250:(0.00s):geometry:\tthere are 85 angles in reference force.\n",
      "2021-04-29 18:17:55,253:(0.00s):geometry:\tcreating torsion force...\n",
      "2021-04-29 18:17:55,255:(0.00s):geometry:\tcreating extra torsions force...\n",
      "2021-04-29 18:17:55,257:(0.00s):geometry:\tthere are 157 torsions in reference force.\n",
      "2021-04-29 18:17:55,260:(0.00s):geometry:\tcreating nonbonded force...\n",
      "2021-04-29 18:17:55,263:(0.00s):geometry:\t\tgrabbing reference nonbonded method, cutoff, switching function, switching distance...\n",
      "2021-04-29 18:17:55,265:(0.00s):geometry:\t\tcreating nonbonded exception force (i.e. custom bond for 1,4s)...\n",
      "2021-04-29 18:17:55,266:(0.00s):geometry:\t\tlooping through exceptions calculating growth indices, and adding appropriate interactions to custom bond force.\n",
      "2021-04-29 18:17:55,268:(0.00s):geometry:\t\tthere are 2395 in the reference Nonbonded force\n",
      "2021-04-29 18:17:55,315:(0.05s):geometry:Neglected angle terms : []\n",
      "2021-04-29 18:17:55,316:(0.00s):geometry:omitted_growth_terms: {'bonds': [], 'angles': [], 'torsions': [], '1,4s': []}\n",
      "2021-04-29 18:17:55,318:(0.00s):geometry:extra torsions: {0: (9, 10, 11, 44, [1, Quantity(value=0.017128570696415935, unit=radian), Quantity(value=1200.0, unit=kilocalorie/mole), 1]), 1: (39, 10, 11, 44, [1, Quantity(value=3.1337857477223063, unit=radian), Quantity(value=1200.0, unit=kilocalorie/mole), 1]), 2: (44, 11, 12, 22, [1, Quantity(value=0.00863885124394681, unit=radian), Quantity(value=1200.0, unit=kilocalorie/mole), 1]), 3: (44, 11, 12, 40, [1, Quantity(value=-3.1382699121359634, unit=radian), Quantity(value=1200.0, unit=kilocalorie/mole), 1])}\n",
      "2021-04-29 18:17:55,320:(0.00s):geometry:neglected angle terms include []\n",
      "2021-04-29 18:17:55,321:(0.00s):geometry:log probability choice of torsions and atom order: -1.3862943611198906\n",
      "2021-04-29 18:17:55,323:(0.00s):geometry:creating platform, integrators, and contexts; setting growth parameter\n"
     ]
    },
    {
     "name": "stdout",
     "output_type": "stream",
     "text": [
      "conducting subsequent work with the following platform: CUDA\n"
     ]
    },
    {
     "name": "stderr",
     "output_type": "stream",
     "text": [
      "2021-04-29 18:17:55,939:(0.62s):geometry:setting atoms_with_positions context old positions\n"
     ]
    },
    {
     "name": "stdout",
     "output_type": "stream",
     "text": [
      "conducting subsequent work with the following platform: CUDA\n"
     ]
    },
    {
     "name": "stderr",
     "output_type": "stream",
     "text": [
      "2021-04-29 18:17:56,545:(0.61s):geometry:There are 1 new atoms\n",
      "2021-04-29 18:17:56,551:(0.01s):geometry:\treduced angle potential = 0.012250173302112203.\n",
      "2021-04-29 18:17:56,689:(0.14s):geometry:\tbeginning construction of no_nonbonded final system...\n",
      "2021-04-29 18:17:56,693:(0.00s):geometry:\tinitial no-nonbonded final system forces ['HarmonicBondForce', 'HarmonicAngleForce', 'PeriodicTorsionForce', 'NonbondedForce', 'MonteCarloBarostat']\n",
      "2021-04-29 18:17:56,819:(0.13s):geometry:\tfinal no-nonbonded final system forces dict_keys(['HarmonicBondForce', 'HarmonicAngleForce', 'PeriodicTorsionForce', 'NonbondedForce'])\n",
      "2021-04-29 18:17:56,821:(0.00s):geometry:\tthere are 28 bond forces in the no-nonbonded final system\n",
      "2021-04-29 18:17:56,822:(0.00s):geometry:\tthere are 85 angle forces in the no-nonbonded final system\n",
      "2021-04-29 18:17:56,824:(0.00s):geometry:\tthere are 157 torsion forces in the no-nonbonded final system\n",
      "2021-04-29 18:17:56,825:(0.00s):geometry:reverse final system defined with 0 neglected angles.\n"
     ]
    },
    {
     "name": "stdout",
     "output_type": "stream",
     "text": [
      "conducting subsequent work with the following platform: CUDA\n",
      "conducting subsequent work with the following platform: CUDA\n"
     ]
    },
    {
     "name": "stderr",
     "output_type": "stream",
     "text": [
      "2021-04-29 18:17:58,053:(1.23s):geometry:total reduced potential before atom placement: 48.41899607369698\n"
     ]
    },
    {
     "name": "stdout",
     "output_type": "stream",
     "text": [
      "conducting subsequent work with the following platform: CUDA\n",
      "conducting subsequent work with the following platform: CUDA\n",
      "conducting subsequent work with the following platform: CUDA\n"
     ]
    },
    {
     "name": "stderr",
     "output_type": "stream",
     "text": [
      "2021-04-29 18:17:59,558:(1.50s):geometry:total reduced energy added from growth system: -5.056837038117532\n",
      "2021-04-29 18:17:59,560:(0.00s):geometry:final reduced energy 43.36216011253515\n",
      "2021-04-29 18:17:59,562:(0.00s):geometry:sum of energies: 43.36215903557945\n",
      "2021-04-29 18:17:59,563:(0.00s):geometry:magnitude of difference in the energies: 1.0769557015066766e-06\n",
      "2021-04-29 18:17:59,564:(0.00s):geometry:Final logp_proposal: 11.821616720480304\n"
     ]
    },
    {
     "name": "stdout",
     "output_type": "stream",
     "text": [
      "added energy components: [('CustomBondForce', 0.0879842954280575), ('CustomAngleForce', 0.04605409749261916), ('CustomTorsionForce', 0.005423200139534058), ('CustomBondForce', -5.1962986311777435)]\n"
     ]
    },
    {
     "name": "stderr",
     "output_type": "stream",
     "text": [
      "2021-04-29 18:17:59,755:(0.19s):root:\twriting pickle output...\n",
      "2021-04-29 18:17:59,869:(0.11s):root:\tsuccessfully dumped pickle.\n",
      "2021-04-29 18:17:59,873:(0.00s):root:\tsetup is complete.  Writing proposals and positions for each phase to top_prop dict...\n",
      "2021-04-29 18:17:59,875:(0.00s):root:\twriting atom_mapping.png\n",
      "2021-04-29 18:18:00,149:(0.27s):root:\t steps per move application: 50\n",
      "2021-04-29 18:18:00,153:(0.00s):root:\ttrajectory prefix: out\n",
      "2021-04-29 18:18:00,155:(0.00s):root:\tatom selection detected: not water\n",
      "2021-04-29 18:18:00,157:(0.00s):root:\tno nonequilibrium detected.\n",
      "2021-04-29 18:18:00,159:(0.00s):root:\tcataloging HybridTopologyFactories...\n",
      "2021-04-29 18:18:00,161:(0.00s):root:\t\tphase: solvent:\n",
      "2021-04-29 18:18:00,163:(0.00s):root:\t\twriting HybridTopologyFactory for phase solvent...\n",
      "2021-04-29 18:18:00,165:(0.00s):relative:*** Generating RxnHybridTopologyFactory ***\n",
      "2021-04-29 18:18:00,167:(0.00s):relative:Beginning nonbonded method, total particle, barostat, and exceptions retrieval...\n",
      "2021-04-29 18:18:00,214:(0.05s):relative:Old system forces: dict_keys(['HarmonicBondForce', 'HarmonicAngleForce', 'PeriodicTorsionForce', 'NonbondedForce', 'MonteCarloBarostat'])\n",
      "2021-04-29 18:18:00,215:(0.00s):relative:New system forces: dict_keys(['HarmonicBondForce', 'HarmonicAngleForce', 'PeriodicTorsionForce', 'NonbondedForce', 'MonteCarloBarostat'])\n",
      "2021-04-29 18:18:00,216:(0.00s):relative:No unknown forces.\n",
      "2021-04-29 18:18:00,218:(0.00s):relative:Nonbonded method to be used (i.e. from old system): 4\n",
      "2021-04-29 18:18:00,219:(0.00s):relative:Adding and mapping old atoms to hybrid system...\n",
      "2021-04-29 18:18:00,237:(0.02s):relative:Adding and mapping new atoms to hybrid system...\n",
      "2021-04-29 18:18:00,238:(0.00s):relative:scale_templates: [['nonscale_lambda'], ['nonscale_region']]\n",
      "2021-04-29 18:18:00,240:(0.00s):relative:Added MonteCarloBarostat.\n",
      "2021-04-29 18:18:00,241:(0.00s):relative:getDefaultPeriodicBoxVectors added to hybrid: [Quantity(value=Vec3(x=2.875229835510254, y=0.0, z=0.0), unit=nanometer), Quantity(value=Vec3(x=0.0, y=2.875229835510254, z=0.0), unit=nanometer), Quantity(value=Vec3(x=0.0, y=0.0, z=2.875229835510254), unit=nanometer)]\n",
      "2021-04-29 18:18:00,244:(0.00s):relative:Determined atom classes.\n",
      "2021-04-29 18:18:00,245:(0.00s):relative:Generating old system exceptions dict...\n",
      "2021-04-29 18:18:00,258:(0.01s):relative:Generating new system exceptions dict...\n",
      "2021-04-29 18:18:00,275:(0.02s):relative:Handling constraints...\n",
      "2021-04-29 18:18:00,315:(0.04s):relative:Handling virtual sites...\n",
      "2021-04-29 18:18:00,318:(0.00s):relative:\t_handle_virtual_sites: numVirtualSites: 0\n",
      "2021-04-29 18:18:00,347:(0.03s):root:'use_given_geometries' was passed to setup; skipping endstate validation\n",
      "2021-04-29 18:18:00,349:(0.00s):root:omitting sampler construction\n"
     ]
    }
   ],
   "source": [
    "# Create a htf\n",
    "setup_directory = resource_filename(\"perses\", \"data/cdk2-example\")\n",
    "\n",
    "# Get options\n",
    "from perses.app.setup_relative_calculation import getSetupOptions\n",
    "yaml_filename = os.path.join(setup_directory, \"cdk2_setup_repex.yaml\")\n",
    "setup_options = getSetupOptions(yaml_filename)\n",
    "\n",
    "# Update options\n",
    "for parameter in ['protein_pdb', 'ligand_file']:\n",
    "    setup_options[parameter] = os.path.join(setup_directory, setup_options[parameter])\n",
    "    \n",
    "setup_options['rxn_field'] = True\n",
    "setup_options['phases'] = ['solvent']\n",
    "setup_options['scale_regions'] = None\n",
    "setup_options['validate_endstate_energies'] = False\n",
    "    \n",
    "setup_dict = setup_relative_calculation.run_setup(setup_options, serialize_systems=False, build_samplers=False)"
   ]
  },
  {
   "cell_type": "code",
   "execution_count": 29,
   "id": "03f43952",
   "metadata": {},
   "outputs": [
    {
     "data": {
      "text/plain": [
       "{'protein_pdb': '/home/zhangi/miniconda3/envs/perses-rxn-field/lib/python3.8/site-packages/perses-0.8.2.dev0-py3.8.egg/perses/data/cdk2-example/CDK2_fixed_nohet.pdb',\n",
       " 'ligand_file': '/home/zhangi/miniconda3/envs/perses-rxn-field/lib/python3.8/site-packages/perses-0.8.2.dev0-py3.8.egg/perses/data/cdk2-example/CDK2_ligands.sdf',\n",
       " 'old_ligand_index': 14,\n",
       " 'new_ligand_index': 15,\n",
       " 'forcefield_files': ['amber/protein.ff14SB.xml',\n",
       "  'amber/tip3p_standard.xml',\n",
       "  'amber/tip3p_HFE_multivalent.xml'],\n",
       " 'small_molecule_forcefield': 'gaff-2.11',\n",
       " 'small_molecule_parameters_cache': 'cdk2-cache.json',\n",
       " 'pressure': 1.0,\n",
       " 'temperature': 300.0,\n",
       " 'solvent_padding': 9.0,\n",
       " 'save_setup_pickle_as': 'fesetup_hbonds.pkl',\n",
       " 'n_steps_per_move_application': 50,\n",
       " 'fe_type': 'repex',\n",
       " 'checkpoint_interval': 250,\n",
       " 'n_cycles': 2,\n",
       " 'n_states': 6,\n",
       " 'n_equilibration_iterations': 0,\n",
       " 'trajectory_directory': 'output',\n",
       " 'trajectory_prefix': 'out',\n",
       " 'atom_selection': 'not water',\n",
       " 'phases': ['solvent'],\n",
       " 'protocol-type': 'default',\n",
       " 'ionic_strength': 0.15,\n",
       " 'remove_constraints': False,\n",
       " 'spectators': None,\n",
       " 'complex_box_dimensions': None,\n",
       " 'solvent_box_dimensions': None,\n",
       " 'neglect_angles': False,\n",
       " 'anneal_1,4s': False,\n",
       " 'nonbonded_method': 'PME',\n",
       " 'render_atom_map': True,\n",
       " 'run_type': None,\n",
       " 'offline-freq': 10,\n",
       " 'atom_expr': None,\n",
       " 'bond_expr': None,\n",
       " 'map_strength': None,\n",
       " 'softcore_v2': False,\n",
       " 'rxn_field': True,\n",
       " 'scale_regions': None,\n",
       " 'validate_endstate_energies': False}"
      ]
     },
     "execution_count": 29,
     "metadata": {},
     "output_type": "execute_result"
    }
   ],
   "source": [
    "setup_options"
   ]
  },
  {
   "cell_type": "code",
   "execution_count": 11,
   "id": "058f9b83",
   "metadata": {
    "scrolled": true
   },
   "outputs": [],
   "source": [
    "htf = setup_dict['hybrid_topology_factories']['solvent']"
   ]
  },
  {
   "cell_type": "markdown",
   "id": "115af5f8",
   "metadata": {},
   "source": [
    "### Test one alchemical region, no scale regions"
   ]
  },
  {
   "cell_type": "markdown",
   "id": "60604039",
   "metadata": {},
   "source": [
    "#### Old system HarmonicBondForce vs hybrid system CustomBondForce"
   ]
  },
  {
   "cell_type": "code",
   "execution_count": 86,
   "id": "c301b106",
   "metadata": {},
   "outputs": [],
   "source": [
    "# Load htf\n",
    "with open(\"/home/zhangi/choderalab/perses_benchmark/perses_protein_mutations/code/26_rxn_field/cdk2_solvent.pickle\", \"rb\") as f:\n",
    "    setup_dict = pickle.load(f)\n",
    "    htf = setup_dict['hybrid_topology_factories']['solvent']"
   ]
  },
  {
   "cell_type": "code",
   "execution_count": 87,
   "id": "41891b46",
   "metadata": {},
   "outputs": [
    {
     "name": "stdout",
     "output_type": "stream",
     "text": [
      "Warning: Returning CPU platform instead of requested platform <simtk.openmm.openmm.Platform; proxy of <Swig Object of type 'OpenMM::Platform *' at 0x2b9a06d43f30> >\n",
      "conducting subsequent work with the following platform: CPU\n",
      "conducting subsequent work with the following platform: CUDA\n",
      "[('HarmonicBondForce', 4.608082977954756), ('HarmonicAngleForce', 29.199523609209102), ('PeriodicTorsionForce', 15.076747992617829), ('NonbondedForce', 1700.223999491089), ('AndersenThermostat', 0.0), ('MonteCarloBarostat', 0.0)]\n",
      "conducting subsequent work with the following platform: CUDA\n",
      "[('CustomBondForce', 4.608082977954756), ('AndersenThermostat', 0.0), ('MonteCarloBarostat', 0.0)]\n",
      "Success! Custom bond force and standard bond force energies are equal!\n"
     ]
    }
   ],
   "source": [
    "test_bond_energies(htf, is_solvated=True)"
   ]
  },
  {
   "cell_type": "markdown",
   "id": "1aa884bc",
   "metadata": {},
   "source": [
    "#### New system HarmonicBondForce vs hybrid system CustomBondForce"
   ]
  },
  {
   "cell_type": "code",
   "execution_count": 88,
   "id": "ea1e2d34",
   "metadata": {},
   "outputs": [],
   "source": [
    "# Load htf\n",
    "with open(\"/home/zhangi/choderalab/perses_benchmark/perses_protein_mutations/code/26_rxn_field/cdk2_solvent.pickle\", \"rb\") as f:\n",
    "    setup_dict = pickle.load(f)\n",
    "    htf = setup_dict['hybrid_topology_factories']['solvent']"
   ]
  },
  {
   "cell_type": "code",
   "execution_count": 89,
   "id": "efc8566f",
   "metadata": {},
   "outputs": [
    {
     "name": "stdout",
     "output_type": "stream",
     "text": [
      "Warning: Returning CPU platform instead of requested platform <simtk.openmm.openmm.Platform; proxy of <Swig Object of type 'OpenMM::Platform *' at 0x2b9a06d43f30> >\n",
      "conducting subsequent work with the following platform: CPU\n",
      "conducting subsequent work with the following platform: CUDA\n",
      "[('HarmonicBondForce', 4.519508183899664), ('HarmonicAngleForce', 29.16743219736821), ('PeriodicTorsionForce', 15.08569135447898), ('NonbondedForce', 1717.5107626234537), ('AndersenThermostat', 0.0), ('MonteCarloBarostat', 0.0)]\n",
      "conducting subsequent work with the following platform: CUDA\n",
      "[('CustomBondForce', 4.519508183899664), ('AndersenThermostat', 0.0), ('MonteCarloBarostat', 0.0)]\n",
      "Success! Custom bond force and standard bond force energies are equal!\n"
     ]
    }
   ],
   "source": [
    "test_bond_energies(htf, is_old=False, is_solvated=True)"
   ]
  },
  {
   "cell_type": "markdown",
   "id": "b390ade2",
   "metadata": {},
   "source": [
    "### Test one alchemical region, one scale region"
   ]
  },
  {
   "cell_type": "code",
   "execution_count": 6,
   "id": "8671a075",
   "metadata": {},
   "outputs": [],
   "source": [
    "import os\n",
    "from pkg_resources import resource_filename\n",
    "from perses.app import setup_relative_calculation\n",
    "import pickle"
   ]
  },
  {
   "cell_type": "code",
   "execution_count": 55,
   "id": "63072c61",
   "metadata": {
    "scrolled": true
   },
   "outputs": [
    {
     "name": "stderr",
     "output_type": "stream",
     "text": [
      "2021-04-29 18:27:10,995:(4.85s):root:\tDetecting phases...\n",
      "2021-04-29 18:27:10,998:(0.00s):root:\t\tphases detected: ['complex', 'solvent', 'vacuum']\n",
      "2021-04-29 18:27:11,001:(0.00s):root:No constraints will be removed\n",
      "2021-04-29 18:27:11,004:(0.00s):root:No spectators\n",
      "2021-04-29 18:27:11,006:(0.00s):root:\t\t\trun_type is not specified; default to None\n",
      "2021-04-29 18:27:11,009:(0.00s):root:\tDetecting fe_type...\n",
      "2021-04-29 18:27:11,011:(0.00s):root:\t\tfe_type: repex\n",
      "2021-04-29 18:27:11,013:(0.00s):root:\t\t\toffline-freq not specified: default to 10.\n",
      "2021-04-29 18:27:11,014:(0.00s):root:\t'neglect_angles' detected: False.\n",
      "2021-04-29 18:27:11,015:(0.00s):root:\t'softcore_v2' not specified: default to 'False'\n",
      "2021-04-29 18:27:11,019:(0.00s):root:\tCreating 'output'...\n",
      "2021-04-29 18:27:11,030:(0.01s):root:\tdetected ligand file: /home/zhangi/miniconda3/envs/perses-rxn-field/lib/python3.8/site-packages/perses-0.8.2.dev0-py3.8.egg/perses/data/cdk2-example/CDK2_ligands.sdf\n",
      "2021-04-29 18:27:11,031:(0.00s):root:\told ligand index: 14; new ligand index: 15\n",
      "2021-04-29 18:27:11,032:(0.00s):root:\tsetting up forcefield files...\n",
      "2021-04-29 18:27:11,033:(0.00s):root:\tno timestep detected: setting default as 1.0fs.\n",
      "2021-04-29 18:27:11,034:(0.00s):root:\tno splitting strings specified: defaulting to neq: V R O R V, eq: V R O R V.\n",
      "2021-04-29 18:27:11,035:(0.00s):root:\tno measure_shadow_work specified: defaulting to False.\n",
      "2021-04-29 18:27:11,037:(0.00s):root:\tsetting pressure: 1.0 atm.\n",
      "2021-04-29 18:27:11,038:(0.00s):root:\tsetting temperature: 300.0 K.\n",
      "2021-04-29 18:27:11,039:(0.00s):root:\tsetting solvent padding: 9.0 AA.\n",
      "2021-04-29 18:27:11,040:(0.00s):root:\tsetting ionic strength: 0.15 MM.\n",
      "2021-04-29 18:27:11,040:(0.00s):root:\tsetup pickle file: fesetup_hbonds.pkl\n",
      "2021-04-29 18:27:11,041:(0.00s):root:\ttrajectory directory: output\n",
      "2021-04-29 18:27:11,042:(0.00s):root:\tno atom map specified: default to None.\n",
      "2021-04-29 18:27:11,043:(0.00s):root:\tno topology_proposal specified; proceeding to RelativeFEPSetup...\n",
      "\n",
      "\n",
      "\n",
      "2021-04-29 18:27:11,044:(0.00s):root:Box dimensions: None and None\n",
      "2021-04-29 18:27:11,045:(0.00s):relative_setup:\t\t\t_hmass: 4 Da.\n",
      "\n",
      "2021-04-29 18:27:11,045:(0.00s):relative_setup:Setting non bonded method to PME\n",
      "2021-04-29 18:27:11,046:(0.00s):relative_setup:Handling files for ligands and indices...\n",
      "2021-04-29 18:27:11,047:(0.00s):relative_setup:Detected .sdf format.  Proceeding...\n",
      "2021-04-29 18:27:11,055:(0.01s):utils.openeye:molecule 17                      does not have unique atom names. Generating now...\n",
      "2021-04-29 18:27:11,085:(0.03s):utils.openeye:molecule 1h1q                      does not have unique atom names. Generating now...\n",
      "2021-04-29 18:27:11,090:(0.00s):relative_setup:\tsuccessfully extracted positions from OEMOL.\n",
      "2021-04-29 18:27:11,091:(0.00s):relative_setup:\tsetting both molecule oemol titles to 'MOL'.\n",
      "2021-04-29 18:27:11,092:(0.00s):relative_setup:\tsuccessfully created SMILES for both ligand OEMOLs.\n",
      "2021-04-29 18:27:11,096:(0.00s):relative_setup:\tsuccessfully generated topologies for both OEMOLs.\n",
      "2021-04-29 18:27:11,110:(0.01s):relative_setup:Created mdtraj topologies for both ligands.\n",
      "2021-04-29 18:27:11,111:(0.00s):relative_setup:set MonteCarloBarostat because pressure was specified as 1.0 atm atmospheres\n",
      "2021-04-29 18:27:11,133:(0.02s):relative_setup:PME tolerance: 0.00025\n",
      "2021-04-29 18:27:11,553:(0.42s):relative_setup:successfully created SystemGenerator to create ligand systems\n",
      "2021-04-29 18:27:11,557:(0.00s):relative_setup:executing SmallMoleculeSetProposalEngine...\n",
      "2021-04-29 18:27:11,560:(0.00s):relative_setup:instantiating FFAllAngleGeometryEngine...\n",
      "2021-04-29 18:27:11,563:(0.00s):relative_setup:Detected solvent...\n",
      "2021-04-29 18:27:11,565:(0.00s):relative_setup:no complex detected in phases...generating unique topology/geometry proposals...\n",
      "2021-04-29 18:27:11,567:(0.00s):relative_setup:solvating ligand...\n",
      "2021-04-29 18:27:11,570:(0.00s):relative_setup:box_dimensions: None\n",
      "2021-04-29 18:27:11,572:(0.00s):relative_setup:solvent padding: 9.0\n",
      "2021-04-29 18:27:11,575:(0.00s):relative_setup:\tpreparing to add solvent\n",
      "2021-04-29 18:27:11,893:(0.32s):openmmforcefields.generators.template_generators:Requested to generate parameters for residue <Residue 0 (MOL) of chain 0>\n",
      "2021-04-29 18:27:12,543:(0.65s):relative_setup:\tparameterizing...\n",
      "2021-04-29 18:27:12,878:(0.34s):relative_setup:\tSystem parameterized\n",
      "2021-04-29 18:27:12,948:(0.07s):relative_setup:creating TopologyProposal\n",
      "2021-04-29 18:27:12,952:(0.00s):proposal_generator:creating current receptor topology by removing small molecule from current topology...\n",
      "2021-04-29 18:27:12,969:(0.02s):proposal_generator:small molecule start index: 0\n",
      "2021-04-29 18:27:12,971:(0.00s):proposal_generator:small molecule has 45 atoms.\n",
      "2021-04-29 18:27:12,974:(0.00s):proposal_generator:old alchemical atom indices: range(0, 45)\n",
      "2021-04-29 18:27:12,976:(0.00s):proposal_generator:proposed mol detected with smiles [H]c1c(c(c(c(c1[H])[H])N([H])c2nc3c(c(n2)OC([H])([H])C4(C(C(C(C(C4([H])[H])([H])[H])([H])[H])([H])[H])([H])[H])[H])nc(n3[H])[H])[H])[H] and logp_proposal of 0.0\n",
      "2021-04-29 18:27:12,979:(0.00s):proposal_generator:conducting proposal from [H]c1c(c(c(c(c1[H])Br)[H])N([H])c2nc3c(c(n2)OC([H])([H])C4(C(C(C(C(C4([H])[H])([H])[H])([H])[H])([H])[H])([H])[H])[H])nc(n3[H])[H])[H] to [H]c1c(c(c(c(c1[H])[H])N([H])c2nc3c(c(n2)OC([H])([H])C4(C(C(C(C(C4([H])[H])([H])[H])([H])[H])([H])[H])([H])[H])[H])nc(n3[H])[H])[H])[H]...\n",
      "2021-04-29 18:27:12,981:(0.00s):proposal_generator:building new topology with proposed molecule and current receptor topology...\n",
      "2021-04-29 18:27:12,984:(0.00s):proposal_generator:\tsetting proposed oemol title to MOL\n",
      "2021-04-29 18:27:12,986:(0.00s):proposal_generator:\tcreating mol topology from oemol...\n",
      "2021-04-29 18:27:12,989:(0.00s):proposal_generator:\tappending current receptor topology to new mol topology...\n",
      "2021-04-29 18:27:13,007:(0.02s):proposal_generator:\tperiodic box vectors of the current receptor is specified; copying to new topology...\n",
      "2021-04-29 18:27:13,010:(0.00s):proposal_generator:new molecule has a start index of 2152 and 45 atoms.\n",
      "2021-04-29 18:27:13,013:(0.00s):proposal_generator:proceeding to build the new system from the new topology...\n",
      "2021-04-29 18:27:13,064:(0.05s):openmmforcefields.generators.template_generators:Requested to generate parameters for residue <Residue 720 (MOL) of chain 3>\n",
      "2021-04-29 18:27:13,427:(0.36s):proposal_generator:determining atom map between old and new molecules...\n",
      "2021-04-29 18:27:13,431:(0.00s):proposal_generator:the atom map is not specified; proceeding to generate an atom map...\n",
      "2021-04-29 18:27:13,434:(0.00s):proposal_generator:Using geometry to chose best atom map\n",
      "2021-04-29 18:27:13,452:(0.02s):proposal_generator:Scaffold has symmetry of 4\n",
      "2021-04-29 18:27:13,455:(0.00s):proposal_generator:There are 4 before filtering\n",
      "2021-04-29 18:27:13,457:(0.00s):proposal_generator:There are 4 after filtering to remove maps with fewer matches than 24 atoms\n",
      "2021-04-29 18:27:13,466:(0.01s):proposal_generator:1 scaffold maps for A\n",
      "2021-04-29 18:27:13,468:(0.00s):proposal_generator:Scaffold to molA: {0: 0, 1: 1, 2: 2, 3: 3, 8: 4, 7: 5, 6: 6, 5: 7, 4: 8, 11: 9, 10: 10, 9: 11, 23: 12, 13: 13, 14: 14, 15: 15, 16: 16, 17: 17, 18: 18, 19: 19, 20: 20, 21: 21, 22: 22, 12: 23}\n",
      "2021-04-29 18:27:13,476:(0.01s):proposal_generator:1 scaffold maps for B\n",
      "2021-04-29 18:27:13,479:(0.00s):proposal_generator:Scaffold to molB: {0: 0, 1: 1, 2: 2, 3: 3, 8: 4, 7: 5, 6: 6, 5: 7, 4: 8, 11: 9, 10: 10, 9: 11, 23: 12, 13: 13, 14: 14, 15: 15, 16: 16, 17: 17, 18: 18, 19: 19, 20: 20, 21: 21, 22: 22, 12: 23}\n",
      "2021-04-29 18:27:16,501:(3.02s):proposal_generator:4 maps are reduced to 1\n",
      "2021-04-29 18:27:16,504:(0.00s):proposal_generator:molecule_maps_scores: dict_keys([19.8560123167367])\n",
      "2021-04-29 18:27:16,507:(0.00s):proposal_generator:Returning map with closest geometry satisfaction\n",
      "2021-04-29 18:27:16,712:(0.21s):proposal_generator:Proposed transformation would delete 1 atoms and create 1 atoms.\n",
      "2021-04-29 18:27:16,716:(0.00s):relative_setup:conducting geometry proposal...\n",
      "2021-04-29 18:27:16,718:(0.00s):geometry:propose: performing forward proposal\n",
      "2021-04-29 18:27:16,721:(0.00s):geometry:propose: unique new atoms detected; proceeding to _logp_propose...\n"
     ]
    },
    {
     "name": "stderr",
     "output_type": "stream",
     "text": [
      "2021-04-29 18:27:16,723:(0.00s):geometry:Conducting forward proposal...\n",
      "2021-04-29 18:27:16,725:(0.00s):geometry:Computing proposal order with NetworkX...\n",
      "2021-04-29 18:27:16,742:(0.02s):geometry:number of atoms to be placed: 1\n",
      "2021-04-29 18:27:16,744:(0.00s):geometry:Atom index proposal order is [2190]\n",
      "2021-04-29 18:27:16,746:(0.00s):geometry:omitted_bonds: []\n",
      "2021-04-29 18:27:16,748:(0.00s):geometry:direction of proposal is forward; creating atoms_with_positions and new positions from old system/topology...\n",
      "2021-04-29 18:27:17,061:(0.31s):geometry:creating growth system...\n",
      "2021-04-29 18:27:17,141:(0.08s):geometry:\tcreating bond force...\n",
      "2021-04-29 18:27:17,145:(0.00s):geometry:\tthere are 27 bonds in reference force.\n",
      "2021-04-29 18:27:17,147:(0.00s):geometry:\tcreating angle force...\n",
      "2021-04-29 18:27:17,149:(0.00s):geometry:\tthere are 85 angles in reference force.\n",
      "2021-04-29 18:27:17,153:(0.00s):geometry:\tcreating torsion force...\n",
      "2021-04-29 18:27:17,155:(0.00s):geometry:\tcreating extra torsions force...\n",
      "2021-04-29 18:27:17,157:(0.00s):geometry:\tthere are 157 torsions in reference force.\n",
      "2021-04-29 18:27:17,160:(0.00s):geometry:\tcreating nonbonded force...\n",
      "2021-04-29 18:27:17,162:(0.00s):geometry:\t\tgrabbing reference nonbonded method, cutoff, switching function, switching distance...\n",
      "2021-04-29 18:27:17,164:(0.00s):geometry:\t\tcreating nonbonded exception force (i.e. custom bond for 1,4s)...\n",
      "2021-04-29 18:27:17,166:(0.00s):geometry:\t\tlooping through exceptions calculating growth indices, and adding appropriate interactions to custom bond force.\n",
      "2021-04-29 18:27:17,168:(0.00s):geometry:\t\tthere are 2395 in the reference Nonbonded force\n",
      "2021-04-29 18:27:17,261:(0.09s):geometry:Neglected angle terms : []\n",
      "2021-04-29 18:27:17,265:(0.00s):geometry:omitted_growth_terms: {'bonds': [], 'angles': [], 'torsions': [], '1,4s': []}\n",
      "2021-04-29 18:27:17,268:(0.00s):geometry:extra torsions: {0: (2190, 2161, 2162, 2163, [1, Quantity(value=-0.019594642035228205, unit=radian), Quantity(value=1200.0, unit=kilocalorie/mole), 1]), 1: (2190, 2161, 2162, 2191, [1, Quantity(value=-3.1361896196768977, unit=radian), Quantity(value=1200.0, unit=kilocalorie/mole), 1]), 2: (2190, 2161, 2175, 2174, [1, Quantity(value=-0.008871224163264912, unit=radian), Quantity(value=1200.0, unit=kilocalorie/mole), 1]), 3: (2190, 2161, 2175, 2196, [1, Quantity(value=3.1405837865634907, unit=radian), Quantity(value=1200.0, unit=kilocalorie/mole), 1])}\n",
      "2021-04-29 18:27:17,270:(0.00s):geometry:neglected angle terms include []\n",
      "2021-04-29 18:27:17,272:(0.00s):geometry:log probability choice of torsions and atom order: -1.3862943611198906\n",
      "2021-04-29 18:27:17,275:(0.00s):geometry:creating platform, integrators, and contexts; setting growth parameter\n"
     ]
    },
    {
     "name": "stdout",
     "output_type": "stream",
     "text": [
      "conducting subsequent work with the following platform: CUDA\n"
     ]
    },
    {
     "name": "stderr",
     "output_type": "stream",
     "text": [
      "2021-04-29 18:27:18,191:(0.92s):geometry:setting atoms_with_positions context new positions\n"
     ]
    },
    {
     "name": "stdout",
     "output_type": "stream",
     "text": [
      "conducting subsequent work with the following platform: CUDA\n"
     ]
    },
    {
     "name": "stderr",
     "output_type": "stream",
     "text": [
      "2021-04-29 18:27:18,953:(0.76s):geometry:There are 1 new atoms\n",
      "2021-04-29 18:27:18,965:(0.01s):geometry:\treduced angle potential = 0.003217046912393639.\n",
      "2021-04-29 18:27:19,130:(0.16s):geometry:\tbeginning construction of no_nonbonded final system...\n",
      "2021-04-29 18:27:19,134:(0.00s):geometry:\tinitial no-nonbonded final system forces ['HarmonicBondForce', 'HarmonicAngleForce', 'PeriodicTorsionForce', 'NonbondedForce', 'MonteCarloBarostat']\n",
      "2021-04-29 18:27:19,364:(0.23s):geometry:\tfinal no-nonbonded final system forces dict_keys(['HarmonicBondForce', 'HarmonicAngleForce', 'PeriodicTorsionForce', 'NonbondedForce'])\n",
      "2021-04-29 18:27:19,367:(0.00s):geometry:\tthere are 27 bond forces in the no-nonbonded final system\n",
      "2021-04-29 18:27:19,369:(0.00s):geometry:\tthere are 85 angle forces in the no-nonbonded final system\n",
      "2021-04-29 18:27:19,371:(0.00s):geometry:\tthere are 157 torsion forces in the no-nonbonded final system\n",
      "2021-04-29 18:27:19,373:(0.00s):geometry:forward final system defined with 0 neglected angles.\n"
     ]
    },
    {
     "name": "stdout",
     "output_type": "stream",
     "text": [
      "conducting subsequent work with the following platform: CUDA\n",
      "conducting subsequent work with the following platform: CUDA\n"
     ]
    },
    {
     "name": "stderr",
     "output_type": "stream",
     "text": [
      "2021-04-29 18:27:21,291:(1.92s):geometry:total reduced potential before atom placement: 48.41967204742058\n"
     ]
    },
    {
     "name": "stdout",
     "output_type": "stream",
     "text": [
      "conducting subsequent work with the following platform: CUDA\n",
      "conducting subsequent work with the following platform: CUDA\n",
      "conducting subsequent work with the following platform: CUDA\n"
     ]
    },
    {
     "name": "stderr",
     "output_type": "stream",
     "text": [
      "2021-04-29 18:27:23,563:(2.27s):geometry:total reduced energy added from growth system: 7.831208057604808\n",
      "2021-04-29 18:27:23,567:(0.00s):geometry:final reduced energy 56.250880524052484\n",
      "2021-04-29 18:27:23,570:(0.00s):geometry:sum of energies: 56.25088010502539\n",
      "2021-04-29 18:27:23,572:(0.00s):geometry:magnitude of difference in the energies: 4.190270921355932e-07\n",
      "2021-04-29 18:27:23,575:(0.00s):geometry:Final logp_proposal: 8.139847489494816\n"
     ]
    },
    {
     "name": "stdout",
     "output_type": "stream",
     "text": [
      "added energy components: [('CustomBondForce', 0.0), ('CustomAngleForce', 0.019875766361780147), ('CustomTorsionForce', 0.014562106866630632), ('CustomBondForce', 7.796770184376398)]\n"
     ]
    },
    {
     "name": "stderr",
     "output_type": "stream",
     "text": [
      "2021-04-29 18:27:23,851:(0.28s):geometry:logp_reverse: performing reverse proposal\n",
      "2021-04-29 18:27:23,855:(0.00s):geometry:logp_reverse: unique new atoms detected; proceeding to _logp_propose...\n",
      "2021-04-29 18:27:23,857:(0.00s):geometry:Conducting forward proposal...\n",
      "2021-04-29 18:27:23,859:(0.00s):geometry:Computing proposal order with NetworkX...\n",
      "2021-04-29 18:27:23,878:(0.02s):geometry:number of atoms to be placed: 1\n",
      "2021-04-29 18:27:23,880:(0.00s):geometry:Atom index proposal order is [44]\n",
      "2021-04-29 18:27:23,882:(0.00s):geometry:omitted_bonds: []\n",
      "2021-04-29 18:27:23,885:(0.00s):geometry:direction of proposal is reverse; creating atoms_with_positions from old system/topology\n",
      "2021-04-29 18:27:24,135:(0.25s):geometry:creating growth system...\n",
      "2021-04-29 18:27:24,214:(0.08s):geometry:\tcreating bond force...\n",
      "2021-04-29 18:27:24,217:(0.00s):geometry:\tthere are 28 bonds in reference force.\n",
      "2021-04-29 18:27:24,220:(0.00s):geometry:\tcreating angle force...\n",
      "2021-04-29 18:27:24,222:(0.00s):geometry:\tthere are 85 angles in reference force.\n",
      "2021-04-29 18:27:24,226:(0.00s):geometry:\tcreating torsion force...\n",
      "2021-04-29 18:27:24,228:(0.00s):geometry:\tcreating extra torsions force...\n",
      "2021-04-29 18:27:24,231:(0.00s):geometry:\tthere are 157 torsions in reference force.\n",
      "2021-04-29 18:27:24,235:(0.00s):geometry:\tcreating nonbonded force...\n",
      "2021-04-29 18:27:24,237:(0.00s):geometry:\t\tgrabbing reference nonbonded method, cutoff, switching function, switching distance...\n",
      "2021-04-29 18:27:24,240:(0.00s):geometry:\t\tcreating nonbonded exception force (i.e. custom bond for 1,4s)...\n",
      "2021-04-29 18:27:24,242:(0.00s):geometry:\t\tlooping through exceptions calculating growth indices, and adding appropriate interactions to custom bond force.\n",
      "2021-04-29 18:27:24,244:(0.00s):geometry:\t\tthere are 2395 in the reference Nonbonded force\n",
      "2021-04-29 18:27:24,347:(0.10s):geometry:Neglected angle terms : []\n",
      "2021-04-29 18:27:24,351:(0.00s):geometry:omitted_growth_terms: {'bonds': [], 'angles': [], 'torsions': [], '1,4s': []}\n",
      "2021-04-29 18:27:24,353:(0.00s):geometry:extra torsions: {0: (9, 10, 11, 44, [1, Quantity(value=0.017128570696415935, unit=radian), Quantity(value=1200.0, unit=kilocalorie/mole), 1]), 1: (39, 10, 11, 44, [1, Quantity(value=3.1337857477223063, unit=radian), Quantity(value=1200.0, unit=kilocalorie/mole), 1]), 2: (44, 11, 12, 22, [1, Quantity(value=0.00863885124394681, unit=radian), Quantity(value=1200.0, unit=kilocalorie/mole), 1]), 3: (44, 11, 12, 40, [1, Quantity(value=-3.1382699121359634, unit=radian), Quantity(value=1200.0, unit=kilocalorie/mole), 1])}\n",
      "2021-04-29 18:27:24,356:(0.00s):geometry:neglected angle terms include []\n",
      "2021-04-29 18:27:24,359:(0.00s):geometry:log probability choice of torsions and atom order: -1.3862943611198906\n",
      "2021-04-29 18:27:24,361:(0.00s):geometry:creating platform, integrators, and contexts; setting growth parameter\n"
     ]
    },
    {
     "name": "stdout",
     "output_type": "stream",
     "text": [
      "conducting subsequent work with the following platform: CUDA\n"
     ]
    },
    {
     "name": "stderr",
     "output_type": "stream",
     "text": [
      "2021-04-29 18:27:25,217:(0.86s):geometry:setting atoms_with_positions context old positions\n"
     ]
    },
    {
     "name": "stdout",
     "output_type": "stream",
     "text": [
      "conducting subsequent work with the following platform: CUDA\n"
     ]
    },
    {
     "name": "stderr",
     "output_type": "stream",
     "text": [
      "2021-04-29 18:27:25,944:(0.73s):geometry:There are 1 new atoms\n",
      "2021-04-29 18:27:25,951:(0.01s):geometry:\treduced angle potential = 0.03380441319981336.\n",
      "2021-04-29 18:27:26,134:(0.18s):geometry:\tbeginning construction of no_nonbonded final system...\n",
      "2021-04-29 18:27:26,137:(0.00s):geometry:\tinitial no-nonbonded final system forces ['HarmonicBondForce', 'HarmonicAngleForce', 'PeriodicTorsionForce', 'NonbondedForce', 'MonteCarloBarostat']\n",
      "2021-04-29 18:27:26,348:(0.21s):geometry:\tfinal no-nonbonded final system forces dict_keys(['HarmonicBondForce', 'HarmonicAngleForce', 'PeriodicTorsionForce', 'NonbondedForce'])\n",
      "2021-04-29 18:27:26,351:(0.00s):geometry:\tthere are 28 bond forces in the no-nonbonded final system\n",
      "2021-04-29 18:27:26,353:(0.00s):geometry:\tthere are 85 angle forces in the no-nonbonded final system\n",
      "2021-04-29 18:27:26,356:(0.00s):geometry:\tthere are 157 torsion forces in the no-nonbonded final system\n",
      "2021-04-29 18:27:26,358:(0.00s):geometry:reverse final system defined with 0 neglected angles.\n"
     ]
    },
    {
     "name": "stdout",
     "output_type": "stream",
     "text": [
      "conducting subsequent work with the following platform: CUDA\n",
      "conducting subsequent work with the following platform: CUDA\n"
     ]
    },
    {
     "name": "stderr",
     "output_type": "stream",
     "text": [
      "2021-04-29 18:27:28,199:(1.84s):geometry:total reduced potential before atom placement: 48.41899607369698\n"
     ]
    },
    {
     "name": "stdout",
     "output_type": "stream",
     "text": [
      "conducting subsequent work with the following platform: CUDA\n",
      "conducting subsequent work with the following platform: CUDA\n",
      "conducting subsequent work with the following platform: CUDA\n"
     ]
    },
    {
     "name": "stderr",
     "output_type": "stream",
     "text": [
      "2021-04-29 18:27:30,469:(2.27s):geometry:total reduced energy added from growth system: -5.056837038117532\n",
      "2021-04-29 18:27:30,472:(0.00s):geometry:final reduced energy 43.36216011253515\n",
      "2021-04-29 18:27:30,475:(0.00s):geometry:sum of energies: 43.36215903557945\n",
      "2021-04-29 18:27:30,477:(0.00s):geometry:magnitude of difference in the energies: 1.0769557015066766e-06\n",
      "2021-04-29 18:27:30,480:(0.00s):geometry:Final logp_proposal: 11.56594796641107\n"
     ]
    },
    {
     "name": "stdout",
     "output_type": "stream",
     "text": [
      "added energy components: [('CustomBondForce', 0.0879842954280575), ('CustomAngleForce', 0.04605409749261916), ('CustomTorsionForce', 0.005423200139534058), ('CustomBondForce', -5.1962986311777435)]\n"
     ]
    },
    {
     "name": "stderr",
     "output_type": "stream",
     "text": [
      "2021-04-29 18:27:30,778:(0.30s):root:\twriting pickle output...\n",
      "2021-04-29 18:27:30,998:(0.22s):root:\tsuccessfully dumped pickle.\n",
      "2021-04-29 18:27:31,005:(0.01s):root:\tsetup is complete.  Writing proposals and positions for each phase to top_prop dict...\n",
      "2021-04-29 18:27:31,008:(0.00s):root:\twriting atom_mapping.png\n",
      "2021-04-29 18:27:31,092:(0.08s):root:\t steps per move application: 50\n",
      "2021-04-29 18:27:31,096:(0.00s):root:\ttrajectory prefix: out\n",
      "2021-04-29 18:27:31,099:(0.00s):root:\tatom selection detected: not water\n",
      "2021-04-29 18:27:31,101:(0.00s):root:\tno nonequilibrium detected.\n",
      "2021-04-29 18:27:31,104:(0.00s):root:\tcataloging HybridTopologyFactories...\n",
      "2021-04-29 18:27:31,106:(0.00s):root:\t\tphase: solvent:\n",
      "2021-04-29 18:27:31,109:(0.00s):root:\t\twriting HybridTopologyFactory for phase solvent...\n",
      "2021-04-29 18:27:31,111:(0.00s):relative:*** Generating RxnHybridTopologyFactory ***\n",
      "2021-04-29 18:27:31,114:(0.00s):relative:Beginning nonbonded method, total particle, barostat, and exceptions retrieval...\n",
      "2021-04-29 18:27:31,209:(0.09s):relative:Old system forces: dict_keys(['HarmonicBondForce', 'HarmonicAngleForce', 'PeriodicTorsionForce', 'NonbondedForce', 'MonteCarloBarostat'])\n",
      "2021-04-29 18:27:31,212:(0.00s):relative:New system forces: dict_keys(['HarmonicBondForce', 'HarmonicAngleForce', 'PeriodicTorsionForce', 'NonbondedForce', 'MonteCarloBarostat'])\n",
      "2021-04-29 18:27:31,214:(0.00s):relative:No unknown forces.\n",
      "2021-04-29 18:27:31,217:(0.00s):relative:Nonbonded method to be used (i.e. from old system): 4\n",
      "2021-04-29 18:27:31,219:(0.00s):relative:Adding and mapping old atoms to hybrid system...\n",
      "2021-04-29 18:27:31,258:(0.04s):relative:Adding and mapping new atoms to hybrid system...\n",
      "2021-04-29 18:27:31,261:(0.00s):relative:scale_templates: [['nonscale_lambda', 'scale_lambda_0', 'interscale_lambda_0'], ['nonscale_region', 'scale_region_0', 'interscale_region_0']]\n",
      "2021-04-29 18:27:31,263:(0.00s):relative:Added MonteCarloBarostat.\n",
      "2021-04-29 18:27:31,265:(0.00s):relative:getDefaultPeriodicBoxVectors added to hybrid: [Quantity(value=Vec3(x=2.875229835510254, y=0.0, z=0.0), unit=nanometer), Quantity(value=Vec3(x=0.0, y=2.875229835510254, z=0.0), unit=nanometer), Quantity(value=Vec3(x=0.0, y=0.0, z=2.875229835510254), unit=nanometer)]\n",
      "2021-04-29 18:27:31,269:(0.00s):relative:Determined atom classes.\n",
      "2021-04-29 18:27:31,271:(0.00s):relative:Generating old system exceptions dict...\n",
      "2021-04-29 18:27:31,293:(0.02s):relative:Generating new system exceptions dict...\n",
      "2021-04-29 18:27:31,644:(0.35s):relative:Handling constraints...\n",
      "2021-04-29 18:27:31,720:(0.08s):relative:Handling virtual sites...\n",
      "2021-04-29 18:27:31,724:(0.00s):relative:\t_handle_virtual_sites: numVirtualSites: 0\n",
      "2021-04-29 18:27:31,782:(0.06s):root:'use_given_geometries' was passed to setup; skipping endstate validation\n",
      "2021-04-29 18:27:31,786:(0.00s):root:omitting sampler construction\n"
     ]
    }
   ],
   "source": [
    "# Create a htf\n",
    "setup_directory = resource_filename(\"perses\", \"data/cdk2-example\")\n",
    "\n",
    "# Get options\n",
    "from perses.app.setup_relative_calculation import getSetupOptions\n",
    "yaml_filename = os.path.join(setup_directory, \"cdk2_setup_repex.yaml\")\n",
    "setup_options = getSetupOptions(yaml_filename)\n",
    "\n",
    "# Update options\n",
    "for parameter in ['protein_pdb', 'ligand_file']:\n",
    "    setup_options[parameter] = os.path.join(setup_directory, setup_options[parameter])\n",
    "    \n",
    "setup_options['rxn_field'] = True\n",
    "setup_options['phases'] = ['solvent']\n",
    "setup_options['scale_regions'] = [[44, 2197]]\n",
    "setup_options['validate_endstate_energies'] = False\n",
    "    \n",
    "setup_dict = setup_relative_calculation.run_setup(setup_options, serialize_systems=False, build_samplers=False)"
   ]
  },
  {
   "cell_type": "code",
   "execution_count": 56,
   "id": "26bc4fd2",
   "metadata": {},
   "outputs": [
    {
     "data": {
      "text/plain": [
       "{'protein_pdb': '/home/zhangi/miniconda3/envs/perses-rxn-field/lib/python3.8/site-packages/perses-0.8.2.dev0-py3.8.egg/perses/data/cdk2-example/CDK2_fixed_nohet.pdb',\n",
       " 'ligand_file': '/home/zhangi/miniconda3/envs/perses-rxn-field/lib/python3.8/site-packages/perses-0.8.2.dev0-py3.8.egg/perses/data/cdk2-example/CDK2_ligands.sdf',\n",
       " 'old_ligand_index': 14,\n",
       " 'new_ligand_index': 15,\n",
       " 'forcefield_files': ['amber/protein.ff14SB.xml',\n",
       "  'amber/tip3p_standard.xml',\n",
       "  'amber/tip3p_HFE_multivalent.xml'],\n",
       " 'small_molecule_forcefield': 'gaff-2.11',\n",
       " 'small_molecule_parameters_cache': 'cdk2-cache.json',\n",
       " 'pressure': 1.0,\n",
       " 'temperature': 300.0,\n",
       " 'solvent_padding': 9.0,\n",
       " 'save_setup_pickle_as': 'fesetup_hbonds.pkl',\n",
       " 'n_steps_per_move_application': 50,\n",
       " 'fe_type': 'repex',\n",
       " 'checkpoint_interval': 250,\n",
       " 'n_cycles': 2,\n",
       " 'n_states': 6,\n",
       " 'n_equilibration_iterations': 0,\n",
       " 'trajectory_directory': 'output',\n",
       " 'trajectory_prefix': 'out',\n",
       " 'atom_selection': 'not water',\n",
       " 'phases': ['solvent'],\n",
       " 'protocol-type': 'default',\n",
       " 'ionic_strength': 0.15,\n",
       " 'remove_constraints': False,\n",
       " 'spectators': None,\n",
       " 'complex_box_dimensions': None,\n",
       " 'solvent_box_dimensions': None,\n",
       " 'neglect_angles': False,\n",
       " 'anneal_1,4s': False,\n",
       " 'nonbonded_method': 'PME',\n",
       " 'render_atom_map': True,\n",
       " 'run_type': None,\n",
       " 'offline-freq': 10,\n",
       " 'atom_expr': None,\n",
       " 'bond_expr': None,\n",
       " 'map_strength': None,\n",
       " 'softcore_v2': False,\n",
       " 'rxn_field': True,\n",
       " 'scale_regions': [[44, 2197]],\n",
       " 'validate_endstate_energies': False}"
      ]
     },
     "execution_count": 56,
     "metadata": {},
     "output_type": "execute_result"
    }
   ],
   "source": [
    "setup_options"
   ]
  },
  {
   "cell_type": "code",
   "execution_count": 58,
   "id": "fd82bc90",
   "metadata": {
    "scrolled": true
   },
   "outputs": [],
   "source": [
    "htf = setup_dict['hybrid_topology_factories']['solvent']"
   ]
  },
  {
   "cell_type": "markdown",
   "id": "dc742379",
   "metadata": {},
   "source": [
    "#### Old system HarmonicBondForce vs hybrid system CustomBondForce"
   ]
  },
  {
   "cell_type": "code",
   "execution_count": 90,
   "id": "0858c0e0",
   "metadata": {},
   "outputs": [],
   "source": [
    "# Load htf\n",
    "with open(\"/home/zhangi/choderalab/perses_benchmark/perses_protein_mutations/code/26_rxn_field/cdk2_solvent_scale_regions.pickle\", \"rb\") as f:\n",
    "    setup_dict = pickle.load(f)\n",
    "    htf = setup_dict['hybrid_topology_factories']['solvent']"
   ]
  },
  {
   "cell_type": "code",
   "execution_count": 91,
   "id": "9860b232",
   "metadata": {},
   "outputs": [
    {
     "data": {
      "text/plain": [
       "[44, 2197]"
      ]
     },
     "execution_count": 91,
     "metadata": {},
     "output_type": "execute_result"
    }
   ],
   "source": [
    "# This is the scale region\n",
    "list(htf._atom_classes['unique_old_atoms'][0]) + list(htf._atom_classes['unique_new_atoms'][0])"
   ]
  },
  {
   "cell_type": "code",
   "execution_count": 92,
   "id": "2661b103",
   "metadata": {},
   "outputs": [
    {
     "name": "stdout",
     "output_type": "stream",
     "text": [
      "Warning: Returning CPU platform instead of requested platform <simtk.openmm.openmm.Platform; proxy of <Swig Object of type 'OpenMM::Platform *' at 0x2b9a06d43f30> >\n",
      "conducting subsequent work with the following platform: CPU\n",
      "conducting subsequent work with the following platform: CUDA\n",
      "[('HarmonicBondForce', 4.608082977954756), ('HarmonicAngleForce', 29.199523609209102), ('PeriodicTorsionForce', 15.076747992617829), ('NonbondedForce', 1766.9022231456272), ('AndersenThermostat', 0.0), ('MonteCarloBarostat', 0.0)]\n",
      "conducting subsequent work with the following platform: CUDA\n",
      "[('CustomBondForce', 4.608082977954756), ('AndersenThermostat', 0.0), ('MonteCarloBarostat', 0.0)]\n",
      "Success! Custom bond force and standard bond force energies are equal!\n"
     ]
    }
   ],
   "source": [
    "test_bond_energies(htf, is_solvated=True)"
   ]
  },
  {
   "cell_type": "markdown",
   "id": "9d93a3cd",
   "metadata": {},
   "source": [
    "#### New system HarmonicBondForce vs hybrid system CustomBondForce"
   ]
  },
  {
   "cell_type": "code",
   "execution_count": 93,
   "id": "c2ab9959",
   "metadata": {},
   "outputs": [],
   "source": [
    "# Load htf\n",
    "with open(\"/home/zhangi/choderalab/perses_benchmark/perses_protein_mutations/code/26_rxn_field/cdk2_solvent_scale_regions.pickle\", \"rb\") as f:\n",
    "    setup_dict = pickle.load(f)\n",
    "    htf = setup_dict['hybrid_topology_factories']['solvent']"
   ]
  },
  {
   "cell_type": "code",
   "execution_count": 94,
   "id": "dacdf51f",
   "metadata": {
    "scrolled": true
   },
   "outputs": [
    {
     "name": "stdout",
     "output_type": "stream",
     "text": [
      "Warning: Returning CPU platform instead of requested platform <simtk.openmm.openmm.Platform; proxy of <Swig Object of type 'OpenMM::Platform *' at 0x2b9a06d43f30> >\n",
      "conducting subsequent work with the following platform: CPU\n",
      "conducting subsequent work with the following platform: CUDA\n",
      "[('HarmonicBondForce', 4.519508183899664), ('HarmonicAngleForce', 29.31629908967661), ('PeriodicTorsionForce', 15.07821281507567), ('NonbondedForce', 1783.5471715609788), ('AndersenThermostat', 0.0), ('MonteCarloBarostat', 0.0)]\n",
      "conducting subsequent work with the following platform: CUDA\n",
      "[('CustomBondForce', 4.519508183899664), ('AndersenThermostat', 0.0), ('MonteCarloBarostat', 0.0)]\n",
      "Success! Custom bond force and standard bond force energies are equal!\n"
     ]
    }
   ],
   "source": [
    "test_bond_energies(htf, is_old=False, is_solvated=True)"
   ]
  },
  {
   "cell_type": "code",
   "execution_count": null,
   "id": "38179913",
   "metadata": {},
   "outputs": [],
   "source": []
  },
  {
   "cell_type": "code",
   "execution_count": null,
   "id": "7ba99c4b",
   "metadata": {},
   "outputs": [],
   "source": [
    "# TO DO: actually test the scaling of the energies matches"
   ]
  }
 ],
 "metadata": {
  "kernelspec": {
   "display_name": "Python 3",
   "language": "python",
   "name": "python3"
  },
  "language_info": {
   "codemirror_mode": {
    "name": "ipython",
    "version": 3
   },
   "file_extension": ".py",
   "mimetype": "text/x-python",
   "name": "python",
   "nbconvert_exporter": "python",
   "pygments_lexer": "ipython3",
   "version": "3.8.8"
  }
 },
 "nbformat": 4,
 "nbformat_minor": 5
}
