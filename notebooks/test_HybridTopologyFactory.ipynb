{
 "cells": [
  {
   "cell_type": "markdown",
   "metadata": {},
   "source": [
    "# Energy bookkeeping tests for `HybridTopologyFactory`"
   ]
  },
  {
   "cell_type": "code",
   "execution_count": 1,
   "metadata": {},
   "outputs": [],
   "source": [
    "import copy\n",
    "from simtk import openmm, unit\n",
    "from simtk.openmm import app\n",
    "import os, os.path\n",
    "import sys, math\n",
    "import numpy as np\n",
    "from openeye import oechem\n",
    "from openmmtools.constants import kB\n",
    "from openmmtools import alchemy, states\n",
    "\n",
    "temperature = 300.0 * unit.kelvin\n",
    "kT = kB * temperature\n",
    "beta = 1.0/kT\n",
    "CARBON_MASS = 12.01"
   ]
  },
  {
   "cell_type": "markdown",
   "metadata": {},
   "source": [
    "## The first test is a valence-only vacuum transformation from a 3-4 bead system"
   ]
  },
  {
   "cell_type": "markdown",
   "metadata": {},
   "source": [
    "The first thing to do is generating the system..."
   ]
  },
  {
   "cell_type": "code",
   "execution_count": 2,
   "metadata": {},
   "outputs": [],
   "source": [
    "from perses.tests.test_geometry_engine_analytical import AnalyticalBeadSystems\n",
    "ABS = AnalyticalBeadSystems([4,5], 1)\n",
    "nbfA, nbfB = openmm.NonbondedForce(), openmm.NonbondedForce()\n"
   ]
  },
  {
   "cell_type": "markdown",
   "metadata": {},
   "source": [
    "We are going to make nonbonded interactions for each and every particle in the system for bookkeeping purposes..."
   ]
  },
  {
   "cell_type": "code",
   "execution_count": 3,
   "metadata": {},
   "outputs": [
    {
     "name": "stdout",
     "output_type": "stream",
     "text": [
      "0\n",
      "1\n",
      "2\n",
      "3\n"
     ]
    },
    {
     "data": {
      "text/plain": [
       "3"
      ]
     },
     "execution_count": 3,
     "metadata": {},
     "output_type": "execute_result"
    }
   ],
   "source": [
    "nbf = openmm.NonbondedForce()\n",
    "nbf.setNonbondedMethod(0)\n",
    "for _ in range(4):\n",
    "    a = nbf.addParticle(1., 0.1, 1.)\n",
    "    print(a)\n",
    "ABS.sys_pos_top['A'][0].addForce(nbf)"
   ]
  },
  {
   "cell_type": "code",
   "execution_count": 4,
   "metadata": {},
   "outputs": [
    {
     "name": "stdout",
     "output_type": "stream",
     "text": [
      "0\n",
      "1\n",
      "2\n",
      "3\n",
      "4\n"
     ]
    },
    {
     "data": {
      "text/plain": [
       "3"
      ]
     },
     "execution_count": 4,
     "metadata": {},
     "output_type": "execute_result"
    }
   ],
   "source": [
    "nbf = openmm.NonbondedForce()\n",
    "nbf.setNonbondedMethod(0)\n",
    "for _ in range(5):\n",
    "    a = nbf.addParticle(1., 0.1, 1.)\n",
    "    print(a)\n",
    "    \n",
    "#add exception\n",
    "nbf.addException(0,4, 4., 0.3, 2.)\n",
    "ABS.sys_pos_top['B'][0].addForce(nbf)"
   ]
  },
  {
   "cell_type": "code",
   "execution_count": null,
   "metadata": {},
   "outputs": [],
   "source": []
  },
  {
   "cell_type": "code",
   "execution_count": 5,
   "metadata": {},
   "outputs": [
    {
     "data": {
      "text/plain": [
       "[<simtk.openmm.openmm.HarmonicBondForce; proxy of <Swig Object of type 'OpenMM::HarmonicBondForce *' at 0x00000232C4411570> >,\n",
       " <simtk.openmm.openmm.HarmonicAngleForce; proxy of <Swig Object of type 'OpenMM::HarmonicAngleForce *' at 0x00000232C4411210> >,\n",
       " <simtk.openmm.openmm.PeriodicTorsionForce; proxy of <Swig Object of type 'OpenMM::PeriodicTorsionForce *' at 0x00000232C4411F00> >,\n",
       " <simtk.openmm.openmm.NonbondedForce; proxy of <Swig Object of type 'OpenMM::NonbondedForce *' at 0x00000232C44113F0> >]"
      ]
     },
     "execution_count": 5,
     "metadata": {},
     "output_type": "execute_result"
    }
   ],
   "source": [
    "ABS.sys_pos_top['A'][0].getForces()"
   ]
  },
  {
   "cell_type": "markdown",
   "metadata": {},
   "source": [
    "Now we can generate the topology proposal..."
   ]
  },
  {
   "cell_type": "code",
   "execution_count": 6,
   "metadata": {},
   "outputs": [],
   "source": [
    "top_proposal = ABS.create_simple_topology_proposal(ABS.sys_pos_top, 4, 5)"
   ]
  },
  {
   "cell_type": "markdown",
   "metadata": {},
   "source": [
    "Now we have to make the topology proposal from 3 to 4\n"
   ]
  },
  {
   "cell_type": "code",
   "execution_count": 7,
   "metadata": {},
   "outputs": [
    {
     "name": "stderr",
     "output_type": "stream",
     "text": [
      "C:\\Users\\domin\\Anaconda3\\lib\\site-packages\\parmed\\openmm\\topsystem.py:451: OpenMMWarning: Detected incomplete exceptions. Not supported.\n",
      "  warnings.warn('Detected incomplete exceptions. Not supported.', OpenMMWarning)\n"
     ]
    }
   ],
   "source": [
    "from perses.rjmc.geometry import FFAllAngleGeometryEngine\n",
    "_geometry_engine = FFAllAngleGeometryEngine(metadata=None, use_sterics=False, n_bond_divisions=100, n_angle_divisions=180, n_torsion_divisions=360, verbose=True, storage=None, bond_softening_constant=1.0, angle_softening_constant=1.0, neglect_angles = False)\n",
    "_new_positions, _lp = _geometry_engine.propose(top_proposal, ABS.sys_pos_top['A'][1], beta)\n"
   ]
  },
  {
   "cell_type": "markdown",
   "metadata": {},
   "source": [
    "Now that we have the proposal and the new positions, we can try to build a hybrid system\n"
   ]
  },
  {
   "cell_type": "code",
   "execution_count": 8,
   "metadata": {
    "scrolled": true
   },
   "outputs": [],
   "source": [
    "from perses.annihilation.new_relative import HybridTopologyFactory\n",
    "HTF = HybridTopologyFactory(top_proposal, ABS.sys_pos_top['A'][1], _new_positions)"
   ]
  },
  {
   "cell_type": "code",
   "execution_count": 9,
   "metadata": {},
   "outputs": [],
   "source": [
    "from perses.annihilation.lambda_protocol import RelativeAlchemicalState\n",
    "import copy\n",
    "from openmmtools.states import ThermodynamicState, CompoundThermodynamicState, SamplerState\n",
    "hybrid_system = HTF.hybrid_system\n",
    "lambda_zero_alchemical_state = RelativeAlchemicalState.from_system(hybrid_system)\n",
    "lambda_one_alchemical_state = copy.deepcopy(lambda_zero_alchemical_state)\n",
    "\n",
    "lambda_zero_alchemical_state.set_alchemical_parameters(0.0)\n",
    "lambda_one_alchemical_state.set_alchemical_parameters(1.0)"
   ]
  },
  {
   "cell_type": "code",
   "execution_count": 10,
   "metadata": {},
   "outputs": [],
   "source": [
    "# Create thermodynamic states for the nonalchemical endpoints\n",
    "thermodynamic_state = ThermodynamicState(hybrid_system, temperature = temperature)\n",
    "nonalchemical_thermodynamic_states = {\n",
    "    0: ThermodynamicState(top_proposal.old_system, temperature=temperature),\n",
    "    1: ThermodynamicState(top_proposal.new_system, temperature=temperature)}\n",
    "\n",
    "# Now create the compound states with different alchemical states\n",
    "hybrid_thermodynamic_states = {0: CompoundThermodynamicState(thermodynamic_state,\n",
    "                                                                   composable_states=[lambda_zero_alchemical_state]),\n",
    "                                     1: CompoundThermodynamicState(copy.deepcopy(thermodynamic_state),\n",
    "                                                                   composable_states=[lambda_one_alchemical_state])}\n"
   ]
  },
  {
   "cell_type": "code",
   "execution_count": 11,
   "metadata": {},
   "outputs": [
    {
     "name": "stdout",
     "output_type": "stream",
     "text": [
      "nonalchemical_zero_energy components\n",
      "\tHarmonicBondForce: 7.069503467623775e-06\n",
      "\tHarmonicAngleForce: 2.2535716234771907e-05\n",
      "\tPeriodicTorsionForce: 4.765657924689454e-05\n",
      "\tNonbondedForce: 1697.2955327570223\n",
      "\n",
      "nonalchemical_one_energy components\n",
      "\tHarmonicBondForce: 0.04115371616685964\n",
      "\tHarmonicAngleForce: 0.33451870627409847\n",
      "\tPeriodicTorsionForce: 0.5474218262622164\n",
      "\tNonbondedForce: 3161.7937979499743\n",
      "\n",
      "\n",
      "alchemical_zero_energy components\n",
      "\tCustomBondForce: 7.069503467623773e-06\n",
      "\tHarmonicBondForce: 0.041146646663392\n",
      "\tCustomAngleForce: 2.2535716234771907e-05\n",
      "\tHarmonicAngleForce: 0.3344961705578637\n",
      "\tCustomTorsionForce: 4.765657924689454e-05\n",
      "\tPeriodicTorsionForce: 0.5473741696829694\n",
      "\tNonbondedForce: 1697.6655976664208\n",
      "\tCustomNonbondedForce: -0.3700649093984062\n",
      "\tCustomBondForce: 0.0\n",
      "\n",
      "alchemical_one_energy components\n",
      "\tCustomBondForce: 7.069503467623773e-06\n",
      "\tHarmonicBondForce: 0.041146646663392\n",
      "\tCustomAngleForce: 2.2535716234771907e-05\n",
      "\tHarmonicAngleForce: 0.3344961705578637\n",
      "\tCustomTorsionForce: 4.765657924689454e-05\n",
      "\tPeriodicTorsionForce: 0.5473741696829694\n",
      "\tNonbondedForce: 2509.032148021626\n",
      "\tCustomNonbondedForce: -0.5052001317094781\n",
      "\tCustomBondForce: 653.2668500600578\n"
     ]
    }
   ],
   "source": [
    "#create contexts\n",
    "from openmmtools import integrators\n",
    "from perses.tests.utils import compute_potential_components\n",
    "nonalchemical_zero_context = nonalchemical_thermodynamic_states[0].create_context(integrators.LangevinIntegrator(temperature=temperature))\n",
    "nonalchemical_zero_context.setPositions(ABS.sys_pos_top['A'][1])\n",
    "nonalchemical_zero_energy_components = [(force, energy*beta) for force, energy in compute_potential_components(nonalchemical_zero_context)]\n",
    "print(f\"nonalchemical_zero_energy components\")\n",
    "for force, energy in nonalchemical_zero_energy_components:\n",
    "    print(f\"\\t{force}: {energy}\")\n",
    "#print(f\"nonalchemical_zero_energy: {sum(nonalchemical_zero_energy_components)}\")\n",
    "print()\n",
    "\n",
    "nonalchemical_one_context = nonalchemical_thermodynamic_states[1].create_context(integrators.LangevinIntegrator(temperature=temperature))\n",
    "nonalchemical_one_context.setPositions(_new_positions)\n",
    "nonalchemical_one_energy_components = [(force, energy*beta) for force, energy in compute_potential_components(nonalchemical_one_context)]\n",
    "print(f\"nonalchemical_one_energy components\")\n",
    "for force, energy in nonalchemical_one_energy_components:\n",
    "    print(f\"\\t{force}: {energy}\")\n",
    "#print(f\"nonalchemical_one_energy: {sum(nonalchemical_one_energy_components)}\")\n",
    "print()\n",
    "print()\n",
    "\n",
    "alchemical_zero_context = hybrid_thermodynamic_states[0].create_context(integrators.LangevinIntegrator(temperature=temperature))\n",
    "alchemical_zero_context.setPositions(HTF._hybrid_positions)\n",
    "alchemical_zero_energy_components = [(force, energy*beta) for force, energy in compute_potential_components(alchemical_zero_context)]\n",
    "print(f\"alchemical_zero_energy components\")\n",
    "for force, energy in alchemical_zero_energy_components:\n",
    "    print(f\"\\t{force}: {energy}\")\n",
    "#print(f\"alchemical_zero_energy: {sum(alchemical_zero_energy_components)}\")\n",
    "print()\n",
    "\n",
    "alchemical_one_context = hybrid_thermodynamic_states[1].create_context(integrators.LangevinIntegrator(temperature=temperature))\n",
    "alchemical_one_context.setPositions(HTF._hybrid_positions)\n",
    "alchemical_one_energy_components = [(force, energy*beta) for force, energy in compute_potential_components(alchemical_one_context)]\n",
    "print(f\"alchemical_one_energy components\")\n",
    "for force, energy in alchemical_one_energy_components:\n",
    "    print(f\"\\t{force}: {energy}\")\n",
    "#print(f\"alchemical_one_energy: {sum(alchemical_one_energy_components)}\")"
   ]
  },
  {
   "cell_type": "markdown",
   "metadata": {},
   "source": [
    "## Next test is to conduct a vacuum transformation for some small molecules and test that the $\\Delta U$ between the alchemical and nonalchemical systems is just the valence terms added and subtracted"
   ]
  },
  {
   "cell_type": "code",
   "execution_count": 12,
   "metadata": {},
   "outputs": [],
   "source": [
    "from perses.tests.utils import generate_vacuum_topology_proposal\n",
    "from perses.rjmc.geometry import FFAllAngleGeometryEngine"
   ]
  },
  {
   "cell_type": "code",
   "execution_count": 13,
   "metadata": {},
   "outputs": [
    {
     "name": "stderr",
     "output_type": "stream",
     "text": [
      "DEBUG:openmoltools.openeye:keep_confs was set to 1. Molecule positions will be reset.\n",
      "DEBUG:openmoltools.openeye:MOL\n",
      "DEBUG:parmed.openmm.parameters:Valid patch combinations:\n",
      "INFO:proposal_engine:Building new Topology object...\n",
      "DEBUG:openmoltools.openeye:keep_confs was set to 1. Molecule positions will be reset.\n",
      "DEBUG:openmoltools.openeye:MOL\n",
      "DEBUG:parmed.openmm.parameters:Valid patch combinations:\n",
      "INFO:proposal_engine:Proposed transformation would delete 1 atoms and create 4 atoms.\n"
     ]
    }
   ],
   "source": [
    "top_proposal, old_positions, new_positions = generate_vacuum_topology_proposal('benzene', 'toluene')"
   ]
  },
  {
   "cell_type": "code",
   "execution_count": 14,
   "metadata": {},
   "outputs": [],
   "source": [
    "_geometry_engine = FFAllAngleGeometryEngine(metadata=None, use_sterics=False, n_bond_divisions=100, n_angle_divisions=180, n_torsion_divisions=360, verbose=True, storage=None, bond_softening_constant=1.0, angle_softening_constant=1.0, neglect_angles = False)"
   ]
  },
  {
   "cell_type": "code",
   "execution_count": 15,
   "metadata": {},
   "outputs": [],
   "source": [
    "_new_positions, _lp = _geometry_engine.propose(top_proposal, old_positions, beta)"
   ]
  },
  {
   "cell_type": "code",
   "execution_count": 16,
   "metadata": {},
   "outputs": [],
   "source": [
    "_lp_rev = _geometry_engine.logp_reverse(top_proposal, _new_positions, old_positions, beta)"
   ]
  },
  {
   "cell_type": "code",
   "execution_count": 17,
   "metadata": {},
   "outputs": [],
   "source": [
    "from perses.annihilation.new_relative import HybridTopologyFactory\n",
    "HTF = HybridTopologyFactory(top_proposal, old_positions, _new_positions)"
   ]
  },
  {
   "cell_type": "code",
   "execution_count": 18,
   "metadata": {},
   "outputs": [],
   "source": [
    "from perses.annihilation.lambda_protocol import RelativeAlchemicalState\n",
    "import copy\n",
    "from openmmtools.states import ThermodynamicState, CompoundThermodynamicState, SamplerState\n",
    "from openmmtools import integrators\n",
    "\n",
    "hybrid_system = HTF.hybrid_system\n",
    "lambda_zero_alchemical_state = RelativeAlchemicalState.from_system(hybrid_system)\n",
    "lambda_one_alchemical_state = copy.deepcopy(lambda_zero_alchemical_state)\n",
    "\n",
    "lambda_zero_alchemical_state.set_alchemical_parameters(0.0)\n",
    "lambda_one_alchemical_state.set_alchemical_parameters(1.0)\n",
    "\n",
    "\n"
   ]
  },
  {
   "cell_type": "code",
   "execution_count": 19,
   "metadata": {},
   "outputs": [],
   "source": [
    "# Create thermodynamic states for the nonalchemical endpoints\n",
    "thermodynamic_state = ThermodynamicState(hybrid_system, temperature = temperature)\n",
    "nonalchemical_thermodynamic_states = {\n",
    "    0: ThermodynamicState(top_proposal.old_system, temperature=temperature),\n",
    "    1: ThermodynamicState(top_proposal.new_system, temperature=temperature)}\n",
    "\n",
    "# Now create the compound states with different alchemical states\n",
    "hybrid_thermodynamic_states = {0: CompoundThermodynamicState(thermodynamic_state,\n",
    "                                                                   composable_states=[lambda_zero_alchemical_state]),\n",
    "                                     1: CompoundThermodynamicState(copy.deepcopy(thermodynamic_state),\n",
    "                                                                   composable_states=[lambda_one_alchemical_state])}"
   ]
  },
  {
   "cell_type": "code",
   "execution_count": 20,
   "metadata": {},
   "outputs": [
    {
     "name": "stdout",
     "output_type": "stream",
     "text": [
      "nonalchemical_zero_energy components\n",
      "\tHarmonicBondForce: 0.05778808133185309\n",
      "\tHarmonicAngleForce: 0.004459776235889132\n",
      "\tPeriodicTorsionForce: 0.00011650644160092853\n",
      "\tNonbondedForce: 9.931443768311913\n",
      "\n",
      "nonalchemical_one_energy components\n",
      "\tHarmonicBondForce: 0.09034441318339771\n",
      "\tHarmonicAngleForce: 1.6818291498411373\n",
      "\tPeriodicTorsionForce: 0.07718893289088935\n",
      "\tNonbondedForce: 4.242997802390351\n",
      "\n",
      "\n",
      "alchemical_zero_energy components\n",
      "\tCustomBondForce: 0.05778808133185307\n",
      "\tHarmonicBondForce: 0.03255633185154461\n",
      "\tCustomAngleForce: 0.0037304346481589223\n",
      "\tHarmonicAngleForce: 1.6788280567807081\n",
      "\tCustomTorsionForce: 0.00011275108861683794\n",
      "\tPeriodicTorsionForce: 0.07707993715525659\n",
      "\tNonbondedForce: 8.514948878544267\n",
      "\tCustomNonbondedForce: -0.2782172927060857\n",
      "\tCustomBondForce: 1.6947121824737281\n",
      "\n",
      "alchemical_one_energy components\n",
      "\tCustomBondForce: 0.05778808133185307\n",
      "\tHarmonicBondForce: 0.03255633185154461\n",
      "\tCustomAngleForce: 0.0037304346481589223\n",
      "\tHarmonicAngleForce: 1.6788280567807081\n",
      "\tCustomTorsionForce: 0.00011275108861683794\n",
      "\tPeriodicTorsionForce: 0.07707993715525659\n",
      "\tNonbondedForce: 10.140318832168543\n",
      "\tCustomNonbondedForce: -0.5746077200393417\n",
      "\tCustomBondForce: -5.322713309738848\n"
     ]
    }
   ],
   "source": [
    "\n",
    "\n",
    "\n",
    "#create contexts\n",
    "from openmmtools import integrators\n",
    "from perses.tests.utils import compute_potential_components\n",
    "nonalchemical_zero_context = nonalchemical_thermodynamic_states[0].create_context(integrators.LangevinIntegrator(temperature=temperature))\n",
    "nonalchemical_zero_context.setPositions(old_positions)\n",
    "nonalchemical_zero_energy_components = [(force, energy*beta) for force, energy in compute_potential_components(nonalchemical_zero_context)]\n",
    "print(f\"nonalchemical_zero_energy components\")\n",
    "for force, energy in nonalchemical_zero_energy_components:\n",
    "    print(f\"\\t{force}: {energy}\")\n",
    "#print(f\"nonalchemical_zero_energy: {sum(nonalchemical_zero_energy_components)}\")\n",
    "print()\n",
    "\n",
    "nonalchemical_one_context = nonalchemical_thermodynamic_states[1].create_context(integrators.LangevinIntegrator(temperature=temperature))\n",
    "nonalchemical_one_context.setPositions(_new_positions)\n",
    "nonalchemical_one_energy_components = [(force, energy*beta) for force, energy in compute_potential_components(nonalchemical_one_context)]\n",
    "print(f\"nonalchemical_one_energy components\")\n",
    "for force, energy in nonalchemical_one_energy_components:\n",
    "    print(f\"\\t{force}: {energy}\")\n",
    "#print(f\"nonalchemical_one_energy: {sum(nonalchemical_one_energy_components)}\")\n",
    "print()\n",
    "print()\n",
    "\n",
    "alchemical_zero_context = hybrid_thermodynamic_states[0].create_context(integrators.LangevinIntegrator(temperature=temperature))\n",
    "alchemical_zero_context.setPositions(HTF._hybrid_positions)\n",
    "alchemical_zero_energy_components = [(force, energy*beta) for force, energy in compute_potential_components(alchemical_zero_context)]\n",
    "print(f\"alchemical_zero_energy components\")\n",
    "for force, energy in alchemical_zero_energy_components:\n",
    "    print(f\"\\t{force}: {energy}\")\n",
    "#print(f\"alchemical_zero_energy: {sum(alchemical_zero_energy_components)}\")\n",
    "print()\n",
    "\n",
    "alchemical_one_context = hybrid_thermodynamic_states[1].create_context(integrators.LangevinIntegrator(temperature=temperature))\n",
    "alchemical_one_context.setPositions(HTF._hybrid_positions)\n",
    "alchemical_one_energy_components = [(force, energy*beta) for force, energy in compute_potential_components(alchemical_one_context)]\n",
    "print(f\"alchemical_one_energy components\")\n",
    "for force, energy in alchemical_one_energy_components:\n",
    "    print(f\"\\t{force}: {energy}\")"
   ]
  },
  {
   "cell_type": "code",
   "execution_count": 21,
   "metadata": {},
   "outputs": [],
   "source": [
    "forward_added_valence_energy = _geometry_engine.forward_final_context_reduced_potential - _geometry_engine.forward_atoms_with_positions_reduced_potential\n",
    "reverse_subtracted_valence_energy = _geometry_engine.reverse_final_context_reduced_potential - _geometry_engine.reverse_atoms_with_positions_reduced_potential"
   ]
  },
  {
   "cell_type": "code",
   "execution_count": 22,
   "metadata": {},
   "outputs": [],
   "source": [
    "nonalch_zero_rp = SamplerState.from_context(nonalchemical_zero_context).potential_energy*beta\n",
    "nonalch_one_rp = SamplerState.from_context(nonalchemical_one_context).potential_energy*beta\n",
    "\n",
    "alch_zero_rp = SamplerState.from_context(alchemical_zero_context).potential_energy*beta\n",
    "alch_one_rp = SamplerState.from_context(alchemical_one_context).potential_energy*beta"
   ]
  },
  {
   "cell_type": "code",
   "execution_count": 23,
   "metadata": {},
   "outputs": [
    {
     "name": "stdout",
     "output_type": "stream",
     "text": [
      "nonalchemical_zero: 9.993814255265587, alch_zero - forward valence: 9.993813524106281\n"
     ]
    }
   ],
   "source": [
    "print(f\"nonalchemical_zero: {nonalch_zero_rp}, alch_zero - forward valence: {alch_zero_rp - forward_added_valence_energy}\")"
   ]
  },
  {
   "cell_type": "code",
   "execution_count": 24,
   "metadata": {},
   "outputs": [
    {
     "name": "stdout",
     "output_type": "stream",
     "text": [
      "nonalchemical_one: 6.0923632380951, alch_one - reverse valence: 6.092365753822985\n"
     ]
    }
   ],
   "source": [
    "print(f\"nonalchemical_one: {nonalch_one_rp}, alch_one - reverse valence: {alch_one_rp - reverse_subtracted_valence_energy}\")"
   ]
  },
  {
   "cell_type": "code",
   "execution_count": 25,
   "metadata": {},
   "outputs": [
    {
     "data": {
      "text/plain": [
       "array([[ 1.88514099e-01, -1.03630655e-01, -1.12440391e-02],\n",
       "       [ 8.06556195e-02, -4.63010632e-02,  5.61006330e-02],\n",
       "       [ 2.92100519e-01, -1.63086548e-01,  6.08143508e-02],\n",
       "       [ 7.63829425e-02, -4.84138317e-02,  1.95505470e-01],\n",
       "       [ 2.87828594e-01, -1.65199250e-01,  2.00218752e-01],\n",
       "       [ 1.79970011e-01, -1.07863985e-01,  2.67567605e-01],\n",
       "       [ 1.91742301e-01, -1.02026664e-01, -1.19778946e-01],\n",
       "       [ 3.79784105e-05,  3.04330788e-05, -3.29999239e-05],\n",
       "       [ 3.76132488e-01, -2.07688287e-01,  8.41035042e-03],\n",
       "       [-7.60346139e-03, -3.76650877e-03,  2.47908279e-01],\n",
       "       [ 3.68484735e-01, -2.11495161e-01,  2.56312102e-01],\n",
       "       [ 1.76652387e-01, -1.09545410e-01,  3.76138300e-01]])"
      ]
     },
     "execution_count": 25,
     "metadata": {},
     "output_type": "execute_result"
    }
   ],
   "source": [
    "old_positions.value_in_unit(unit.nanometers).astype(np.float64)"
   ]
  },
  {
   "cell_type": "code",
   "execution_count": null,
   "metadata": {},
   "outputs": [],
   "source": []
  },
  {
   "cell_type": "code",
   "execution_count": null,
   "metadata": {},
   "outputs": [],
   "source": []
  },
  {
   "cell_type": "markdown",
   "metadata": {},
   "source": [
    "## Last test is to conduct a `SOLVATED` transformation for some small molecules and test that the $\\Delta U$ between the alchemical and nonalchemical systems is just the valence terms added and subtracted."
   ]
  },
  {
   "cell_type": "code",
   "execution_count": 26,
   "metadata": {},
   "outputs": [],
   "source": [
    "from perses.tests.utils import generate_solvated_hybrid_test_topology\n",
    "from perses.rjmc.geometry import FFAllAngleGeometryEngine"
   ]
  },
  {
   "cell_type": "code",
   "execution_count": 27,
   "metadata": {},
   "outputs": [],
   "source": [
    "#first, try it as a vacuum...so we treat environment atoms with the same nonbonded method as we did before..."
   ]
  },
  {
   "cell_type": "code",
   "execution_count": 28,
   "metadata": {},
   "outputs": [],
   "source": [
    "#i suspect there may be a discrepancy in the way the hybrid topology factory sets the nonbonded method"
   ]
  },
  {
   "cell_type": "code",
   "execution_count": null,
   "metadata": {},
   "outputs": [],
   "source": []
  },
  {
   "cell_type": "code",
   "execution_count": null,
   "metadata": {},
   "outputs": [],
   "source": []
  },
  {
   "cell_type": "code",
   "execution_count": 29,
   "metadata": {},
   "outputs": [
    {
     "name": "stderr",
     "output_type": "stream",
     "text": [
      "DEBUG:openmoltools.openeye:keep_confs was set to 1. Molecule positions will be reset.\n",
      "DEBUG:openmoltools.openeye:MOL\n",
      "DEBUG:parmed.openmm.parameters:Valid patch combinations:\n",
      "DEBUG:openmoltools.openeye:keep_confs was set to 1. Molecule positions will be reset.\n",
      "DEBUG:openmoltools.openeye:MOL\n",
      "DEBUG:parmed.openmm.parameters:Valid patch combinations:\n",
      "INFO:proposal_engine:Building new Topology object...\n",
      "DEBUG:openmoltools.openeye:keep_confs was set to 1. Molecule positions will be reset.\n",
      "DEBUG:openmoltools.openeye:MOL\n",
      "DEBUG:parmed.openmm.parameters:Valid patch combinations:\n",
      "INFO:proposal_engine:Proposed transformation would delete 1 atoms and create 4 atoms.\n"
     ]
    }
   ],
   "source": [
    "top_proposal, old_positions= generate_solvated_hybrid_test_topology('benzene', 'toluene', propose_geometry = False)"
   ]
  },
  {
   "cell_type": "code",
   "execution_count": 30,
   "metadata": {},
   "outputs": [],
   "source": [
    "# top_proposal._old_system.getForce(3).setNonbondedMethod(0)\n",
    "# top_proposal._new_system.getForce(3).setNonbondedMethod(0)\n",
    "\n",
    "# top_proposal._old_system.removeForce(4)\n",
    "# top_proposal._new_system.removeForce(4)"
   ]
  },
  {
   "cell_type": "code",
   "execution_count": 31,
   "metadata": {},
   "outputs": [],
   "source": [
    "top_proposal._old_system.getForce(3).setUseDispersionCorrection(False)\n",
    "top_proposal._new_system.getForce(3).setUseDispersionCorrection(False)"
   ]
  },
  {
   "cell_type": "code",
   "execution_count": 32,
   "metadata": {},
   "outputs": [],
   "source": [
    "_geometry_engine = FFAllAngleGeometryEngine(metadata=None, use_sterics=False, n_bond_divisions=100, n_angle_divisions=180, n_torsion_divisions=360, verbose=True, storage=None, bond_softening_constant=1.0, angle_softening_constant=1.0, neglect_angles = False)"
   ]
  },
  {
   "cell_type": "code",
   "execution_count": 33,
   "metadata": {},
   "outputs": [
    {
     "data": {
      "text/plain": [
       "array([[ 0.1885141 , -0.10363065, -0.01124404],\n",
       "       [ 0.08065562, -0.04630106,  0.05610063],\n",
       "       [ 0.29210052, -0.16308655,  0.06081435],\n",
       "       ...,\n",
       "       [ 0.08351727,  0.62023201,  0.09468868],\n",
       "       [ 0.11641727,  0.66563201,  0.01708868],\n",
       "       [ 0.15791727,  0.61833201,  0.15478868]])"
      ]
     },
     "execution_count": 33,
     "metadata": {},
     "output_type": "execute_result"
    }
   ],
   "source": [
    "old_positions.value_in_unit(unit.nanometers)"
   ]
  },
  {
   "cell_type": "code",
   "execution_count": 34,
   "metadata": {},
   "outputs": [],
   "source": [
    "_new_positions, _lp = _geometry_engine.propose(top_proposal, old_positions, beta)"
   ]
  },
  {
   "cell_type": "code",
   "execution_count": 35,
   "metadata": {},
   "outputs": [],
   "source": [
    "_lp_rev = _geometry_engine.logp_reverse(top_proposal, _new_positions, old_positions, beta)"
   ]
  },
  {
   "cell_type": "code",
   "execution_count": 36,
   "metadata": {},
   "outputs": [],
   "source": [
    "from perses.annihilation.new_relative import HybridTopologyFactory\n",
    "HTF = HybridTopologyFactory(top_proposal, old_positions, _new_positions)"
   ]
  },
  {
   "cell_type": "code",
   "execution_count": 37,
   "metadata": {},
   "outputs": [],
   "source": [
    "from perses.annihilation.lambda_protocol import RelativeAlchemicalState\n",
    "import copy\n",
    "from openmmtools.states import ThermodynamicState, CompoundThermodynamicState, SamplerState\n",
    "from openmmtools import integrators\n",
    "\n",
    "hybrid_system = HTF.hybrid_system\n",
    "lambda_zero_alchemical_state = RelativeAlchemicalState.from_system(hybrid_system)\n",
    "lambda_one_alchemical_state = copy.deepcopy(lambda_zero_alchemical_state)\n",
    "\n",
    "lambda_zero_alchemical_state.set_alchemical_parameters(0.0)\n",
    "lambda_one_alchemical_state.set_alchemical_parameters(1.0)\n",
    "\n",
    "hybrid_system.getForce(7).setUseDispersionCorrection(False)"
   ]
  },
  {
   "cell_type": "code",
   "execution_count": 38,
   "metadata": {},
   "outputs": [],
   "source": [
    "# Create thermodynamic states for the nonalchemical endpoints\n",
    "thermodynamic_state = ThermodynamicState(hybrid_system, temperature = temperature)\n",
    "nonalchemical_thermodynamic_states = {\n",
    "    0: ThermodynamicState(top_proposal.old_system, temperature=temperature),\n",
    "    1: ThermodynamicState(top_proposal.new_system, temperature=temperature)}\n",
    "\n",
    "# Now create the compound states with different alchemical states\n",
    "hybrid_thermodynamic_states = {0: CompoundThermodynamicState(thermodynamic_state,\n",
    "                                                                   composable_states=[lambda_zero_alchemical_state]),\n",
    "                                     1: CompoundThermodynamicState(copy.deepcopy(thermodynamic_state),\n",
    "                                                                   composable_states=[lambda_one_alchemical_state])}"
   ]
  },
  {
   "cell_type": "code",
   "execution_count": 39,
   "metadata": {},
   "outputs": [
    {
     "name": "stdout",
     "output_type": "stream",
     "text": [
      "nonalchemical_zero_energy components\n",
      "\tHarmonicBondForce: 0.05787802063460886\n",
      "\tHarmonicAngleForce: 0.004459541747343244\n",
      "\tPeriodicTorsionForce: 0.00011703901332337944\n",
      "\tNonbondedForce: 593.0539160343947\n",
      "\tMonteCarloBarostat: 0.0\n",
      "\n",
      "nonalchemical_one_energy components\n",
      "\tHarmonicBondForce: 1.0647467818966758\n",
      "\tHarmonicAngleForce: 2.9319137160494053\n",
      "\tPeriodicTorsionForce: 0.6844265480803335\n",
      "\tNonbondedForce: 594.6099277226332\n",
      "\tMonteCarloBarostat: 0.0\n",
      "\n",
      "\n",
      "alchemical_zero_energy components\n",
      "\tCustomBondForce: 0.05780943147099217\n",
      "\tHarmonicBondForce: 1.0070059395892998\n",
      "\tCustomAngleForce: 0.003730209639256297\n",
      "\tHarmonicAngleForce: 2.9289128385182366\n",
      "\tCustomTorsionForce: 0.00011323521200709491\n",
      "\tPeriodicTorsionForce: 0.6843171166696428\n",
      "\tNonbondedForce: 602.7663547531444\n",
      "\tCustomNonbondedForce: -11.407151114482774\n",
      "\tCustomBondForce: 1.6947123957220158\n",
      "\tMonteCarloBarostat: 0.0\n",
      "\n",
      "alchemical_one_energy components\n",
      "\tCustomBondForce: 0.05780943147099217\n",
      "\tHarmonicBondForce: 1.0070059395892998\n",
      "\tCustomAngleForce: 0.003730209639256297\n",
      "\tHarmonicAngleForce: 2.9289128385182366\n",
      "\tCustomTorsionForce: 0.00011323521200709491\n",
      "\tPeriodicTorsionForce: 0.6843171166696428\n",
      "\tNonbondedForce: 604.4958996051965\n",
      "\tCustomNonbondedForce: -4.719833931453679\n",
      "\tCustomBondForce: -5.1661379511105405\n",
      "\tMonteCarloBarostat: 0.0\n"
     ]
    }
   ],
   "source": [
    "#create contexts\n",
    "from openmmtools import integrators\n",
    "from perses.tests.utils import compute_potential_components\n",
    "nonalchemical_zero_context = nonalchemical_thermodynamic_states[0].create_context(integrators.LangevinIntegrator(temperature=temperature))\n",
    "nonalchemical_zero_context.setPositions(old_positions)\n",
    "nonalchemical_zero_energy_components = [(force, energy*beta) for force, energy in compute_potential_components(nonalchemical_zero_context)]\n",
    "print(f\"nonalchemical_zero_energy components\")\n",
    "for force, energy in nonalchemical_zero_energy_components:\n",
    "    print(f\"\\t{force}: {energy}\")\n",
    "#print(f\"nonalchemical_zero_energy: {sum(nonalchemical_zero_energy_components)}\")\n",
    "print()\n",
    "\n",
    "nonalchemical_one_context = nonalchemical_thermodynamic_states[1].create_context(integrators.LangevinIntegrator(temperature=temperature))\n",
    "nonalchemical_one_context.setPositions(_new_positions)\n",
    "nonalchemical_one_energy_components = [(force, energy*beta) for force, energy in compute_potential_components(nonalchemical_one_context)]\n",
    "print(f\"nonalchemical_one_energy components\")\n",
    "for force, energy in nonalchemical_one_energy_components:\n",
    "    print(f\"\\t{force}: {energy}\")\n",
    "#print(f\"nonalchemical_one_energy: {sum(nonalchemical_one_energy_components)}\")\n",
    "print()\n",
    "print()\n",
    "\n",
    "alchemical_zero_context = hybrid_thermodynamic_states[0].create_context(integrators.LangevinIntegrator(temperature=temperature))\n",
    "alchemical_zero_context.setPositions(HTF._hybrid_positions)\n",
    "alchemical_zero_energy_components = [(force, energy*beta) for force, energy in compute_potential_components(alchemical_zero_context)]\n",
    "print(f\"alchemical_zero_energy components\")\n",
    "for force, energy in alchemical_zero_energy_components:\n",
    "    print(f\"\\t{force}: {energy}\")\n",
    "#print(f\"alchemical_zero_energy: {sum(alchemical_zero_energy_components)}\")\n",
    "print()\n",
    "\n",
    "alchemical_one_context = hybrid_thermodynamic_states[1].create_context(integrators.LangevinIntegrator(temperature=temperature))\n",
    "alchemical_one_context.setPositions(HTF._hybrid_positions)\n",
    "alchemical_one_energy_components = [(force, energy*beta) for force, energy in compute_potential_components(alchemical_one_context)]\n",
    "print(f\"alchemical_one_energy components\")\n",
    "for force, energy in alchemical_one_energy_components:\n",
    "    print(f\"\\t{force}: {energy}\")"
   ]
  },
  {
   "cell_type": "code",
   "execution_count": 40,
   "metadata": {},
   "outputs": [],
   "source": [
    "forward_added_valence_energy = _geometry_engine.forward_final_context_reduced_potential - _geometry_engine.forward_atoms_with_positions_reduced_potential\n",
    "reverse_subtracted_valence_energy = _geometry_engine.reverse_final_context_reduced_potential - _geometry_engine.reverse_atoms_with_positions_reduced_potential"
   ]
  },
  {
   "cell_type": "code",
   "execution_count": 41,
   "metadata": {},
   "outputs": [],
   "source": [
    "nonalch_zero_rp = SamplerState.from_context(nonalchemical_zero_context).potential_energy*beta\n",
    "nonalch_one_rp = SamplerState.from_context(nonalchemical_one_context).potential_energy*beta\n",
    "\n",
    "alch_zero_rp = SamplerState.from_context(alchemical_zero_context).potential_energy*beta\n",
    "alch_one_rp = SamplerState.from_context(alchemical_one_context).potential_energy*beta"
   ]
  },
  {
   "cell_type": "code",
   "execution_count": 42,
   "metadata": {},
   "outputs": [
    {
     "name": "stdout",
     "output_type": "stream",
     "text": [
      "nonalchemical_zero: 593.0911796288584, alch_zero - forward valence: 593.093821410133\n"
     ]
    }
   ],
   "source": [
    "print(f\"nonalchemical_zero: {nonalch_zero_rp}, alch_zero - forward valence: {alch_zero_rp - forward_added_valence_energy}\")"
   ]
  },
  {
   "cell_type": "code",
   "execution_count": 43,
   "metadata": {},
   "outputs": [
    {
     "name": "stdout",
     "output_type": "stream",
     "text": [
      "nonalchemical_one: 599.2687612433201, alch_one - reverse valence: 599.2689064288656\n"
     ]
    }
   ],
   "source": [
    "print(f\"nonalchemical_one: {nonalch_one_rp}, alch_one - reverse valence: {alch_one_rp - reverse_subtracted_valence_energy}\")"
   ]
  },
  {
   "cell_type": "code",
   "execution_count": 44,
   "metadata": {},
   "outputs": [
    {
     "data": {
      "text/plain": [
       "False"
      ]
     },
     "execution_count": 44,
     "metadata": {},
     "output_type": "execute_result"
    }
   ],
   "source": [
    "hybrid_system.getForce(7).getUseDispersionCorrection()"
   ]
  },
  {
   "cell_type": "code",
   "execution_count": 45,
   "metadata": {},
   "outputs": [
    {
     "data": {
      "text/plain": [
       "False"
      ]
     },
     "execution_count": 45,
     "metadata": {},
     "output_type": "execute_result"
    }
   ],
   "source": [
    "top_proposal._old_system.getForce(3).getUseDispersionCorrection()"
   ]
  },
  {
   "cell_type": "code",
   "execution_count": 46,
   "metadata": {},
   "outputs": [
    {
     "data": {
      "text/plain": [
       "False"
      ]
     },
     "execution_count": 46,
     "metadata": {},
     "output_type": "execute_result"
    }
   ],
   "source": [
    "top_proposal._new_system.getForce(3).getUseDispersionCorrection()"
   ]
  },
  {
   "cell_type": "code",
   "execution_count": null,
   "metadata": {},
   "outputs": [],
   "source": []
  }
 ],
 "metadata": {
  "kernelspec": {
   "display_name": "Python 3",
   "language": "python",
   "name": "python3"
  },
  "language_info": {
   "codemirror_mode": {
    "name": "ipython",
    "version": 3
   },
   "file_extension": ".py",
   "mimetype": "text/x-python",
   "name": "python",
   "nbconvert_exporter": "python",
   "pygments_lexer": "ipython3",
   "version": "3.6.8"
  }
 },
 "nbformat": 4,
 "nbformat_minor": 2
}
