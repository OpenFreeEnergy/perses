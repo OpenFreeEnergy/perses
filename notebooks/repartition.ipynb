{
 "cells": [
  {
   "cell_type": "markdown",
   "metadata": {},
   "source": [
    "## Attempt to make a factory that is REST and BLUES compatible"
   ]
  },
  {
   "cell_type": "markdown",
   "metadata": {},
   "source": [
    "we need to be able to make a factory that will take a hybrid system and generate another hybrid system with different alchemical regions (not unlike the openmmtools `AlchemicalRegion`) but something that is specific to perses..."
   ]
  },
  {
   "cell_type": "markdown",
   "metadata": {},
   "source": [
    "### Generate a test system to play with..."
   ]
  },
  {
   "cell_type": "code",
   "execution_count": 2,
   "metadata": {
    "scrolled": true
   },
   "outputs": [],
   "source": [
    "from pkg_resources import resource_filename\n",
    "from simtk.openmm import app\n",
    "import mdtraj as md\n",
    "from perses.tests.test_topology_proposal import generate_atp, generate_dipeptide_top_pos_sys\n",
    "from openmmtools.constants import kB\n",
    "from simtk import unit, openmm"
   ]
  },
  {
   "cell_type": "markdown",
   "metadata": {},
   "source": [
    "I'll generate a capped alanine and a corresponding system generator."
   ]
  },
  {
   "cell_type": "code",
   "execution_count": 5,
   "metadata": {
    "scrolled": true
   },
   "outputs": [
    {
     "name": "stderr",
     "output_type": "stream",
     "text": [
      "DEBUG:perses.forcefields.system_generators:Trying GAFFTemplateGenerator to load gaff-2.11\n"
     ]
    }
   ],
   "source": [
    "atp, sys_generator = generate_atp('solvent')"
   ]
  },
  {
   "cell_type": "markdown",
   "metadata": {},
   "source": [
    "I'll generate a `htf_og` and a `htf_rep` corresponding to the original htf and a repartitioned htf. The function that is called iternally does a `validate_endstate_energies` which will print the energetic contribution by force, bookkeep, and print the discrepancy between the alchemical and nonalchemical endstates."
   ]
  },
  {
   "cell_type": "code",
   "execution_count": 6,
   "metadata": {
    "scrolled": true
   },
   "outputs": [
    {
     "name": "stderr",
     "output_type": "stream",
     "text": [
      "INFO:proposal_generator:\tConducting polymer point mutation proposal...\n",
      "INFO:proposal_generator:Using matching_criterion to chose best atom map\n",
      "INFO:proposal_generator:Scaffold has symmetry of 0\n",
      "WARNING:proposal_generator:Two molecules are not similar to have a common scaffold\n",
      "WARNING:proposal_generator:Proceeding with direct mapping of molecules, but please check atom mapping and the geometry of the ligands.\n",
      "INFO:proposal_generator:len [{4: 4, 9: 9}]\n",
      "INFO:proposal_generator:{4: 4, 9: 9}\n",
      "INFO:proposal_generator:Only one map so returning that one\n",
      "INFO:proposal_generator:{4: 4, 9: 9}\n"
     ]
    },
    {
     "name": "stdout",
     "output_type": "stream",
     "text": [
      "making topology proposal\n"
     ]
    },
    {
     "name": "stderr",
     "output_type": "stream",
     "text": [
      "INFO:geometry:propose: performing forward proposal\n",
      "INFO:geometry:propose: unique new atoms detected; proceeding to _logp_propose...\n",
      "INFO:geometry:Conducting forward proposal...\n",
      "INFO:geometry:Computing proposal order with NetworkX...\n",
      "INFO:geometry:number of atoms to be placed: 7\n",
      "INFO:geometry:Atom index proposal order is [18, 14, 16, 15, 13, 19, 17]\n",
      "INFO:geometry:omitted_bonds: []\n",
      "INFO:geometry:direction of proposal is forward; creating atoms_with_positions and new positions from old system/topology...\n"
     ]
    },
    {
     "name": "stdout",
     "output_type": "stream",
     "text": [
      "generating geometry engine\n",
      "making geometry proposal from ALA to THR\n"
     ]
    },
    {
     "name": "stderr",
     "output_type": "stream",
     "text": [
      "INFO:geometry:creating growth system...\n",
      "INFO:geometry:\tcreating bond force...\n",
      "INFO:geometry:\tthere are 11 bonds in reference force.\n",
      "INFO:geometry:\tcreating angle force...\n",
      "INFO:geometry:\tthere are 43 angles in reference force.\n",
      "INFO:geometry:\tcreating torsion force...\n",
      "INFO:geometry:\tcreating extra torsions force...\n",
      "INFO:geometry:\tthere are 72 torsions in reference force.\n",
      "INFO:geometry:\tcreating nonbonded force...\n",
      "INFO:geometry:\t\tgrabbing reference nonbonded method, cutoff, switching function, switching distance...\n",
      "INFO:geometry:\t\tcreating nonbonded exception force (i.e. custom bond for 1,4s)...\n",
      "INFO:geometry:\t\tlooping through exceptions calculating growth indices, and adding appropriate interactions to custom bond force.\n",
      "INFO:geometry:\t\tthere are 1654 in the reference Nonbonded force\n",
      "INFO:geometry:Neglected angle terms : []\n",
      "INFO:geometry:omitted_growth_terms: {'bonds': [], 'angles': [], 'torsions': [], '1,4s': []}\n",
      "INFO:geometry:extra torsions: {0: (18, 10, 8, 14, [1, Quantity(value=-1.0655064807976995, unit=radian), Quantity(value=120.0, unit=kilocalorie/mole), 2])}\n",
      "INFO:geometry:neglected angle terms include []\n",
      "INFO:geometry:log probability choice of torsions and atom order: -12.678448458920965\n",
      "INFO:geometry:creating platform, integrators, and contexts; setting growth parameter\n",
      "INFO:geometry:setting atoms_with_positions context new positions\n",
      "INFO:geometry:There are 7 new atoms\n",
      "INFO:geometry:\treduced angle potential = 0.04295646917032234.\n",
      "INFO:geometry:\treduced angle potential = 3.2626034071933785.\n",
      "INFO:geometry:\treduced angle potential = 0.24748292970963784.\n",
      "INFO:geometry:\treduced angle potential = 0.3483803918535933.\n",
      "INFO:geometry:\treduced angle potential = 0.2417335542182535.\n",
      "INFO:geometry:\treduced angle potential = 0.8137117669705061.\n",
      "INFO:geometry:\treduced angle potential = 1.0381139278277762.\n",
      "INFO:geometry:\tbeginning construction of no_nonbonded final system...\n",
      "INFO:geometry:\tinitial no-nonbonded final system forces ['HarmonicBondForce', 'HarmonicAngleForce', 'PeriodicTorsionForce', 'NonbondedForce', 'MonteCarloBarostat']\n"
     ]
    },
    {
     "name": "stdout",
     "output_type": "stream",
     "text": [
      "Warning: Returning Reference platform instead of requested platform CUDA\n",
      "conducting subsequent work with the following platform: Reference\n",
      "conducting subsequent work with the following platform: CPU\n"
     ]
    },
    {
     "name": "stderr",
     "output_type": "stream",
     "text": [
      "INFO:geometry:\tfinal no-nonbonded final system forces dict_keys(['HarmonicBondForce', 'HarmonicAngleForce', 'PeriodicTorsionForce', 'NonbondedForce'])\n",
      "INFO:geometry:\tthere are 11 bond forces in the no-nonbonded final system\n",
      "INFO:geometry:\tthere are 43 angle forces in the no-nonbonded final system\n",
      "INFO:geometry:\tthere are 72 torsion forces in the no-nonbonded final system\n",
      "INFO:geometry:forward final system defined with 0 neglected angles.\n",
      "INFO:geometry:total reduced potential before atom placement: 16.81404844848707\n",
      "INFO:geometry:total reduced energy added from growth system: -66.29097889628382\n",
      "INFO:geometry:final reduced energy -49.47693044779675\n",
      "INFO:geometry:sum of energies: -49.47693044779675\n",
      "INFO:geometry:magnitude of difference in the energies: 0.0\n",
      "INFO:geometry:Final logp_proposal: 29.377181961883146\n",
      "INFO:geometry:logp_reverse: performing reverse proposal\n",
      "INFO:geometry:logp_reverse: unique new atoms detected; proceeding to _logp_propose...\n",
      "INFO:geometry:Conducting forward proposal...\n",
      "INFO:geometry:Computing proposal order with NetworkX...\n",
      "INFO:geometry:number of atoms to be placed: 3\n",
      "INFO:geometry:Atom index proposal order is [11, 12, 13]\n",
      "INFO:geometry:omitted_bonds: []\n",
      "INFO:geometry:direction of proposal is reverse; creating atoms_with_positions from old system/topology\n",
      "INFO:geometry:creating growth system...\n",
      "INFO:geometry:\tcreating bond force...\n"
     ]
    },
    {
     "name": "stdout",
     "output_type": "stream",
     "text": [
      "conducting subsequent work with the following platform: CPU\n",
      "conducting subsequent work with the following platform: CPU\n",
      "conducting subsequent work with the following platform: CPU\n",
      "Warning: Returning Reference platform instead of requested platform CUDA\n",
      "conducting subsequent work with the following platform: Reference\n",
      "conducting subsequent work with the following platform: CPU\n",
      "added energy components: [('CustomBondForce', 0.49650673835898185), ('CustomAngleForce', 13.355126411252984), ('CustomTorsionForce', 10.457417656210124), ('CustomBondForce', -90.6000297021059)]\n"
     ]
    },
    {
     "name": "stderr",
     "output_type": "stream",
     "text": [
      "INFO:geometry:\tthere are 9 bonds in reference force.\n",
      "INFO:geometry:\tcreating angle force...\n",
      "INFO:geometry:\tthere are 36 angles in reference force.\n",
      "INFO:geometry:\tcreating torsion force...\n",
      "INFO:geometry:\tcreating extra torsions force...\n",
      "INFO:geometry:\tthere are 42 torsions in reference force.\n",
      "INFO:geometry:\tcreating nonbonded force...\n",
      "INFO:geometry:\t\tgrabbing reference nonbonded method, cutoff, switching function, switching distance...\n",
      "INFO:geometry:\t\tcreating nonbonded exception force (i.e. custom bond for 1,4s)...\n",
      "INFO:geometry:\t\tlooping through exceptions calculating growth indices, and adding appropriate interactions to custom bond force.\n",
      "INFO:geometry:\t\tthere are 1631 in the reference Nonbonded force\n",
      "INFO:geometry:Neglected angle terms : []\n",
      "INFO:geometry:omitted_growth_terms: {'bonds': [], 'angles': [], 'torsions': [], '1,4s': []}\n",
      "INFO:geometry:extra torsions: {}\n",
      "INFO:geometry:neglected angle terms include []\n",
      "INFO:geometry:log probability choice of torsions and atom order: -5.0875963352323845\n",
      "INFO:geometry:creating platform, integrators, and contexts; setting growth parameter\n",
      "INFO:geometry:setting atoms_with_positions context old positions\n",
      "INFO:geometry:There are 3 new atoms\n",
      "INFO:geometry:\treduced angle potential = 1.2915573155343707e-10.\n",
      "INFO:geometry:\treduced angle potential = 3.205828647416432e-13.\n",
      "INFO:geometry:\treduced angle potential = 7.390951941228323e-11.\n",
      "INFO:geometry:\tbeginning construction of no_nonbonded final system...\n",
      "INFO:geometry:\tinitial no-nonbonded final system forces ['HarmonicBondForce', 'HarmonicAngleForce', 'PeriodicTorsionForce', 'NonbondedForce', 'MonteCarloBarostat']\n",
      "INFO:geometry:\tfinal no-nonbonded final system forces dict_keys(['HarmonicBondForce', 'HarmonicAngleForce', 'PeriodicTorsionForce', 'NonbondedForce'])\n",
      "INFO:geometry:\tthere are 9 bond forces in the no-nonbonded final system\n",
      "INFO:geometry:\tthere are 36 angle forces in the no-nonbonded final system\n",
      "INFO:geometry:\tthere are 42 torsion forces in the no-nonbonded final system\n",
      "INFO:geometry:reverse final system defined with 0 neglected angles.\n"
     ]
    },
    {
     "name": "stdout",
     "output_type": "stream",
     "text": [
      "Warning: Returning Reference platform instead of requested platform CUDA\n",
      "conducting subsequent work with the following platform: Reference\n",
      "conducting subsequent work with the following platform: CPU\n",
      "conducting subsequent work with the following platform: CPU\n",
      "conducting subsequent work with the following platform: CPU"
     ]
    },
    {
     "name": "stderr",
     "output_type": "stream",
     "text": [
      "INFO:geometry:total reduced potential before atom placement: 16.81404844848707\n",
      "INFO:geometry:total reduced energy added from growth system: 8.81651504972902\n",
      "INFO:geometry:final reduced energy 25.630563498216084\n",
      "INFO:geometry:sum of energies: 25.63056349821609\n",
      "INFO:geometry:magnitude of difference in the energies: 7.105427357601002e-15\n",
      "INFO:geometry:Final logp_proposal: 12.19515291646449\n",
      "INFO:relative:Beginning nonbonded method, total particle, barostat, and exceptions retrieval...\n",
      "INFO:relative:Old system forces: dict_keys(['HarmonicBondForce', 'HarmonicAngleForce', 'PeriodicTorsionForce', 'NonbondedForce', 'MonteCarloBarostat'])\n",
      "INFO:relative:New system forces: dict_keys(['HarmonicBondForce', 'HarmonicAngleForce', 'PeriodicTorsionForce', 'NonbondedForce', 'MonteCarloBarostat'])\n",
      "INFO:relative:No unknown forces.\n",
      "INFO:relative:Nonbonded method to be used (i.e. from old system): 4\n",
      "INFO:relative:Adding and mapping old atoms to hybrid system...\n",
      "INFO:relative:Adding and mapping new atoms to hybrid system...\n",
      "INFO:relative:Added MonteCarloBarostat.\n",
      "INFO:relative:getDefaultPeriodicBoxVectors added to hybrid: [Quantity(value=Vec3(x=2.56477354, y=0.0, z=0.0), unit=nanometer), Quantity(value=Vec3(x=0.0, y=2.56477354, z=0.0), unit=nanometer), Quantity(value=Vec3(x=0.0, y=0.0, z=2.56477354), unit=nanometer)]\n",
      "INFO:relative:Determined atom classes.\n",
      "INFO:relative:Generating old system exceptions dict...\n",
      "INFO:relative:Generating new system exceptions dict...\n",
      "INFO:relative:Handling constraints...\n",
      "INFO:relative:Handling virtual sites...\n",
      "INFO:relative:\t_handle_virtual_sites: numVirtualSites: 0\n",
      "INFO:relative:Adding bond force terms...\n",
      "INFO:relative:Adding angle force terms...\n",
      "INFO:relative:Adding torsion force terms...\n",
      "INFO:relative:Adding nonbonded force terms...\n",
      "INFO:relative:\t_add_nonbonded_force_terms: <simtk.openmm.openmm.NonbondedForce; proxy of <Swig Object of type 'OpenMM::NonbondedForce *' at 0x7f9a3fc83d20> > added to hybrid system\n",
      "INFO:relative:\t_add_nonbonded_force_terms: nonbonded_method is PME or Ewald\n",
      "INFO:relative:\t_add_nonbonded_force_terms: 4 added to standard nonbonded force\n",
      "INFO:relative:\t_add_nonbonded_force_terms: 2 added to sterics_custom_nonbonded force\n",
      "INFO:relative:\t_add_nonbonded_force_terms: <simtk.openmm.openmm.CustomNonbondedForce; proxy of <Swig Object of type 'OpenMM::CustomNonbondedForce *' at 0x7f9a3c7655a0> > added to hybrid system\n",
      "INFO:relative:Handling harmonic bonds...\n",
      "INFO:relative:\thandle_harmonic_bonds: looping through old_system to add relevant terms...\n",
      "INFO:relative:\thandle_harmonic_bonds: looping through new_system to add relevant terms...\n",
      "INFO:relative:Handling harmonic angles...\n",
      "INFO:relative:\thandle_harmonic_angles: looping through old_system to add relevant terms...\n",
      "INFO:relative:\thandle_harmonic_angles: looping through new_system to add relevant terms...\n",
      "INFO:relative:Handling torsion forces...\n",
      "INFO:relative:\thandle_periodic_torsion_forces: looping through old_system to add relevant terms...\n",
      "INFO:relative:\thandle_periodic_torsion_forces: looping through new_system to add relevant terms...\n",
      "INFO:relative:Handling nonbonded forces...\n",
      "INFO:relative:\thandle_nonbonded: looping through all particles in hybrid...\n"
     ]
    },
    {
     "name": "stdout",
     "output_type": "stream",
     "text": [
      "\n",
      "conducting subsequent work with the following platform: CPU\n",
      "Warning: Returning Reference platform instead of requested platform CUDA\n",
      "conducting subsequent work with the following platform: Reference\n",
      "conducting subsequent work with the following platform: CPU\n",
      "added energy components: [('CustomBondForce', 0.0), ('CustomAngleForce', 0.00017809232534266413), ('CustomTorsionForce', 0.004336750525590176), ('CustomBondForce', 8.812000206878086)]\n"
     ]
    },
    {
     "name": "stderr",
     "output_type": "stream",
     "text": [
      "INFO:relative:\thandle_nonbonded: Handling Interaction Groups...\n",
      "INFO:relative:\thandle_nonbonded: Handling Hybrid Exceptions...\n",
      "INFO:relative:\thandle_nonbonded: Handling Original Exceptions...\n",
      "INFO:relative:Handling unique_new/old interaction exceptions...\n",
      "INFO:relative:There are old or new system exceptions...proceeding.\n"
     ]
    },
    {
     "name": "stdout",
     "output_type": "stream",
     "text": [
      "1693\n",
      "1693\n",
      "1693\n",
      "1693\n",
      "conducting subsequent work with the following platform: Reference\n",
      "conducting subsequent work with the following platform: CPU\n",
      "\t\t\tHarmonicBondForce: 0.03455153971697946\n",
      "\t\t\tHarmonicAngleForce: 0.6072017723642879\n",
      "\t\t\tPeriodicTorsionForce: 16.176809979256742\n",
      "\t\t\tNonbondedForce: -920.0914555310637\n",
      "\t\t\tAndersenThermostat: 0.0\n",
      "\t\t\tMonteCarloBarostat: 0.0\n",
      "conducting subsequent work with the following platform: CPU\n",
      "\t\t\tCustomBondForce: 0.5310582780759613\n",
      "\t\t\tHarmonicBondForce: 0.0\n",
      "\t\t\tCustomAngleForce: 13.962328183617275\n",
      "\t\t\tHarmonicAngleForce: 0.0\n",
      "\t\t\tCustomTorsionForce: 26.63422763546686\n",
      "\t\t\tPeriodicTorsionForce: 0.0\n",
      "\t\t\tNonbondedForce: -1003.0879687670486\n",
      "\t\t\tCustomNonbondedForce: -7.5038273029021605\n",
      "\t\t\tCustomNonbondedForce: -134.40401638226987\n",
      "\t\t\tCustomBondForce: 134.30431506167668\n",
      "\t\t\tAndersenThermostat: 0.0\n",
      "\t\t\tMonteCarloBarostat: 0.0\n",
      "conducting subsequent work with the following platform: CPU\n",
      "\t\t\tCustomBondForce: 0.5310582780759613\n",
      "\t\t\tHarmonicBondForce: 0.0\n",
      "\t\t\tCustomAngleForce: 13.962328183617275\n",
      "\t\t\tHarmonicAngleForce: 0.0\n",
      "\t\t\tCustomTorsionForce: 26.63422763546686\n",
      "\t\t\tPeriodicTorsionForce: 0.0\n",
      "\t\t\tNonbondedForce: -937.6714578392898\n",
      "\t\t\tCustomNonbondedForce: 31.44660913543557\n",
      "\t\t\tCustomNonbondedForce: -64.42872248863804\n",
      "\t\t\tCustomBondForce: 65.5019632333183\n",
      "\t\t\tAndersenThermostat: 0.0\n",
      "\t\t\tMonteCarloBarostat: 0.0\n",
      "conducting subsequent work with the following platform: CPU\n",
      "\t\t\tHarmonicBondForce: 0.5310582780759613\n",
      "\t\t\tHarmonicAngleForce: 13.96215009129193\n",
      "\t\t\tPeriodicTorsionForce: 26.629890884941275\n",
      "\t\t\tNonbondedForce: -913.9635979760586\n",
      "\t\t\tAndersenThermostat: 0.0\n",
      "\t\t\tMonteCarloBarostat: 0.0\n",
      "zero state error : 8.171241461241152e-12\n",
      "one state error : 3.957723038183758e-12\n"
     ]
    }
   ],
   "source": [
    "#htf_og = generate_dipeptide_top_pos_sys(atp.topology, 'THR', atp.system, atp.positions, sys_generator, conduct_htf_prop=True)\n",
    "htf_rep = generate_dipeptide_top_pos_sys(atp.topology, 'THR', atp.system, atp.positions, sys_generator, conduct_htf_prop=True, repartition=True)\n",
    "\n"
   ]
  },
  {
   "cell_type": "markdown",
   "metadata": {},
   "source": [
    "Let's write a function that removes exceptions from the non-bonded force to see if that gets rid of the discrepancy at the ONE state"
   ]
  },
  {
   "cell_type": "code",
   "execution_count": 7,
   "metadata": {},
   "outputs": [],
   "source": [
    "def remove_exceptions(system, i):\n",
    "    # Get nonbonded force\n",
    "    force = system.getForce(i)\n",
    "    \n",
    "    # Get number of exceptions\n",
    "    print(f\"number of exceptions before: {system.getForce(i).getNumExceptions()}\")\n",
    "    \n",
    "    # Create nonbonded force without exceptions\n",
    "    new_force = openmm.NonbondedForce()\n",
    "    for j in range(force.getNumParticles()):\n",
    "        parameters = force.getParticleParameters(j)\n",
    "        new_force.addParticle(parameters[0], parameters[1], parameters[2])\n",
    "    \n",
    "    # Remove old nonbonded force\n",
    "    system.removeForce(i)\n",
    "    \n",
    "    # Add new nonbonded force\n",
    "    system.addForce(new_force)\n",
    "    \n",
    "    # Check that there are no exceptions\n",
    "    print(f\"number of exception after: {system.getForce(i).getNumExceptions()}\")\n",
    "    \n",
    "    return system"
   ]
  },
  {
   "cell_type": "markdown",
   "metadata": {},
   "source": [
    "Remove exceptions from nonbonded force for alanine dipeptide"
   ]
  },
  {
   "cell_type": "code",
   "execution_count": 8,
   "metadata": {
    "scrolled": true
   },
   "outputs": [
    {
     "name": "stdout",
     "output_type": "stream",
     "text": [
      "number of exceptions before: 1631\n"
     ]
    },
    {
     "ename": "AttributeError",
     "evalue": "type object 'object' has no attribute '__getattr__'",
     "output_type": "error",
     "traceback": [
      "\u001b[0;31m---------------------------------------------------------------------------\u001b[0m",
      "\u001b[0;31mAttributeError\u001b[0m                            Traceback (most recent call last)",
      "\u001b[0;32m<ipython-input-8-dae24d8ab2d8>\u001b[0m in \u001b[0;36m<module>\u001b[0;34m\u001b[0m\n\u001b[0;32m----> 1\u001b[0;31m \u001b[0mnew_system\u001b[0m \u001b[0;34m=\u001b[0m \u001b[0mremove_exceptions\u001b[0m\u001b[0;34m(\u001b[0m\u001b[0matp\u001b[0m\u001b[0;34m.\u001b[0m\u001b[0msystem\u001b[0m\u001b[0;34m,\u001b[0m \u001b[0;36m3\u001b[0m\u001b[0;34m)\u001b[0m\u001b[0;34m\u001b[0m\u001b[0;34m\u001b[0m\u001b[0m\n\u001b[0m",
      "\u001b[0;32m<ipython-input-7-f8c8b293cd7d>\u001b[0m in \u001b[0;36mremove_exceptions\u001b[0;34m(system, i)\u001b[0m\n\u001b[1;32m     19\u001b[0m \u001b[0;34m\u001b[0m\u001b[0m\n\u001b[1;32m     20\u001b[0m     \u001b[0;31m# Check that there are no exceptions\u001b[0m\u001b[0;34m\u001b[0m\u001b[0;34m\u001b[0m\u001b[0;34m\u001b[0m\u001b[0m\n\u001b[0;32m---> 21\u001b[0;31m     \u001b[0mprint\u001b[0m\u001b[0;34m(\u001b[0m\u001b[0;34mf\"number of exception after: {system.getForce(i).getNumExceptions()}\"\u001b[0m\u001b[0;34m)\u001b[0m\u001b[0;34m\u001b[0m\u001b[0;34m\u001b[0m\u001b[0m\n\u001b[0m\u001b[1;32m     22\u001b[0m \u001b[0;34m\u001b[0m\u001b[0m\n\u001b[1;32m     23\u001b[0m     \u001b[0;32mreturn\u001b[0m \u001b[0msystem\u001b[0m\u001b[0;34m\u001b[0m\u001b[0;34m\u001b[0m\u001b[0m\n",
      "\u001b[0;32m~/anaconda3/envs/openmm/lib/python3.6/site-packages/simtk/openmm/openmm.py\u001b[0m in \u001b[0;36m<lambda>\u001b[0;34m(self, name)\u001b[0m\n\u001b[1;32m   6278\u001b[0m     \u001b[0;32mfor\u001b[0m \u001b[0m_s\u001b[0m \u001b[0;32min\u001b[0m \u001b[0;34m[\u001b[0m\u001b[0mForce\u001b[0m\u001b[0;34m]\u001b[0m\u001b[0;34m:\u001b[0m\u001b[0;34m\u001b[0m\u001b[0;34m\u001b[0m\u001b[0m\n\u001b[1;32m   6279\u001b[0m         \u001b[0m__swig_getmethods__\u001b[0m\u001b[0;34m.\u001b[0m\u001b[0mupdate\u001b[0m\u001b[0;34m(\u001b[0m\u001b[0mgetattr\u001b[0m\u001b[0;34m(\u001b[0m\u001b[0m_s\u001b[0m\u001b[0;34m,\u001b[0m \u001b[0;34m'__swig_getmethods__'\u001b[0m\u001b[0;34m,\u001b[0m \u001b[0;34m{\u001b[0m\u001b[0;34m}\u001b[0m\u001b[0;34m)\u001b[0m\u001b[0;34m)\u001b[0m\u001b[0;34m\u001b[0m\u001b[0;34m\u001b[0m\u001b[0m\n\u001b[0;32m-> 6280\u001b[0;31m     \u001b[0m__getattr__\u001b[0m \u001b[0;34m=\u001b[0m \u001b[0;32mlambda\u001b[0m \u001b[0mself\u001b[0m\u001b[0;34m,\u001b[0m \u001b[0mname\u001b[0m\u001b[0;34m:\u001b[0m \u001b[0m_swig_getattr\u001b[0m\u001b[0;34m(\u001b[0m\u001b[0mself\u001b[0m\u001b[0;34m,\u001b[0m \u001b[0mMonteCarloBarostat\u001b[0m\u001b[0;34m,\u001b[0m \u001b[0mname\u001b[0m\u001b[0;34m)\u001b[0m\u001b[0;34m\u001b[0m\u001b[0;34m\u001b[0m\u001b[0m\n\u001b[0m\u001b[1;32m   6281\u001b[0m     \u001b[0m__repr__\u001b[0m \u001b[0;34m=\u001b[0m \u001b[0m_swig_repr\u001b[0m\u001b[0;34m\u001b[0m\u001b[0;34m\u001b[0m\u001b[0m\n\u001b[1;32m   6282\u001b[0m \u001b[0;34m\u001b[0m\u001b[0m\n",
      "\u001b[0;32m~/anaconda3/envs/openmm/lib/python3.6/site-packages/simtk/openmm/openmm.py\u001b[0m in \u001b[0;36m_swig_getattr\u001b[0;34m(self, class_type, name)\u001b[0m\n\u001b[1;32m     72\u001b[0m \u001b[0;34m\u001b[0m\u001b[0m\n\u001b[1;32m     73\u001b[0m \u001b[0;32mdef\u001b[0m \u001b[0m_swig_getattr\u001b[0m\u001b[0;34m(\u001b[0m\u001b[0mself\u001b[0m\u001b[0;34m,\u001b[0m \u001b[0mclass_type\u001b[0m\u001b[0;34m,\u001b[0m \u001b[0mname\u001b[0m\u001b[0;34m)\u001b[0m\u001b[0;34m:\u001b[0m\u001b[0;34m\u001b[0m\u001b[0;34m\u001b[0m\u001b[0m\n\u001b[0;32m---> 74\u001b[0;31m     \u001b[0;32mreturn\u001b[0m \u001b[0m_swig_getattr_nondynamic\u001b[0m\u001b[0;34m(\u001b[0m\u001b[0mself\u001b[0m\u001b[0;34m,\u001b[0m \u001b[0mclass_type\u001b[0m\u001b[0;34m,\u001b[0m \u001b[0mname\u001b[0m\u001b[0;34m,\u001b[0m \u001b[0;36m0\u001b[0m\u001b[0;34m)\u001b[0m\u001b[0;34m\u001b[0m\u001b[0;34m\u001b[0m\u001b[0m\n\u001b[0m\u001b[1;32m     75\u001b[0m \u001b[0;34m\u001b[0m\u001b[0m\n\u001b[1;32m     76\u001b[0m \u001b[0;34m\u001b[0m\u001b[0m\n",
      "\u001b[0;32m~/anaconda3/envs/openmm/lib/python3.6/site-packages/simtk/openmm/openmm.py\u001b[0m in \u001b[0;36m_swig_getattr_nondynamic\u001b[0;34m(self, class_type, name, static)\u001b[0m\n\u001b[1;32m     67\u001b[0m         \u001b[0;32mreturn\u001b[0m \u001b[0mmethod\u001b[0m\u001b[0;34m(\u001b[0m\u001b[0mself\u001b[0m\u001b[0;34m)\u001b[0m\u001b[0;34m\u001b[0m\u001b[0;34m\u001b[0m\u001b[0m\n\u001b[1;32m     68\u001b[0m     \u001b[0;32mif\u001b[0m \u001b[0;34m(\u001b[0m\u001b[0;32mnot\u001b[0m \u001b[0mstatic\u001b[0m\u001b[0;34m)\u001b[0m\u001b[0;34m:\u001b[0m\u001b[0;34m\u001b[0m\u001b[0;34m\u001b[0m\u001b[0m\n\u001b[0;32m---> 69\u001b[0;31m         \u001b[0;32mreturn\u001b[0m \u001b[0mobject\u001b[0m\u001b[0;34m.\u001b[0m\u001b[0m__getattr__\u001b[0m\u001b[0;34m(\u001b[0m\u001b[0mself\u001b[0m\u001b[0;34m,\u001b[0m \u001b[0mname\u001b[0m\u001b[0;34m)\u001b[0m\u001b[0;34m\u001b[0m\u001b[0;34m\u001b[0m\u001b[0m\n\u001b[0m\u001b[1;32m     70\u001b[0m     \u001b[0;32melse\u001b[0m\u001b[0;34m:\u001b[0m\u001b[0;34m\u001b[0m\u001b[0;34m\u001b[0m\u001b[0m\n\u001b[1;32m     71\u001b[0m         \u001b[0;32mraise\u001b[0m \u001b[0mAttributeError\u001b[0m\u001b[0;34m(\u001b[0m\u001b[0mname\u001b[0m\u001b[0;34m)\u001b[0m\u001b[0;34m\u001b[0m\u001b[0;34m\u001b[0m\u001b[0m\n",
      "\u001b[0;31mAttributeError\u001b[0m: type object 'object' has no attribute '__getattr__'"
     ]
    }
   ],
   "source": [
    "new_system = remove_exceptions(atp.system, 3)"
   ]
  },
  {
   "cell_type": "code",
   "execution_count": 9,
   "metadata": {},
   "outputs": [],
   "source": [
    "from perses.rjmc.topology_proposal import PointMutationEngine\n",
    "point_mutation_engine = PointMutationEngine(wildtype_topology = atp.topology,\n",
    "                                            system_generator = sys_generator,\n",
    "                                            chain_id = '1', #denote the chain id allowed to mutate (it's always a string variable)\n",
    "                                            max_point_mutants = 1,\n",
    "                                            residues_allowed_to_mutate = ['2'], #the residue ids allowed to mutate\n",
    "                                            allowed_mutations = [('2', 'THR')], #the residue ids allowed to mutate with the three-letter code allowed to change\n",
    "                                            aggregate = True) #always allow aggregation"
   ]
  },
  {
   "cell_type": "code",
   "execution_count": 10,
   "metadata": {},
   "outputs": [
    {
     "ename": "NameError",
     "evalue": "name 'new_system' is not defined",
     "output_type": "error",
     "traceback": [
      "\u001b[0;31m---------------------------------------------------------------------------\u001b[0m",
      "\u001b[0;31mNameError\u001b[0m                                 Traceback (most recent call last)",
      "\u001b[0;32m<ipython-input-10-8530166255bf>\u001b[0m in \u001b[0;36m<module>\u001b[0;34m\u001b[0m\n\u001b[0;32m----> 1\u001b[0;31m \u001b[0mtopology_proposal\u001b[0m \u001b[0;34m=\u001b[0m \u001b[0mpoint_mutation_engine\u001b[0m\u001b[0;34m.\u001b[0m\u001b[0mpropose\u001b[0m\u001b[0;34m(\u001b[0m\u001b[0mcurrent_system\u001b[0m \u001b[0;34m=\u001b[0m \u001b[0mnew_system\u001b[0m\u001b[0;34m,\u001b[0m \u001b[0mcurrent_topology\u001b[0m \u001b[0;34m=\u001b[0m \u001b[0matp\u001b[0m\u001b[0;34m.\u001b[0m\u001b[0mtopology\u001b[0m\u001b[0;34m)\u001b[0m\u001b[0;34m\u001b[0m\u001b[0;34m\u001b[0m\u001b[0m\n\u001b[0m",
      "\u001b[0;31mNameError\u001b[0m: name 'new_system' is not defined"
     ]
    }
   ],
   "source": [
    "topology_proposal = point_mutation_engine.propose(current_system = new_system, current_topology = atp.topology)"
   ]
  },
  {
   "cell_type": "code",
   "execution_count": 11,
   "metadata": {},
   "outputs": [
    {
     "ename": "NameError",
     "evalue": "name 'topology_proposal' is not defined",
     "output_type": "error",
     "traceback": [
      "\u001b[0;31m---------------------------------------------------------------------------\u001b[0m",
      "\u001b[0;31mNameError\u001b[0m                                 Traceback (most recent call last)",
      "\u001b[0;32m<ipython-input-11-c58bfe1ae292>\u001b[0m in \u001b[0;36m<module>\u001b[0;34m\u001b[0m\n\u001b[0;32m----> 1\u001b[0;31m \u001b[0;32mfor\u001b[0m \u001b[0mi\u001b[0m \u001b[0;32min\u001b[0m \u001b[0mrange\u001b[0m\u001b[0;34m(\u001b[0m\u001b[0mtopology_proposal\u001b[0m\u001b[0;34m.\u001b[0m\u001b[0mnew_system\u001b[0m\u001b[0;34m.\u001b[0m\u001b[0mgetNumForces\u001b[0m\u001b[0;34m(\u001b[0m\u001b[0;34m)\u001b[0m\u001b[0;34m)\u001b[0m\u001b[0;34m:\u001b[0m\u001b[0;34m\u001b[0m\u001b[0;34m\u001b[0m\u001b[0m\n\u001b[0m\u001b[1;32m      2\u001b[0m     \u001b[0mprint\u001b[0m\u001b[0;34m(\u001b[0m\u001b[0mtopology_proposal\u001b[0m\u001b[0;34m.\u001b[0m\u001b[0mnew_system\u001b[0m\u001b[0;34m.\u001b[0m\u001b[0mgetForce\u001b[0m\u001b[0;34m(\u001b[0m\u001b[0mi\u001b[0m\u001b[0;34m)\u001b[0m\u001b[0;34m)\u001b[0m\u001b[0;34m\u001b[0m\u001b[0;34m\u001b[0m\u001b[0m\n",
      "\u001b[0;31mNameError\u001b[0m: name 'topology_proposal' is not defined"
     ]
    }
   ],
   "source": [
    "for i in range(topology_proposal.new_system.getNumForces()):\n",
    "    print(topology_proposal.new_system.getForce(i))"
   ]
  },
  {
   "cell_type": "code",
   "execution_count": 10,
   "metadata": {},
   "outputs": [
    {
     "name": "stdout",
     "output_type": "stream",
     "text": [
      "number of exceptions before: 121\n",
      "number of exception after: 0\n"
     ]
    }
   ],
   "source": [
    "# Do this for new system as well (as generated by topology proposal)\n",
    "topology_proposal._new_system = remove_exceptions(topology_proposal.new_system, 3)"
   ]
  },
  {
   "cell_type": "code",
   "execution_count": 11,
   "metadata": {},
   "outputs": [],
   "source": [
    "# Run repartitioned htf and see if the discrepancy is gone\n",
    "from perses.rjmc.geometry import FFAllAngleGeometryEngine\n",
    "geometry_engine = FFAllAngleGeometryEngine(metadata=None,\n",
    "                                       use_sterics=False,\n",
    "                                       n_bond_divisions=100,\n",
    "                                       n_angle_divisions=180,\n",
    "                                       n_torsion_divisions=360,\n",
    "                                       verbose=True,\n",
    "                                       storage=None,\n",
    "                                       bond_softening_constant=1.0,\n",
    "                                       angle_softening_constant=1.0,\n",
    "                                       neglect_angles = False,\n",
    "                                       use_14_nonbondeds = True)"
   ]
  },
  {
   "cell_type": "code",
   "execution_count": 12,
   "metadata": {
    "scrolled": true
   },
   "outputs": [
    {
     "name": "stderr",
     "output_type": "stream",
     "text": [
      "INFO:geometry:propose: performing forward proposal\n",
      "INFO:geometry:propose: unique new atoms detected; proceeding to _logp_propose...\n",
      "INFO:geometry:Conducting forward proposal...\n",
      "INFO:geometry:Computing proposal order with NetworkX...\n",
      "INFO:geometry:number of atoms to be placed: 7\n",
      "INFO:geometry:Atom index proposal order is [14, 18, 19, 13, 16, 17, 15]\n",
      "INFO:geometry:omitted_bonds: []\n",
      "INFO:geometry:direction of proposal is forward; creating atoms_with_positions and new positions from old system/topology...\n",
      "/home/dominic/anaconda3/envs/openmm/lib/python3.6/site-packages/parmed/openmm/topsystem.py:451: OpenMMWarning: Detected incomplete exceptions. Not supported.\n",
      "  warnings.warn('Detected incomplete exceptions. Not supported.', OpenMMWarning)\n",
      "INFO:geometry:creating growth system...\n",
      "INFO:geometry:\tcreating bond force...\n",
      "INFO:geometry:\tthere are 11 bonds in reference force.\n",
      "INFO:geometry:\tcreating angle force...\n",
      "INFO:geometry:\tthere are 43 angles in reference force.\n",
      "INFO:geometry:\tcreating torsion force...\n",
      "INFO:geometry:\tcreating extra torsions force...\n",
      "INFO:geometry:\tthere are 72 torsions in reference force.\n",
      "INFO:geometry:\tcreating nonbonded force...\n",
      "INFO:geometry:\t\tgrabbing reference nonbonded method, cutoff, switching function, switching distance...\n",
      "INFO:geometry:\t\tthere are no Exceptions in the reference system.\n",
      "INFO:geometry:Neglected angle terms : []\n",
      "INFO:geometry:omitted_growth_terms: {'bonds': [], 'angles': [], 'torsions': [], '1,4s': []}\n",
      "INFO:geometry:extra torsions: {0: (14, 10, 8, 18, [1, Quantity(value=1.0655064807976995, unit=radian), Quantity(value=120.0, unit=kilocalorie/mole), 2])}\n",
      "INFO:geometry:neglected angle terms include []\n",
      "INFO:geometry:log probability choice of torsions and atom order: -12.678448458920965\n",
      "INFO:geometry:creating platform, integrators, and contexts; setting growth parameter\n",
      "INFO:geometry:setting atoms_with_positions context new positions\n",
      "INFO:geometry:There are 7 new atoms\n",
      "INFO:geometry:\treduced angle potential = 0.1472258212518862.\n",
      "INFO:geometry:\treduced angle potential = 0.3499125937930339.\n",
      "INFO:geometry:\treduced angle potential = 0.17575352289172602.\n",
      "INFO:geometry:\treduced angle potential = 1.6389664451918426.\n",
      "INFO:geometry:\treduced angle potential = 0.005076035305274688.\n",
      "INFO:geometry:\treduced angle potential = 0.014521968757815758.\n",
      "INFO:geometry:\treduced angle potential = 1.5464145491527235.\n",
      "INFO:geometry:\tbeginning construction of no_nonbonded final system...\n",
      "INFO:geometry:\tinitial no-nonbonded final system forces ['HarmonicBondForce', 'HarmonicAngleForce', 'PeriodicTorsionForce', 'NonbondedForce']\n",
      "INFO:geometry:\tfinal no-nonbonded final system forces dict_keys(['HarmonicBondForce', 'HarmonicAngleForce', 'PeriodicTorsionForce', 'NonbondedForce'])\n",
      "INFO:geometry:\tthere are 11 bond forces in the no-nonbonded final system\n",
      "INFO:geometry:\tthere are 43 angle forces in the no-nonbonded final system\n",
      "INFO:geometry:\tthere are 72 torsion forces in the no-nonbonded final system\n",
      "INFO:geometry:forward final system defined with 0 neglected angles.\n",
      "INFO:geometry:total reduced potential before atom placement: 16.81404844848707\n",
      "INFO:geometry:total reduced energy added from growth system: 24.109664977736674\n",
      "INFO:geometry:final reduced energy 40.92371342622375\n",
      "INFO:geometry:sum of energies: 40.92371342622374\n",
      "INFO:geometry:magnitude of difference in the energies: 3.552713678800501e-15\n",
      "INFO:geometry:Final logp_proposal: 31.043788218879563\n",
      "INFO:geometry:logp_reverse: performing reverse proposal\n",
      "INFO:geometry:logp_reverse: unique new atoms detected; proceeding to _logp_propose...\n",
      "INFO:geometry:Conducting forward proposal...\n",
      "INFO:geometry:Computing proposal order with NetworkX...\n",
      "INFO:geometry:number of atoms to be placed: 3\n",
      "INFO:geometry:Atom index proposal order is [12, 11, 13]\n",
      "INFO:geometry:omitted_bonds: []\n",
      "INFO:geometry:direction of proposal is reverse; creating atoms_with_positions from old system/topology\n",
      "/home/dominic/anaconda3/envs/openmm/lib/python3.6/site-packages/parmed/openmm/topsystem.py:451: OpenMMWarning: Detected incomplete exceptions. Not supported.\n",
      "  warnings.warn('Detected incomplete exceptions. Not supported.', OpenMMWarning)\n",
      "INFO:geometry:creating growth system...\n",
      "INFO:geometry:\tcreating bond force...\n",
      "INFO:geometry:\tthere are 9 bonds in reference force.\n",
      "INFO:geometry:\tcreating angle force...\n",
      "INFO:geometry:\tthere are 36 angles in reference force.\n",
      "INFO:geometry:\tcreating torsion force...\n",
      "INFO:geometry:\tcreating extra torsions force...\n",
      "INFO:geometry:\tthere are 42 torsions in reference force.\n",
      "INFO:geometry:\tcreating nonbonded force...\n",
      "INFO:geometry:\t\tgrabbing reference nonbonded method, cutoff, switching function, switching distance...\n",
      "INFO:geometry:\t\tthere are no Exceptions in the reference system.\n",
      "INFO:geometry:Neglected angle terms : []\n",
      "INFO:geometry:omitted_growth_terms: {'bonds': [], 'angles': [], 'torsions': [], '1,4s': []}\n",
      "INFO:geometry:extra torsions: {}\n",
      "INFO:geometry:neglected angle terms include []\n",
      "INFO:geometry:log probability choice of torsions and atom order: -5.0875963352323845\n",
      "INFO:geometry:creating platform, integrators, and contexts; setting growth parameter\n",
      "INFO:geometry:setting atoms_with_positions context old positions\n"
     ]
    },
    {
     "name": "stdout",
     "output_type": "stream",
     "text": [
      "Warning: Returning Reference platform instead of requested platform CUDA\n",
      "conducting subsequent work with the following platform: Reference\n",
      "conducting subsequent work with the following platform: CPU\n",
      "conducting subsequent work with the following platform: CPU\n",
      "conducting subsequent work with the following platform: CPU\n",
      "conducting subsequent work with the following platform: CPU\n",
      "Warning: Returning Reference platform instead of requested platform CUDA\n",
      "conducting subsequent work with the following platform: Reference\n",
      "conducting subsequent work with the following platform: CPU\n",
      "added energy components: [('CustomBondForce', 0.734537031297033), ('CustomAngleForce', 10.23953083970216), ('CustomTorsionForce', 13.13559710673748)]\n",
      "Warning: Returning Reference platform instead of requested platform CUDA\n",
      "conducting subsequent work with the following platform: Reference\n"
     ]
    },
    {
     "name": "stderr",
     "output_type": "stream",
     "text": [
      "INFO:geometry:There are 3 new atoms\n",
      "INFO:geometry:\treduced angle potential = 3.205828647416432e-13.\n",
      "INFO:geometry:\treduced angle potential = 1.2915573155343707e-10.\n",
      "INFO:geometry:\treduced angle potential = 7.390951941228323e-11.\n",
      "INFO:geometry:\tbeginning construction of no_nonbonded final system...\n",
      "INFO:geometry:\tinitial no-nonbonded final system forces ['HarmonicBondForce', 'HarmonicAngleForce', 'PeriodicTorsionForce', 'NonbondedForce']\n",
      "INFO:geometry:\tfinal no-nonbonded final system forces dict_keys(['HarmonicBondForce', 'HarmonicAngleForce', 'PeriodicTorsionForce', 'NonbondedForce'])\n",
      "INFO:geometry:\tthere are 9 bond forces in the no-nonbonded final system\n",
      "INFO:geometry:\tthere are 36 angle forces in the no-nonbonded final system\n",
      "INFO:geometry:\tthere are 42 torsion forces in the no-nonbonded final system\n",
      "INFO:geometry:reverse final system defined with 0 neglected angles.\n",
      "INFO:geometry:total reduced potential before atom placement: 16.81404844848707\n",
      "INFO:geometry:total reduced energy added from growth system: 0.00451484285093284\n",
      "INFO:geometry:final reduced energy 16.818563291338002\n",
      "INFO:geometry:sum of energies: 16.818563291338005\n",
      "INFO:geometry:magnitude of difference in the energies: 2.105954299835844e-15\n",
      "INFO:geometry:Final logp_proposal: 14.348621921831793\n"
     ]
    },
    {
     "name": "stdout",
     "output_type": "stream",
     "text": [
      "conducting subsequent work with the following platform: CPU\n",
      "conducting subsequent work with the following platform: CPU\n",
      "conducting subsequent work with the following platform: CPU\n",
      "conducting subsequent work with the following platform: CPU\n",
      "Warning: Returning Reference platform instead of requested platform CUDA\n",
      "conducting subsequent work with the following platform: Reference\n",
      "conducting subsequent work with the following platform: CPU\n",
      "added energy components: [('CustomBondForce', 0.0), ('CustomAngleForce', 0.00017809232534266413), ('CustomTorsionForce', 0.004336750525590176)]\n"
     ]
    }
   ],
   "source": [
    "from openmmtools.constants import kB\n",
    "temperature = 300*unit.kelvin\n",
    "# Compute kT and inverse temperature.\n",
    "kT = kB * temperature\n",
    "beta = 1.0 / kT\n",
    "\n",
    "\n",
    "forward_new_positions, logp_proposal = geometry_engine.propose(topology_proposal, atp.positions, beta, validate_energy_bookkeeping=True)\n",
    "logp_reverse = geometry_engine.logp_reverse(topology_proposal, forward_new_positions, atp.positions, beta, validate_energy_bookkeeping=True)\n"
   ]
  },
  {
   "cell_type": "code",
   "execution_count": 12,
   "metadata": {
    "scrolled": true
   },
   "outputs": [
    {
     "name": "stderr",
     "output_type": "stream",
     "text": [
      "INFO:relative:Beginning nonbonded method, total particle, barostat, and exceptions retrieval...\n",
      "INFO:relative:Old system forces: dict_keys(['HarmonicBondForce', 'HarmonicAngleForce', 'PeriodicTorsionForce', 'NonbondedForce'])\n",
      "INFO:relative:New system forces: dict_keys(['HarmonicBondForce', 'HarmonicAngleForce', 'PeriodicTorsionForce', 'NonbondedForce'])\n",
      "INFO:relative:No unknown forces.\n",
      "INFO:relative:Nonbonded method to be used (i.e. from old system): 0\n",
      "INFO:relative:Adding and mapping old atoms to hybrid system...\n",
      "INFO:relative:Adding and mapping new atoms to hybrid system...\n",
      "INFO:relative:No MonteCarloBarostat added.\n",
      "INFO:relative:getDefaultPeriodicBoxVectors added to hybrid: [Quantity(value=Vec3(x=2.0, y=0.0, z=0.0), unit=nanometer), Quantity(value=Vec3(x=0.0, y=2.0, z=0.0), unit=nanometer), Quantity(value=Vec3(x=0.0, y=0.0, z=2.0), unit=nanometer)]\n",
      "INFO:relative:Determined atom classes.\n",
      "INFO:relative:Generating old system exceptions dict...\n",
      "INFO:relative:Generating new system exceptions dict...\n",
      "INFO:relative:Handling constraints...\n",
      "INFO:relative:Handling virtual sites...\n",
      "INFO:relative:\t_handle_virtual_sites: numVirtualSites: 0\n",
      "INFO:relative:Adding bond force terms...\n",
      "INFO:relative:Adding angle force terms...\n",
      "INFO:relative:Adding torsion force terms...\n",
      "INFO:relative:Adding nonbonded force terms...\n",
      "INFO:relative:\t_add_nonbonded_force_terms: <simtk.openmm.openmm.NonbondedForce; proxy of <Swig Object of type 'OpenMM::NonbondedForce *' at 0x2b80b9b53780> > added to hybrid system\n",
      "INFO:relative:\t_add_nonbonded_force_terms: nonbonded_method is NoCutoff\n",
      "INFO:relative:\t_add_nonbonded_force_terms: 0 added to standard nonbonded force\n",
      "INFO:relative:\t_add_nonbonded_force_terms: 0 added to sterics_custom_nonbonded force\n",
      "INFO:relative:\t_add_nonbonded_force_terms: <simtk.openmm.openmm.CustomNonbondedForce; proxy of <Swig Object of type 'OpenMM::CustomNonbondedForce *' at 0x2b80b9b536f0> > added to hybrid system\n",
      "INFO:relative:Handling harmonic bonds...\n",
      "INFO:relative:\thandle_harmonic_bonds: looping through old_system to add relevant terms...\n",
      "INFO:relative:\thandle_harmonic_bonds: looping through new_system to add relevant terms...\n",
      "INFO:relative:Handling harmonic angles...\n",
      "INFO:relative:\thandle_harmonic_angles: looping through old_system to add relevant terms...\n",
      "INFO:relative:\thandle_harmonic_angles: looping through new_system to add relevant terms...\n",
      "INFO:relative:Handling torsion forces...\n",
      "INFO:relative:\thandle_periodic_torsion_forces: looping through old_system to add relevant terms...\n",
      "INFO:relative:\thandle_periodic_torsion_forces: looping through new_system to add relevant terms...\n",
      "INFO:relative:Handling nonbonded forces...\n",
      "INFO:relative:\thandle_nonbonded: looping through all particles in hybrid...\n",
      "INFO:relative:\thandle_nonbonded: Handling Interaction Groups...\n",
      "INFO:relative:\thandle_nonbonded: Handling Hybrid Exceptions...\n",
      "INFO:relative:\thandle_nonbonded: Handling Original Exceptions...\n",
      "INFO:relative:Handling unique_new/old interaction exceptions...\n",
      "INFO:relative:There are no old/new system exceptions.\n"
     ]
    },
    {
     "name": "stdout",
     "output_type": "stream",
     "text": [
      "conducting subsequent work with the following platform: Reference\n",
      "Desired platform not supported. exception raised: Error initializing CUDA: CUDA_ERROR_NO_DEVICE (100) at /opt/conda/conda-bld/openmm_1589508244174/work/platforms/cuda/src/CudaContext.cpp:148\n",
      "Warning: Returning Reference platform instead of requested platform CUDA\n",
      "conducting subsequent work with the following platform: Reference\n",
      "\t\t\tHarmonicBondForce: 0.03455153971697946\n",
      "\t\t\tHarmonicAngleForce: 0.607201772364288\n",
      "\t\t\tPeriodicTorsionForce: 16.17680997925674\n",
      "\t\t\tNonbondedForce: 837463.0086549831\n",
      "\t\t\tAndersenThermostat: 0.0\n",
      "Desired platform not supported. exception raised: Error initializing CUDA: CUDA_ERROR_NO_DEVICE (100) at /opt/conda/conda-bld/openmm_1589508244174/work/platforms/cuda/src/CudaContext.cpp:148\n",
      "Warning: Returning Reference platform instead of requested platform CUDA\n",
      "conducting subsequent work with the following platform: Reference\n",
      "\t\t\tCustomBondForce: 0.36710787064645367\n",
      "\t\t\tHarmonicBondForce: 0.0\n",
      "\t\t\tCustomAngleForce: 9.21288638358106\n",
      "\t\t\tHarmonicAngleForce: 0.0\n",
      "\t\t\tCustomTorsionForce: 28.114751320854335\n",
      "\t\t\tPeriodicTorsionForce: 0.0\n",
      "\t\t\tNonbondedForce: 3.4141254500551264\n",
      "\t\t\tCustomNonbondedForce: 838057.0053637062\n",
      "\t\t\tCustomNonbondedForce: -593.9967087223318\n",
      "\t\t\tAndersenThermostat: 0.0\n",
      "Desired platform not supported. exception raised: Error initializing CUDA: CUDA_ERROR_NO_DEVICE (100) at /opt/conda/conda-bld/openmm_1589508244174/work/platforms/cuda/src/CudaContext.cpp:148\n",
      "Warning: Returning Reference platform instead of requested platform CUDA\n",
      "conducting subsequent work with the following platform: Reference\n",
      "\t\t\tCustomBondForce: 0.36710787064645367\n",
      "\t\t\tHarmonicBondForce: 0.0\n",
      "\t\t\tCustomAngleForce: 9.21288638358106\n",
      "\t\t\tHarmonicAngleForce: 0.0\n",
      "\t\t\tCustomTorsionForce: 28.114751320854335\n",
      "\t\t\tPeriodicTorsionForce: 0.0\n",
      "\t\t\tNonbondedForce: -174.40073394953055\n",
      "\t\t\tCustomNonbondedForce: 910439.074393809\n",
      "\t\t\tCustomNonbondedForce: -832.529638414241\n",
      "\t\t\tAndersenThermostat: 0.0\n",
      "Desired platform not supported. exception raised: Error initializing CUDA: CUDA_ERROR_NO_DEVICE (100) at /opt/conda/conda-bld/openmm_1589508244174/work/platforms/cuda/src/CudaContext.cpp:148\n",
      "Warning: Returning Reference platform instead of requested platform CUDA\n",
      "conducting subsequent work with the following platform: Reference\n",
      "\t\t\tHarmonicBondForce: 0.36710787064645367\n",
      "\t\t\tHarmonicAngleForce: 9.212708291255717\n",
      "\t\t\tPeriodicTorsionForce: 28.11041457032875\n",
      "\t\t\tNonbondedForce: 909606.5447553946\n",
      "\t\t\tAndersenThermostat: 0.0\n"
     ]
    },
    {
     "ename": "AssertionError",
     "evalue": "The ratio in energy difference for the ZERO state is 2.0382779846340937e-06.\n This is greater than the threshold of 1e-06.\n real-zero: 837479.8272182745 \n alc-zero: 837504.1175260089 \nadded-valence: 20.87618228374385",
     "output_type": "error",
     "traceback": [
      "\u001b[0;31m---------------------------------------------------------------------------\u001b[0m",
      "\u001b[0;31mAssertionError\u001b[0m                            Traceback (most recent call last)",
      "\u001b[0;32m<ipython-input-12-e52323385976>\u001b[0m in \u001b[0;36m<module>\u001b[0;34m\u001b[0m\n\u001b[1;32m     38\u001b[0m     \u001b[0msubtracted_valence_energy\u001b[0m \u001b[0;34m=\u001b[0m \u001b[0mgeometry_engine\u001b[0m\u001b[0;34m.\u001b[0m\u001b[0mreverse_final_context_reduced_potential\u001b[0m \u001b[0;34m-\u001b[0m \u001b[0mgeometry_engine\u001b[0m\u001b[0;34m.\u001b[0m\u001b[0mreverse_atoms_with_positions_reduced_potential\u001b[0m\u001b[0;34m\u001b[0m\u001b[0;34m\u001b[0m\u001b[0m\n\u001b[1;32m     39\u001b[0m \u001b[0;34m\u001b[0m\u001b[0m\n\u001b[0;32m---> 40\u001b[0;31m \u001b[0mzero_state_error\u001b[0m\u001b[0;34m,\u001b[0m \u001b[0mone_state_error\u001b[0m \u001b[0;34m=\u001b[0m \u001b[0mvalidate_endstate_energies\u001b[0m\u001b[0;34m(\u001b[0m\u001b[0mforward_htf\u001b[0m\u001b[0;34m.\u001b[0m\u001b[0m_topology_proposal\u001b[0m\u001b[0;34m,\u001b[0m \u001b[0mforward_htf\u001b[0m\u001b[0;34m,\u001b[0m \u001b[0madded_valence_energy\u001b[0m\u001b[0;34m,\u001b[0m \u001b[0msubtracted_valence_energy\u001b[0m\u001b[0;34m,\u001b[0m \u001b[0mbeta\u001b[0m \u001b[0;34m=\u001b[0m \u001b[0;36m1.0\u001b[0m\u001b[0;34m/\u001b[0m\u001b[0;34m(\u001b[0m\u001b[0mkB\u001b[0m\u001b[0;34m*\u001b[0m\u001b[0mtemperature\u001b[0m\u001b[0;34m)\u001b[0m\u001b[0;34m,\u001b[0m \u001b[0mENERGY_THRESHOLD\u001b[0m \u001b[0;34m=\u001b[0m \u001b[0mENERGY_THRESHOLD\u001b[0m\u001b[0;34m,\u001b[0m \u001b[0mplatform\u001b[0m \u001b[0;34m=\u001b[0m \u001b[0mopenmm\u001b[0m\u001b[0;34m.\u001b[0m\u001b[0mPlatform\u001b[0m\u001b[0;34m.\u001b[0m\u001b[0mgetPlatformByName\u001b[0m\u001b[0;34m(\u001b[0m\u001b[0;34m'Reference'\u001b[0m\u001b[0;34m)\u001b[0m\u001b[0;34m)\u001b[0m\u001b[0;34m\u001b[0m\u001b[0;34m\u001b[0m\u001b[0m\n\u001b[0m\u001b[1;32m     41\u001b[0m \u001b[0mprint\u001b[0m\u001b[0;34m(\u001b[0m\u001b[0;34mf\"zero state error : {zero_state_error}\"\u001b[0m\u001b[0;34m)\u001b[0m\u001b[0;34m\u001b[0m\u001b[0;34m\u001b[0m\u001b[0m\n\u001b[1;32m     42\u001b[0m \u001b[0mprint\u001b[0m\u001b[0;34m(\u001b[0m\u001b[0;34mf\"one state error : {one_state_error}\"\u001b[0m\u001b[0;34m)\u001b[0m\u001b[0;34m\u001b[0m\u001b[0;34m\u001b[0m\u001b[0m\n",
      "\u001b[0;32m~/miniconda3/envs/perses-sims/lib/python3.7/site-packages/perses-0.7.3.dev0-py3.7.egg/perses/tests/utils.py\u001b[0m in \u001b[0;36mvalidate_endstate_energies\u001b[0;34m(topology_proposal, htf, added_energy, subtracted_energy, beta, ENERGY_THRESHOLD, platform, trajectory_directory)\u001b[0m\n\u001b[1;32m    800\u001b[0m \u001b[0;34m\u001b[0m\u001b[0m\n\u001b[1;32m    801\u001b[0m     \u001b[0mratio\u001b[0m \u001b[0;34m=\u001b[0m \u001b[0mabs\u001b[0m\u001b[0;34m(\u001b[0m\u001b[0;34m(\u001b[0m\u001b[0mnonalch_zero_rp\u001b[0m \u001b[0;34m-\u001b[0m \u001b[0malch_zero_rp\u001b[0m \u001b[0;34m+\u001b[0m \u001b[0madded_energy\u001b[0m\u001b[0;34m)\u001b[0m \u001b[0;34m/\u001b[0m \u001b[0;34m(\u001b[0m\u001b[0mnonalch_zero_rp\u001b[0m \u001b[0;34m+\u001b[0m \u001b[0malch_zero_rp\u001b[0m \u001b[0;34m+\u001b[0m \u001b[0madded_energy\u001b[0m\u001b[0;34m)\u001b[0m\u001b[0;34m)\u001b[0m\u001b[0;34m\u001b[0m\u001b[0;34m\u001b[0m\u001b[0m\n\u001b[0;32m--> 802\u001b[0;31m     \u001b[0;32massert\u001b[0m \u001b[0mratio\u001b[0m \u001b[0;34m<\u001b[0m \u001b[0mENERGY_THRESHOLD\u001b[0m\u001b[0;34m,\u001b[0m \u001b[0;34mf\"The ratio in energy difference for the ZERO state is {ratio}.\\n This is greater than the threshold of {ENERGY_THRESHOLD}.\\n real-zero: {nonalch_zero_rp} \\n alc-zero: {alch_zero_rp} \\nadded-valence: {added_energy}\"\u001b[0m\u001b[0;34m\u001b[0m\u001b[0;34m\u001b[0m\u001b[0m\n\u001b[0m\u001b[1;32m    803\u001b[0m     \u001b[0mratio\u001b[0m \u001b[0;34m=\u001b[0m \u001b[0mabs\u001b[0m\u001b[0;34m(\u001b[0m\u001b[0;34m(\u001b[0m\u001b[0mnonalch_one_rp\u001b[0m \u001b[0;34m-\u001b[0m \u001b[0malch_one_rp\u001b[0m \u001b[0;34m+\u001b[0m \u001b[0msubtracted_energy\u001b[0m\u001b[0;34m)\u001b[0m \u001b[0;34m/\u001b[0m \u001b[0;34m(\u001b[0m\u001b[0mnonalch_one_rp\u001b[0m \u001b[0;34m+\u001b[0m \u001b[0malch_one_rp\u001b[0m \u001b[0;34m+\u001b[0m \u001b[0msubtracted_energy\u001b[0m\u001b[0;34m)\u001b[0m\u001b[0;34m)\u001b[0m\u001b[0;34m\u001b[0m\u001b[0;34m\u001b[0m\u001b[0m\n\u001b[1;32m    804\u001b[0m     \u001b[0;32massert\u001b[0m \u001b[0mratio\u001b[0m \u001b[0;34m<\u001b[0m \u001b[0mENERGY_THRESHOLD\u001b[0m\u001b[0;34m,\u001b[0m \u001b[0;34mf\"The ratio in energy difference for the ONE state is {ratio}.\\n This is greater than the threshold of {ENERGY_THRESHOLD}.\\n real-one: {nonalch_one_rp} \\n alc-one: {alch_one_rp} \\nsubtracted-valence: {subtracted_energy}\"\u001b[0m\u001b[0;34m\u001b[0m\u001b[0;34m\u001b[0m\u001b[0m\n",
      "\u001b[0;31mAssertionError\u001b[0m: The ratio in energy difference for the ZERO state is 2.0382779846340937e-06.\n This is greater than the threshold of 1e-06.\n real-zero: 837479.8272182745 \n alc-zero: 837504.1175260089 \nadded-valence: 20.87618228374385"
     ]
    }
   ],
   "source": [
    "#create a hybrid topology factory\n",
    "from perses.tests.utils import validate_endstate_energies\n",
    "ENERGY_THRESHOLD = 1e-6\n",
    "\n",
    "from perses.annihilation.relative import HybridTopologyFactory\n",
    "forward_htf = HybridTopologyFactory(topology_proposal = topology_proposal,\n",
    "             current_positions =  atp.positions,\n",
    "             new_positions = forward_new_positions,\n",
    "             repartition = True,\n",
    "             use_dispersion_correction = False,\n",
    "             functions=None,\n",
    "             softcore_alpha = None,\n",
    "             bond_softening_constant=1.0,\n",
    "             angle_softening_constant=1.0,\n",
    "             soften_only_new = False,\n",
    "             neglected_new_angle_terms = [],\n",
    "             neglected_old_angle_terms = [],\n",
    "             softcore_LJ_v2 = True,\n",
    "             softcore_electrostatics = True,\n",
    "             softcore_LJ_v2_alpha = 0.85,\n",
    "             softcore_electrostatics_alpha = 0.3,\n",
    "             softcore_sigma_Q = 1.0,\n",
    "             interpolate_old_and_new_14s = False,\n",
    "             omitted_terms = None)\n",
    "\n",
    "if not topology_proposal.unique_new_atoms:\n",
    "    assert geometry_engine.forward_final_context_reduced_potential == None, f\"There are no unique new atoms but the geometry_engine's final context reduced potential is not None (i.e. {self._geometry_engine.forward_final_context_reduced_potential})\"\n",
    "    assert geometry_engine.forward_atoms_with_positions_reduced_potential == None, f\"There are no unique new atoms but the geometry_engine's forward atoms-with-positions-reduced-potential in not None (i.e. { self._geometry_engine.forward_atoms_with_positions_reduced_potential})\"\n",
    "    vacuum_added_valence_energy = 0.0\n",
    "else:\n",
    "    added_valence_energy = geometry_engine.forward_final_context_reduced_potential - geometry_engine.forward_atoms_with_positions_reduced_potential\n",
    "\n",
    "if not topology_proposal.unique_old_atoms:\n",
    "    assert geometry_engine.reverse_final_context_reduced_potential == None, f\"There are no unique old atoms but the geometry_engine's final context reduced potential is not None (i.e. {self._geometry_engine.reverse_final_context_reduced_potential})\"\n",
    "    assert geometry_engine.reverse_atoms_with_positions_reduced_potential == None, f\"There are no unique old atoms but the geometry_engine's atoms-with-positions-reduced-potential in not None (i.e. { self._geometry_engine.reverse_atoms_with_positions_reduced_potential})\"\n",
    "    subtracted_valence_energy = 0.0\n",
    "else:\n",
    "    subtracted_valence_energy = geometry_engine.reverse_final_context_reduced_potential - geometry_engine.reverse_atoms_with_positions_reduced_potential\n",
    "\n",
    "zero_state_error, one_state_error = validate_endstate_energies(forward_htf._topology_proposal, forward_htf, added_valence_energy, subtracted_valence_energy, beta = 1.0/(kB*temperature), ENERGY_THRESHOLD = ENERGY_THRESHOLD, platform = openmm.Platform.getPlatformByName('Reference'))\n",
    "print(f\"zero state error : {zero_state_error}\")\n",
    "print(f\"one state error : {one_state_error}\")"
   ]
  },
  {
   "cell_type": "markdown",
   "metadata": {},
   "source": [
    "you can see that with `htf_rep` (at the bottom), the discrepancy between the $\\lambda =  0,1$ endstates are around $1e-13$, so there are no valence bookkeeping errors."
   ]
  },
  {
   "cell_type": "markdown",
   "metadata": {},
   "source": [
    "Now let's remove exceptions for the 8-residue peptide"
   ]
  },
  {
   "cell_type": "code",
   "execution_count": 12,
   "metadata": {
    "scrolled": true
   },
   "outputs": [],
   "source": [
    "pdb = app.PDBFile(\"4zuh_peptide_capped.pdb\")"
   ]
  },
  {
   "cell_type": "code",
   "execution_count": 13,
   "metadata": {
    "scrolled": true
   },
   "outputs": [],
   "source": [
    "import numpy as np"
   ]
  },
  {
   "cell_type": "code",
   "execution_count": 14,
   "metadata": {
    "scrolled": true
   },
   "outputs": [
    {
     "name": "stderr",
     "output_type": "stream",
     "text": [
      "DEBUG:perses.forcefields.system_generators:Trying GAFFTemplateGenerator to load gaff-2.11\n"
     ]
    }
   ],
   "source": [
    "from openmmforcefields.generators import SystemGenerator\n",
    "forcefield_files = ['amber14/protein.ff14SB.xml', 'amber14/tip3p.xml']\n",
    "barostat = None\n",
    "system_generator = SystemGenerator(forcefields=forcefield_files,\n",
    "                               barostat=barostat,\n",
    "                               forcefield_kwargs={'removeCMMotion': False,\n",
    "                                                    'ewaldErrorTolerance': 0.00025,\n",
    "                                                    'constraints' : app.HBonds,\n",
    "                                                    'hydrogenMass' : 4 * unit.amus},\n",
    "                                periodic_forcefield_kwargs=None,\n",
    "                                small_molecule_forcefield='gaff-2.11',\n",
    "                                nonperiodic_forcefield_kwargs = {'nonbondedMethod': app.NoCutoff}, molecules=None, cache=None)\n",
    "\n"
   ]
  },
  {
   "cell_type": "code",
   "execution_count": 15,
   "metadata": {
    "scrolled": true
   },
   "outputs": [],
   "source": [
    "system = system_generator.create_system(pdb.topology) #update the parametrization scheme to amberff14sb\n",
    "num_particles = system.getNumParticles()\n",
    "#system = remove_exceptions(system, 3, keepers = [i for i in range(num_particles) if i not in [24, 25, 26]]) #unique olds\n",
    "#system = only_exceptions(system, 3) #unique olds"
   ]
  },
  {
   "cell_type": "code",
   "execution_count": 16,
   "metadata": {},
   "outputs": [
    {
     "data": {
      "text/plain": [
       "123"
      ]
     },
     "execution_count": 16,
     "metadata": {},
     "output_type": "execute_result"
    }
   ],
   "source": [
    "num_particles"
   ]
  },
  {
   "cell_type": "code",
   "execution_count": 17,
   "metadata": {},
   "outputs": [
    {
     "data": {
      "text/plain": [
       "123"
      ]
     },
     "execution_count": 17,
     "metadata": {},
     "output_type": "execute_result"
    }
   ],
   "source": [
    "pdb.topology.getNumAtoms()"
   ]
  },
  {
   "cell_type": "code",
   "execution_count": 18,
   "metadata": {},
   "outputs": [
    {
     "name": "stdout",
     "output_type": "stream",
     "text": [
      "<simtk.openmm.openmm.HarmonicBondForce; proxy of <Swig Object of type 'OpenMM::HarmonicBondForce *' at 0x7f9a3c765450> >\n",
      "<simtk.openmm.openmm.HarmonicAngleForce; proxy of <Swig Object of type 'OpenMM::HarmonicAngleForce *' at 0x7f9a3c765450> >\n",
      "<simtk.openmm.openmm.PeriodicTorsionForce; proxy of <Swig Object of type 'OpenMM::PeriodicTorsionForce *' at 0x7f9a3c765450> >\n",
      "<simtk.openmm.openmm.NonbondedForce; proxy of <Swig Object of type 'OpenMM::NonbondedForce *' at 0x7f9a3c765450> >\n"
     ]
    }
   ],
   "source": [
    "for i in range(system.getNumForces()):\n",
    "    print(system.getForce(i))"
   ]
  },
  {
   "cell_type": "code",
   "execution_count": 19,
   "metadata": {},
   "outputs": [],
   "source": [
    "#new_system = remove_exceptions(system, 3)"
   ]
  },
  {
   "cell_type": "code",
   "execution_count": 20,
   "metadata": {
    "scrolled": true
   },
   "outputs": [
    {
     "name": "stdout",
     "output_type": "stream",
     "text": [
      "C 0\n"
     ]
    }
   ],
   "source": [
    "for chain in pdb.topology.chains():\n",
    "    print(chain.id, chain.index)"
   ]
  },
  {
   "cell_type": "code",
   "execution_count": 21,
   "metadata": {
    "scrolled": true
   },
   "outputs": [],
   "source": [
    "from perses.tests.utils import validate_endstate_energies"
   ]
  },
  {
   "cell_type": "code",
   "execution_count": 22,
   "metadata": {
    "scrolled": true
   },
   "outputs": [],
   "source": [
    "#create the point mutation engine\n",
    "from perses.rjmc.topology_proposal import PointMutationEngine\n",
    "new_res = \"THR\"\n",
    "point_mutation_engine = PointMutationEngine(wildtype_topology = pdb.topology,\n",
    "                                            system_generator = system_generator,\n",
    "                                            chain_id = 'C', #denote the chain id allowed to mutate (it's always a string variable)\n",
    "                                            max_point_mutants = 1,\n",
    "                                            residues_allowed_to_mutate = ['2'], #the residue ids allowed to mutate\n",
    "                                            allowed_mutations = [('2', new_res)], #the residue ids allowed to mutate with the three-letter code allowed to change\n",
    "                                            aggregate = True) #always allow aggregation\n"
   ]
  },
  {
   "cell_type": "code",
   "execution_count": 23,
   "metadata": {
    "scrolled": true
   },
   "outputs": [
    {
     "name": "stderr",
     "output_type": "stream",
     "text": [
      "INFO:proposal_generator:\tConducting polymer point mutation proposal...\n",
      "INFO:proposal_generator:Using matching_criterion to chose best atom map\n",
      "INFO:proposal_generator:Scaffold has symmetry of 0\n",
      "WARNING:proposal_generator:Two molecules are not similar to have a common scaffold\n",
      "WARNING:proposal_generator:Proceeding with direct mapping of molecules, but please check atom mapping and the geometry of the ligands.\n",
      "INFO:proposal_generator:len [{4: 4, 9: 9}]\n",
      "INFO:proposal_generator:{4: 4, 9: 9}\n",
      "INFO:proposal_generator:Only one map so returning that one\n",
      "INFO:proposal_generator:{4: 4, 9: 9}\n"
     ]
    }
   ],
   "source": [
    "#create a top proposal\n",
    "topology_proposal = point_mutation_engine.propose(current_system=system, current_topology=pdb.topology)\n"
   ]
  },
  {
   "cell_type": "code",
   "execution_count": 24,
   "metadata": {},
   "outputs": [],
   "source": [
    "#topology_proposal._new_system = remove_exceptions(topology_proposal.new_system, 3)"
   ]
  },
  {
   "cell_type": "code",
   "execution_count": 25,
   "metadata": {
    "scrolled": true
   },
   "outputs": [],
   "source": [
    "positions = unit.quantity.Quantity(value = np.array([list(atom_pos) for atom_pos in pdb.positions.value_in_unit_system(unit.md_unit_system)]), unit = unit.nanometers)\n",
    "\n"
   ]
  },
  {
   "cell_type": "code",
   "execution_count": 26,
   "metadata": {
    "scrolled": true
   },
   "outputs": [
    {
     "name": "stderr",
     "output_type": "stream",
     "text": [
      "INFO:geometry:propose: performing forward proposal\n",
      "INFO:geometry:propose: unique new atoms detected; proceeding to _logp_propose...\n",
      "INFO:geometry:Conducting forward proposal...\n",
      "INFO:geometry:Computing proposal order with NetworkX...\n",
      "INFO:geometry:number of atoms to be placed: 7\n",
      "INFO:geometry:Atom index proposal order is [25, 29, 27, 28, 26, 30, 24]\n",
      "INFO:geometry:omitted_bonds: []\n",
      "INFO:geometry:direction of proposal is forward; creating atoms_with_positions and new positions from old system/topology...\n",
      "INFO:geometry:creating growth system...\n",
      "INFO:geometry:\tcreating bond force...\n",
      "INFO:geometry:\tthere are 63 bonds in reference force.\n",
      "INFO:geometry:\tcreating angle force...\n",
      "INFO:geometry:\tthere are 225 angles in reference force.\n",
      "INFO:geometry:\tcreating torsion force...\n",
      "INFO:geometry:\tcreating extra torsions force...\n",
      "INFO:geometry:\tthere are 429 torsions in reference force.\n",
      "INFO:geometry:\tcreating nonbonded force...\n",
      "INFO:geometry:\t\tgrabbing reference nonbonded method, cutoff, switching function, switching distance...\n",
      "INFO:geometry:\t\tcreating nonbonded exception force (i.e. custom bond for 1,4s)...\n",
      "INFO:geometry:\t\tlooping through exceptions calculating growth indices, and adding appropriate interactions to custom bond force.\n",
      "INFO:geometry:\t\tthere are 668 in the reference Nonbonded force\n",
      "INFO:geometry:Neglected angle terms : []\n",
      "INFO:geometry:omitted_growth_terms: {'bonds': [], 'angles': [], 'torsions': [], '1,4s': []}\n",
      "INFO:geometry:extra torsions: {0: (25, 21, 18, 29, [1, Quantity(value=1.0655064807976995, unit=radian), Quantity(value=120.0, unit=kilocalorie/mole), 2])}\n",
      "INFO:geometry:neglected angle terms include []\n",
      "INFO:geometry:log probability choice of torsions and atom order: -13.81342839175995\n",
      "INFO:geometry:creating platform, integrators, and contexts; setting growth parameter\n",
      "INFO:geometry:setting atoms_with_positions context new positions\n",
      "INFO:geometry:There are 7 new atoms\n",
      "INFO:geometry:\treduced angle potential = 0.8144236445171399.\n",
      "INFO:geometry:\treduced angle potential = 7.5887006623075e-07.\n",
      "INFO:geometry:\treduced angle potential = 3.3510020271985694.\n",
      "INFO:geometry:\treduced angle potential = 0.1566602254947906.\n",
      "INFO:geometry:\treduced angle potential = 0.7933785380172811.\n"
     ]
    },
    {
     "name": "stdout",
     "output_type": "stream",
     "text": [
      "making geometry proposal from SER to THR\n",
      "Warning: Returning Reference platform instead of requested platform CUDA\n",
      "conducting subsequent work with the following platform: Reference\n",
      "conducting subsequent work with the following platform: CPU\n"
     ]
    },
    {
     "name": "stderr",
     "output_type": "stream",
     "text": [
      "INFO:geometry:\treduced angle potential = 0.8140928835874038.\n",
      "INFO:geometry:\treduced angle potential = 0.031981250846530314.\n",
      "INFO:geometry:\tbeginning construction of no_nonbonded final system...\n",
      "INFO:geometry:\tinitial no-nonbonded final system forces ['HarmonicBondForce', 'HarmonicAngleForce', 'PeriodicTorsionForce', 'NonbondedForce']\n",
      "INFO:geometry:\tfinal no-nonbonded final system forces dict_keys(['HarmonicBondForce', 'HarmonicAngleForce', 'PeriodicTorsionForce', 'NonbondedForce'])\n",
      "INFO:geometry:\tthere are 63 bond forces in the no-nonbonded final system\n",
      "INFO:geometry:\tthere are 225 angle forces in the no-nonbonded final system\n",
      "INFO:geometry:\tthere are 429 torsion forces in the no-nonbonded final system\n",
      "INFO:geometry:forward final system defined with 0 neglected angles.\n",
      "INFO:geometry:total reduced potential before atom placement: 175.9601716615006\n",
      "INFO:geometry:total reduced energy added from growth system: -48.183017200147596\n",
      "INFO:geometry:final reduced energy 127.77715446135298\n",
      "INFO:geometry:sum of energies: 127.777154461353\n",
      "INFO:geometry:magnitude of difference in the energies: 2.1316282072803006e-14\n",
      "INFO:geometry:Final logp_proposal: 31.910119948277767\n",
      "INFO:geometry:logp_reverse: performing reverse proposal\n",
      "INFO:geometry:logp_reverse: unique new atoms detected; proceeding to _logp_propose...\n",
      "INFO:geometry:Conducting forward proposal...\n",
      "INFO:geometry:Computing proposal order with NetworkX...\n",
      "INFO:geometry:number of atoms to be placed: 3\n",
      "INFO:geometry:Atom index proposal order is [25, 26, 24]\n",
      "INFO:geometry:omitted_bonds: []\n",
      "INFO:geometry:direction of proposal is reverse; creating atoms_with_positions from old system/topology\n",
      "INFO:geometry:creating growth system...\n",
      "INFO:geometry:\tcreating bond force...\n",
      "INFO:geometry:\tthere are 61 bonds in reference force.\n",
      "INFO:geometry:\tcreating angle force...\n",
      "INFO:geometry:\tthere are 218 angles in reference force.\n",
      "INFO:geometry:\tcreating torsion force...\n",
      "INFO:geometry:\tcreating extra torsions force...\n",
      "INFO:geometry:\tthere are 399 torsions in reference force.\n",
      "INFO:geometry:\tcreating nonbonded force...\n",
      "INFO:geometry:\t\tgrabbing reference nonbonded method, cutoff, switching function, switching distance...\n",
      "INFO:geometry:\t\tcreating nonbonded exception force (i.e. custom bond for 1,4s)...\n",
      "INFO:geometry:\t\tlooping through exceptions calculating growth indices, and adding appropriate interactions to custom bond force.\n",
      "INFO:geometry:\t\tthere are 645 in the reference Nonbonded force\n",
      "INFO:geometry:Neglected angle terms : []\n",
      "INFO:geometry:omitted_growth_terms: {'bonds': [], 'angles': [], 'torsions': [], '1,4s': []}\n",
      "INFO:geometry:extra torsions: {}\n",
      "INFO:geometry:neglected angle terms include []\n",
      "INFO:geometry:log probability choice of torsions and atom order: -5.0875963352323845\n",
      "INFO:geometry:creating platform, integrators, and contexts; setting growth parameter\n",
      "INFO:geometry:setting atoms_with_positions context old positions\n",
      "INFO:geometry:There are 3 new atoms\n",
      "INFO:geometry:\treduced angle potential = 9.561040338389295e-06.\n",
      "INFO:geometry:\treduced angle potential = 2.2331224807285174e-08.\n",
      "INFO:geometry:\treduced angle potential = 9.265626886722778e-06.\n"
     ]
    },
    {
     "name": "stdout",
     "output_type": "stream",
     "text": [
      "conducting subsequent work with the following platform: CPU\n",
      "conducting subsequent work with the following platform: CPU\n",
      "conducting subsequent work with the following platform: CPU\n",
      "Warning: Returning Reference platform instead of requested platform CUDA\n",
      "conducting subsequent work with the following platform: Reference\n",
      "conducting subsequent work with the following platform: CPU\n",
      "added energy components: [('CustomBondForce', 0.11927205790816343), ('CustomAngleForce', 11.824946421823528), ('CustomTorsionForce', 12.057833137641808), ('CustomBondForce', -72.1850688175211)]\n",
      "Warning: Returning Reference platform instead of requested platform CUDA\n",
      "conducting subsequent work with the following platform: Reference\n",
      "conducting subsequent work with the following platform: CPU\n"
     ]
    },
    {
     "name": "stderr",
     "output_type": "stream",
     "text": [
      "INFO:geometry:\tbeginning construction of no_nonbonded final system...\n",
      "INFO:geometry:\tinitial no-nonbonded final system forces ['HarmonicBondForce', 'HarmonicAngleForce', 'PeriodicTorsionForce', 'NonbondedForce']\n",
      "INFO:geometry:\tfinal no-nonbonded final system forces dict_keys(['HarmonicBondForce', 'HarmonicAngleForce', 'PeriodicTorsionForce', 'NonbondedForce'])\n",
      "INFO:geometry:\tthere are 61 bond forces in the no-nonbonded final system\n",
      "INFO:geometry:\tthere are 218 angle forces in the no-nonbonded final system\n",
      "INFO:geometry:\tthere are 399 torsion forces in the no-nonbonded final system\n",
      "INFO:geometry:reverse final system defined with 0 neglected angles.\n",
      "INFO:geometry:total reduced potential before atom placement: 175.9601716614949\n",
      "INFO:geometry:total reduced energy added from growth system: 8.408222131616506\n",
      "INFO:geometry:final reduced energy 184.36839379311138\n",
      "INFO:geometry:sum of energies: 184.3683937931114\n",
      "INFO:geometry:magnitude of difference in the energies: 3.730349362740526e-14\n",
      "INFO:geometry:Final logp_proposal: 15.61710363044887\n"
     ]
    },
    {
     "name": "stdout",
     "output_type": "stream",
     "text": [
      "conducting subsequent work with the following platform: CPU\n",
      "conducting subsequent work with the following platform: CPU\n",
      "conducting subsequent work with the following platform: CPU\n",
      "Warning: Returning Reference platform instead of requested platform CUDA\n",
      "conducting subsequent work with the following platform: Reference\n",
      "conducting subsequent work with the following platform: CPU\n",
      "added energy components: [('CustomBondForce', 0.0), ('CustomAngleForce', 0.00025106349275587353), ('CustomTorsionForce', 0.028657729088827577), ('CustomBondForce', 8.379313339034924)]\n"
     ]
    }
   ],
   "source": [
    "validate_energy_bookkeeping = True\n",
    "\n",
    "temperature = 300*unit.kelvin\n",
    "# Compute kT and inverse temperature.\n",
    "kT = kB * temperature\n",
    "beta = 1.0 / kT\n",
    "\n",
    "#create a geometry engine\n",
    "from perses.rjmc.geometry import FFAllAngleGeometryEngine\n",
    "geometry_engine = FFAllAngleGeometryEngine(metadata=None,\n",
    "                                       use_sterics=False,\n",
    "                                       n_bond_divisions=100,\n",
    "                                       n_angle_divisions=180,\n",
    "                                       n_torsion_divisions=360,\n",
    "                                       verbose=True,\n",
    "                                       storage=None,\n",
    "                                       bond_softening_constant=1.0,\n",
    "                                       angle_softening_constant=1.0,\n",
    "                                       neglect_angles = False,\n",
    "                                       use_14_nonbondeds = True)\n",
    "\n",
    "\n",
    "#make a geometry proposal forward\n",
    "print(f\"making geometry proposal from {list(pdb.topology.residues())[1].name} to {new_res}\")\n",
    "forward_new_positions, logp_proposal = geometry_engine.propose(topology_proposal, positions, beta, validate_energy_bookkeeping=validate_energy_bookkeeping)\n",
    "logp_reverse = geometry_engine.logp_reverse(topology_proposal, forward_new_positions, positions, beta, validate_energy_bookkeeping=validate_energy_bookkeeping)\n"
   ]
  },
  {
   "cell_type": "code",
   "execution_count": 27,
   "metadata": {
    "scrolled": true
   },
   "outputs": [
    {
     "name": "stderr",
     "output_type": "stream",
     "text": [
      "INFO:relative:Beginning nonbonded method, total particle, barostat, and exceptions retrieval...\n",
      "INFO:relative:Old system forces: dict_keys(['HarmonicBondForce', 'HarmonicAngleForce', 'PeriodicTorsionForce', 'NonbondedForce'])\n",
      "INFO:relative:New system forces: dict_keys(['HarmonicBondForce', 'HarmonicAngleForce', 'PeriodicTorsionForce', 'NonbondedForce'])\n",
      "INFO:relative:No unknown forces.\n",
      "INFO:relative:Nonbonded method to be used (i.e. from old system): 0\n",
      "INFO:relative:Adding and mapping old atoms to hybrid system...\n",
      "INFO:relative:Adding and mapping new atoms to hybrid system...\n",
      "INFO:relative:No MonteCarloBarostat added.\n",
      "INFO:relative:getDefaultPeriodicBoxVectors added to hybrid: [Quantity(value=Vec3(x=2.0, y=0.0, z=0.0), unit=nanometer), Quantity(value=Vec3(x=0.0, y=2.0, z=0.0), unit=nanometer), Quantity(value=Vec3(x=0.0, y=0.0, z=2.0), unit=nanometer)]\n",
      "INFO:relative:Determined atom classes.\n",
      "INFO:relative:Generating old system exceptions dict...\n",
      "INFO:relative:Generating new system exceptions dict...\n",
      "INFO:relative:Handling constraints...\n",
      "INFO:relative:Handling virtual sites...\n",
      "INFO:relative:\t_handle_virtual_sites: numVirtualSites: 0\n",
      "INFO:relative:Adding bond force terms...\n",
      "INFO:relative:Adding angle force terms...\n",
      "INFO:relative:Adding torsion force terms...\n",
      "INFO:relative:Adding nonbonded force terms...\n",
      "INFO:relative:\t_add_nonbonded_force_terms: <simtk.openmm.openmm.NonbondedForce; proxy of <Swig Object of type 'OpenMM::NonbondedForce *' at 0x7f9a3c7655d0> > added to hybrid system\n",
      "INFO:relative:\t_add_nonbonded_force_terms: nonbonded_method is NoCutoff\n",
      "INFO:relative:\t_add_nonbonded_force_terms: 0 added to standard nonbonded force\n",
      "INFO:relative:\t_add_nonbonded_force_terms: 0 added to sterics_custom_nonbonded force\n",
      "INFO:relative:\t_add_nonbonded_force_terms: <simtk.openmm.openmm.CustomNonbondedForce; proxy of <Swig Object of type 'OpenMM::CustomNonbondedForce *' at 0x7f9a3c7659f0> > added to hybrid system\n",
      "INFO:relative:Handling harmonic bonds...\n",
      "INFO:relative:\thandle_harmonic_bonds: looping through old_system to add relevant terms...\n",
      "INFO:relative:\thandle_harmonic_bonds: looping through new_system to add relevant terms...\n",
      "INFO:relative:Handling harmonic angles...\n",
      "INFO:relative:\thandle_harmonic_angles: looping through old_system to add relevant terms...\n",
      "INFO:relative:\thandle_harmonic_angles: looping through new_system to add relevant terms...\n",
      "INFO:relative:Handling torsion forces...\n",
      "INFO:relative:\thandle_periodic_torsion_forces: looping through old_system to add relevant terms...\n",
      "INFO:relative:\thandle_periodic_torsion_forces: looping through new_system to add relevant terms...\n",
      "INFO:relative:Handling nonbonded forces...\n",
      "INFO:relative:\thandle_nonbonded: looping through all particles in hybrid...\n",
      "INFO:relative:\thandle_nonbonded: Handling Interaction Groups...\n",
      "INFO:relative:\thandle_nonbonded: Handling Hybrid Exceptions...\n",
      "INFO:relative:\thandle_nonbonded: Handling Original Exceptions...\n",
      "INFO:relative:Handling unique_new/old interaction exceptions...\n",
      "INFO:relative:There are old or new system exceptions...proceeding.\n"
     ]
    },
    {
     "name": "stdout",
     "output_type": "stream",
     "text": [
      "707\n",
      "707\n",
      "707\n",
      "509\n",
      "conducting subsequent work with the following platform: Reference\n",
      "conducting subsequent work with the following platform: CPU\n",
      "\t\t\tHarmonicBondForce: 7.300088837969223\n",
      "\t\t\tHarmonicAngleForce: 12.445668426678537\n",
      "\t\t\tPeriodicTorsionForce: 156.24332318942865\n",
      "\t\t\tNonbondedForce: -174.2618156852172\n",
      "\t\t\tAndersenThermostat: 0.0\n",
      "conducting subsequent work with the following platform: CPU\n",
      "\t\t\tCustomBondForce: 2.8051707046748846\n",
      "\t\t\tHarmonicBondForce: 4.6141901912025\n",
      "\t\t\tCustomAngleForce: 14.592116609579179\n",
      "\t\t\tHarmonicAngleForce: 9.678498238922886\n",
      "\t\t\tCustomTorsionForce: 70.7485042997055\n",
      "\t\t\tPeriodicTorsionForce: 97.5526520273649\n",
      "\t\t\tNonbondedForce: -481.87009787312127\n",
      "\t\t\tCustomNonbondedForce: 11.390949045111709\n",
      "\t\t\tCustomNonbondedForce: -223.10967030421247\n",
      "\t\t\tCustomBondForce: 447.1419298193686\n",
      "\t\t\tAndersenThermostat: 0.0\n",
      "conducting subsequent work with the following platform: CPU\n",
      "\t\t\tCustomBondForce: 2.8051707046748846\n",
      "\t\t\tHarmonicBondForce: 4.6141901912025\n",
      "\t\t\tCustomAngleForce: 14.592116609579179\n",
      "\t\t\tHarmonicAngleForce: 9.678498238922886\n",
      "\t\t\tCustomTorsionForce: 70.7485042997112\n",
      "\t\t\tPeriodicTorsionForce: 97.5526520273649\n",
      "\t\t\tNonbondedForce: -440.64832360435133\n",
      "\t\t\tCustomNonbondedForce: 24.398952932994057\n",
      "\t\t\tCustomNonbondedForce: -181.37938374809815\n",
      "\t\t\tCustomBondForce: 399.70438644527843\n",
      "\t\t\tAndersenThermostat: 0.0\n",
      "conducting subsequent work with the following platform: CPU\n",
      "\t\t\tHarmonicBondForce: 7.419360895877384\n",
      "\t\t\tHarmonicAngleForce: 24.27036378500931\n",
      "\t\t\tPeriodicTorsionForce: 168.27249859798735\n",
      "\t\t\tNonbondedForce: -206.30368337736107\n",
      "\t\t\tAndersenThermostat: 0.0\n",
      "zero state error : 4.973799150320701e-14\n",
      "one state error : 1.6484591469634324e-12\n"
     ]
    }
   ],
   "source": [
    "#create a hybrid topology factory\n",
    "from perses.annihilation.relative import HybridTopologyFactory\n",
    "\n",
    "\n",
    "\n",
    "# topology_proposal._old_system.removeForce(3)\n",
    "# topology_proposal._old_system.addForce(mod_old_force)\n",
    "\n",
    "# topology_proposal._new_system.removeForce(3)\n",
    "# topology_proposal._new_system.addForce(mod_new_force)\n",
    "\n",
    "# reset(topology_proposal._old_system, old_sys_old_force)\n",
    "# reset(topology_proposal._new_system, new_sys_old_force)\n",
    "\n",
    "\n",
    "forward_htf = HybridTopologyFactory(topology_proposal=topology_proposal,\n",
    "             current_positions=pdb.positions,\n",
    "             new_positions=forward_new_positions,\n",
    "             repartition=True,\n",
    "             use_dispersion_correction = False,\n",
    "             functions=None,\n",
    "             softcore_alpha = None,\n",
    "             bond_softening_constant=1.0,\n",
    "             angle_softening_constant=1.0,\n",
    "             soften_only_new = False,\n",
    "             neglected_new_angle_terms = [],\n",
    "             neglected_old_angle_terms = [],\n",
    "             softcore_LJ_v2 = True,\n",
    "             softcore_electrostatics = True,\n",
    "             softcore_LJ_v2_alpha = 0.85,\n",
    "             softcore_electrostatics_alpha = 0.3,\n",
    "             softcore_sigma_Q = 1.0,\n",
    "             interpolate_old_and_new_14s = False,\n",
    "             omitted_terms = None)\n",
    "\n",
    "if not topology_proposal.unique_new_atoms:\n",
    "    assert geometry_engine.forward_final_context_reduced_potential == None, f\"There are no unique new atoms but the geometry_engine's final context reduced potential is not None (i.e. {self._geometry_engine.forward_final_context_reduced_potential})\"\n",
    "    assert geometry_engine.forward_atoms_with_positions_reduced_potential == None, f\"There are no unique new atoms but the geometry_engine's forward atoms-with-positions-reduced-potential in not None (i.e. { self._geometry_engine.forward_atoms_with_positions_reduced_potential})\"\n",
    "    vacuum_added_valence_energy = 0.0\n",
    "else:\n",
    "    added_valence_energy = geometry_engine.forward_final_context_reduced_potential - geometry_engine.forward_atoms_with_positions_reduced_potential\n",
    "\n",
    "if not topology_proposal.unique_old_atoms:\n",
    "    assert geometry_engine.reverse_final_context_reduced_potential == None, f\"There are no unique old atoms but the geometry_engine's final context reduced potential is not None (i.e. {self._geometry_engine.reverse_final_context_reduced_potential})\"\n",
    "    assert geometry_engine.reverse_atoms_with_positions_reduced_potential == None, f\"There are no unique old atoms but the geometry_engine's atoms-with-positions-reduced-potential in not None (i.e. { self._geometry_engine.reverse_atoms_with_positions_reduced_potential})\"\n",
    "    subtracted_valence_energy = 0.0\n",
    "else:\n",
    "    subtracted_valence_energy = geometry_engine.reverse_final_context_reduced_potential - geometry_engine.reverse_atoms_with_positions_reduced_potential\n",
    "\n",
    "thresh = 1e-6\n",
    "zero_state_error, one_state_error = validate_endstate_energies(forward_htf._topology_proposal, forward_htf, added_valence_energy, subtracted_valence_energy, beta = 1.0/(kB*temperature), platform = openmm.Platform.getPlatformByName('Reference'), ENERGY_THRESHOLD = 1e-6)\n",
    "print(f\"zero state error : {zero_state_error}\")\n",
    "print(f\"one state error : {one_state_error}\")\n"
   ]
  },
  {
   "cell_type": "markdown",
   "metadata": {},
   "source": [
    "the rest of this code is legacy stuff; disregard it"
   ]
  },
  {
   "cell_type": "code",
   "execution_count": 29,
   "metadata": {
    "scrolled": true
   },
   "outputs": [],
   "source": [
    "from simtk import openmm\n",
    "#######LOGGING#############################\n",
    "import logging\n",
    "logging.basicConfig(level = logging.NOTSET)\n",
    "_logger = logging.getLogger(\"repartition\")\n",
    "_logger.setLevel(logging.DEBUG)\n",
    "\n",
    "\n",
    "class RepartitionHybridSystem():\n",
    "    \"\"\"\n",
    "    repartition the hybrid system into forces that are select, interselect, nonselect\n",
    "    \"\"\"\n",
    "    added_forces = {}\n",
    "    tri_selections = ['select', 'nonselect', 'interselect']\n",
    "    lambda_caller='lambda_'\n",
    "    default_select_lambda=1.\n",
    "    \n",
    "    #primary nonbonded force\n",
    "    from openmmtools.constants import ONE_4PI_EPS0 as coulomb_const\n",
    "    standard_nonbonded_mixing_expression = [\n",
    "        f\"mixer*(U_electrostatics + U_sterics);\",\n",
    "        f\"U_sterics = 4*epsilon*((sigma/r)^12-(sigma/r)^6); sigma=0.5*(sigma1+sigma2); epsilon=sqrt(epsilon1*epsilon2);\",\n",
    "        f\"U_electrostatics = {coulomb_const}*charge1*charge2/r;\",\n",
    "        f\"mixer = lambda_select*selected + lambda_nonselect*nonselected + lambda_interselect*interselected;\"]\n",
    "    primary_nonbonded_template = \"4*epsilon*((sigma/r)^12-(sigma/r)^6); sigma=0.5*(sigma1+sigma2); epsilon=sqrt(epsilon1*epsilon2)\"\n",
    "    standard_nonbonded_mixing_expression = \"U_sterics = 4*epsilon*x*(x-1.0); x = (sigma/reff_sterics)^6;\"\n",
    "    repartitioned_forces = {}\n",
    "    \n",
    "    @classmethod\n",
    "    def create_system(cls, hybrid_factory, selection_indices):\n",
    "        \"\"\"\n",
    "        initialize a system\n",
    "        \"\"\"\n",
    "        \n",
    "        #set some attributes\n",
    "        out_system = openmm.System()\n",
    "        setattr(cls, 'hybrid_factory', hybrid_factory)\n",
    "        setattr(cls, 'out_system', out_system)\n",
    "        setattr(cls, 'in_system', hybrid_factory._hybrid_system)\n",
    "    \n",
    "        \n",
    "        #handle some preliminary stuff\n",
    "        cls.add_particles(selection_indices)\n",
    "        cls.add_constraints()\n",
    "        cls.add_virtual_sites()\n",
    "        cls.handle_barostat()\n",
    "        \n",
    "        #iterate over each force object and attempt to convert the force into 3 forces.\n",
    "        #add the bond valence forces...\n",
    "        cls.add_bond_forces()\n",
    "        cls.handle_bond_forces()\n",
    "        \n",
    "        #add the angle valence forces...\n",
    "        cls.add_angle_forces()\n",
    "        cls.handle_angle_forces()\n",
    "        \n",
    "        #add the torsion valence forces...\n",
    "        cls.add_torsion_forces()\n",
    "        cls.handle_torsion_forces()\n",
    "        \n",
    "#         for force_name in cls.standard_valence_force_name_maps.keys():\n",
    "#             cls.add_valence_force(force_name)\n",
    "#             cls.handle_valence_force(force_name)\n",
    "        \n",
    "# #         now for the nonbonded forces...\n",
    "# #         handle the standard nonbonded force...\n",
    "#         cls.add_nonbonded_force()\n",
    "        \n",
    "        \n",
    "        return cls.out_system\n",
    "    \n",
    "    @classmethod\n",
    "    def add_particles(cls, selection_indices):\n",
    "        \"\"\"\n",
    "        add particles\n",
    "        \"\"\"\n",
    "        _logger.debug(f\"adding particles and creating selection dictionary\")\n",
    "        #add particles\n",
    "        num_particles = cls.in_system.getNumParticles()\n",
    "        _logger.debug(f\"hybrid system contains {num_particles} particles\")\n",
    "        for particle_idx in range(num_particles):\n",
    "            mass = cls.in_system.getParticleMass(particle_idx)\n",
    "            cls.out_system.addParticle(mass)\n",
    "        \n",
    "        nonselection_indices = [idx for idx in range(num_particles) if idx not in selection_indices]\n",
    "        assert set(selection_indices).union(set(nonselection_indices)) == set(range(num_particles))\n",
    "        setattr(cls, 'select_indices', set(selection_indices))\n",
    "        setattr(cls, 'nonselect_indices', set(nonselection_indices))\n",
    "        \n",
    "        \n",
    "    \n",
    "    @classmethod\n",
    "    def add_box_vectors(cls):\n",
    "        #copy box vectors\n",
    "        box_vectors = cls.in_system.getDefaultPeriodicBoxVectors()\n",
    "        cls.out_system.setDefaultPeriodicBoxVectors(*box_vectors)\n",
    "    \n",
    "    @classmethod\n",
    "    def add_constraints(cls):\n",
    "        \"\"\"add constraints\"\"\"\n",
    "        #constraints\n",
    "        num_constraints = cls.in_system.getNumConstraints()\n",
    "        _logger.debug(f\"adding {num_constraints} constraints\")\n",
    "        \n",
    "        for constraint_idx in range(num_constraints):\n",
    "            a0, a1, length=cls.in_system.getConstraintParameters(constraint_idx)\n",
    "            cls.out_system.addConstraint(a0, a1, length)\n",
    "    \n",
    "    @classmethod\n",
    "    def add_virtual_sites(cls):\n",
    "        _logger.debug(f\"adding virtual sites\")\n",
    "        for particle_idx in range(cls.in_system.getNumParticles()):\n",
    "            if cls.in_system.isVirtualSite(particle_idx):\n",
    "                virtual_site = cls.in_system.getVirtualSite(particle_idx)\n",
    "                cls.out_system.setVirtualSite(particle_idx, virtual_site)\n",
    "    \n",
    "    @classmethod\n",
    "    def handle_barostat(cls):\n",
    "        import copy\n",
    "        if 'MonteCarloBarostat' in cls.hybrid_factory._old_system_forces.keys():\n",
    "            _logger.debug(f\"found a MonteCarloBarostat; adding to 'out_system'\")\n",
    "            barostat = copy.deepcopy(cls.hybrid_factory._old_system_forces[\"MonteCarloBarostat\"])\n",
    "            cls.out_system.addForce(copy_barostat)\n",
    "        else:\n",
    "            _logger.debug(f\"did not find a MonteCarloBarostat.\")\n",
    "    \n",
    "    @classmethod\n",
    "    def add_bond_forces(cls):\n",
    "        \"\"\"\n",
    "        add the appropriate bond forces to the out_system\n",
    "        \"\"\"\n",
    "        custom_bond_force, standard_bond_force = cls.hybrid_factory._hybrid_system_forces['core_bond_force'], cls.hybrid_factory._hybrid_system_forces['standard_bond_force']\n",
    "        \n",
    "        #standard_expression\n",
    "        custom_expression = custom_bond_force.getEnergyFunction()\n",
    "        \n",
    "        #define a bond force dict\n",
    "        bond_force_dict = {}\n",
    "        \n",
    "        #params\n",
    "        num_global_params = custom_bond_force.getNumGlobalParameters()\n",
    "        num_per_bond_params = custom_bond_force.getNumPerBondParameters()\n",
    "        \n",
    "        \n",
    "        for expression in cls.tri_selections:\n",
    "            mod_expression = cls.lambda_caller+expression+'*'+custom_expression\n",
    "            new_force = openmm.CustomBondForce(mod_expression)\n",
    "            \n",
    "            #add global params\n",
    "            for idx in range(num_global_params):\n",
    "                global_name = custom_bond_force.getGlobalParameterName(idx)\n",
    "                global_default = custom_bond_force.getGlobalParameterDefaultValue(idx)\n",
    "                new_force.addGlobalParameter(global_name, global_default)\n",
    "            \n",
    "            #then add the lambda_caller\n",
    "            new_force.addGlobalParameter(cls.lambda_caller+expression, 1.)\n",
    "            \n",
    "            #add per bond parameter\n",
    "            for idx in range(num_per_bond_params):\n",
    "                per_name = custom_bond_force.getPerBondParameterName(idx)\n",
    "                new_force.addPerBondParameter(per_name)\n",
    "                \n",
    "            bond_force_dict[expression] = new_force\n",
    "            cls.out_system.addForce(new_force)\n",
    "        \n",
    "        cls.added_forces['bonds'] = bond_force_dict\n",
    "    \n",
    "    @classmethod\n",
    "    def add_angle_forces(cls):\n",
    "        \"\"\"\n",
    "        add the appropriate angle forces to the out_system\n",
    "        \"\"\"\n",
    "        custom_angle_force, standard_angle_force = cls.hybrid_factory._hybrid_system_forces['core_angle_force'], cls.hybrid_factory._hybrid_system_forces['standard_angle_force']\n",
    "        \n",
    "        #standard_expression\n",
    "        custom_expression = custom_angle_force.getEnergyFunction()\n",
    "        \n",
    "        #define a bond force dict\n",
    "        angle_force_dict = {}\n",
    "        \n",
    "        #params\n",
    "        num_global_params = custom_angle_force.getNumGlobalParameters()\n",
    "        num_per_angle_params = custom_angle_force.getNumPerAngleParameters()\n",
    "        \n",
    "        for expression in cls.tri_selections:\n",
    "            mod_expression = cls.lambda_caller+expression+'*'+custom_expression\n",
    "            new_force = openmm.CustomAngleForce(mod_expression)\n",
    "            \n",
    "            #add global params\n",
    "            for idx in range(num_global_params):\n",
    "                global_name = custom_angle_force.getGlobalParameterName(idx)\n",
    "                global_default = custom_angle_force.getGlobalParameterDefaultValue(idx)\n",
    "                new_force.addGlobalParameter(global_name, global_default)\n",
    "            \n",
    "            #then add the lambda_caller\n",
    "            new_force.addGlobalParameter(cls.lambda_caller+expression, 1.)\n",
    "            \n",
    "            #add per bond parameter\n",
    "            for idx in range(num_per_angle_params):\n",
    "                per_name = custom_angle_force.getPerAngleParameterName(idx)\n",
    "                new_force.addPerAngleParameter(per_name)\n",
    "                \n",
    "            angle_force_dict[expression] = new_force\n",
    "            cls.out_system.addForce(new_force)\n",
    "        \n",
    "        cls.added_forces['angles'] = angle_force_dict\n",
    "    \n",
    "    @classmethod\n",
    "    def add_torsion_forces(cls):\n",
    "        \"\"\"\n",
    "        add the appropriate torsion forces to the out_system\n",
    "        \"\"\"\n",
    "        custom_torsion_force, standard_torsion_force = cls.hybrid_factory._hybrid_system_forces['custom_torsion_force'], cls.hybrid_factory._hybrid_system_forces['unique_atom_torsion_force']\n",
    "        \n",
    "        #standard_expression\n",
    "        custom_expression = custom_torsion_force.getEnergyFunction()\n",
    "        \n",
    "        #define a torsion force dict\n",
    "        torsion_force_dict = {}\n",
    "        \n",
    "        #params\n",
    "        num_global_params = custom_torsion_force.getNumGlobalParameters()\n",
    "        num_per_torsion_params = custom_torsion_force.getNumPerTorsionParameters()\n",
    "        \n",
    "        for expression in cls.tri_selections:\n",
    "            #the custom expression is a little bit different here...\n",
    "            custom_expression_list = custom_expression.split(';') #split the expression by semicolon\n",
    "            first_expression_entry = custom_expression_list[0] # grab _only_ the first entry in the expression\n",
    "            mod_first_expression_entry = cls.lambda_caller+expression+'*('+first_expression_entry+')' #scale the entire expression by the lambda selection variable\n",
    "            custom_expression_list = [mod_first_expression_entry] + custom_expression_list[1:] #all of the other entries in the list are the same\n",
    "            mod_expression = ';'.join(custom_expression_list) #combine all of the entries\n",
    "\n",
    "            new_force = openmm.CustomTorsionForce(mod_expression)\n",
    "            \n",
    "            #add global params\n",
    "            for idx in range(num_global_params):\n",
    "                global_name = custom_torsion_force.getGlobalParameterName(idx)\n",
    "                global_default = custom_torsion_force.getGlobalParameterDefaultValue(idx)\n",
    "                new_force.addGlobalParameter(global_name, global_default)\n",
    "            \n",
    "            #then add the lambda_caller\n",
    "            new_force.addGlobalParameter(cls.lambda_caller+expression, 1.)\n",
    "            \n",
    "            #add per bond parameter\n",
    "            for idx in range(num_per_torsion_params):\n",
    "                per_name = custom_torsion_force.getPerTorsionParameterName(idx)\n",
    "                new_force.addPerTorsionParameter(per_name)\n",
    "                torsion_force_dict[expression] = new_force\n",
    "                \n",
    "            cls.out_system.addForce(new_force)\n",
    "        \n",
    "        cls.added_forces['torsions'] = torsion_force_dict\n",
    "            \n",
    "    @classmethod\n",
    "    def handle_bond_forces(cls):\n",
    "        \"\"\"\n",
    "        iterate through the standard and custom bond force in the hybrid system and add to the new custom bond forces\n",
    "        \"\"\"\n",
    "        custom_bond_force, standard_bond_force = cls.hybrid_factory._hybrid_system_forces['core_bond_force'], cls.hybrid_factory._hybrid_system_forces['standard_bond_force']\n",
    "\n",
    "        #iterate throug the custom force first\n",
    "        num_custom_bonds = custom_bond_force.getNumBonds()\n",
    "        for bond_idx in range(num_custom_bonds):\n",
    "            p1, p2, [r0_old, k_old, r0_new, k_new] = custom_bond_force.getBondParameters(bond_idx)\n",
    "            #determine which force it belongs to...\n",
    "            particle_set = set([p1, p2])\n",
    "            out_force = cls.query_force_object(force_dict = cls.added_forces['bonds'], query_indices_set = particle_set)\n",
    "            out_force.addBond(p1, p2, [r0_old, k_old, r0_new, k_new])\n",
    "        \n",
    "        #now iterate through the standard bond force\n",
    "        num_standard_bonds = standard_bond_force.getNumBonds()\n",
    "        for bond_idx in range(num_standard_bonds):\n",
    "            p1, p2, r0, k = standard_bond_force.getBondParameters(bond_idx)\n",
    "            particle_set = set([p1, p2])\n",
    "            out_force = cls.query_force_object(force_dict = cls.added_forces['bonds'], query_indices_set = particle_set)\n",
    "            out_force.addBond(p1, p2, [r0, k, r0, k])\n",
    "        \n",
    "        #and that's all\n",
    "    \n",
    "    @classmethod\n",
    "    def handle_angle_forces(cls):\n",
    "        \"\"\"\n",
    "        iterate through the standard and custom angle force in the hybrid system and add to the new custom angle forces\n",
    "        \"\"\"\n",
    "        custom_angle_force, standard_angle_force = cls.hybrid_factory._hybrid_system_forces['core_angle_force'], cls.hybrid_factory._hybrid_system_forces['standard_angle_force']\n",
    "\n",
    "        #iterate throug the custom force first\n",
    "        num_custom_angles = custom_angle_force.getNumAngles()\n",
    "        for angle_idx in range(num_custom_angles):\n",
    "            p1, p2, p3, [theta0_old, k_old, theta0_new, k_new] = custom_angle_force.getAngleParameters(angle_idx)\n",
    "            #determine which force it belongs to...\n",
    "            particle_set = set([p1, p2, p3])\n",
    "            out_force = cls.query_force_object(force_dict = cls.added_forces['angles'], query_indices_set = particle_set)\n",
    "            out_force.addAngle(p1, p2, p3, [theta0_old, k_old, theta0_new, k_new])\n",
    "        \n",
    "        #now iterate through the standard angle force\n",
    "        num_standard_angles = standard_angle_force.getNumAngles()\n",
    "        for angle_idx in range(num_standard_angles):\n",
    "            p1, p2, p3, theta0, k = standard_angle_force.getAngleParameters(angle_idx)\n",
    "            particle_set = set([p1, p2, p3])\n",
    "            out_force = cls.query_force_object(force_dict = cls.added_forces['angles'], query_indices_set = particle_set)\n",
    "            out_force.addAngle(p1, p2, p3, [theta0, k, theta0, k])\n",
    "        \n",
    "        #and that's all\n",
    "    \n",
    "    @classmethod\n",
    "    def handle_torsion_forces(cls):\n",
    "        \"\"\"\n",
    "        iterate through the standard and custom torsion forces in the hybrid system and add to the new custom torsion forces\n",
    "        \"\"\"\n",
    "        custom_torsion_force, standard_torsion_force = cls.hybrid_factory._hybrid_system_forces['custom_torsion_force'], cls.hybrid_factory._hybrid_system_forces['unique_atom_torsion_force']\n",
    "        \n",
    "        #iterate throug the custom force first\n",
    "        num_custom_torsions = custom_torsion_force.getNumTorsions()\n",
    "        for torsion_idx in range(num_custom_torsions):\n",
    "            p1, p2, p3, p4, [periodicity_old, phase_old, K_old, periodicity_new, phase_new, K_new] = custom_torsion_force.getTorsionParameters(torsion_idx)\n",
    "            #determine which force it belongs to...\n",
    "            particle_set = set([p1, p2, p3, p4])\n",
    "            out_force = cls.query_force_object(force_dict = cls.added_forces['torsions'], query_indices_set = particle_set)\n",
    "            out_force.addTorsion(p1, p2, p3, p4, [periodicity_old, phase_old, K_old, periodicity_new, phase_new, K_new])\n",
    "        \n",
    "        #now iterate through the standard torsion force\n",
    "        num_standard_torsions = standard_torsion_force.getNumTorsions()\n",
    "        for torsion_idx in range(num_standard_torsions):\n",
    "            p1, p2, p3, p4, periodicity, phase, k = standard_torsion_force.getTorsionParameters(torsion_idx)\n",
    "            particle_set = set([p1, p2, p3, p4])\n",
    "            out_force = cls.query_force_object(force_dict = cls.added_forces['torsions'], query_indices_set = particle_set)\n",
    "            out_force.addTorsion(p1, p2, p3, p4, [periodicity, phase, k, periodicity*0., phase*0., k*0.]) #turn off\n",
    "            out_force.addTorsion(p1, p2, p3, p4, [periodicity*0., phase*0., k*0., periodicity, phase, k]) #turn on\n",
    "        \n",
    "        #and that's all\n",
    "            \n",
    "    @classmethod    \n",
    "    def query_force_object(cls, force_dict, query_indices_set):\n",
    "        \"\"\"\n",
    "        return the out force object given a query index set\n",
    "        \"\"\"\n",
    "        if query_indices_set.issubset(cls.select_indices):\n",
    "            return force_dict['select']\n",
    "        elif query_indices_set.issubset(cls.nonselect_indices):\n",
    "            return force_dict['select']\n",
    "        else:\n",
    "            assert query_indices_set.intersection(cls.select_indices) != set() and query_indices_set.intersection(cls.nonselect_indices) != set()\n",
    "            return force_dict['interselect']\n",
    "    \n",
    "    @classmethod\n",
    "    def add_valence_force(cls, force_name):\n",
    "        \"\"\"\n",
    "        NOTE: the standard force does not interpolate parameters whereas the customforce does;\n",
    "        what we have to do is create 3 of each flavor of force (one for 'select/nonselect/interselect' interaction)\n",
    "        for each pair of ('HarmonicBondForce/CustomBondForce', 'HarmonicAngleForce/CustomAngleForce', 'PeriodicTorsionForce/CustomTorsionForce'),\n",
    "        do the following:\n",
    "        1. pull the appropriate query force (standard/custom)\n",
    "        2. query the global parameters and per-term parameters\n",
    "        3. modify the energy function\n",
    "        4. add the appropriate global params and per particle params to each force\n",
    "        5. add the lambda_{select/nonselect/interselect}\n",
    "        6. add the force to the out_system\n",
    "        \"\"\"\n",
    "        _logger.debug(f\"adding valence equivalents of {force_name}\")\n",
    "        #get the force index and the force\n",
    "        custom_valence_force_index = cls.find_valence_custom_force(force_name, cls.custom_expressions[force_name])\n",
    "        custom_valence_force = cls.force_dict[custom_valence_force_index][1]\n",
    "        _logger.debug(f\"force yanked: {custom_valence_force}\")\n",
    "        \n",
    "        #tally the number of global params and per bond params\n",
    "        num_global_params = custom_valence_force.getNumGlobalParameters()\n",
    "        num_per_term_params = getattr(custom_valence_force, cls.valence_method_query[force_name]['number_per_params'])()\n",
    "        _logger.debug(f\"found {num_global_params} global parameters\")\n",
    "        _logger.debug(f\"found {num_per_term_params} per term parameters\")\n",
    "        \n",
    "        #pbc?\n",
    "        pbc = custom_valence_force.usesPeriodicBoundaryConditions()\n",
    "        _logger.debug(f\"periodic boundary conditions: {pbc}\")\n",
    "        \n",
    "        # query the global/per bond parameters\n",
    "        global_params_values = [(custom_valence_force.getGlobalParameterName(idx), custom_valence_force.getGlobalParameterDefaultValue(idx)) for idx in range(num_global_params)]\n",
    "        per_term_params = [getattr(custom_valence_force, cls.valence_method_query[force_name]['per_term_parameter_name'])(idx) for idx in range(num_per_term_params)]\n",
    "        _logger.debug(f\"global parameters: {global_params_values}\")\n",
    "        _logger.debug(f\"per term parameters: {per_term_params}\")\n",
    "        \n",
    "        #add a force\n",
    "        force_expression = cls.custom_expressions[force_name]\n",
    "        if force_expression is None:\n",
    "            force_expression = custom_valence_force.getEnergyFunction()\n",
    "        _logger.debug(f\"queried force (energy) expression: {force_expression}\")\n",
    "        \n",
    "        #make the energy function dependent on lambda_{select/interselect/nonselect}\n",
    "        splittd_expression = force_expression.split(';')\n",
    "        mod_first_expression = cls.lambda_caller+'{partition}'+'*('+splittd_expression[0]+')'\n",
    "        splittd_expression[0] = mod_first_expression\n",
    "        add_custom_valence_force_expressions = {partition: ';'.join(splittd_expression).format(partition=partition) for partition in cls.tri_template_lambdas}\n",
    "        _logger.debug(f\"custom force expressions: {add_custom_valence_force_expressions}\")\n",
    "        add_custom_valence_forces = {partition: cls.custom_force_templates[force_name](add_custom_valence_force_expressions[partition]) for partition in cls.tri_template_lambdas}\n",
    "        \n",
    "        #add corresponding global parameters to the force and per term parameters\n",
    "        for idx, key in enumerate(add_custom_valence_forces.keys()):\n",
    "            cforce = add_custom_valence_forces[key]\n",
    "            _logger.debug(f\"adding force: {key} --> {cforce}\")\n",
    "            for param, val in global_params_values:\n",
    "                _logger.debug(f\"global param: {param}; value: {val}\")\n",
    "                cforce.addGlobalParameter(param, val)\n",
    "            new_global_param = cls.lambda_caller+key\n",
    "            _logger.debug(f\"adding new global param: {new_global_param}\")\n",
    "            cforce.addGlobalParameter(new_global_param, 1.)\n",
    "            cforce.setUsesPeriodicBoundaryConditions(pbc)\n",
    "            for param in per_term_params: \n",
    "                _logger.debug(f\"adding per_term param: {param}\")\n",
    "                getattr(cforce, cls.valence_method_query[force_name]['add_per_param'])(param)\n",
    "            cls.out_system.addForce(cforce)\n",
    "        \n",
    "        cls.added_custom_forces[force_name] = add_custom_valence_forces\n",
    "    \n",
    "\n",
    "        \n",
    "    @classmethod\n",
    "    def handle_valence_force(cls, force_name):\n",
    "        \"\"\"\n",
    "        copy the appropriate terms over from the standard/custom force and write to the new custom force \n",
    "        \"\"\"\n",
    "        _logger.debug(f\"handling {force_name}\")\n",
    "        \n",
    "        #get the force index and the force to query\n",
    "        custom_valence_force_index = cls.find_valence_custom_force(force_name, cls.custom_expressions[force_name])\n",
    "        custom_query_force = cls.force_dict[custom_valence_force_index][1]\n",
    "        standard_query_force_index = cls.find_valence_custom_force(cls.standard_valence_force_name_maps[force_name])\n",
    "        standard_query_force_name, standard_query_force = cls.force_dict[standard_query_force_index]\n",
    "        _logger.debug(f\"querying custom valence force: {custom_query_force}\")\n",
    "        _logger.debug(f\"querying standard valence force: {standard_query_force}\")\n",
    "        \n",
    "        for force in [custom_query_force, standard_query_force]:\n",
    "            _logger.debug(f\"querying {force}\")\n",
    "            custom_type = True if 'Custom' in force.__class__.__name__ else False\n",
    "            _logger.debug(f\"is custom: {custom_type}\")\n",
    "\n",
    "            number_terms = getattr(force, cls.valence_method_query[force_name]['number_terms'])()\n",
    "            _logger.debug(f\"there are {number_terms} in this force\")\n",
    "            num_particles = cls.num_particles_by_force[force_name]\n",
    "            _logger.debug(f\"there are {num_particles} particles in each terms\")\n",
    "            add_forces = cls.added_custom_forces[force_name] #add the force...\n",
    "            num_per_term_params = getattr(custom_query_force, cls.valence_method_query[custom_query_force.__class__.__name__]['number_per_params'])()\n",
    "            for term_index in range(number_terms):\n",
    "                queries = getattr(force, cls.valence_method_query[force_name]['params'])(term_index)\n",
    "                particles, parameters = queries[:num_particles], queries[num_particles:]\n",
    "                if custom_type:\n",
    "                    argument = (*particles, *parameters)\n",
    "                else:\n",
    "                    reduced_parameters = []\n",
    "                    for param in parameters:\n",
    "                        try:\n",
    "                            out_param = param/param.unit\n",
    "                        except Exception as e:\n",
    "                            out_param = param\n",
    "                        reduced_parameters.append(out_param)\n",
    "                        \n",
    "                    argument = (*particles, reduced_parameters+reduced_parameters)\n",
    "                    \n",
    "                _logger.debug(f\"particles: {particles}\")\n",
    "                _logger.debug(f\"query term parameters: {parameters}\")\n",
    "                _logger.debug(f\"add term input: {argument}\")\n",
    "                \n",
    "                #get the number of per term params...\n",
    "                assert len(argument[-1]) == num_per_term_params\n",
    "                \n",
    "                if set(particles).issubset(set(cls.select_indices)):\n",
    "                    getattr(add_forces['select'], cls.valence_method_query[force_name]['add_term'])(*argument)\n",
    "                elif set(particles).issubset(set(cls.nonselect_indices)):\n",
    "                    #add_forces['nonselect'].addBond(index1, index2, [r0, k, r0, k])\n",
    "                    getattr(add_forces['nonselect'], cls.valence_method_query[force_name]['add_term'])(*argument)\n",
    "                else:\n",
    "                    assert set(particles).intersection(set(cls.nonselect_indices)) != set() and set(particles).intersection(set(cls.select_indices)) != set()\n",
    "                    #cls.bonded_terms['lambda_interselect'].addBond(index1, index2, [r0, k, r0, k])\n",
    "                    getattr(add_forces['interselect'], cls.valence_method_query[force_name]['add_term'])(*argument)\n",
    "         \n",
    "    @classmethod\n",
    "    def find_valence_custom_force(cls, custom_force_name, custom_expression_matcher=None):\n",
    "        force_indices = [idx for idx in cls.force_dict.keys() if cls.force_dict[idx][0] == custom_force_name]\n",
    "        if custom_expression_matcher is not None:\n",
    "            particulars_forces = [idx for idx in force_indices if cls.force_dict[idx][1].getEnergyFunction() == custom_expression_matcher]\n",
    "        else:\n",
    "            particulars_forces = force_indices\n",
    "        assert len(particulars_forces) == 1\n",
    "        return particulars_forces[0]\n",
    "    \n",
    "    @classmethod\n",
    "    def handle_nonbonded_parameters(cls, nonbonded_query_force, to_force):\n",
    "        #nonbonded method\n",
    "        nbm = nonbonded_query_force.getNonbondedMethod()\n",
    "        _logger.debug(f\"found nonbondedmethod: {nbm}\")\n",
    "        to_force.setNonbondedMethod(nbm)\n",
    "\n",
    "        #reaction field dielectric\n",
    "        try:\n",
    "            rxn = nonbonded_query_force.getReactionFieldDielectric()\n",
    "            to_force.setReactionFieldDielectric(rxn)\n",
    "        except Exception as e:\n",
    "            _logger.debug(f\"failed to query/set reaction field dielectric of {nonbonded_query_force}\")\n",
    "        \n",
    "    \n",
    "        #cutoff\n",
    "        cutoff = nonbonded_query_force.getCutoffDistance()\n",
    "        to_force.setCutoffDistance(cutoff)\n",
    "        \n",
    "        #switching distance\n",
    "        uses_switch_function = nonbonded_query_force.getUseSwitchingFunction()\n",
    "        if uses_switch_function:\n",
    "            distance = nonbonded_query_force.getSwitchingDistance()\n",
    "            to_force.setUseSwitchingFunction(True)\n",
    "            to_force.setSwitchingDistance(distance)\n",
    "        else:\n",
    "            to_force.setUseSwitchingFunction(False)\n",
    "        \n",
    "        #pme and ewald\n",
    "        try:\n",
    "            pmeparam = nonbonded_query_force.getPMEParameters()\n",
    "            ewalderr = nonbonded_query_force.getEwaldErrorTolerance()\n",
    "            to_force.setPMEParameters(*pmeparam)\n",
    "            to_force.setEwaldErrorTolerance(ewalderr)\n",
    "        except Exception as e:\n",
    "            _logger.debug(f\"failed to query/set PME and Ewald parameters of {nonbonded_query_force}\")\n",
    "        \n",
    "        #dispersion\n",
    "        try:\n",
    "            disp = nonbonded_query_force.getUseDispersionCorrection()\n",
    "            to_force.setUseDispersionCorrection(disp)\n",
    "        except Exception as e:\n",
    "            _logger.debug(f\"failed to query/set dispersion of {nonbonded_query_force}\")\n",
    "        \n",
    "        #long range\n",
    "        try:\n",
    "            corr = nonbonded_query_force.getUseLongRangeCorrection()\n",
    "            to_force.setUseLongRangeCorrection(corr)\n",
    "        except Exception as e:\n",
    "            _logger.debug(f\"failed to query/set long range correction of {nonbonded_query_force}\")\n",
    "    \n",
    "#     @classmethod\n",
    "#     def handle_custom_nonbonded_parameters(cls, nonbonded_query_force, to_force):\n",
    "#         #nbm\n",
    "#         nbm = nonbonded_query_force.getNonbondedMethod()\n",
    "#         to_force.setNonbondedMethod(nbm)\n",
    "        \n",
    "#         #\n",
    "    \n",
    "#     @classmethod\n",
    "#     def handle_custom_nonbonded_translation(cls, nonbonded_query_force, to_customnonbonded):\n",
    "#         switch = nonbonded_query_force.getUseSwitchingFunction()\n",
    "#         to_customnonbonded.setUseSwitchingFunction(switch)\n",
    "#         switch_distance = nonbonded_query_force.getSwitchingDistance()\n",
    "#         to_customnonbonded.setSwitchingDistance(switch_distance)\n",
    "        \n",
    "#         disp = nonbonded_query_force.getUseDispersionCorrection()\n",
    "#         to_customnonbonded.setUseLongRangeCorrection(disp)\n",
    "        \n",
    "#         nbm = nonbonded_query_force.getNonbondedMethod()\n",
    "#         to_customnonbonded.setNonbondedMethod(nbm)\n",
    "    \n",
    "    @classmethod\n",
    "    def get_nonselect_expression(cls):\n",
    "        #make deepcopies of the nonbonded force and add appropriate mixing global params...\n",
    "        from openmmtools.constants import ONE_4PI_EPS0\n",
    "        nonselect_expression = \"mixer*(U_electrostatics + U_sterics);\"\n",
    "        nonselect_expression += f\"U_electrostatics = (1 - select_atoms_bool)*{ONE_4PI_EPS0}*charge_one*charge_two/r;\"\n",
    "        LJ_v2 = cls.hybrid_factory._softcore_LJ_v2\n",
    "        if LJ_v2:\n",
    "            nonselect_expression += \"U_sterics = select(step(r - r_LJ), 4*epsilon*x*(x-1.0), U_sterics_quad);\"\n",
    "            nonselect_expression += \"U_sterics_quad = Force*(((r - r_LJ)^2)/2 - (r - r_LJ)) + U_sterics_cut;\"\n",
    "            nonselect_expression += \"U_sterics_cut = 4*epsilon*((sigma/r_LJ)^6)*(((sigma/r_LJ)^6) - 1.0);\"\n",
    "            nonselect_expression += \"Force = -4*epsilon*((-12*sigma^12)/(r_LJ^13) + (6*sigma^6)/(r_LJ^7));\"\n",
    "            nonselect_expression += \"x = (sigma/r)^6;\"\n",
    "            nonselect_expression += \"r_LJ = softcore_alpha*((26/7)*(sigma^6)*lambda_sterics_deprecated)^(1/6);\"\n",
    "            nonselect_expression += \"lambda_sterics_deprecated = new_interaction*(1.0 - lambda_sterics_insert) + old_interaction*lambda_sterics_delete;\"\n",
    "        else:\n",
    "            nonselect_expression = \"U_sterics = 4*epsilon*x*(x-1.0); x = (sigma/reff_sterics)^6;\"\n",
    "        \n",
    "        nonselect_expression += \"epsilon = (1-lambda_sterics)*epsilonA + lambda_sterics*epsilonB;\" #interpolation\n",
    "        nonselect_expression += \"reff_sterics = sigma*((softcore_alpha*lambda_alpha + (r/sigma)^6))^(1/6);\" # effective softcore distance for sterics\n",
    "        nonselect_expression += \"sigma = (1-lambda_sterics)*sigmaA + lambda_sterics*sigmaB;\"\n",
    "        nonselect_expression += \"charge_one = q_old1 + lambda_electrostatics * (q_new1 - q_old1);\"\n",
    "        nonselect_expression += \"charge_two = q_old2 + lambda_electrostatics * (q_new2 - q_old2);\"\n",
    "\n",
    "        nonselect_expression += \"lambda_alpha = new_interaction - new_interaction*lambda_sterics_insert + old_interaction*lambda_sterics_delete;\"\n",
    "        nonselect_expression += \"lambda_sterics = core_interaction*lambda_sterics_core + new_interaction*lambda_sterics_insert + old_interaction*lambda_sterics_delete;\"\n",
    "        nonselect_expression += \"lambda_electrostatics = core_interaction*lambda_electrostatics_core + new_interaction*lambda_electrostatics_insert + old_interaction*lambda_electrostatics_delete;\"\n",
    "        nonselect_expression += \"core_interaction = delta(unique_old1 + unique_old2 + unique_new1 + unique_new2); new_interaction = max(unique_new1, unique_new2); old_interaction = max(unique_old1, unique_old2);\"\n",
    "          \n",
    "        nonselect_expression += f\"mixer = lambda_interselect*interselect_atoms_bool + lambda_nonselect*nonselect_atoms_bool + lambda_select*select_atoms_bool;\"\n",
    "        nonselect_expression += f\"interselect_atoms_bool = delta(1 - (is_select1 + is_select2)); nonselect_atoms_bool = delta(is_select1 + is_select2);select_atoms_bool = delta(2 - (is_select1 + is_select2));\"\n",
    "        \n",
    "        nonselect_expression += \"epsilonA = sqrt(epsilonA1*epsilonA2);\" # mixing rule for epsilon\n",
    "        nonselect_expression += \"epsilonB = sqrt(epsilonB1*epsilonB2);\" # mixing rule for epsilon\n",
    "        nonselect_expression += \"sigmaA = 0.5*(sigmaA1 + sigmaA2);\" # mixing rule for sigma\n",
    "        nonselect_expression += \"sigmaB = 0.5*(sigmaB1 + sigmaB2)\" # mixing rule for sigma\n",
    "        \n",
    "        return nonselect_expression\n",
    "            \n",
    "    \n",
    "    @classmethod\n",
    "    def add_nonbonded_force(cls):\n",
    "        \"\"\"\n",
    "        the nonbonded forces handle all env forces, (elec and steric.)\n",
    "        as well as unique new/old \n",
    "        \"\"\"\n",
    "        _logger.debug(f\"handling nonbonded_forces\")\n",
    "        import copy\n",
    "        \n",
    "        #retrieve the nonbonded query force...\n",
    "        nonbonded_force_index = cls.find_valence_custom_force('NonbondedForce')\n",
    "        nonbonded_query_name, nonbonded_query_force = cls.force_dict[nonbonded_force_index]\n",
    "        _logger.debug(f\"pulled standard nonbonded (electrostatic + env) force from hybrid system\")\n",
    "        \n",
    "        #retrieve the custom nonbonded query force...\n",
    "        customnonbonded_force_index = cls.find_valence_custom_force('CustomNonbondedForce')\n",
    "        customnonbonded_query_name, customnonbonded_query_force = cls.force_dict[customnonbonded_force_index]\n",
    "        _logger.debug(f\"pulled custom nonbonded (steric + env) force from hybrid system\")\n",
    "        \n",
    "        nonselect_expression = cls.get_nonselect_expression()\n",
    "        nonbonded_forces = {'select': openmm.NonbondedForce()}\n",
    "        nonbonded_forces['non_select'] = openmm.CustomNonbondedForce(nonselect_expression)\n",
    "        for key in ['lambda_nonselect', 'lambda_interselect', 'lambda_select']: nonbonded_forces['non_select'].addGlobalParameter(key, 1.)\n",
    "        \n",
    "        #add global variables\n",
    "        _logger.debug(f\"adding global parameters to customnonbonded force\")\n",
    "        nonbonded_forces['non_select'].addGlobalParameter(\"softcore_alpha\", cls.hybrid_factory.softcore_alpha)\n",
    "        nonbonded_forces['non_select'].addGlobalParameter(\"lambda_sterics_core\", 0.0)\n",
    "        nonbonded_forces['non_select'].addGlobalParameter(\"lambda_electrostatics_core\", 0.0)\n",
    "        nonbonded_forces['non_select'].addGlobalParameter(\"lambda_sterics_insert\", 0.0)\n",
    "        nonbonded_forces['non_select'].addGlobalParameter(\"lambda_sterics_delete\", 0.0)\n",
    "        nonbonded_forces['non_select'].addGlobalParameter(\"lambda_electrostatics_insert\", 0.0)\n",
    "        nonbonded_forces['non_select'].addGlobalParameter(\"lambda_electrostatics_delete\", 0.0)\n",
    "        \n",
    "        for key in ['lambda_electrostatics_core', 'lambda_sterics_core', 'lambda_electrostatics_delete', 'lambda_electrostatics_insert']:\n",
    "            nonbonded_forces['select'].addGlobalParameter(key, 0.)\n",
    "        #for key in ['lambda_nonselect', 'lambda_interselect', 'lambda_select']: nonbonded_forces['non_select'].addGlobalParameter(key)\n",
    "        \n",
    "        #add per particle parameters\n",
    "        _logger.debug(f\"adding per particle parameters to customnonbonded force\")\n",
    "        nonbonded_forces['non_select'].addPerParticleParameter(\"q_old\")\n",
    "        nonbonded_forces['non_select'].addPerParticleParameter(\"sigmaA\") # Lennard-Jones sigma initial\n",
    "        nonbonded_forces['non_select'].addPerParticleParameter(\"epsilonA\") # Lennard-Jones epsilon initial\n",
    "        nonbonded_forces['non_select'].addPerParticleParameter(\"q_new\")\n",
    "        nonbonded_forces['non_select'].addPerParticleParameter(\"sigmaB\") # Lennard-Jones sigma final\n",
    "        nonbonded_forces['non_select'].addPerParticleParameter(\"epsilonB\") # Lennard-Jones epsilon final\n",
    "        nonbonded_forces['non_select'].addPerParticleParameter(\"unique_old\") # 1 = hybrid old atom, 0 otherwise\n",
    "        nonbonded_forces['non_select'].addPerParticleParameter(\"unique_new\") # 1 = hybrid new atom, 0 otherwise\n",
    "        nonbonded_forces['non_select'].addPerParticleParameter(\"is_select\") #if it is a selection atom\n",
    "        \n",
    "        \n",
    "        _logger.debug(f\"handling nonbonded parameters...\")\n",
    "        cls.handle_nonbonded_parameters(nonbonded_query_force, nonbonded_forces['select'])\n",
    "        cls.handle_nonbonded_parameters(customnonbonded_query_force, nonbonded_forces['non_select'])\n",
    "        \n",
    "        #first, iterate over exceptions...\n",
    "        num_exceptions = nonbonded_query_force.getNumExceptions()\n",
    "        num_exception_offsets = nonbonded_query_force.getNumExceptionParameterOffsets()\n",
    "        exception_offset_exception_indices = [nonbonded_query_force.getExceptionParameterOffset(q)[1] for q in range(num_exception_offsets)]\n",
    "        num_particle_parameter_offsets = nonbonded_query_force.getNumParticleParameterOffsets()\n",
    "        num_particles = nonbonded_query_force.getNumParticles()\n",
    "        assert num_particles == cls.out_system.getNumParticles()\n",
    "        _logger.debug(f\"there are {num_exceptions} standard nonbonded exceptions\")\n",
    "        _logger.debug(f\"there are {num_exception_offsets} standard nonbonded offsets\")\n",
    "        _logger.debug(f\"there are {num_particle_parameter_offsets} standard nonbonded exception offsets\")\n",
    "        \n",
    "    \n",
    "        #first thing to do is add all of the particles to the select_nbf and zero the interactions of all nonselects...\n",
    "        _logger.debug(f\"iterating over particles\")\n",
    "        for particle_idx in range(num_particles):\n",
    "            #_logger.debug(f\"particle: {particle_idx}\")\n",
    "            charge, sigma, epsilon = nonbonded_query_force.getParticleParameters(particle_idx)\n",
    "            sigmaA, epsilonA, sigmaB, epsilonB, unique_old, unique_new = customnonbonded_query_force.getParticleParameters(particle_idx)\n",
    "                \n",
    "            if unique_old == 1:\n",
    "                assert particle_idx in cls.hybrid_factory._atom_classes['unique_old_atoms']\n",
    "                #_logger.debug(f\"is unique old\")\n",
    "                q_old, q_new = charge, 0.*charge\n",
    "                assert epsilon/epsilon.unit==0., f\"unique old atom has a steric epsilon of {epsilon}\"\n",
    "            elif unique_new == 1:\n",
    "                assert particle_idx in cls.hybrid_factory._atom_classes['unique_new_atoms']\n",
    "                #_logger.debug(f\"is unique new\")\n",
    "                q_old, q_new = 0*charge, charge\n",
    "                assert epsilon/epsilon.unit==0., f\"unique old atom has a steric epsilon of {epsilon}\"\n",
    "            elif particle_idx in cls.hybrid_factory._atom_classes['core_atoms']:\n",
    "                #_logger.debug(f\"is a core\")\n",
    "                old_idx, new_idx = cls.hybrid_factory._hybrid_to_old_map[particle_idx], cls.hybrid_factory._hybrid_to_new_map[particle_idx]\n",
    "                [q_old, _, _] = cls.hybrid_factory._old_system_forces['NonbondedForce'].getParticleParameters(old_idx)\n",
    "                [q_new, _, _] = cls.hybrid_factory._new_system_forces['NonbondedForce'].getParticleParameters(new_idx)\n",
    "            else: #this is env atom\n",
    "                #_logger.debug(f\"is an environment\")\n",
    "                old_idx, new_idx = cls.hybrid_factory._hybrid_to_old_map[particle_idx], cls.hybrid_factory._hybrid_to_new_map[particle_idx]\n",
    "                [q_old, sigmaA, epsilonA] = cls.hybrid_factory._old_system_forces['NonbondedForce'].getParticleParameters(old_idx)\n",
    "                [q_new, sigmaB, epsilonB] = cls.hybrid_factory._new_system_forces['NonbondedForce'].getParticleParameters(new_idx)\n",
    "                #sanity checks for env atoms\n",
    "                assert q_old==q_new\n",
    "                assert sigmaA==sigmaB\n",
    "                assert epsilonA==epsilonB\n",
    "                       \n",
    "            if particle_idx in cls.select_indices:\n",
    "                #_logger.debug(f\"is a selected index\")\n",
    "                is_select=1\n",
    "                #assert epsilon==0\n",
    "                if particle_idx in cls.hybrid_factory._atom_classes['unique_new_atoms']:\n",
    "                    assert unique_new==1\n",
    "                    assert unique_old==0\n",
    "                    nonbonded_forces['select'].addParticle(0.0, sigma, epsilon*0.0) #start charge at 0\n",
    "                elif particle_idx in cls.hybrid_factory._atom_classes['unique_old_atoms']:\n",
    "                    assert unique_new==0\n",
    "                    assert unique_old==1\n",
    "                    nonbonded_forces['select'].addParticle(q_old, sigma, epsilon*0.0) #start charge at q_old\n",
    "                elif particle_idx in cls.hybrid_factory._atom_classes['core_atoms']:\n",
    "                    assert unique_new==0\n",
    "                    assert unique_old==0\n",
    "                    nonbonded_forces['select'].addParticle(q_old, sigma, epsilon*0.0) #start charge at q_old\n",
    "                elif particle_idx in cls.hybrid_factory._atom_classes['environment_atoms']:\n",
    "                    assert unique_new==0\n",
    "                    assert unique_old==0\n",
    "                    nonbonded_forces['select'].addParticle(q_old, sigma, epsilon)\n",
    "            else:\n",
    "                #_logger.debug(f\"is a nonselected index\")\n",
    "                is_select=0\n",
    "                if particle_idx in cls.hybrid_factory._atom_classes['unique_new_atoms']:\n",
    "                    raise Exception(f\"unique new atoms must be selected indices\")\n",
    "                elif particle_idx in cls.hybrid_factory._atom_classes['unique_old_atoms']:\n",
    "                    raise Exception(f\"unique old atoms must be selected indices\")\n",
    "                elif particle_idx in cls.hybrid_factory._atom_classes['core_atoms']:\n",
    "                    raise Exception(f\"core atoms must be selected indices\")\n",
    "                elif particle_idx in cls.hybrid_factory._atom_classes['environment_atoms']:\n",
    "                    nonbonded_forces['select'].addParticle(charge*0., sigma, epsilon*0.) #zero env charges\n",
    "                else:\n",
    "                    raise Exception(f\"there is a consideration missing\")\n",
    "            \n",
    "            #regardless, it is added to the non_select custom nonbonded force\n",
    "            #format is q_old, sigmaA, epsilonA, q_new, sigmaB, epsilonB, unique_old, unique_new, is_select\n",
    "            nonbonded_forces['non_select'].addParticle([q_old, sigmaA, epsilonA, q_new, sigmaB, epsilonB, unique_old, unique_new, is_select])\n",
    "        \n",
    "        #let's just make sure we add the exceptions/exclusions between unique old and new right off the bat\n",
    "        unique_olds, unique_news = cls.hybrid_factory._atom_classes['unique_old_atoms'], cls.hybrid_factory._atom_classes['unique_new_atoms']\n",
    "        for old_idx in unique_olds:\n",
    "            for new_idx in unique_news:\n",
    "                nonbonded_forces['select'].addException(old_idx, new_idx, 0.0*unit.elementary_charge**2, 1.0*unit.nanometers, 0.0*unit.kilojoules_per_mole)\n",
    "                nonbonded_forces['non_select'].addExclusion(old_idx, new_idx)\n",
    "        \n",
    "        #do the interaction group thing...\n",
    "        _logger.debug(f\"adding interaction group...\")\n",
    "        hf = cls.hybrid_factory\n",
    "        core_atoms = hf._atom_classes['core_atoms']\n",
    "        unique_old_atoms = hf._atom_classes['unique_old_atoms']\n",
    "        unique_new_atoms = hf._atom_classes['unique_new_atoms']\n",
    "        environment_atoms = hf._atom_classes['environment_atoms']\n",
    "\n",
    "        nonbonded_forces['non_select'].addInteractionGroup(unique_old_atoms, core_atoms)\n",
    "        nonbonded_forces['non_select'].addInteractionGroup(unique_old_atoms, environment_atoms)\n",
    "        nonbonded_forces['non_select'].addInteractionGroup(unique_new_atoms, core_atoms)\n",
    "        nonbonded_forces['non_select'].addInteractionGroup(unique_new_atoms, environment_atoms)\n",
    "        nonbonded_forces['non_select'].addInteractionGroup(core_atoms, environment_atoms)\n",
    "        nonbonded_forces['non_select'].addInteractionGroup(core_atoms, core_atoms)\n",
    "        nonbonded_forces['non_select'].addInteractionGroup(unique_new_atoms, unique_new_atoms)\n",
    "        nonbonded_forces['non_select'].addInteractionGroup(unique_old_atoms, unique_old_atoms)\n",
    "        \n",
    "        \n",
    "            \n",
    "        for exception_idx in range(num_exceptions):\n",
    "            p1, p2, chargeprod, sigma, epsilon = nonbonded_query_force.getExceptionParameters(exception_idx)\n",
    "            has_offset = True if exception_idx in exception_offset_exception_indices else False\n",
    "            #if there is an offset, we can apply the offset to the \n",
    "            if set([p1, p2]).issubset(set(cls.select_indices)):      \n",
    "                if p1 in cls.hybrid_factory._atom_classes['unique_old_atoms'] and p2 in cls.hybrid_factory._atom_classes['unique_new_atoms']:\n",
    "                    #the exception is already handled\n",
    "                    pass\n",
    "                elif p2 in cls.hybrid_factory._atom_classes['unique_old_atoms'] and p1 in cls.hybrid_factory._atom_classes['unique_new_atoms']:\n",
    "                    #the exception is already handled\n",
    "                    pass\n",
    "                else:\n",
    "                    #these could be unique old/new exceptions\n",
    "                    nonbonded_forces['select'].addException(p1, p2, chargeprod, sigma, epsilon)\n",
    "                    nonbonded_forces['non_select'].addExclusion(p1, p2)\n",
    "                   \n",
    "            elif set([p1, p2]).issubset(set(cls.nonselect_indices)):\n",
    "                assert set([p1, p2]).issubset(cls.hybrid_factory._atom_classes['environment_atoms'])\n",
    "                nonbonded_forces['select'].addException(p1, p2, chargeprod, sigma, epsilon)\n",
    "                nonbonded_forces['non_select'].addExclusion(p1, p2)\n",
    "            else:\n",
    "                #this is interselect\n",
    "                #all we can do is to write an exclusions for both in the customnonbonded force and add the exception into the\n",
    "                #custombondedforce\n",
    "                nonbonded_forces['select'].addException(p1, p2, chargeprod*0.0, sigma, epsilon*0.0)\n",
    "                nonbonded_forces['non_select'].addExclusion(p1, p2)\n",
    "        \n",
    "        #now that all of the standard exceptions are handled, we have to handle the offsets\n",
    "        #all of the standard parameter offsets go to the nonbonded electrostatic force\n",
    "        for param_offset_idx in range(num_particle_parameter_offsets):\n",
    "            #these are all for electrostatics; the the sterics are zeroed appropriately\n",
    "            param, particle_idx, chargescale, sigmascale, epsilonscale = nonbonded_query_force.getParticleParameterOffset(param_offset_idx)\n",
    "            assert particle_idx in cls.select_indices\n",
    "            nonbonded_forces['select'].addParticleParameterOffset(param, particle_idx, chargescale, sigmascale, epsilonscale)\n",
    "        for exception_offset_idx in range(num_exception_offsets):\n",
    "            param, exception_idx, chargeprodscale, sigmascale, epsilonscale = nonbonded_query_force.getExceptionParameterOffset(exception_offset_idx)\n",
    "            p1, p2, chargeprod, sigma, epsilon = nonbonded_query_force.getExceptionParameters(exception_idx)\n",
    "            assert set([p1, p2]).issubset(set(cls.select_indices))\n",
    "            nonbonded_forces['select'].addExceptionParameterOffset(param, exception_idx, chargeprodscale, sigmascale, epsilonscale)\n",
    "            #the scales should be handled appropriately by the nonselect force\n",
    "        \n",
    "        #simply copy the custombondforce and apply to the new repartitioned hybrid system\n",
    "        custombondforce = cls.hybrid_factory._hybrid_system_forces['old_new_exceptions_force']\n",
    "        cls.out_system.addForce(copy.deepcopy(custombondforce))\n",
    "        \n",
    "        #the last thing to do is to add the forces to the out_system\n",
    "        cls.out_system.addForce(nonbonded_forces['select'])\n",
    "        cls.out_system.addForce(nonbonded_forces['non_select'])\n",
    "            \n",
    "        \n",
    "        \n",
    "            \n",
    "            \n",
    "                \n",
    "                \n",
    "            \n",
    "        #then add all of the standard exceptions appropriately\n",
    "        #TODO: check where the sterics force comes in and also omit the exception if there is a parameter offset\n",
    "#         for exception_idx in range(num_exceptions):\n",
    "#             p1, p2, chargeprod, sigma, epsilon = nonbonded_query_force.getExceptionParameters(exception_idx)\n",
    "            \n",
    "#             has_offset = True if exception_idx in exception_offset_exception_indices else False\n",
    "#             if set([p1, p2]).issubset(set(cls.nonselect_indices)) and not has_offset:\n",
    "#                 #add the exception to the nbforce\n",
    "#                 nonbonded_forces['select'].addException(p1, p2, chargeprod, sigma, epsilon) #add the exception to the standard force\n",
    "#                 nonbonded_forces['non_select'].addExclusion(p1, p2)\n",
    "#             elif set([p1, p2]).issubset(set(cls.select_indices)) and not has_offset:\n",
    "#                 nonbonded_forces['select'].addException(p1, p2, chargeprod, sigma, epsilon) #add the exception to the standard force\n",
    "#                 #the electrostatics are already handled in the CustomNonbondedForce; do not add an exclusion since this will remove the steric\n",
    "#             else: #this is interselect. (either with or without an offset...)\n",
    "#                 #this has to go into the custombondforce...possibly with a \n",
    "#                 #nonbonded_forces['select'].addException(p1, p2, chargeprod, sigma, epsilon) #add the exception to the standard force\n",
    "#                 pass\n",
    "                \n",
    "       \n",
    "   "
   ]
  },
  {
   "cell_type": "markdown",
   "metadata": {},
   "source": [
    "have to query the selection indices..."
   ]
  },
  {
   "cell_type": "markdown",
   "metadata": {},
   "source": [
    "we have to remove the andersen thermostat"
   ]
  },
  {
   "cell_type": "code",
   "execution_count": 30,
   "metadata": {
    "scrolled": true
   },
   "outputs": [
    {
     "data": {
      "text/plain": [
       "[<simtk.openmm.openmm.CustomBondForce; proxy of <Swig Object of type 'OpenMM::CustomBondForce *' at 0x7f8c9cce5f30> >,\n",
       " <simtk.openmm.openmm.HarmonicBondForce; proxy of <Swig Object of type 'OpenMM::HarmonicBondForce *' at 0x7f8c9cce5630> >,\n",
       " <simtk.openmm.openmm.CustomAngleForce; proxy of <Swig Object of type 'OpenMM::CustomAngleForce *' at 0x7f8c9cce57b0> >,\n",
       " <simtk.openmm.openmm.HarmonicAngleForce; proxy of <Swig Object of type 'OpenMM::HarmonicAngleForce *' at 0x7f8c9cce5480> >,\n",
       " <simtk.openmm.openmm.CustomTorsionForce; proxy of <Swig Object of type 'OpenMM::CustomTorsionForce *' at 0x7f8c9cce5d50> >,\n",
       " <simtk.openmm.openmm.PeriodicTorsionForce; proxy of <Swig Object of type 'OpenMM::PeriodicTorsionForce *' at 0x7f8c9cce55a0> >,\n",
       " <simtk.openmm.openmm.NonbondedForce; proxy of <Swig Object of type 'OpenMM::NonbondedForce *' at 0x7f8c9cce5600> >,\n",
       " <simtk.openmm.openmm.CustomNonbondedForce; proxy of <Swig Object of type 'OpenMM::CustomNonbondedForce *' at 0x7f8c9cce5660> >,\n",
       " <simtk.openmm.openmm.CustomBondForce; proxy of <Swig Object of type 'OpenMM::CustomBondForce *' at 0x7f8c9cce5ab0> >]"
      ]
     },
     "execution_count": 30,
     "metadata": {},
     "output_type": "execute_result"
    }
   ],
   "source": [
    "htf._hybrid_system.getForces()"
   ]
  },
  {
   "cell_type": "code",
   "execution_count": 31,
   "metadata": {
    "scrolled": true
   },
   "outputs": [],
   "source": [
    "hybrid_indices = list(htf._atom_classes['unique_old_atoms']) + list(htf._atom_classes['unique_new_atoms']) + list(htf._atom_classes['core_atoms'])"
   ]
  },
  {
   "cell_type": "code",
   "execution_count": 32,
   "metadata": {
    "scrolled": true
   },
   "outputs": [
    {
     "name": "stderr",
     "output_type": "stream",
     "text": [
      "DEBUG:repartition:adding particles and creating selection dictionary\n",
      "DEBUG:repartition:hybrid system contains 29 particles\n",
      "DEBUG:repartition:adding 17 constraints\n",
      "DEBUG:repartition:adding virtual sites\n",
      "DEBUG:repartition:did not find a MonteCarloBarostat.\n"
     ]
    }
   ],
   "source": [
    "repartitioned_system = RepartitionHybridSystem.create_system(htf, hybrid_indices)"
   ]
  },
  {
   "cell_type": "markdown",
   "metadata": {},
   "source": [
    "can we check the valence terms for matching?"
   ]
  },
  {
   "cell_type": "code",
   "execution_count": 33,
   "metadata": {
    "scrolled": true
   },
   "outputs": [],
   "source": [
    "from openmmtools.states import CompoundThermodynamicState, SamplerState, ThermodynamicState\n",
    "from perses.annihilation.lambda_protocol import RelativeAlchemicalState, LambdaProtocol\n",
    "from openmmtools.integrators import LangevinIntegrator\n",
    "from simtk import unit\n",
    "from openmmtools import cache\n",
    "temp = 300 * unit.kelvin\n",
    "from perses.tests.utils import compute_potential_components\n",
    "import copy\n",
    "beta = 1/(kB * temp)\n",
    "from perses.dispersed.feptasks import minimize"
   ]
  },
  {
   "cell_type": "code",
   "execution_count": 34,
   "metadata": {
    "scrolled": true
   },
   "outputs": [
    {
     "name": "stdout",
     "output_type": "stream",
     "text": [
      "conducting subsequent work with the following platform: CPU\n",
      "conducting subsequent work with the following platform: CPU\n",
      "[('CustomBondForce', 0.8663907939936045), ('HarmonicBondForce', 0.09473679498248053), ('CustomAngleForce', 1.1646054257891172), ('HarmonicAngleForce', 1.7516283144948863), ('CustomTorsionForce', 0.0), ('PeriodicTorsionForce', 26.244202013777873), ('NonbondedForce', -129.67475505304571), ('CustomNonbondedForce', -2.332954550937813), ('CustomBondForce', 0.0), ('AndersenThermostat', 0.0)]\n"
     ]
    }
   ],
   "source": [
    "from coddiwomple.openmm.states import OpenMMPDFState\n",
    "thermostate = OpenMMPDFState(htf._hybrid_system, alchemical_composability=RelativeAlchemicalState, pressure=None)\n",
    "particle_state = SamplerState(htf._hybrid_positions, box_vectors = htf._hybrid_system.getDefaultPeriodicBoxVectors())\n",
    "minimize(thermostate, particle_state)\n",
    "thermostate.reduced_potential(particle_state)\n",
    "print(compute_potential_components(thermostate._internal_context, beta=beta))"
   ]
  },
  {
   "cell_type": "code",
   "execution_count": null,
   "metadata": {
    "scrolled": true
   },
   "outputs": [],
   "source": []
  },
  {
   "cell_type": "code",
   "execution_count": 35,
   "metadata": {
    "scrolled": true
   },
   "outputs": [
    {
     "name": "stdout",
     "output_type": "stream",
     "text": [
      "conducting subsequent work with the following platform: CPU\n",
      "conducting subsequent work with the following platform: CPU\n",
      "[('CustomBondForce', 0.961127588976085), ('CustomBondForce', 0.0), ('CustomBondForce', 0.0), ('CustomAngleForce', 2.9162337402840035), ('CustomAngleForce', 0.0), ('CustomAngleForce', 0.0), ('CustomTorsionForce', 26.244202013777873), ('CustomTorsionForce', 0.0), ('CustomTorsionForce', 0.0), ('AndersenThermostat', 0.0)]\n"
     ]
    }
   ],
   "source": [
    "new_thermostate = OpenMMPDFState(repartitioned_system, alchemical_composability=RelativeAlchemicalState, pressure=None)\n",
    "new_thermostate.reduced_potential(particle_state)\n",
    "print(compute_potential_components(new_thermostate._internal_context, beta=beta))"
   ]
  },
  {
   "cell_type": "code",
   "execution_count": 11,
   "metadata": {
    "scrolled": true
   },
   "outputs": [
    {
     "name": "stdout",
     "output_type": "stream",
     "text": [
      "conducting subsequent work with the following platform: CPU\n",
      "conducting subsequent work with the following platform: CPU\n",
      "[('CustomBondForce', 14144.203279073583), ('CustomBondForce', 0.0), ('CustomBondForce', 0.0), ('AndersenThermostat', 0.0)]\n"
     ]
    }
   ],
   "source": [
    "rep_thermostate = OpenMMPDFState(repartitioned_system, alchemical_composability=RelativeAlchemicalState, pressure=None)\n",
    "print(compute_potential_components(rep_thermostate._internal_context, beta=beta))"
   ]
  },
  {
   "cell_type": "code",
   "execution_count": 23,
   "metadata": {
    "scrolled": true
   },
   "outputs": [],
   "source": [
    "st = '(1-lambda_torsions)*U1 + lambda_torsions*U2;U1 = K1*(1+cos(periodicity1*theta-phase1));U2 = K2*(1+cos(periodicity2*theta-phase2));'"
   ]
  },
  {
   "cell_type": "code",
   "execution_count": 24,
   "metadata": {
    "scrolled": true
   },
   "outputs": [
    {
     "data": {
      "text/plain": [
       "['(1-lambda_torsions)*U1 + lambda_torsions*U2',\n",
       " 'U1 = K1*(1+cos(periodicity1*theta-phase1))',\n",
       " 'U2 = K2*(1+cos(periodicity2*theta-phase2))',\n",
       " '']"
      ]
     },
     "execution_count": 24,
     "metadata": {},
     "output_type": "execute_result"
    }
   ],
   "source": [
    "st.split(';')"
   ]
  },
  {
   "cell_type": "code",
   "execution_count": 8,
   "metadata": {
    "scrolled": true
   },
   "outputs": [],
   "source": [
    "class Dummy:\n",
    "    _var = 1.\n",
    "    def __init__(self):\n",
    "        pass\n",
    "    def ret(self):\n",
    "        print(self._var)"
   ]
  },
  {
   "cell_type": "code",
   "execution_count": 9,
   "metadata": {
    "scrolled": true
   },
   "outputs": [],
   "source": [
    "c = Dummy()"
   ]
  },
  {
   "cell_type": "code",
   "execution_count": 10,
   "metadata": {
    "scrolled": true
   },
   "outputs": [
    {
     "name": "stdout",
     "output_type": "stream",
     "text": [
      "1.0\n"
     ]
    }
   ],
   "source": [
    "c.ret()"
   ]
  },
  {
   "cell_type": "code",
   "execution_count": 39,
   "metadata": {
    "scrolled": true
   },
   "outputs": [
    {
     "data": {
      "text/plain": [
       "[(0, 1),\n",
       " (0, 2),\n",
       " (0, 3),\n",
       " (0, 4),\n",
       " (1, 2),\n",
       " (1, 3),\n",
       " (1, 4),\n",
       " (2, 3),\n",
       " (2, 4),\n",
       " (3, 4)]"
      ]
     },
     "execution_count": 39,
     "metadata": {},
     "output_type": "execute_result"
    }
   ],
   "source": [
    "atoms = [0,1,2,3,4]\n",
    "from itertools import combinations\n",
    "[i for i in combinations(atoms, 2)]"
   ]
  },
  {
   "cell_type": "code",
   "execution_count": null,
   "metadata": {},
   "outputs": [],
   "source": []
  }
 ],
 "metadata": {
  "kernelspec": {
   "display_name": "Python 3",
   "language": "python",
   "name": "python3"
  },
  "language_info": {
   "codemirror_mode": {
    "name": "ipython",
    "version": 3
   },
   "file_extension": ".py",
   "mimetype": "text/x-python",
   "name": "python",
   "nbconvert_exporter": "python",
   "pygments_lexer": "ipython3",
   "version": "3.6.7"
  }
 },
 "nbformat": 4,
 "nbformat_minor": 4
}
