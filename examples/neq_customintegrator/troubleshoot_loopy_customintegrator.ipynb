{
 "cells": [
  {
   "cell_type": "markdown",
   "metadata": {},
   "source": [
    "# Attempt to build an `simtk.openmm.CustomIntegrator` for nonequilibrium switching"
   ]
  },
  {
   "cell_type": "code",
   "execution_count": 2,
   "metadata": {},
   "outputs": [],
   "source": [
    "from openmmtools.integrators import AlchemicalNonequilibriumLangevinIntegrator\n",
    "from simtk import unit\n",
    "import numpy as np\n",
    "import simtk.openmm as openmm\n",
    "from openmmtools.constants import kB\n",
    "from openmmtools import utils\n",
    "_OPENMM_ENERGY_UNIT = unit.kilojoules_per_mole\n",
    "from pkg_resources import resource_filename\n",
    "from openmmtools.integrators import LoopyAlchemicalNonequilibriumLangevinIntegrator"
   ]
  },
  {
   "cell_type": "code",
   "execution_count": 11,
   "metadata": {},
   "outputs": [],
   "source": [
    "from openmmtools.states import SamplerState, ThermodynamicState, CompoundThermodynamicState\n",
    "from perses.annihilation.lambda_protocol import RelativeAlchemicalState\n",
    "from perses.dispersed.feptasks import minimize\n",
    "import pickle\n",
    "from openmmtools import cache\n",
    "\n",
    "\n",
    "\n",
    "def test_loopy_customintegrator(htf,\n",
    "                                 alchemical_functions,\n",
    "                                 number_of_applications = 10,\n",
    "                                 neq_steps = 100,\n",
    "                                 eq_steps = 1000,\n",
    "                                 integrator_kwargs = {'temperature': 300.0 * unit.kelvin,\n",
    "                                                      'collision_rate': 1.0 / unit.picoseconds,\n",
    "                                                      'timestep': 2.0 * unit.femtoseconds,\n",
    "                                                      'constraint_tolerance': 1e-6,\n",
    "                                                      'measure_shadow_work': False,\n",
    "                                                      'measure_heat': False},\n",
    "                                pressure = None\n",
    "                               ):\n",
    "    \"\"\"\n",
    "    simple test to see if i can anneal benzene --> fluorobenzene with the loopy integrator\n",
    "    \"\"\"\n",
    "    \n",
    "    thermostate = ThermodynamicState(system = htf.hybrid_system, temperature = integrator_kwargs['temperature'], pressure = pressure)\n",
    "    alchemical_thermostate = CompoundThermodynamicState(thermostate, [RelativeAlchemicalState.from_system(htf.hybrid_system)])\n",
    "    sampler_state = SamplerState(positions = htf._hybrid_positions, box_vectors = np.array(htf.hybrid_system.getDefaultPeriodicBoxVectors()))\n",
    "    minimize(thermostate, sampler_state)\n",
    "    integrator = LoopyAlchemicalNonequilibriumLangevinIntegrator(alchemical_functions = alchemical_functions,\n",
    "                 nsteps_eq = eq_steps,\n",
    "                 nsteps_neq = neq_steps,\n",
    "                 **integrator_kwargs)\n",
    "    context, integrator = cache.global_context_cache.get_context(alchemical_thermostate, integrator)\n",
    "    sampler_state.apply_to_context(context)\n",
    "    context.setVelocitiesToTemperature(thermostate.temperature)\n",
    "    return integrator, context"
   ]
  },
  {
   "cell_type": "code",
   "execution_count": 12,
   "metadata": {},
   "outputs": [],
   "source": [
    "x = 'lambda'\n",
    "alchemical_functions = {\n",
    "                         'lambda_sterics_core': x,\n",
    "                         'lambda_electrostatics_core': x,\n",
    "                         'lambda_sterics_insert': f\"select(step({x} - 0.5), 1.0, 2.0 * {x})\",\n",
    "                         'lambda_sterics_delete': f\"select(step({x} - 0.5), 2.0 * ({x} - 0.5), 0.0)\",\n",
    "                         'lambda_electrostatics_insert': f\"select(step({x} - 0.5), 2.0 * ({x} - 0.5), 0.0)\",\n",
    "                         'lambda_electrostatics_delete': f\"select(step({x} - 0.5), 1.0, 2.0 * {x})\",\n",
    "                         'lambda_bonds': x,\n",
    "                         'lambda_angles': x,\n",
    "                         'lambda_torsions': x}\n",
    "\n",
    "htf_filename = resource_filename('coddiwomple', f\"/data/perses_data/benzene_fluorobenzene.solvent.factory.pkl\")\n",
    "with open(htf_filename, 'rb') as f:\n",
    "    htf = pickle.load(f)\n",
    "integrator, context = test_loopy_customintegrator(htf = htf,\n",
    "                            alchemical_functions = alchemical_functions, pressure = 1. * unit.atmosphere)"
   ]
  },
  {
   "cell_type": "code",
   "execution_count": 13,
   "metadata": {},
   "outputs": [
    {
     "name": "stdout",
     "output_type": "stream",
     "text": [
      "running 1 trial\n"
     ]
    },
    {
     "name": "stderr",
     "output_type": "stream",
     "text": [
      "100%|██████████| 50/50 [08:11<00:00,  9.82s/it]\n"
     ]
    },
    {
     "name": "stdout",
     "output_type": "stream",
     "text": [
      "running 50 trial\n"
     ]
    },
    {
     "name": "stderr",
     "output_type": "stream",
     "text": [
      "100%|██████████| 50/50 [09:01<00:00, 10.83s/it]\n"
     ]
    },
    {
     "name": "stdout",
     "output_type": "stream",
     "text": [
      "running 100 trial\n"
     ]
    },
    {
     "name": "stderr",
     "output_type": "stream",
     "text": [
      "100%|██████████| 50/50 [09:47<00:00, 11.75s/it]\n"
     ]
    }
   ],
   "source": [
    "import tqdm\n",
    "forward_works = {}\n",
    "backward_works = {}\n",
    "for annealing_steps in [1, 50, 100]:\n",
    "    print(f\"running {annealing_steps} trial\")\n",
    "    integrator, context = test_loopy_customintegrator(htf = htf,\n",
    "                            alchemical_functions = alchemical_functions,\n",
    "                                                     neq_steps = annealing_steps)\n",
    "    forward, backward = [], []\n",
    "    for _ in tqdm.trange(50):\n",
    "        integrator.step(1)\n",
    "        num_global_vars = integrator.getNumGlobalVariables()\n",
    "        global_integrator_variables = {integrator.getGlobalVariableName(idx): integrator.getGlobalVariable(idx) for idx in range(num_global_vars)}\n",
    "        forward.append(global_integrator_variables['forward_work'])\n",
    "        backward.append(global_integrator_variables['backward_work'])\n",
    "    forward_works[annealing_steps] = forward\n",
    "    backward_works[annealing_steps] = backward"
   ]
  },
  {
   "cell_type": "code",
   "execution_count": 14,
   "metadata": {},
   "outputs": [
    {
     "name": "stderr",
     "output_type": "stream",
     "text": [
      "DEBUG:matplotlib.pyplot:Loaded backend module://ipykernel.pylab.backend_inline version unknown.\n"
     ]
    }
   ],
   "source": [
    "%matplotlib inline\n",
    "\n",
    "import matplotlib\n",
    "import numpy as np\n",
    "import matplotlib.pyplot as plt\n",
    "import seaborn"
   ]
  },
  {
   "cell_type": "code",
   "execution_count": 17,
   "metadata": {},
   "outputs": [
    {
     "data": {
      "text/plain": [
       "Text(0, 0.5, 'frequency')"
      ]
     },
     "execution_count": 17,
     "metadata": {},
     "output_type": "execute_result"
    },
    {
     "data": {
      "image/png": "[encoded data removed]",
      "text/plain": [
       "<Figure size 432x288 with 1 Axes>"
      ]
     },
     "metadata": {
      "needs_background": "light"
     },
     "output_type": "display_data"
    }
   ],
   "source": [
    "for time in [1, 100]:\n",
    "    seaborn.distplot(np.array(forward_works[time]), hist=False, label = f\"--> {time} annealing steps\")\n",
    "    seaborn.distplot(-np.array(backward_works[time]), hist=False, label = f\"<--{time} annealing steps\")\n",
    "plt.title(f\"benzene --> fluorobenzene solvent annealing\")\n",
    "plt.xlabel(f\"accumulated works [kJ mol^-1]\")\n",
    "plt.ylabel(f\"frequency\")"
   ]
  },
  {
   "cell_type": "code",
   "execution_count": null,
   "metadata": {},
   "outputs": [],
   "source": []
  }
 ],
 "metadata": {
  "kernelspec": {
   "display_name": "Python 3",
   "language": "python",
   "name": "python3"
  },
  "language_info": {
   "codemirror_mode": {
    "name": "ipython",
    "version": 3
   },
   "file_extension": ".py",
   "mimetype": "text/x-python",
   "name": "python",
   "nbconvert_exporter": "python",
   "pygments_lexer": "ipython3",
   "version": "3.6.7"
  }
 },
 "nbformat": 4,
 "nbformat_minor": 4
}
