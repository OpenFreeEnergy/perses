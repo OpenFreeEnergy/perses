{
 "cells": [
  {
   "cell_type": "markdown",
   "metadata": {},
   "source": [
    "# Testing possible atom mappings in perses\n",
    "### Module to test how a hybrid system will be generated for a system\n",
    "\n",
    "    * This does _not_ check if hydrogens are mapped or not. That is handled by class SmallMoleculeSetProposalEngine as a system needs to be generated and the hydrogens restraints need to be checked\n",
    "    * AtomMapper also does not check that the minimal number of core atoms are retained by a map. If"
   ]
  },
  {
   "cell_type": "code",
   "execution_count": null,
   "metadata": {},
   "outputs": [],
   "source": [
    "from openff.toolkit.topology import Molecule\n",
    "from perses.rjmc.atom_mapping import AtomMapper\n",
    "from openeye import oechem\n",
    "import itertools\n",
    "from IPython.display import display, Image"
   ]
  },
  {
   "cell_type": "code",
   "execution_count": null,
   "metadata": {},
   "outputs": [],
   "source": [
    "# download files of interest from openmm-forcefields repo!\n",
    "import os\n",
    "os.system('wget https://raw.githubusercontent.com/openmm/openmmforcefields/master/openmmforcefields/data/perses_jacs_systems/bace/Bace_ligands_shifted.sdf')\n",
    "\n",
    "\n",
    "\n",
    "\n",
    "os.system('wget https://raw.githubusercontent.com/openmm/openmmforcefields/master/openmmforcefields/data/perses_jacs_systems/jnk1/Jnk1_ligands.sdf')\n",
    "\n"
   ]
  },
  {
   "cell_type": "markdown",
   "metadata": {},
   "source": [
    "#### Starting by just using the three default options in perses"
   ]
  },
  {
   "cell_type": "code",
   "execution_count": null,
   "metadata": {
    "scrolled": true
   },
   "outputs": [],
   "source": [
    "molecules_to_create = {\n",
    "    'benzene':'c1ccccc1',\n",
    "    'toluene':'c1ccccc1C',\n",
    "    'nitrobenzene':'C1=CC=C(C=C1)[N+](=O)[O-]',\n",
    "    'cyclohexane':'C1CCCCC1',\n",
    "    }\n",
    "\n",
    "molecules = list()\n",
    "for title, smiles in molecules_to_create.items():\n",
    "    molecule = Molecule.from_smiles(smiles)\n",
    "    molecule.title = title\n",
    "    molecules.append(molecule)\n",
    "\n",
    "# looping over default mapping strengths\n",
    "for map_strength in ['weak']:\n",
    "    print(f'Doing {map_strength} mapping')\n",
    "    atom_mapper = AtomMapper(map_strength=map_strength)\n",
    "    for molA, molB in itertools.combinations(molecules, 2):\n",
    "        atom_mapping = atom_mapper.get_best_mapping(molA, molB)\n",
    "\n",
    "        if atom_mapping is None:\n",
    "            print(f'Cannot map {nameA} to {nameB} with {map_strength} map strength')\n",
    "        elif len(atom_mapping.old_to_new_atom_map) < 3:\n",
    "            print(f'Mapping of {nameA} to {nameB} with {map_strength} map strength has only {len(atom_mapping.old_to_new_atom_map)} mapped atoms')\n",
    "        else:\n",
    "            print(f'{nameA} ---> {nameB} '+u'\\u2713')\n",
    "            render_atom_mapping(f'{nameA}to{nameB}_{map_strength}.png', molA, molB, mapping)\n",
    "            i = Image(filename=f'{nameA}to{nameB}_{map_strength}.png')\n",
    "            display(i)\n",
    "    print()"
   ]
  },
  {
   "cell_type": "markdown",
   "metadata": {},
   "source": [
    "#### Now lets try a few different mapping schemes using openeye's `OEExprOpts`\n",
    "\n",
    "https://docs.eyesopen.com/toolkits/python/oechemtk/OEChemConstants/OEExprOpts.html"
   ]
  },
  {
   "cell_type": "code",
   "execution_count": null,
   "metadata": {},
   "outputs": [],
   "source": [
    "# this just checks atoms are in rings of the same size, with no check for aromaticity\n",
    "atom_expr = oechem.OEExprOpts_IntType\n",
    "bond_expr = oechem.OEExprOpts_RingMember \n",
    "\n",
    "from openff.toolkit.topology import Molecule\n",
    "molecules = Molecule.from_file('Bace_ligands_shifted.sdf')\n",
    "list_of_mols = [ molecule.to_openeye() for molecule in molecules ]\n",
    "\n",
    "names_and_oemols = dict(zip(smiles.keys(),list_of_mols))\n",
    "\n",
    "for nameA,nameB in itertools.combinations(names_and_oemols,2):\n",
    "    molA = names_and_oemols[nameA]\n",
    "    molB = names_and_oemols[nameB]    \n",
    "    mapping = AtomMapper._get_mol_atom_map(molA,molB,atom_expr=atom_expr,bond_expr=bond_expr)\n",
    "    \n",
    "    print(f'{nameA} ---> {nameB} '+u'\\u2713')\n",
    "    render_atom_mapping(f'{nameA}to{nameB}.png', molA, molB, mapping)\n",
    "    i = Image(filename=f'{nameA}to{nameB}.png')\n",
    "    display(i)\n",
    "    print()\n",
    "    "
   ]
  },
  {
   "cell_type": "markdown",
   "metadata": {},
   "source": [
    "Now lets look at different map_strategy's that can be used, that can prioritise different mappings"
   ]
  },
  {
   "cell_type": "code",
   "execution_count": null,
   "metadata": {},
   "outputs": [],
   "source": [
    "# this just checks atoms are in rings of the same size, with no check for aromaticity\n",
    "atom_expr = oechem.OEExprOpts_IntType\n",
    "bond_expr = oechem.OEExprOpts_RingMember \n",
    "\n",
    "from openff.toolkit.topology import Molecule\n",
    "molecules = Molecule.from_file('Jnk1_ligands.sdf')\n",
    "list_of_mols = [ molecule.to_openeye() for molecule in molecules ]\n",
    "\n",
    "molA = list_of_mols[0]\n",
    "molB = list_of_mols[1]\n",
    "\n",
    "for map_strategy in ['core','geometry']: \n",
    "    mapping = AtomMapper._get_mol_atom_map(molA,molB,atom_expr=atom_expr,bond_expr=bond_expr, map_strategy=map_strategy)\n",
    "\n",
    "    print(f'{map_strategy}'+u'\\u2713')\n",
    "    render_atom_mapping(f'{nameA}to{nameB}.png', molA, molB, mapping)\n",
    "    i = Image(filename=f'{nameA}to{nameB}.png')\n",
    "    display(i)\n",
    "    print()\n",
    "    "
   ]
  },
  {
   "cell_type": "markdown",
   "metadata": {},
   "source": [
    "Here - trying to get as many atoms into the core as possible, maps the methyl and the ether group on to eachother. In reality, these groups point opposite directions in the binding site, and most likely won't freely interconvert in a tightly constrained active site.\n",
    "\n",
    "Using the `geometry` as the strategy fixes this, and gets them the right way round, even though there are more unique atoms to grow in/dissapear in the simulation."
   ]
  },
  {
   "cell_type": "markdown",
   "metadata": {},
   "source": [
    "Finally lets look at all the ways that we can map. --  from best (i.e. geometrically. closest to worse)"
   ]
  },
  {
   "cell_type": "code",
   "execution_count": null,
   "metadata": {
    "scrolled": false
   },
   "outputs": [],
   "source": [
    "# this just checks atoms are in rings of the same size, with no check for aromaticity\n",
    "atom_expr = oechem.OEExprOpts_IntType\n",
    "bond_expr = oechem.OEExprOpts_RingMember \n",
    "\n",
    "from openff.toolkit.topology import Molecule\n",
    "molecules = Molecule.from_file('Jnk1_ligands.sdf')\n",
    "list_of_mols = [ molecule.to_openeye() for molecule in molecules ]\n",
    "\n",
    "molA = list_of_mols[0]\n",
    "molB = list_of_mols[1]\n",
    "\n",
    "mappings = AtomMapper._get_mol_atom_map(molA,molB,atom_expr=atom_expr,bond_expr=bond_expr, map_strategy='return-all')\n",
    "\n",
    "for score, mapping in sorted(mappings.items()):\n",
    "    print(f'geometry score {score:.2f}')\n",
    "    render_atom_mapping(f'{nameA}to{nameB}.png', molA, molB, mapping)\n",
    "    i = Image(filename=f'{nameA}to{nameB}.png')\n",
    "    display(i)\n",
    "    print()"
   ]
  },
  {
   "cell_type": "markdown",
   "metadata": {},
   "source": [
    "Here we see the geometrically best first, with fewer core atoms, and then we see the one with the benzene ring flipped. We can see that more is in the core, but it's further from the input coordinates.\n",
    "\n",
    "Following these two, the mapping has found symmetry in the scaffold, and has mapped the two aromatic rings the 'wrong way around.' These are geometrically very far from the right binding mode, and have the most atoms not in the core, but in cases where the binding mode of B is very unclear, this might be an interesting experiment to run."
   ]
  },
  {
   "cell_type": "code",
   "execution_count": null,
   "metadata": {},
   "outputs": [],
   "source": []
  }
 ],
 "metadata": {
  "kernelspec": {
   "display_name": "Python 3",
   "language": "python",
   "name": "python3"
  },
  "language_info": {
   "codemirror_mode": {
    "name": "ipython",
    "version": 3
   },
   "file_extension": ".py",
   "mimetype": "text/x-python",
   "name": "python",
   "nbconvert_exporter": "python",
   "pygments_lexer": "ipython3",
   "version": "3.8.10"
  }
 },
 "nbformat": 4,
 "nbformat_minor": 2
}
