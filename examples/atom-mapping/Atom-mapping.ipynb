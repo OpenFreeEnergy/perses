{
 "cells": [
  {
   "cell_type": "markdown",
   "metadata": {},
   "source": [
    "# Testing possible atom mappings in perses\n",
    "### Module to test how a hybrid system will be generated for a system\n",
    "\n",
    "    * This does _not_ check if hydrogens are mapped or not. That is handled by class SmallMoleculeSetProposalEngine as a system needs to be generated and the hydrogens restraints need to be checked\n",
    "    * AtomMapper also does not check that the minimal number of core atoms are retained by a map. If"
   ]
  },
  {
   "cell_type": "code",
   "execution_count": 1,
   "metadata": {},
   "outputs": [],
   "source": [
    "# from perses.utils.openeye import createOEMolFromSDF\n",
    "from perses.utils.smallmolecules import render_atom_mapping\n",
    "from perses.utils.openeye import smiles_to_oemol\n",
    "from perses.rjmc.topology_proposal import AtomMapper\n",
    "from openeye import oechem\n",
    "import itertools\n",
    "from IPython.display import display, Image"
   ]
  },
  {
   "cell_type": "code",
   "execution_count": 2,
   "metadata": {
    "scrolled": true
   },
   "outputs": [
    {
     "name": "stderr",
     "output_type": "stream",
     "text": [
      "RDKit WARNING: [13:58:40] Enabling RDKit 2019.09.3 jupyter extensions\n"
     ]
    },
    {
     "name": "stdout",
     "output_type": "stream",
     "text": [
      "36 oemols have been generated\n"
     ]
    }
   ],
   "source": [
    "##### molecules to play with\n",
    "\n",
    "smiles = {'benzene':'c1ccccc1','toluene':'c1ccccc1C','nitrobenzene':'C1=CC=C(C=C1)[N+](=O)[O-]','cyclohexane':'C1CCCCC1'}\n",
    "list_of_mols = []\n",
    "for name,smi in smiles.items():\n",
    "    mol = smiles_to_oemol(smi, title=name)\n",
    "    list_of_mols.append(mol)\n",
    "\n",
    "from openforcefield.topology import Molecule\n",
    "molecules = Molecule.from_file('Bace_ligands_shifted.sdf')\n",
    "list_of_mols = [ molecule.to_openeye() for molecule in molecules ]\n",
    "    \n",
    "print(f'{len(list_of_mols)} oemols have been generated')"
   ]
  },
  {
   "cell_type": "markdown",
   "metadata": {},
   "source": [
    "#### Starting by just using the three default options in perses"
   ]
  },
  {
   "cell_type": "code",
   "execution_count": 3,
   "metadata": {
    "scrolled": false
   },
   "outputs": [
    {
     "name": "stderr",
     "output_type": "stream",
     "text": [
      "INFO:proposal_generator:Map strength of strong\n"
     ]
    },
    {
     "name": "stdout",
     "output_type": "stream",
     "text": [
      "Doing strong mapping\n"
     ]
    },
    {
     "name": "stderr",
     "output_type": "stream",
     "text": [
      "INFO:proposal_generator:Cannot generate atom map without breaking rings, trying again with weaker mapping.\n",
      "INFO:proposal_generator:Map strength of strong\n",
      "INFO:proposal_generator:Cannot generate atom map without breaking rings, trying again with weaker mapping.\n",
      "INFO:proposal_generator:Map strength of strong\n"
     ]
    },
    {
     "name": "stdout",
     "output_type": "stream",
     "text": [
      "Cannot map benzene to toluene effectively with strong map strength\n",
      "Cannot map benzene to nitrobenzene effectively with strong map strength\n",
      "benzene ---> cyclohexane ✓\n"
     ]
    },
    {
     "ename": "IndexError",
     "evalue": "list index out of range",
     "output_type": "error",
     "traceback": [
      "\u001b[0;31m---------------------------------------------------------------------------\u001b[0m",
      "\u001b[0;31mIndexError\u001b[0m                                Traceback (most recent call last)",
      "\u001b[0;32m<ipython-input-3-c2b88660d4d9>\u001b[0m in \u001b[0;36m<module>\u001b[0;34m\u001b[0m\n\u001b[1;32m     16\u001b[0m         \u001b[0;32melse\u001b[0m\u001b[0;34m:\u001b[0m\u001b[0;34m\u001b[0m\u001b[0;34m\u001b[0m\u001b[0m\n\u001b[1;32m     17\u001b[0m             \u001b[0mprint\u001b[0m\u001b[0;34m(\u001b[0m\u001b[0;34mf'{nameA} ---> {nameB} '\u001b[0m\u001b[0;34m+\u001b[0m\u001b[0;34mu'\\u2713'\u001b[0m\u001b[0;34m)\u001b[0m\u001b[0;34m\u001b[0m\u001b[0;34m\u001b[0m\u001b[0m\n\u001b[0;32m---> 18\u001b[0;31m             \u001b[0mrender_atom_mapping\u001b[0m\u001b[0;34m(\u001b[0m\u001b[0;34mf'{nameA}to{nameB}_{map_strength}.png'\u001b[0m\u001b[0;34m,\u001b[0m \u001b[0mMapper\u001b[0m\u001b[0;34m.\u001b[0m\u001b[0mcurrent_molecule\u001b[0m\u001b[0;34m,\u001b[0m \u001b[0mMapper\u001b[0m\u001b[0;34m.\u001b[0m\u001b[0mproposed_molecule\u001b[0m\u001b[0;34m,\u001b[0m \u001b[0mMapper\u001b[0m\u001b[0;34m.\u001b[0m\u001b[0matom_map\u001b[0m\u001b[0;34m)\u001b[0m\u001b[0;34m\u001b[0m\u001b[0;34m\u001b[0m\u001b[0m\n\u001b[0m\u001b[1;32m     19\u001b[0m             \u001b[0mi\u001b[0m \u001b[0;34m=\u001b[0m \u001b[0mImage\u001b[0m\u001b[0;34m(\u001b[0m\u001b[0mfilename\u001b[0m\u001b[0;34m=\u001b[0m\u001b[0;34mf'{nameA}to{nameB}_{map_strength}.png'\u001b[0m\u001b[0;34m)\u001b[0m\u001b[0;34m\u001b[0m\u001b[0;34m\u001b[0m\u001b[0m\n\u001b[1;32m     20\u001b[0m             \u001b[0mdisplay\u001b[0m\u001b[0;34m(\u001b[0m\u001b[0mi\u001b[0m\u001b[0;34m)\u001b[0m\u001b[0;34m\u001b[0m\u001b[0;34m\u001b[0m\u001b[0m\n",
      "\u001b[0;32m~/miniconda/envs/perses/lib/python3.7/site-packages/perses-0.5.1-py3.7.egg/perses/utils/smallmolecules.py\u001b[0m in \u001b[0;36mrender_atom_mapping\u001b[0;34m(filename, molecule1, molecule2, new_to_old_atom_map, width, height)\u001b[0m\n\u001b[1;32m    204\u001b[0m     \u001b[0mindex\u001b[0m \u001b[0;34m=\u001b[0m\u001b[0;36m1\u001b[0m\u001b[0;34m\u001b[0m\u001b[0;34m\u001b[0m\u001b[0m\n\u001b[1;32m    205\u001b[0m     \u001b[0;32mfor\u001b[0m \u001b[0;34m(\u001b[0m\u001b[0mindex2\u001b[0m\u001b[0;34m,\u001b[0m \u001b[0mindex1\u001b[0m\u001b[0;34m)\u001b[0m \u001b[0;32min\u001b[0m \u001b[0mnew_to_old_atom_map\u001b[0m\u001b[0;34m.\u001b[0m\u001b[0mitems\u001b[0m\u001b[0;34m(\u001b[0m\u001b[0;34m)\u001b[0m\u001b[0;34m:\u001b[0m\u001b[0;34m\u001b[0m\u001b[0;34m\u001b[0m\u001b[0m\n\u001b[0;32m--> 206\u001b[0;31m         \u001b[0mnew_atoms_1\u001b[0m\u001b[0;34m[\u001b[0m\u001b[0mindex1\u001b[0m\u001b[0;34m]\u001b[0m\u001b[0;34m.\u001b[0m\u001b[0mSetMapIdx\u001b[0m\u001b[0;34m(\u001b[0m\u001b[0mindex\u001b[0m\u001b[0;34m)\u001b[0m\u001b[0;34m\u001b[0m\u001b[0;34m\u001b[0m\u001b[0m\n\u001b[0m\u001b[1;32m    207\u001b[0m         \u001b[0mnew_atoms_2\u001b[0m\u001b[0;34m[\u001b[0m\u001b[0mindex2\u001b[0m\u001b[0;34m]\u001b[0m\u001b[0;34m.\u001b[0m\u001b[0mSetMapIdx\u001b[0m\u001b[0;34m(\u001b[0m\u001b[0mindex\u001b[0m\u001b[0;34m)\u001b[0m\u001b[0;34m\u001b[0m\u001b[0;34m\u001b[0m\u001b[0m\n\u001b[1;32m    208\u001b[0m         \u001b[0;31m# now remove the atoms that are core, so only uniques are highlighted\u001b[0m\u001b[0;34m\u001b[0m\u001b[0;34m\u001b[0m\u001b[0;34m\u001b[0m\u001b[0m\n",
      "\u001b[0;31mIndexError\u001b[0m: list index out of range"
     ]
    }
   ],
   "source": [
    "# looping over default mapping strengths\n",
    "names_and_oemols = dict(zip(smiles.keys(),list_of_mols))\n",
    "\n",
    "# print(names_and_oemols.keys())\n",
    "\n",
    "for map_strength in ['strong']:\n",
    "    print(f'Doing {map_strength} mapping')\n",
    "    for nameA,nameB in itertools.combinations(names_and_oemols,2):\n",
    "        molA = names_and_oemols[nameA]\n",
    "        molB = names_and_oemols[nameB]\n",
    "        Mapper = AtomMapper([molA,molB],map_strength=map_strength)\n",
    "\n",
    "        if Mapper.atom_map is None or len(Mapper.atom_map) < 3:\n",
    "            # too many unique atoms\n",
    "            print(f'Cannot map {nameA} to {nameB} effectively with {map_strength} map strength')\n",
    "        else:\n",
    "            print(f'{nameA} ---> {nameB} '+u'\\u2713')\n",
    "            render_atom_mapping(f'{nameA}to{nameB}_{map_strength}.png', Mapper.current_molecule, Mapper.proposed_molecule, Mapper.atom_map)\n",
    "            i = Image(filename=f'{nameA}to{nameB}_{map_strength}.png')\n",
    "            display(i)\n",
    "    print()"
   ]
  },
  {
   "cell_type": "markdown",
   "metadata": {},
   "source": [
    "#### Now lets try a few different mapping schemes using openeye's `OEExprOpts`\n",
    "\n",
    "https://docs.eyesopen.com/toolkits/python/oechemtk/OEChemConstants/OEExprOpts.html"
   ]
  },
  {
   "cell_type": "code",
   "execution_count": null,
   "metadata": {},
   "outputs": [],
   "source": [
    "# this just checks atoms are in rings of the same size, with no check for aromaticity\n",
    "atom_expr = oechem.OEExprOpts_IntType\n",
    "bond_expr = oechem.OEExprOpts_RingMember \n",
    "\n",
    "\n",
    "nameA = 'cyclohexane'\n",
    "\n",
    "for nameB in names_and_oemols.keys():\n",
    "    if nameB == nameA:\n",
    "        continue\n",
    "    molA = names_and_oemols[nameA]\n",
    "    molB = names_and_oemols[nameB]    \n",
    "    Mapper = AtomMapper([molA,molB],atom_expr=atom_expr,bond_expr=bond_expr)\n",
    "    if len(Mapper.atom_map) < 3:\n",
    "        # too many unique atoms\n",
    "        print(f'Cannot map {nameA} to {nameB} effectively with {map_strength} map strength')\n",
    "    else:\n",
    "        print(f'{nameA} ---> {nameB} '+u'\\u2713')\n",
    "        render_atom_mapping(f'{nameA}to{nameB}.png', Mapper.current_molecule, Mapper.proposed_molecule, Mapper.atom_map)\n",
    "        i = Image(filename=f'{nameA}to{nameB}.png')\n",
    "        display(i)\n",
    "        print()\n",
    "    "
   ]
  },
  {
   "cell_type": "code",
   "execution_count": null,
   "metadata": {},
   "outputs": [],
   "source": []
  },
  {
   "cell_type": "code",
   "execution_count": null,
   "metadata": {},
   "outputs": [],
   "source": []
  }
 ],
 "metadata": {
  "kernelspec": {
   "display_name": "Python 3",
   "language": "python",
   "name": "python3"
  },
  "language_info": {
   "codemirror_mode": {
    "name": "ipython",
    "version": 3
   },
   "file_extension": ".py",
   "mimetype": "text/x-python",
   "name": "python",
   "nbconvert_exporter": "python",
   "pygments_lexer": "ipython3",
   "version": "3.7.6"
  }
 },
 "nbformat": 4,
 "nbformat_minor": 2
}
