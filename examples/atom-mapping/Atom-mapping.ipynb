{
 "cells": [
  {
   "cell_type": "markdown",
   "metadata": {},
   "source": [
    "# Testing possible atom mappings in perses\n",
    "### Module to test how a hybrid system will be generated for a system\n",
    "\n",
    "    * This does _not_ check if hydrogens are mapped or not. That is handled by class SmallMoleculeSetProposalEngine as a system needs to be generated and the hydrogens restraints need to be checked\n",
    "    * AtomMapper also does not check that the minimal number of core atoms are retained by a map. If"
   ]
  },
  {
   "cell_type": "code",
   "execution_count": 12,
   "metadata": {},
   "outputs": [],
   "source": [
    "# from perses.utils.openeye import createOEMolFromSDF\n",
    "from perses.utils.smallmolecules import render_atom_mapping\n",
    "from perses.utils.openeye import smiles_to_oemol\n",
    "from perses.rjmc.topology_proposal import AtomMapper\n",
    "from openeye import oechem\n",
    "import itertools"
   ]
  },
  {
   "cell_type": "code",
   "execution_count": 57,
   "metadata": {
    "scrolled": true
   },
   "outputs": [
    {
     "name": "stdout",
     "output_type": "stream",
     "text": [
      "4 oemols have been generated\n"
     ]
    }
   ],
   "source": [
    "##### molecules to play with\n",
    "\n",
    "smiles = {'benzene':'c1ccccc1','phenol':'c1ccc(cc1)O','anisole':'c1ccc(cc1)OC','cyclohexane':'C1CCCCC1'}\n",
    "smiles = {'benzene':'c1ccccc1','toluene':'c1ccccc1C','nitrobenzene':'C1=CC=C(C=C1)[N+](=O)[O-]','cyclohexane':'C1CCCCC1'}\n",
    "list_of_mols = []\n",
    "for name,smi in smiles.items():\n",
    "    mol = smiles_to_oemol(smi, title=name)\n",
    "    list_of_mols.append(mol)\n",
    "    \n",
    "print(f'{len(list_of_mols)} oemols have been generated')"
   ]
  },
  {
   "cell_type": "markdown",
   "metadata": {},
   "source": [
    "#### Starting by just using the three default options in perses"
   ]
  },
  {
   "cell_type": "code",
   "execution_count": 75,
   "metadata": {},
   "outputs": [
    {
     "name": "stdout",
     "output_type": "stream",
     "text": [
      "{'benzene': <oechem.OEMol; proxy of <Swig Object of type 'OEMolWrapper *' at 0xa28904b40> >, 'toluene': <oechem.OEMol; proxy of <Swig Object of type 'OEMolWrapper *' at 0xa289049f0> >, 'nitrobenzene': <oechem.OEMol; proxy of <Swig Object of type 'OEMolWrapper *' at 0xa28904ed0> >, 'cyclohexane': <oechem.OEMol; proxy of <Swig Object of type 'OEMolWrapper *' at 0xa289043f0> >}\n",
      "Doing weak mapping\n",
      "benzene ---> toluene ✓\n",
      "benzene ---> nitrobenzene ✓\n",
      "Cannot map benzene to cyclohexane effectively with weak map strength\n",
      "toluene ---> nitrobenzene ✓\n",
      "Cannot map toluene to cyclohexane effectively with weak map strength\n",
      "Cannot map nitrobenzene to cyclohexane effectively with weak map strength\n",
      "\n",
      "Doing default mapping\n",
      "benzene ---> toluene ✓\n",
      "benzene ---> nitrobenzene ✓\n",
      "Cannot map benzene to cyclohexane effectively with default map strength\n",
      "toluene ---> nitrobenzene ✓\n",
      "Cannot map toluene to cyclohexane effectively with default map strength\n",
      "Cannot map nitrobenzene to cyclohexane effectively with default map strength\n",
      "\n",
      "Doing strong mapping\n",
      "benzene ---> toluene ✓\n",
      "benzene ---> nitrobenzene ✓\n",
      "Cannot map benzene to cyclohexane effectively with strong map strength\n",
      "toluene ---> nitrobenzene ✓\n",
      "Cannot map toluene to cyclohexane effectively with strong map strength\n",
      "Cannot map nitrobenzene to cyclohexane effectively with strong map strength\n",
      "\n"
     ]
    }
   ],
   "source": [
    "# looping over default mapping strengths\n",
    "names_and_oemols = dict(zip(smiles.keys(),list_of_mols))\n",
    "\n",
    "print(names_and_oemols)\n",
    "for map_strength in ['weak','default','strong']:\n",
    "    print(f'Doing {map_strength} mapping')\n",
    "    for nameA,nameB in itertools.combinations(names_and_oemols,2):\n",
    "        molA = names_and_oemols[nameA]\n",
    "        molB = names_and_oemols[nameB]\n",
    "        Mapper = AtomMapper([molA,molB],map_strength=map_strength)\n",
    "        if len(Mapper.atom_map) < 3:\n",
    "            # too many unique atoms\n",
    "            print(f'Cannot map {nameA} to {nameB} effectively with {map_strength} map strength')\n",
    "        else:\n",
    "            print(f'{nameA} ---> {nameB} '+u'\\u2713')\n",
    "            render_atom_mapping(f'{nameA}to{nameB}_{map_strength}.png', Mapper.current_molecule, Mapper.proposed_molecule, Mapper.atom_map)\n",
    "    print()"
   ]
  },
  {
   "cell_type": "markdown",
   "metadata": {},
   "source": [
    "#### Now lets try a few different mapping schemes using openeye's `OEExprOpts`\n",
    "\n",
    "https://docs.eyesopen.com/toolkits/python/oechemtk/OEChemConstants/OEExprOpts.html"
   ]
  },
  {
   "cell_type": "code",
   "execution_count": 86,
   "metadata": {},
   "outputs": [
    {
     "name": "stderr",
     "output_type": "stream",
     "text": [
      "INFO:proposal_generator:Using user defined atom_expr\n",
      "INFO:proposal_generator:Any map_strength set has been ignored\n",
      "INFO:proposal_generator:Using user defined bond_expr\n",
      "INFO:proposal_generator:Any map_strength set has been ignored\n",
      "INFO:proposal_generator:Using user defined atom_expr\n",
      "INFO:proposal_generator:Any map_strength set has been ignored\n",
      "INFO:proposal_generator:Using user defined bond_expr\n",
      "INFO:proposal_generator:Any map_strength set has been ignored\n",
      "INFO:proposal_generator:Using user defined atom_expr\n",
      "INFO:proposal_generator:Any map_strength set has been ignored\n",
      "INFO:proposal_generator:Using user defined bond_expr\n",
      "INFO:proposal_generator:Any map_strength set has been ignored\n"
     ]
    },
    {
     "name": "stdout",
     "output_type": "stream",
     "text": [
      "cyclohexane ---> benzene ✓\n",
      "cyclohexane ---> toluene ✓\n",
      "cyclohexane ---> nitrobenzene ✓\n"
     ]
    }
   ],
   "source": [
    "# this just checks atoms are in rings of the same size, with no check for aromaticity\n",
    "atom_expr = oechem.OEExprOpts_IntType\n",
    "bond_expr = oechem.OEExprOpts_RingMember \n",
    "\n",
    "\n",
    "nameA = 'cyclohexane'\n",
    "\n",
    "for nameB in names_and_oemols.keys():\n",
    "    if nameB == nameA:\n",
    "        continue\n",
    "    molA = names_and_oemols[nameA]\n",
    "    molB = names_and_oemols[nameB]    \n",
    "    Mapper = AtomMapper([molA,molB],atom_expr=atom_expr,bond_expr=bond_expr)\n",
    "    if len(Mapper.atom_map) < 3:\n",
    "        # too many unique atoms\n",
    "        print(f'Cannot map {nameA} to {nameB} effectively with {map_strength} map strength')\n",
    "    else:\n",
    "        print(f'{nameA} ---> {nameB} '+u'\\u2713')\n",
    "        render_atom_mapping(f'{nameA}to{nameB}.png', Mapper.current_molecule, Mapper.proposed_molecule, Mapper.atom_map)"
   ]
  },
  {
   "cell_type": "code",
   "execution_count": null,
   "metadata": {},
   "outputs": [],
   "source": []
  }
 ],
 "metadata": {
  "kernelspec": {
   "display_name": "Python 3",
   "language": "python",
   "name": "python3"
  },
  "language_info": {
   "codemirror_mode": {
    "name": "ipython",
    "version": 3
   },
   "file_extension": ".py",
   "mimetype": "text/x-python",
   "name": "python",
   "nbconvert_exporter": "python",
   "pygments_lexer": "ipython3",
   "version": "3.6.8"
  }
 },
 "nbformat": 4,
 "nbformat_minor": 2
}
