{
 "cells": [
  {
   "cell_type": "markdown",
   "metadata": {},
   "source": [
    "# Testing possible atom mappings in perses\n",
    "### Module to test how a hybrid system will be generated for a system"
   ]
  },
  {
   "cell_type": "code",
   "execution_count": 3,
   "metadata": {},
   "outputs": [],
   "source": [
    "# from perses.utils.openeye import createOEMolFromSDF\n",
    "from perses.utils.smallmolecules import render_atom_mapping\n",
    "from perses.rjmc.topology_proposal import AtomMapper\n",
    "from openeye import oechem\n",
    "import itertools"
   ]
  },
  {
   "cell_type": "code",
   "execution_count": 12,
   "metadata": {
    "scrolled": true
   },
   "outputs": [
    {
     "name": "stdout",
     "output_type": "stream",
     "text": [
      "c1ccccc1\n",
      "c1ccc(cc1)O\n",
      "c1ccc(cc1)O\n",
      "C1CCCCC1\n",
      "4 oemols have been generated\n"
     ]
    }
   ],
   "source": [
    "##### molecules to play with\n",
    "\n",
    "smiles = {'benzene':'c1ccccc1','phenol':'c1ccc(cc1)O','name':'c1ccc(cc1)O','cyclohexane':'C1CCCCC1'}\n",
    "\n",
    "list_of_mols = []\n",
    "for smi in smiles.values():\n",
    "    print(smi)\n",
    "    mol = oechem.OEMol()\n",
    "    oechem.OESmilesToMol(mol, smi)\n",
    "    list_of_mols.append(mol)\n",
    "    \n",
    "print(f'{len(list_of_mols)} oemols have been generated')"
   ]
  },
  {
   "cell_type": "markdown",
   "metadata": {},
   "source": [
    "Starting by just using the three default options in perses"
   ]
  },
  {
   "cell_type": "code",
   "execution_count": 20,
   "metadata": {},
   "outputs": [
    {
     "name": "stderr",
     "output_type": "stream",
     "text": [
      "INFO:proposal_generator:Cannot generate atom map without breaking rings, trying again with weaker mapping.\n"
     ]
    },
    {
     "ename": "NameError",
     "evalue": "name 'oegraphmol_proposed' is not defined",
     "output_type": "error",
     "traceback": [
      "\u001b[0;31m---------------------------------------------------------------------------\u001b[0m",
      "\u001b[0;31mNameError\u001b[0m                                 Traceback (most recent call last)",
      "\u001b[0;32m<ipython-input-20-c41c39ef2854>\u001b[0m in \u001b[0;36m<module>\u001b[0;34m\u001b[0m\n\u001b[1;32m      3\u001b[0m \u001b[0mmap_strength\u001b[0m \u001b[0;34m=\u001b[0m \u001b[0;34m'default'\u001b[0m\u001b[0;34m\u001b[0m\u001b[0;34m\u001b[0m\u001b[0m\n\u001b[1;32m      4\u001b[0m \u001b[0;32mfor\u001b[0m \u001b[0;34m(\u001b[0m\u001b[0mnameA\u001b[0m\u001b[0;34m,\u001b[0m \u001b[0mmolA\u001b[0m\u001b[0;34m)\u001b[0m\u001b[0;34m,\u001b[0m\u001b[0;34m(\u001b[0m\u001b[0mnameB\u001b[0m\u001b[0;34m,\u001b[0m \u001b[0mmolB\u001b[0m\u001b[0;34m)\u001b[0m \u001b[0;32min\u001b[0m \u001b[0mitertools\u001b[0m\u001b[0;34m.\u001b[0m\u001b[0mcombinations\u001b[0m\u001b[0;34m(\u001b[0m\u001b[0mnames_and_oemols\u001b[0m\u001b[0;34m,\u001b[0m\u001b[0;36m2\u001b[0m\u001b[0;34m)\u001b[0m\u001b[0;34m:\u001b[0m\u001b[0;34m\u001b[0m\u001b[0;34m\u001b[0m\u001b[0m\n\u001b[0;32m----> 5\u001b[0;31m     \u001b[0mMapper\u001b[0m \u001b[0;34m=\u001b[0m \u001b[0mAtomMapper\u001b[0m\u001b[0;34m(\u001b[0m\u001b[0;34m[\u001b[0m\u001b[0mmolA\u001b[0m\u001b[0;34m,\u001b[0m\u001b[0mmolB\u001b[0m\u001b[0;34m]\u001b[0m\u001b[0;34m,\u001b[0m\u001b[0mmap_strength\u001b[0m\u001b[0;34m=\u001b[0m\u001b[0mmap_strength\u001b[0m\u001b[0;34m)\u001b[0m\u001b[0;34m\u001b[0m\u001b[0;34m\u001b[0m\u001b[0m\n\u001b[0m\u001b[1;32m      6\u001b[0m     \u001b[0mrender_atom_mapping\u001b[0m\u001b[0;34m(\u001b[0m\u001b[0;34mf'{nameA}to{nameB}_{map_strength}.png'\u001b[0m\u001b[0;34m,\u001b[0m \u001b[0mMapper\u001b[0m\u001b[0;34m.\u001b[0m\u001b[0mcurrent_molecule\u001b[0m\u001b[0;34m,\u001b[0m \u001b[0mMapper\u001b[0m\u001b[0;34m.\u001b[0m\u001b[0mproposed_molecule\u001b[0m\u001b[0;34m,\u001b[0m \u001b[0mMapper\u001b[0m\u001b[0;34m.\u001b[0m\u001b[0matom_map\u001b[0m\u001b[0;34m)\u001b[0m\u001b[0;34m\u001b[0m\u001b[0;34m\u001b[0m\u001b[0m\n\u001b[1;32m      7\u001b[0m \u001b[0;34m\u001b[0m\u001b[0m\n",
      "\u001b[0;32m~/miniconda3/lib/python3.6/site-packages/perses-0.4.0-py3.6.egg/perses/rjmc/topology_proposal.py\u001b[0m in \u001b[0;36m__init__\u001b[0;34m(self, list_of_oemols, atom_expr, bond_expr, map_strength, verbose, allow_ring_breaking, **kwargs)\u001b[0m\n\u001b[1;32m    169\u001b[0m         \u001b[0mself\u001b[0m\u001b[0;34m.\u001b[0m\u001b[0mallow_ring_breaking\u001b[0m \u001b[0;34m=\u001b[0m \u001b[0mallow_ring_breaking\u001b[0m\u001b[0;34m\u001b[0m\u001b[0;34m\u001b[0m\u001b[0m\n\u001b[1;32m    170\u001b[0m \u001b[0;34m\u001b[0m\u001b[0m\n\u001b[0;32m--> 171\u001b[0;31m         \u001b[0mself\u001b[0m\u001b[0;34m.\u001b[0m\u001b[0matom_map\u001b[0m \u001b[0;34m=\u001b[0m \u001b[0mself\u001b[0m\u001b[0;34m.\u001b[0m\u001b[0m_get_mol_atom_map\u001b[0m\u001b[0;34m(\u001b[0m\u001b[0;34m)\u001b[0m\u001b[0;34m\u001b[0m\u001b[0;34m\u001b[0m\u001b[0m\n\u001b[0m\u001b[1;32m    172\u001b[0m         \u001b[0msuper\u001b[0m\u001b[0;34m(\u001b[0m\u001b[0mAtomMapper\u001b[0m\u001b[0;34m,\u001b[0m\u001b[0mself\u001b[0m\u001b[0;34m)\u001b[0m\u001b[0;34m.\u001b[0m\u001b[0m__init__\u001b[0m\u001b[0;34m(\u001b[0m\u001b[0;34m**\u001b[0m\u001b[0mkwargs\u001b[0m\u001b[0;34m)\u001b[0m\u001b[0;34m\u001b[0m\u001b[0;34m\u001b[0m\u001b[0m\n\u001b[1;32m    173\u001b[0m \u001b[0;34m\u001b[0m\u001b[0m\n",
      "\u001b[0;32m~/miniconda3/lib/python3.6/site-packages/perses-0.4.0-py3.6.egg/perses/rjmc/topology_proposal.py\u001b[0m in \u001b[0;36m_get_mol_atom_map\u001b[0;34m(self, indexA, indexB)\u001b[0m\n\u001b[1;32m    245\u001b[0m             \u001b[0mmcs\u001b[0m\u001b[0;34m.\u001b[0m\u001b[0mSetMCSFunc\u001b[0m\u001b[0;34m(\u001b[0m\u001b[0moechem\u001b[0m\u001b[0;34m.\u001b[0m\u001b[0mOEMCSMaxAtoms\u001b[0m\u001b[0;34m(\u001b[0m\u001b[0;34m)\u001b[0m\u001b[0;34m)\u001b[0m\u001b[0;34m\u001b[0m\u001b[0;34m\u001b[0m\u001b[0m\n\u001b[1;32m    246\u001b[0m             \u001b[0munique\u001b[0m \u001b[0;34m=\u001b[0m \u001b[0;32mFalse\u001b[0m\u001b[0;34m\u001b[0m\u001b[0;34m\u001b[0m\u001b[0m\n\u001b[0;32m--> 247\u001b[0;31m             \u001b[0mmatches\u001b[0m \u001b[0;34m=\u001b[0m \u001b[0;34m[\u001b[0m\u001b[0mm\u001b[0m \u001b[0;32mfor\u001b[0m \u001b[0mm\u001b[0m \u001b[0;32min\u001b[0m \u001b[0mmcs\u001b[0m\u001b[0;34m.\u001b[0m\u001b[0mMatch\u001b[0m\u001b[0;34m(\u001b[0m\u001b[0moegraphmol_proposed\u001b[0m\u001b[0;34m,\u001b[0m \u001b[0munique\u001b[0m\u001b[0;34m)\u001b[0m\u001b[0;34m]\u001b[0m\u001b[0;34m\u001b[0m\u001b[0;34m\u001b[0m\u001b[0m\n\u001b[0m\u001b[1;32m    248\u001b[0m \u001b[0;34m\u001b[0m\u001b[0m\n\u001b[1;32m    249\u001b[0m             \u001b[0;32mif\u001b[0m \u001b[0mself\u001b[0m\u001b[0;34m.\u001b[0m\u001b[0mallow_ring_breaking\u001b[0m \u001b[0;32mis\u001b[0m \u001b[0;32mFalse\u001b[0m\u001b[0;34m:\u001b[0m\u001b[0;34m\u001b[0m\u001b[0;34m\u001b[0m\u001b[0m\n",
      "\u001b[0;31mNameError\u001b[0m: name 'oegraphmol_proposed' is not defined"
     ]
    }
   ],
   "source": [
    "names_and_oemols = zip(smiles.keys(),list_of_mols)\n",
    "\n",
    "map_strength = 'default'\n",
    "for (nameA, molA),(nameB, molB) in itertools.combinations(names_and_oemols,2):\n",
    "    Mapper = AtomMapper([molA,molB],map_strength=map_strength)\n",
    "    render_atom_mapping(f'{nameA}to{nameB}_{map_strength}.png', Mapper.current_molecule, Mapper.proposed_molecule, Mapper.atom_map)\n",
    "\n"
   ]
  },
  {
   "cell_type": "code",
   "execution_count": null,
   "metadata": {},
   "outputs": [],
   "source": []
  }
 ],
 "metadata": {
  "kernelspec": {
   "display_name": "Python 3",
   "language": "python",
   "name": "python3"
  },
  "language_info": {
   "codemirror_mode": {
    "name": "ipython",
    "version": 3
   },
   "file_extension": ".py",
   "mimetype": "text/x-python",
   "name": "python",
   "nbconvert_exporter": "python",
   "pygments_lexer": "ipython3",
   "version": "3.6.8"
  }
 },
 "nbformat": 4,
 "nbformat_minor": 2
}
